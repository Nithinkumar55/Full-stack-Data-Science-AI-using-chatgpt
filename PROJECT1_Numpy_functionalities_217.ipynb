{
 "cells": [
  {
   "cell_type": "markdown",
   "id": "5c3f1ee5",
   "metadata": {},
   "source": [
    "# Numpy_Example_list"
   ]
  },
  {
   "cell_type": "markdown",
   "id": "d7bbb57b",
   "metadata": {},
   "source": [
    "11-7-23"
   ]
  },
  {
   "cell_type": "markdown",
   "id": "5dffbbe7",
   "metadata": {},
   "source": [
    "# 1.  ...\n"
   ]
  },
  {
   "cell_type": "code",
   "execution_count": 1,
   "id": "85bad222",
   "metadata": {},
   "outputs": [
    {
     "data": {
      "text/plain": [
       "array([ 0,  1,  2,  3,  4,  5,  6,  7,  8,  9, 10, 11, 12])"
      ]
     },
     "execution_count": 1,
     "metadata": {},
     "output_type": "execute_result"
    }
   ],
   "source": [
    "#1. ...\n",
    "import numpy as np\n",
    "a = np.arange(13)\n",
    "a"
   ]
  },
  {
   "cell_type": "code",
   "execution_count": 2,
   "id": "d66da8f9",
   "metadata": {},
   "outputs": [
    {
     "name": "stdout",
     "output_type": "stream",
     "text": [
      "[[[ 0  1]\n",
      "  [ 2  3]]\n",
      "\n",
      " [[ 4  5]\n",
      "  [ 6  7]]\n",
      "\n",
      " [[ 8  9]\n",
      "  [10 11]]]\n"
     ]
    }
   ],
   "source": [
    "from numpy import *\n",
    "a = arange(12)\n",
    "a = a.reshape(3,2,2)\n",
    "print(a)"
   ]
  },
  {
   "cell_type": "code",
   "execution_count": 3,
   "id": "54a12d15",
   "metadata": {},
   "outputs": [],
   "source": [
    "b = np.arange(15)\n"
   ]
  },
  {
   "cell_type": "code",
   "execution_count": 4,
   "id": "b3bd782c",
   "metadata": {},
   "outputs": [
    {
     "data": {
      "text/plain": [
       "array([[ 0,  2],\n",
       "       [ 4,  6],\n",
       "       [ 8, 10]])"
      ]
     },
     "execution_count": 4,
     "metadata": {},
     "output_type": "execute_result"
    }
   ],
   "source": [
    "a[...,0]"
   ]
  },
  {
   "cell_type": "code",
   "execution_count": 5,
   "id": "999f98d5",
   "metadata": {},
   "outputs": [
    {
     "data": {
      "text/plain": [
       "array([[ 0,  2],\n",
       "       [ 4,  6],\n",
       "       [ 8, 10]])"
      ]
     },
     "execution_count": 5,
     "metadata": {},
     "output_type": "execute_result"
    }
   ],
   "source": [
    "a[:,:,0]"
   ]
  },
  {
   "cell_type": "code",
   "execution_count": 6,
   "id": "98d0b8e2",
   "metadata": {},
   "outputs": [
    {
     "data": {
      "text/plain": [
       "array([[[ 0,  1],\n",
       "        [ 2,  3]],\n",
       "\n",
       "       [[ 4,  5],\n",
       "        [ 6,  7]],\n",
       "\n",
       "       [[ 8,  9],\n",
       "        [10, 11]]])"
      ]
     },
     "execution_count": 6,
     "metadata": {},
     "output_type": "execute_result"
    }
   ],
   "source": [
    "a"
   ]
  },
  {
   "cell_type": "code",
   "execution_count": null,
   "id": "d0fc270a",
   "metadata": {},
   "outputs": [
    {
     "data": {
      "text/plain": [
       "array([[[ 4,  5],\n",
       "        [ 6,  7]],\n",
       "\n",
       "       [[ 8,  9],\n",
       "        [10, 11]]])"
      ]
     },
     "execution_count": 7,
     "metadata": {},
     "output_type": "execute_result"
    }
   ],
   "source": [
    "a[1:]"
   ]
  },
  {
   "cell_type": "code",
   "execution_count": 8,
   "id": "bf045b5d",
   "metadata": {},
   "outputs": [
    {
     "data": {
      "text/plain": [
       "array([[[ 4,  5],\n",
       "        [ 6,  7]],\n",
       "\n",
       "       [[ 8,  9],\n",
       "        [10, 11]]])"
      ]
     },
     "execution_count": 8,
     "metadata": {},
     "output_type": "execute_result"
    }
   ],
   "source": [
    "a[1:,...]"
   ]
  },
  {
   "cell_type": "code",
   "execution_count": 9,
   "id": "e7c94e47",
   "metadata": {},
   "outputs": [
    {
     "data": {
      "text/plain": [
       "array([[[ 0],\n",
       "        [ 1],\n",
       "        [ 2],\n",
       "        [ 3],\n",
       "        [ 4]],\n",
       "\n",
       "       [[ 5],\n",
       "        [ 6],\n",
       "        [ 7],\n",
       "        [ 8],\n",
       "        [ 9]],\n",
       "\n",
       "       [[10],\n",
       "        [11],\n",
       "        [12],\n",
       "        [13],\n",
       "        [14]]])"
      ]
     },
     "execution_count": 9,
     "metadata": {},
     "output_type": "execute_result"
    }
   ],
   "source": [
    "from numpy import *\n",
    "b= arange(15)\n",
    "b= b.reshape(3,5,1)\n",
    "b"
   ]
  },
  {
   "cell_type": "code",
   "execution_count": 10,
   "id": "9128e035",
   "metadata": {},
   "outputs": [
    {
     "data": {
      "text/plain": [
       "array([[[0],\n",
       "        [1],\n",
       "        [2],\n",
       "        [3],\n",
       "        [4]],\n",
       "\n",
       "       [[5],\n",
       "        [6],\n",
       "        [7],\n",
       "        [8],\n",
       "        [9]]])"
      ]
     },
     "execution_count": 10,
     "metadata": {},
     "output_type": "execute_result"
    }
   ],
   "source": [
    "\n",
    "c= arange(10)\n",
    "c= c.reshape(2,5,1)\n",
    "c"
   ]
  },
  {
   "cell_type": "code",
   "execution_count": 11,
   "id": "a6200f92",
   "metadata": {},
   "outputs": [
    {
     "data": {
      "text/plain": [
       "array([[[0],\n",
       "        [1],\n",
       "        [2],\n",
       "        [3],\n",
       "        [4]],\n",
       "\n",
       "       [[5],\n",
       "        [6],\n",
       "        [7],\n",
       "        [8],\n",
       "        [9]]])"
      ]
     },
     "execution_count": 11,
     "metadata": {},
     "output_type": "execute_result"
    }
   ],
   "source": [
    "c"
   ]
  },
  {
   "cell_type": "code",
   "execution_count": 12,
   "id": "eb87d32c",
   "metadata": {},
   "outputs": [
    {
     "data": {
      "text/plain": [
       "array([[[5],\n",
       "        [6],\n",
       "        [7],\n",
       "        [8],\n",
       "        [9]]])"
      ]
     },
     "execution_count": 12,
     "metadata": {},
     "output_type": "execute_result"
    }
   ],
   "source": [
    "c[1:]"
   ]
  },
  {
   "cell_type": "code",
   "execution_count": 13,
   "id": "9c64e4fa",
   "metadata": {},
   "outputs": [
    {
     "data": {
      "text/plain": [
       "array([[[5],\n",
       "        [6],\n",
       "        [7],\n",
       "        [8],\n",
       "        [9]]])"
      ]
     },
     "execution_count": 13,
     "metadata": {},
     "output_type": "execute_result"
    }
   ],
   "source": [
    "c[1:,...]"
   ]
  },
  {
   "cell_type": "code",
   "execution_count": 14,
   "id": "80b82328",
   "metadata": {},
   "outputs": [
    {
     "data": {
      "text/plain": [
       "array([[[0],\n",
       "        [1],\n",
       "        [2],\n",
       "        [3],\n",
       "        [4]],\n",
       "\n",
       "       [[5],\n",
       "        [6],\n",
       "        [7],\n",
       "        [8],\n",
       "        [9]]])"
      ]
     },
     "execution_count": 14,
     "metadata": {},
     "output_type": "execute_result"
    }
   ],
   "source": [
    "c[0:,...]"
   ]
  },
  {
   "cell_type": "code",
   "execution_count": 15,
   "id": "d4c1575f",
   "metadata": {},
   "outputs": [
    {
     "data": {
      "text/plain": [
       "array([ 0,  1,  2,  3,  4,  5,  6,  7,  8,  9, 10, 11, 12, 13, 14, 15, 16,\n",
       "       17, 18])"
      ]
     },
     "execution_count": 15,
     "metadata": {},
     "output_type": "execute_result"
    }
   ],
   "source": [
    "d= arange(19)\n",
    "d"
   ]
  },
  {
   "cell_type": "code",
   "execution_count": 16,
   "id": "6d01cc86",
   "metadata": {},
   "outputs": [
    {
     "data": {
      "text/plain": [
       "array([[[ 0,  1],\n",
       "        [ 2,  3],\n",
       "        [ 4,  5],\n",
       "        [ 6,  7],\n",
       "        [ 8,  9]],\n",
       "\n",
       "       [[10, 11],\n",
       "        [12, 13],\n",
       "        [14, 15],\n",
       "        [16, 17],\n",
       "        [18, 19]]])"
      ]
     },
     "execution_count": 16,
     "metadata": {},
     "output_type": "execute_result"
    }
   ],
   "source": [
    "x = arange(20)\n",
    "x = x.reshape(2,5,2)\n",
    "x"
   ]
  },
  {
   "cell_type": "code",
   "execution_count": 17,
   "id": "4868ea55",
   "metadata": {},
   "outputs": [
    {
     "data": {
      "text/plain": [
       "array([[[ 0],\n",
       "        [ 1],\n",
       "        [ 2],\n",
       "        [ 3],\n",
       "        [ 4],\n",
       "        [ 5],\n",
       "        [ 6],\n",
       "        [ 7],\n",
       "        [ 8],\n",
       "        [ 9]],\n",
       "\n",
       "       [[10],\n",
       "        [11],\n",
       "        [12],\n",
       "        [13],\n",
       "        [14],\n",
       "        [15],\n",
       "        [16],\n",
       "        [17],\n",
       "        [18],\n",
       "        [19]]])"
      ]
     },
     "execution_count": 17,
     "metadata": {},
     "output_type": "execute_result"
    }
   ],
   "source": [
    "x = x.reshape(2,10,1)\n",
    "x"
   ]
  },
  {
   "cell_type": "code",
   "execution_count": 18,
   "id": "734f1251",
   "metadata": {},
   "outputs": [
    {
     "data": {
      "text/plain": [
       "array([[[ 0,  1],\n",
       "        [ 2,  3]],\n",
       "\n",
       "       [[ 4,  5],\n",
       "        [ 6,  7]],\n",
       "\n",
       "       [[ 8,  9],\n",
       "        [10, 11]],\n",
       "\n",
       "       [[12, 13],\n",
       "        [14, 15]],\n",
       "\n",
       "       [[16, 17],\n",
       "        [18, 19]]])"
      ]
     },
     "execution_count": 18,
     "metadata": {},
     "output_type": "execute_result"
    }
   ],
   "source": [
    "x = x.reshape(5,2,2)\n",
    "x"
   ]
  },
  {
   "cell_type": "code",
   "execution_count": 19,
   "id": "fd77324f",
   "metadata": {},
   "outputs": [
    {
     "data": {
      "text/plain": [
       "array([[ 0,  2],\n",
       "       [ 4,  6],\n",
       "       [ 8, 10],\n",
       "       [12, 14],\n",
       "       [16, 18]])"
      ]
     },
     "execution_count": 19,
     "metadata": {},
     "output_type": "execute_result"
    }
   ],
   "source": [
    "x[...,0]     #x[:,:,0]"
   ]
  },
  {
   "cell_type": "code",
   "execution_count": 20,
   "id": "79aa3327",
   "metadata": {},
   "outputs": [
    {
     "data": {
      "text/plain": [
       "array([[ 1,  3],\n",
       "       [ 5,  7],\n",
       "       [ 9, 11],\n",
       "       [13, 15],\n",
       "       [17, 19]])"
      ]
     },
     "execution_count": 20,
     "metadata": {},
     "output_type": "execute_result"
    }
   ],
   "source": [
    "x[...,1]    #x[:,:,1]"
   ]
  },
  {
   "cell_type": "code",
   "execution_count": 21,
   "id": "e738fe8a",
   "metadata": {},
   "outputs": [
    {
     "data": {
      "text/plain": [
       "array([[4, 5],\n",
       "       [6, 7]])"
      ]
     },
     "execution_count": 21,
     "metadata": {},
     "output_type": "execute_result"
    }
   ],
   "source": [
    "x[1,...]   #x[1,:,:]"
   ]
  },
  {
   "cell_type": "code",
   "execution_count": 22,
   "id": "3e020658",
   "metadata": {},
   "outputs": [
    {
     "data": {
      "text/plain": [
       "array([[[ 4,  5],\n",
       "        [ 6,  7]],\n",
       "\n",
       "       [[ 8,  9],\n",
       "        [10, 11]],\n",
       "\n",
       "       [[12, 13],\n",
       "        [14, 15]],\n",
       "\n",
       "       [[16, 17],\n",
       "        [18, 19]]])"
      ]
     },
     "execution_count": 22,
     "metadata": {},
     "output_type": "execute_result"
    }
   ],
   "source": [
    "x[1:,...]  #x[1:,:,:]"
   ]
  },
  {
   "cell_type": "code",
   "execution_count": 23,
   "id": "01067a76",
   "metadata": {},
   "outputs": [
    {
     "data": {
      "text/plain": [
       "array([[[ 8,  9],\n",
       "        [10, 11]],\n",
       "\n",
       "       [[12, 13],\n",
       "        [14, 15]],\n",
       "\n",
       "       [[16, 17],\n",
       "        [18, 19]]])"
      ]
     },
     "execution_count": 23,
     "metadata": {},
     "output_type": "execute_result"
    }
   ],
   "source": [
    "x[2:,...]"
   ]
  },
  {
   "cell_type": "code",
   "execution_count": 24,
   "id": "219e2933",
   "metadata": {},
   "outputs": [
    {
     "data": {
      "text/plain": [
       "array([[ 8,  9],\n",
       "       [10, 11]])"
      ]
     },
     "execution_count": 24,
     "metadata": {},
     "output_type": "execute_result"
    }
   ],
   "source": [
    "x[2,...]"
   ]
  },
  {
   "cell_type": "code",
   "execution_count": 25,
   "id": "9a19929d",
   "metadata": {},
   "outputs": [],
   "source": [
    "#x[...,2]"
   ]
  },
  {
   "cell_type": "code",
   "execution_count": 26,
   "id": "98ba5e4f",
   "metadata": {},
   "outputs": [
    {
     "data": {
      "text/plain": [
       "array([[[ 0,  1,  2,  3,  4],\n",
       "        [ 5,  6,  7,  8,  9]],\n",
       "\n",
       "       [[10, 11, 12, 13, 14],\n",
       "        [15, 16, 17, 18, 19]],\n",
       "\n",
       "       [[20, 21, 22, 23, 24],\n",
       "        [25, 26, 27, 28, 29]]])"
      ]
     },
     "execution_count": 26,
     "metadata": {},
     "output_type": "execute_result"
    }
   ],
   "source": [
    "ab = arange(30)\n",
    "ab = ab.reshape(3,2,5)\n",
    "ab"
   ]
  },
  {
   "cell_type": "code",
   "execution_count": 27,
   "id": "10cccbb7",
   "metadata": {},
   "outputs": [
    {
     "data": {
      "text/plain": [
       "array([[ 0,  5],\n",
       "       [10, 15],\n",
       "       [20, 25]])"
      ]
     },
     "execution_count": 27,
     "metadata": {},
     "output_type": "execute_result"
    }
   ],
   "source": [
    "ab[...,0]"
   ]
  },
  {
   "cell_type": "code",
   "execution_count": 28,
   "id": "7b5b9819",
   "metadata": {},
   "outputs": [
    {
     "data": {
      "text/plain": [
       "array([[0, 1, 2, 3, 4],\n",
       "       [5, 6, 7, 8, 9]])"
      ]
     },
     "execution_count": 28,
     "metadata": {},
     "output_type": "execute_result"
    }
   ],
   "source": [
    "ab[0,...]"
   ]
  },
  {
   "cell_type": "code",
   "execution_count": 29,
   "id": "45d06096",
   "metadata": {},
   "outputs": [
    {
     "data": {
      "text/plain": [
       "array([[10, 11, 12, 13, 14],\n",
       "       [15, 16, 17, 18, 19]])"
      ]
     },
     "execution_count": 29,
     "metadata": {},
     "output_type": "execute_result"
    }
   ],
   "source": [
    "ab[1,...]"
   ]
  },
  {
   "cell_type": "code",
   "execution_count": 30,
   "id": "ec5c8ee4",
   "metadata": {},
   "outputs": [
    {
     "data": {
      "text/plain": [
       "array([[ 1,  6],\n",
       "       [11, 16],\n",
       "       [21, 26]])"
      ]
     },
     "execution_count": 30,
     "metadata": {},
     "output_type": "execute_result"
    }
   ],
   "source": [
    "ab[...,1]"
   ]
  },
  {
   "cell_type": "code",
   "execution_count": 31,
   "id": "8550effa",
   "metadata": {},
   "outputs": [
    {
     "data": {
      "text/plain": [
       "array([[ 4,  9],\n",
       "       [14, 19],\n",
       "       [24, 29]])"
      ]
     },
     "execution_count": 31,
     "metadata": {},
     "output_type": "execute_result"
    }
   ],
   "source": [
    "ab[...,4]"
   ]
  },
  {
   "cell_type": "code",
   "execution_count": 32,
   "id": "14b9058b",
   "metadata": {},
   "outputs": [
    {
     "data": {
      "text/plain": [
       "array([[[ 0,  1,  2,  3,  4],\n",
       "        [ 5,  6,  7,  8,  9]],\n",
       "\n",
       "       [[10, 11, 12, 13, 14],\n",
       "        [15, 16, 17, 18, 19]],\n",
       "\n",
       "       [[20, 21, 22, 23, 24],\n",
       "        [25, 26, 27, 28, 29]]])"
      ]
     },
     "execution_count": 32,
     "metadata": {},
     "output_type": "execute_result"
    }
   ],
   "source": [
    "ab"
   ]
  },
  {
   "cell_type": "code",
   "execution_count": 33,
   "id": "7066df2a",
   "metadata": {},
   "outputs": [
    {
     "data": {
      "text/plain": [
       "array([[[10, 11, 12, 13, 14],\n",
       "        [15, 16, 17, 18, 19]],\n",
       "\n",
       "       [[20, 21, 22, 23, 24],\n",
       "        [25, 26, 27, 28, 29]]])"
      ]
     },
     "execution_count": 33,
     "metadata": {},
     "output_type": "execute_result"
    }
   ],
   "source": [
    "ab[1:,...]"
   ]
  },
  {
   "cell_type": "code",
   "execution_count": 34,
   "id": "dfc837f9",
   "metadata": {},
   "outputs": [
    {
     "data": {
      "text/plain": [
       "array([[[ 0,  1,  2,  3],\n",
       "        [ 5,  6,  7,  8]],\n",
       "\n",
       "       [[10, 11, 12, 13],\n",
       "        [15, 16, 17, 18]],\n",
       "\n",
       "       [[20, 21, 22, 23],\n",
       "        [25, 26, 27, 28]]])"
      ]
     },
     "execution_count": 34,
     "metadata": {},
     "output_type": "execute_result"
    }
   ],
   "source": [
    "ab[...,:-1]"
   ]
  },
  {
   "cell_type": "code",
   "execution_count": 35,
   "id": "033a49ab",
   "metadata": {},
   "outputs": [
    {
     "data": {
      "text/plain": [
       "array([[ 2,  7],\n",
       "       [12, 17],\n",
       "       [22, 27]])"
      ]
     },
     "execution_count": 35,
     "metadata": {},
     "output_type": "execute_result"
    }
   ],
   "source": [
    "ab[...,2]"
   ]
  },
  {
   "cell_type": "code",
   "execution_count": 36,
   "id": "5821f9db",
   "metadata": {},
   "outputs": [
    {
     "data": {
      "text/plain": [
       "array([[[ 0,  1],\n",
       "        [ 5,  6]],\n",
       "\n",
       "       [[10, 11],\n",
       "        [15, 16]],\n",
       "\n",
       "       [[20, 21],\n",
       "        [25, 26]]])"
      ]
     },
     "execution_count": 36,
     "metadata": {},
     "output_type": "execute_result"
    }
   ],
   "source": [
    "ab[...,:2]"
   ]
  },
  {
   "cell_type": "code",
   "execution_count": 37,
   "id": "f58c60dd",
   "metadata": {},
   "outputs": [
    {
     "data": {
      "text/plain": [
       "array([[[ 0,  1,  2,  3,  4],\n",
       "        [ 5,  6,  7,  8,  9]],\n",
       "\n",
       "       [[10, 11, 12, 13, 14],\n",
       "        [15, 16, 17, 18, 19]],\n",
       "\n",
       "       [[20, 21, 22, 23, 24],\n",
       "        [25, 26, 27, 28, 29]]])"
      ]
     },
     "execution_count": 37,
     "metadata": {},
     "output_type": "execute_result"
    }
   ],
   "source": [
    "ab"
   ]
  },
  {
   "cell_type": "markdown",
   "id": "aa5bffe5",
   "metadata": {},
   "source": [
    "# 2. []\n"
   ]
  },
  {
   "cell_type": "code",
   "execution_count": 38,
   "id": "f259a97b",
   "metadata": {},
   "outputs": [
    {
     "data": {
      "text/plain": [
       "array([[ 0,  1,  2,  3,  4],\n",
       "       [10, 11, 12, 13, 14],\n",
       "       [20, 21, 22, 23, 24],\n",
       "       [30, 31, 32, 33, 34]])"
      ]
     },
     "execution_count": 38,
     "metadata": {},
     "output_type": "execute_result"
    }
   ],
   "source": [
    "a = array([[0,1,2,3,4], [10,11,12,13,14], [20,21,22,23,24], [30,31,32,33,34]])\n",
    "a"
   ]
  },
  {
   "cell_type": "code",
   "execution_count": 39,
   "id": "b1cec6d7",
   "metadata": {},
   "outputs": [
    {
     "data": {
      "text/plain": [
       "0"
      ]
     },
     "execution_count": 39,
     "metadata": {},
     "output_type": "execute_result"
    }
   ],
   "source": [
    "a[0][0]"
   ]
  },
  {
   "cell_type": "code",
   "execution_count": 40,
   "id": "3df759b6",
   "metadata": {},
   "outputs": [
    {
     "data": {
      "text/plain": [
       "2"
      ]
     },
     "execution_count": 40,
     "metadata": {},
     "output_type": "execute_result"
    }
   ],
   "source": [
    "a[0][2]"
   ]
  },
  {
   "cell_type": "code",
   "execution_count": 41,
   "id": "fd59eecf",
   "metadata": {},
   "outputs": [
    {
     "data": {
      "text/plain": [
       "21"
      ]
     },
     "execution_count": 41,
     "metadata": {},
     "output_type": "execute_result"
    }
   ],
   "source": [
    "a[2][1]"
   ]
  },
  {
   "cell_type": "code",
   "execution_count": 42,
   "id": "098c82c0",
   "metadata": {},
   "outputs": [
    {
     "data": {
      "text/plain": [
       "array([30, 31, 32, 33, 34])"
      ]
     },
     "execution_count": 42,
     "metadata": {},
     "output_type": "execute_result"
    }
   ],
   "source": [
    "a[-1]"
   ]
  },
  {
   "cell_type": "code",
   "execution_count": 43,
   "id": "21780e66",
   "metadata": {},
   "outputs": [
    {
     "name": "stdout",
     "output_type": "stream",
     "text": [
      "<class 'numpy.ndarray'>\n"
     ]
    }
   ],
   "source": [
    "print(type(a))"
   ]
  },
  {
   "cell_type": "code",
   "execution_count": 44,
   "id": "d66bf81c",
   "metadata": {},
   "outputs": [
    {
     "data": {
      "text/plain": [
       "array([[ 0,  1,  2,  3,  4],\n",
       "       [10, 11, 12, 13, 14],\n",
       "       [20, 21, 22, 23, 24],\n",
       "       [30, 31, 32, 33, 34]])"
      ]
     },
     "execution_count": 44,
     "metadata": {},
     "output_type": "execute_result"
    }
   ],
   "source": [
    "a"
   ]
  },
  {
   "cell_type": "code",
   "execution_count": 45,
   "id": "70a980fd",
   "metadata": {},
   "outputs": [
    {
     "data": {
      "text/plain": [
       "23"
      ]
     },
     "execution_count": 45,
     "metadata": {},
     "output_type": "execute_result"
    }
   ],
   "source": [
    "a[2,3]"
   ]
  },
  {
   "cell_type": "code",
   "execution_count": 46,
   "id": "0232bb32",
   "metadata": {},
   "outputs": [
    {
     "data": {
      "text/plain": [
       "array([[11, 12, 13],\n",
       "       [21, 22, 23]])"
      ]
     },
     "execution_count": 46,
     "metadata": {},
     "output_type": "execute_result"
    }
   ],
   "source": [
    "a[1:3,1:4]"
   ]
  },
  {
   "cell_type": "code",
   "execution_count": 47,
   "id": "4492c14d",
   "metadata": {},
   "outputs": [],
   "source": [
    "a = array([[0,1,2,3,4], [10,11,12,13,14], [20,21,22,23,24],[30,31,32,33,34]])"
   ]
  },
  {
   "cell_type": "code",
   "execution_count": 48,
   "id": "018a5ae7",
   "metadata": {},
   "outputs": [
    {
     "data": {
      "text/plain": [
       "array([[ 0,  1,  2,  3,  4],\n",
       "       [10, 11, 12, 13, 14],\n",
       "       [20, 21, 22, 23, 24],\n",
       "       [30, 31, 32, 33, 34]])"
      ]
     },
     "execution_count": 48,
     "metadata": {},
     "output_type": "execute_result"
    }
   ],
   "source": [
    "a"
   ]
  },
  {
   "cell_type": "code",
   "execution_count": 49,
   "id": "77bfd7d2",
   "metadata": {},
   "outputs": [
    {
     "data": {
      "text/plain": [
       "0"
      ]
     },
     "execution_count": 49,
     "metadata": {},
     "output_type": "execute_result"
    }
   ],
   "source": [
    "a[0,0]"
   ]
  },
  {
   "cell_type": "code",
   "execution_count": 50,
   "id": "ad10d0df",
   "metadata": {},
   "outputs": [
    {
     "data": {
      "text/plain": [
       "numpy.ndarray"
      ]
     },
     "execution_count": 50,
     "metadata": {},
     "output_type": "execute_result"
    }
   ],
   "source": [
    "type(a)"
   ]
  },
  {
   "cell_type": "code",
   "execution_count": 51,
   "id": "0dddcdd8",
   "metadata": {},
   "outputs": [
    {
     "ename": "IndexError",
     "evalue": "index 5 is out of bounds for axis 1 with size 5",
     "output_type": "error",
     "traceback": [
      "\u001b[1;31m---------------------------------------------------------------------------\u001b[0m",
      "\u001b[1;31mIndexError\u001b[0m                                Traceback (most recent call last)",
      "Cell \u001b[1;32mIn[51], line 1\u001b[0m\n\u001b[1;32m----> 1\u001b[0m a[\u001b[38;5;241m1\u001b[39m,\u001b[38;5;241m5\u001b[39m]\n",
      "\u001b[1;31mIndexError\u001b[0m: index 5 is out of bounds for axis 1 with size 5"
     ]
    }
   ],
   "source": [
    "a[1,5]"
   ]
  },
  {
   "cell_type": "code",
   "execution_count": null,
   "id": "fa931835",
   "metadata": {},
   "outputs": [],
   "source": [
    "a[1,4]"
   ]
  },
  {
   "cell_type": "code",
   "execution_count": 52,
   "id": "82f71733",
   "metadata": {},
   "outputs": [
    {
     "data": {
      "text/plain": [
       "array([[ 0,  1,  2,  3,  4],\n",
       "       [10, 11, 12, 13, 14],\n",
       "       [20, 21, 22, 23, 24],\n",
       "       [30, 31, 32, 33, 34]])"
      ]
     },
     "execution_count": 52,
     "metadata": {},
     "output_type": "execute_result"
    }
   ],
   "source": [
    "a"
   ]
  },
  {
   "cell_type": "code",
   "execution_count": 53,
   "id": "a8142500",
   "metadata": {},
   "outputs": [
    {
     "data": {
      "text/plain": [
       "array([0, 1, 2, 3, 4])"
      ]
     },
     "execution_count": 53,
     "metadata": {},
     "output_type": "execute_result"
    }
   ],
   "source": [
    "a[0]"
   ]
  },
  {
   "cell_type": "code",
   "execution_count": 54,
   "id": "f4e985ba",
   "metadata": {},
   "outputs": [
    {
     "data": {
      "text/plain": [
       "array([30, 31, 32, 33, 34])"
      ]
     },
     "execution_count": 54,
     "metadata": {},
     "output_type": "execute_result"
    }
   ],
   "source": [
    "a[-1]"
   ]
  },
  {
   "cell_type": "code",
   "execution_count": 55,
   "id": "56328bfe",
   "metadata": {},
   "outputs": [
    {
     "data": {
      "text/plain": [
       "array([[11, 12, 13],\n",
       "       [21, 22, 23]])"
      ]
     },
     "execution_count": 55,
     "metadata": {},
     "output_type": "execute_result"
    }
   ],
   "source": [
    "a[1:3,1:4]  #subarray"
   ]
  },
  {
   "cell_type": "code",
   "execution_count": 56,
   "id": "deb6246f",
   "metadata": {},
   "outputs": [
    {
     "data": {
      "text/plain": [
       "array([[12, 13],\n",
       "       [22, 23]])"
      ]
     },
     "execution_count": 56,
     "metadata": {},
     "output_type": "execute_result"
    }
   ],
   "source": [
    "a[1:3,2:4]"
   ]
  },
  {
   "cell_type": "code",
   "execution_count": 57,
   "id": "12910225",
   "metadata": {},
   "outputs": [
    {
     "data": {
      "text/plain": [
       "'\\ni = array([0,1,2,1]) # array of indices for the first axis\\nj = array([1,2,3,4]) # array of indices for the second axis\\na[i,j]\\narray([ 1, 12, 23, 14])\\n\\na[a<13] # boolean indexing\\narray([ 0, 1, 2, 3, 4, 10, 11, 12])\\n'"
      ]
     },
     "execution_count": 57,
     "metadata": {},
     "output_type": "execute_result"
    }
   ],
   "source": [
    "'''\n",
    ">>> i = array([0,1,2,1]) # array of indices for the first axis\n",
    ">>> j = array([1,2,3,4]) # array of indices for the second axis\n",
    ">>> a[i,j]\n",
    "array([ 1, 12, 23, 14])\n",
    ">>>\n",
    ">>> a[a<13] # boolean indexing\n",
    "array([ 0, 1, 2, 3, 4, 10, 11, 12])\n",
    "'''"
   ]
  },
  {
   "cell_type": "code",
   "execution_count": null,
   "id": "93d7770f",
   "metadata": {},
   "outputs": [],
   "source": []
  },
  {
   "cell_type": "code",
   "execution_count": null,
   "id": "80beb1f2",
   "metadata": {},
   "outputs": [],
   "source": []
  },
  {
   "cell_type": "code",
   "execution_count": 58,
   "id": "6e9b25be",
   "metadata": {},
   "outputs": [
    {
     "data": {
      "text/plain": [
       "array([[ 0,  1,  2,  3,  4],\n",
       "       [10, 11, 12, 13, 14],\n",
       "       [20, 21, 22, 23, 24],\n",
       "       [30, 31, 32, 33, 34]])"
      ]
     },
     "execution_count": 58,
     "metadata": {},
     "output_type": "execute_result"
    }
   ],
   "source": [
    "a"
   ]
  },
  {
   "cell_type": "code",
   "execution_count": 59,
   "id": "3b8b1657",
   "metadata": {},
   "outputs": [
    {
     "data": {
      "text/plain": [
       "array([[ 0,  1,  2,  3,  4],\n",
       "       [20, 21, 22, 23, 24]])"
      ]
     },
     "execution_count": 59,
     "metadata": {},
     "output_type": "execute_result"
    }
   ],
   "source": [
    "b1=array([True,False,True,False])   #boolean row selector\n",
    "a[b1,:]"
   ]
  },
  {
   "cell_type": "code",
   "execution_count": 60,
   "id": "add5d820",
   "metadata": {},
   "outputs": [
    {
     "data": {
      "text/plain": [
       "array([[ 0,  3,  4],\n",
       "       [10, 13, 14],\n",
       "       [20, 23, 24],\n",
       "       [30, 33, 34]])"
      ]
     },
     "execution_count": 60,
     "metadata": {},
     "output_type": "execute_result"
    }
   ],
   "source": [
    "b2 = array([True,False,False,True,True])    #boolean column selector\n",
    "a[:,b2]"
   ]
  },
  {
   "cell_type": "code",
   "execution_count": 61,
   "id": "83a759d0",
   "metadata": {},
   "outputs": [
    {
     "data": {
      "text/plain": [
       "array([ 0,  1,  2,  3,  4, 10, 11, 12])"
      ]
     },
     "execution_count": 61,
     "metadata": {},
     "output_type": "execute_result"
    }
   ],
   "source": [
    "a[a<13]        #boolean indexing"
   ]
  },
  {
   "cell_type": "markdown",
   "id": "50f11851",
   "metadata": {},
   "source": [
    "# 3. abs()\n",
    "# 4. absolute()\n"
   ]
  },
  {
   "cell_type": "code",
   "execution_count": 62,
   "id": "fc462490",
   "metadata": {},
   "outputs": [
    {
     "data": {
      "text/plain": [
       "3"
      ]
     },
     "execution_count": 62,
     "metadata": {},
     "output_type": "execute_result"
    }
   ],
   "source": [
    "abs(-3)"
   ]
  },
  {
   "cell_type": "code",
   "execution_count": 63,
   "id": "e17a0eb7",
   "metadata": {},
   "outputs": [
    {
     "data": {
      "text/plain": [
       "array([1.7, 1.2])"
      ]
     },
     "execution_count": 63,
     "metadata": {},
     "output_type": "execute_result"
    }
   ],
   "source": [
    "abs(array([-1.7,-1.2]))"
   ]
  },
  {
   "cell_type": "code",
   "execution_count": 64,
   "id": "7e6d938d",
   "metadata": {},
   "outputs": [
    {
     "data": {
      "text/plain": [
       "3.1622776601683795"
      ]
     },
     "execution_count": 64,
     "metadata": {},
     "output_type": "execute_result"
    }
   ],
   "source": [
    "abs(1+3j)"
   ]
  },
  {
   "cell_type": "code",
   "execution_count": 65,
   "id": "ff44fb01",
   "metadata": {},
   "outputs": [
    {
     "data": {
      "text/plain": [
       "2.5"
      ]
     },
     "execution_count": 65,
     "metadata": {},
     "output_type": "execute_result"
    }
   ],
   "source": [
    "abs(1.5+2j)"
   ]
  },
  {
   "cell_type": "code",
   "execution_count": 66,
   "id": "aec6f5fe",
   "metadata": {},
   "outputs": [
    {
     "data": {
      "text/plain": [
       "1"
      ]
     },
     "execution_count": 66,
     "metadata": {},
     "output_type": "execute_result"
    }
   ],
   "source": [
    "abs(True)"
   ]
  },
  {
   "cell_type": "code",
   "execution_count": 67,
   "id": "b891b833",
   "metadata": {},
   "outputs": [
    {
     "data": {
      "text/plain": [
       "2"
      ]
     },
     "execution_count": 67,
     "metadata": {},
     "output_type": "execute_result"
    }
   ],
   "source": [
    "abs(0b10)"
   ]
  },
  {
   "cell_type": "code",
   "execution_count": 68,
   "id": "2972f9d8",
   "metadata": {},
   "outputs": [
    {
     "data": {
      "text/plain": [
       "156"
      ]
     },
     "execution_count": 68,
     "metadata": {},
     "output_type": "execute_result"
    }
   ],
   "source": [
    "abs(0o234)"
   ]
  },
  {
   "cell_type": "code",
   "execution_count": 69,
   "id": "3c6dd749",
   "metadata": {},
   "outputs": [
    {
     "data": {
      "text/plain": [
       "19"
      ]
     },
     "execution_count": 69,
     "metadata": {},
     "output_type": "execute_result"
    }
   ],
   "source": [
    "abs(~18)"
   ]
  },
  {
   "cell_type": "code",
   "execution_count": 70,
   "id": "4ca46f08",
   "metadata": {},
   "outputs": [
    {
     "data": {
      "text/plain": [
       "47"
      ]
     },
     "execution_count": 70,
     "metadata": {},
     "output_type": "execute_result"
    }
   ],
   "source": [
    "abs(23^56)"
   ]
  },
  {
   "cell_type": "code",
   "execution_count": 71,
   "id": "c9a19909",
   "metadata": {},
   "outputs": [
    {
     "data": {
      "text/plain": [
       "5"
      ]
     },
     "execution_count": 71,
     "metadata": {},
     "output_type": "execute_result"
    }
   ],
   "source": [
    "abs(21 & 7)"
   ]
  },
  {
   "cell_type": "markdown",
   "id": "8b95e416",
   "metadata": {},
   "source": [
    "# 5. accumulate()\n"
   ]
  },
  {
   "cell_type": "code",
   "execution_count": 72,
   "id": "41cd212d",
   "metadata": {},
   "outputs": [
    {
     "data": {
      "text/plain": [
       "array([ 1.,  3.,  6., 10.])"
      ]
     },
     "execution_count": 72,
     "metadata": {},
     "output_type": "execute_result"
    }
   ],
   "source": [
    "add.accumulate(array([1.,2.,3.,4.]))  #Accumulate the result of applying the operator to all elements."
   ]
  },
  {
   "cell_type": "code",
   "execution_count": 73,
   "id": "d0e8d280",
   "metadata": {},
   "outputs": [],
   "source": [
    "import numpy as np"
   ]
  },
  {
   "cell_type": "code",
   "execution_count": 74,
   "id": "7596bda1",
   "metadata": {},
   "outputs": [
    {
     "data": {
      "text/plain": [
       "array([ 1,  3,  6, 10])"
      ]
     },
     "execution_count": 74,
     "metadata": {},
     "output_type": "execute_result"
    }
   ],
   "source": [
    "np.add.accumulate(array([1,2,3,4]))"
   ]
  },
  {
   "cell_type": "code",
   "execution_count": 75,
   "id": "4915f5eb",
   "metadata": {},
   "outputs": [
    {
     "data": {
      "text/plain": [
       "array([ 1,  2,  6, 24])"
      ]
     },
     "execution_count": 75,
     "metadata": {},
     "output_type": "execute_result"
    }
   ],
   "source": [
    "np.multiply.accumulate(array([1,2,3,4]))"
   ]
  },
  {
   "cell_type": "code",
   "execution_count": 76,
   "id": "5bb599e0",
   "metadata": {},
   "outputs": [
    {
     "data": {
      "text/plain": [
       "'\\n2-D array examples:\\n\\n>>> I = np.eye(2)\\n>>> I\\narray([[1.,  0.],\\n       [0.,  1.]])\\n\\nAccumulate along axis 0 (rows), down columns:\\n\\n>>> np.add.accumulate(I, 0)\\narray([[1.,  0.],\\n       [1.,  1.]])\\n>>> np.add.accumulate(I) # no axis specified = axis zero\\narray([[1.,  0.],\\n       [1.,  1.]])\\n\\nAccumulate along axis 1 (columns), through rows:\\n\\n>>> np.add.accumulate(I, 1)\\narray([[1.,  1.],\\n       [0.,  1.]])\\nType:      builtin_function_or_method\\n'"
      ]
     },
     "execution_count": 76,
     "metadata": {},
     "output_type": "execute_result"
    }
   ],
   "source": [
    "'''\n",
    "2-D array examples:\n",
    "\n",
    ">>> I = np.eye(2)\n",
    ">>> I\n",
    "array([[1.,  0.],\n",
    "       [0.,  1.]])\n",
    "\n",
    "Accumulate along axis 0 (rows), down columns:\n",
    "\n",
    ">>> np.add.accumulate(I, 0)\n",
    "array([[1.,  0.],\n",
    "       [1.,  1.]])\n",
    ">>> np.add.accumulate(I) # no axis specified = axis zero\n",
    "array([[1.,  0.],\n",
    "       [1.,  1.]])\n",
    "\n",
    "Accumulate along axis 1 (columns), through rows:\n",
    "\n",
    ">>> np.add.accumulate(I, 1)\n",
    "array([[1.,  1.],\n",
    "       [0.,  1.]])\n",
    "Type:      builtin_function_or_method\n",
    "'''"
   ]
  },
  {
   "cell_type": "code",
   "execution_count": 77,
   "id": "bc520c77",
   "metadata": {},
   "outputs": [
    {
     "data": {
      "text/plain": [
       "array([[1., 0.],\n",
       "       [0., 1.]])"
      ]
     },
     "execution_count": 77,
     "metadata": {},
     "output_type": "execute_result"
    }
   ],
   "source": [
    "'''\n",
    "Return a 2-D array with ones on the diagonal and zeros elsewhere.\n",
    "'''\n",
    "I = eye(2)\n",
    "I"
   ]
  },
  {
   "cell_type": "code",
   "execution_count": 78,
   "id": "764f1354",
   "metadata": {},
   "outputs": [
    {
     "data": {
      "text/plain": [
       "array([[1., 0.],\n",
       "       [1., 1.]])"
      ]
     },
     "execution_count": 78,
     "metadata": {},
     "output_type": "execute_result"
    }
   ],
   "source": [
    "add.accumulate(I,0) #axis =0 (rows) , down columns"
   ]
  },
  {
   "cell_type": "code",
   "execution_count": 79,
   "id": "1a774cc9",
   "metadata": {},
   "outputs": [
    {
     "data": {
      "text/plain": [
       "array([[1., 0.],\n",
       "       [1., 1.]])"
      ]
     },
     "execution_count": 79,
     "metadata": {},
     "output_type": "execute_result"
    }
   ],
   "source": [
    "add.accumulate(I)  #default axis =0"
   ]
  },
  {
   "cell_type": "code",
   "execution_count": 80,
   "id": "607b1bc6",
   "metadata": {},
   "outputs": [
    {
     "data": {
      "text/plain": [
       "array([[1., 1.],\n",
       "       [0., 1.]])"
      ]
     },
     "execution_count": 80,
     "metadata": {},
     "output_type": "execute_result"
    }
   ],
   "source": [
    "add.accumulate(I,1)  #axis =1 (columns)  ,thru rows"
   ]
  },
  {
   "cell_type": "code",
   "execution_count": 81,
   "id": "91e24d72",
   "metadata": {},
   "outputs": [
    {
     "data": {
      "text/plain": [
       "array([[1., 0., 0.],\n",
       "       [0., 1., 0.],\n",
       "       [0., 0., 1.]])"
      ]
     },
     "execution_count": 81,
     "metadata": {},
     "output_type": "execute_result"
    }
   ],
   "source": [
    "I = eye(3,3)\n",
    "I"
   ]
  },
  {
   "cell_type": "code",
   "execution_count": 82,
   "id": "e07591cf",
   "metadata": {},
   "outputs": [
    {
     "data": {
      "text/plain": [
       "array([[1., 0., 0.],\n",
       "       [1., 1., 0.],\n",
       "       [1., 1., 1.]])"
      ]
     },
     "execution_count": 82,
     "metadata": {},
     "output_type": "execute_result"
    }
   ],
   "source": [
    "add.accumulate(I)  #default axis 0 (rows) i.e down columns"
   ]
  },
  {
   "cell_type": "code",
   "execution_count": 83,
   "id": "2d8bbe8e",
   "metadata": {},
   "outputs": [
    {
     "data": {
      "text/plain": [
       "array([[1., 1., 1.],\n",
       "       [0., 1., 1.],\n",
       "       [0., 0., 1.]])"
      ]
     },
     "execution_count": 83,
     "metadata": {},
     "output_type": "execute_result"
    }
   ],
   "source": [
    "add.accumulate(I,1)"
   ]
  },
  {
   "cell_type": "code",
   "execution_count": 84,
   "id": "e33f396b",
   "metadata": {},
   "outputs": [
    {
     "data": {
      "text/plain": [
       "array([ 1,  2,  6, 24])"
      ]
     },
     "execution_count": 84,
     "metadata": {},
     "output_type": "execute_result"
    }
   ],
   "source": [
    "multiply.accumulate(array([1.,2.,3.,4.]), dtype = int)"
   ]
  },
  {
   "cell_type": "code",
   "execution_count": 85,
   "id": "02644898",
   "metadata": {},
   "outputs": [
    {
     "data": {
      "text/plain": [
       "array([1.        , 0.5       , 0.16666667, 0.04166667])"
      ]
     },
     "execution_count": 85,
     "metadata": {},
     "output_type": "execute_result"
    }
   ],
   "source": [
    "divide.accumulate(array([1,2,3,4]))"
   ]
  },
  {
   "cell_type": "code",
   "execution_count": 86,
   "id": "4def6808",
   "metadata": {},
   "outputs": [
    {
     "data": {
      "text/plain": [
       "array([[1, 2, 3],\n",
       "       [5, 7, 9]])"
      ]
     },
     "execution_count": 86,
     "metadata": {},
     "output_type": "execute_result"
    }
   ],
   "source": [
    "add.accumulate(array([[1,2,3],[4,5,6]]),axis=0)  #accumulate every column seperately"
   ]
  },
  {
   "cell_type": "code",
   "execution_count": 87,
   "id": "0dfce92f",
   "metadata": {},
   "outputs": [
    {
     "data": {
      "text/plain": [
       "array([[ 1,  3,  6],\n",
       "       [ 4,  9, 15]])"
      ]
     },
     "execution_count": 87,
     "metadata": {},
     "output_type": "execute_result"
    }
   ],
   "source": [
    "add.accumulate(array([[1,2,3],[4,5,6]]),axis=1)   #accumulate every row seperately"
   ]
  },
  {
   "cell_type": "code",
   "execution_count": 88,
   "id": "2b158c90",
   "metadata": {},
   "outputs": [
    {
     "data": {
      "text/plain": [
       "array([ 1,  3,  6, 10])"
      ]
     },
     "execution_count": 88,
     "metadata": {},
     "output_type": "execute_result"
    }
   ],
   "source": [
    "add.accumulate(array([1,2,3,4]))"
   ]
  },
  {
   "cell_type": "markdown",
   "id": "0965b837",
   "metadata": {},
   "source": [
    "# 6. add()"
   ]
  },
  {
   "cell_type": "code",
   "execution_count": 89,
   "id": "a73f9c4a",
   "metadata": {},
   "outputs": [
    {
     "data": {
      "text/plain": [
       "array([ 1., -1.])"
      ]
     },
     "execution_count": 89,
     "metadata": {},
     "output_type": "execute_result"
    }
   ],
   "source": [
    "add(array([1.3,4]), array([-0.3,-5]))"
   ]
  },
  {
   "cell_type": "code",
   "execution_count": 90,
   "id": "756ddaa5",
   "metadata": {},
   "outputs": [
    {
     "data": {
      "text/plain": [
       "array([ 1., -1.])"
      ]
     },
     "execution_count": 90,
     "metadata": {},
     "output_type": "execute_result"
    }
   ],
   "source": [
    "array([1.3,4]) + array([-0.3,-5])"
   ]
  },
  {
   "cell_type": "markdown",
   "id": "d818e104",
   "metadata": {},
   "source": [
    "# 7. all()"
   ]
  },
  {
   "cell_type": "code",
   "execution_count": 91,
   "id": "c026e2f2",
   "metadata": {},
   "outputs": [
    {
     "data": {
      "text/plain": [
       "False"
      ]
     },
     "execution_count": 91,
     "metadata": {},
     "output_type": "execute_result"
    }
   ],
   "source": [
    "a = array([True,False,True,True])\n",
    "all(a)\n",
    "#a.all()"
   ]
  },
  {
   "cell_type": "code",
   "execution_count": 92,
   "id": "d3bcefe3",
   "metadata": {},
   "outputs": [
    {
     "data": {
      "text/plain": [
       "True"
      ]
     },
     "execution_count": 92,
     "metadata": {},
     "output_type": "execute_result"
    }
   ],
   "source": [
    "a = array([1,2,3])\n",
    "all(a>0)\n",
    "#(a>0).all()"
   ]
  },
  {
   "cell_type": "markdown",
   "id": "4a828fae",
   "metadata": {},
   "source": [
    "# 8. allclose()"
   ]
  },
  {
   "cell_type": "code",
   "execution_count": 93,
   "id": "7ac95d5f",
   "metadata": {},
   "outputs": [
    {
     "data": {
      "text/plain": [
       "'\\nSignature: allclose(a, b, rtol=1e-05, atol=1e-08, equal_nan=False)\\nDocstring:\\nReturns True if two arrays are element-wise equal within a tolerance.\\n\\nThe tolerance values are positive, typically very small numbers.  The\\nrelative difference (`rtol` * abs(`b`)) and the absolute difference\\n`atol` are added together to compare against the absolute difference\\nbetween `a` and `b`.\\n\\na and b: These are the input arrays to be compared.\\nrtol (optional): The relative tolerance parameter. The default value is 1e-05.\\natol (optional): The absolute tolerance parameter. The default value is 1e-08.\\nequal_nan (optional): If True, then NaN values are considered equal. The default value is False.\\n'"
      ]
     },
     "execution_count": 93,
     "metadata": {},
     "output_type": "execute_result"
    }
   ],
   "source": [
    "'''\n",
    "Signature: allclose(a, b, rtol=1e-05, atol=1e-08, equal_nan=False)\n",
    "Docstring:\n",
    "Returns True if two arrays are element-wise equal within a tolerance.\n",
    "\n",
    "The tolerance values are positive, typically very small numbers.  The\n",
    "relative difference (`rtol` * abs(`b`)) and the absolute difference\n",
    "`atol` are added together to compare against the absolute difference\n",
    "between `a` and `b`.\n",
    "\n",
    "a and b: These are the input arrays to be compared.\n",
    "rtol (optional): The relative tolerance parameter. The default value is 1e-05.\n",
    "atol (optional): The absolute tolerance parameter. The default value is 1e-08.\n",
    "equal_nan (optional): If True, then NaN values are considered equal. The default value is False.\n",
    "'''"
   ]
  },
  {
   "cell_type": "code",
   "execution_count": 94,
   "id": "d89bf555",
   "metadata": {},
   "outputs": [
    {
     "data": {
      "text/plain": [
       "True"
      ]
     },
     "execution_count": 94,
     "metadata": {},
     "output_type": "execute_result"
    }
   ],
   "source": [
    "allclose(array([1e10,1e-8]), array([1.00001e10, 1e-9]))"
   ]
  },
  {
   "cell_type": "code",
   "execution_count": 95,
   "id": "23f73353",
   "metadata": {},
   "outputs": [
    {
     "data": {
      "text/plain": [
       "False"
      ]
     },
     "execution_count": 95,
     "metadata": {},
     "output_type": "execute_result"
    }
   ],
   "source": [
    "allclose(array([1,2,3]),array([2,4,6]))"
   ]
  },
  {
   "cell_type": "markdown",
   "id": "64c3480e",
   "metadata": {},
   "source": [
    "\n",
    "9. alltrue()\n"
   ]
  },
  {
   "cell_type": "code",
   "execution_count": 96,
   "id": "4da266ac",
   "metadata": {},
   "outputs": [
    {
     "data": {
      "text/plain": [
       "True"
      ]
     },
     "execution_count": 96,
     "metadata": {},
     "output_type": "execute_result"
    }
   ],
   "source": [
    "a = array([True,True,True])\n",
    "alltrue(a)"
   ]
  },
  {
   "cell_type": "code",
   "execution_count": 97,
   "id": "f631cb49",
   "metadata": {},
   "outputs": [
    {
     "data": {
      "text/plain": [
       "True"
      ]
     },
     "execution_count": 97,
     "metadata": {},
     "output_type": "execute_result"
    }
   ],
   "source": [
    "a= array([4,5,6,7,8])\n",
    "alltrue(a>=4)"
   ]
  },
  {
   "cell_type": "code",
   "execution_count": 98,
   "id": "74da50bc",
   "metadata": {},
   "outputs": [
    {
     "data": {
      "text/plain": [
       "False"
      ]
     },
     "execution_count": 98,
     "metadata": {},
     "output_type": "execute_result"
    }
   ],
   "source": [
    "a= array([1,2,3,4,5,6,7,8])\n",
    "alltrue(a>=4)"
   ]
  },
  {
   "cell_type": "markdown",
   "id": "af14121e",
   "metadata": {},
   "source": [
    "# 10. angle()"
   ]
  },
  {
   "cell_type": "code",
   "execution_count": 99,
   "id": "0e904f64",
   "metadata": {},
   "outputs": [
    {
     "data": {
      "text/plain": [
       "'\\nSignature: angle(z, deg=False)\\nDocstring:\\nReturn the angle of the complex argument.\\n\\nParameters\\n----------\\nz : array_like\\n    A complex number or sequence of complex numbers.\\ndeg : bool, optional\\n    Return angle in degrees if True, radians if False (default).\\n'"
      ]
     },
     "execution_count": 99,
     "metadata": {},
     "output_type": "execute_result"
    }
   ],
   "source": [
    "'''\n",
    "Signature: angle(z, deg=False)\n",
    "Docstring:\n",
    "Return the angle of the complex argument.\n",
    "\n",
    "Parameters\n",
    "----------\n",
    "z : array_like\n",
    "    A complex number or sequence of complex numbers.\n",
    "deg : bool, optional\n",
    "    Return angle in degrees if True, radians if False (default).\n",
    "'''"
   ]
  },
  {
   "cell_type": "code",
   "execution_count": 100,
   "id": "894df376",
   "metadata": {},
   "outputs": [
    {
     "data": {
      "text/plain": [
       "'\\nExamples\\n--------\\n>>> np.angle([1.0, 1.0j, 1+1j])               # in radians\\narray([ 0.        ,  1.57079633,  0.78539816]) # may vary\\n>>> np.angle(1+1j, deg=True)                  # in degrees\\n45.0\\n'"
      ]
     },
     "execution_count": 100,
     "metadata": {},
     "output_type": "execute_result"
    }
   ],
   "source": [
    "'''\n",
    "Examples\n",
    "--------\n",
    ">>> np.angle([1.0, 1.0j, 1+1j])               # in radians\n",
    "array([ 0.        ,  1.57079633,  0.78539816]) # may vary\n",
    ">>> np.angle(1+1j, deg=True)                  # in degrees\n",
    "45.0\n",
    "'''"
   ]
  },
  {
   "cell_type": "code",
   "execution_count": 101,
   "id": "6b665e21",
   "metadata": {},
   "outputs": [
    {
     "data": {
      "text/plain": [
       "1.373400766945016"
      ]
     },
     "execution_count": 101,
     "metadata": {},
     "output_type": "execute_result"
    }
   ],
   "source": [
    "angle(1+5j)    #deg = False ,gives in radians"
   ]
  },
  {
   "cell_type": "code",
   "execution_count": 102,
   "id": "11800003",
   "metadata": {},
   "outputs": [
    {
     "name": "stdout",
     "output_type": "stream",
     "text": [
      "<class 'numpy.float64'>\n"
     ]
    }
   ],
   "source": [
    "print(type(angle(1+5j)))"
   ]
  },
  {
   "cell_type": "code",
   "execution_count": 103,
   "id": "09963f06",
   "metadata": {},
   "outputs": [
    {
     "data": {
      "text/plain": [
       "78.69006752597979"
      ]
     },
     "execution_count": 103,
     "metadata": {},
     "output_type": "execute_result"
    }
   ],
   "source": [
    "angle(1+5j, deg = True)  #deg = True ,gives in degrees"
   ]
  },
  {
   "cell_type": "code",
   "execution_count": 104,
   "id": "fba15275",
   "metadata": {},
   "outputs": [
    {
     "data": {
      "text/plain": [
       "array([0.        , 1.57079633, 0.78539816])"
      ]
     },
     "execution_count": 104,
     "metadata": {},
     "output_type": "execute_result"
    }
   ],
   "source": [
    "angle([1.0, 1.0j, 1+1j])"
   ]
  },
  {
   "cell_type": "code",
   "execution_count": 105,
   "id": "60561e10",
   "metadata": {},
   "outputs": [
    {
     "data": {
      "text/plain": [
       "45.0"
      ]
     },
     "execution_count": 105,
     "metadata": {},
     "output_type": "execute_result"
    }
   ],
   "source": [
    "angle(1+1j, deg= True)"
   ]
  },
  {
   "cell_type": "markdown",
   "id": "1c0ed8bb",
   "metadata": {},
   "source": [
    "# 11. any()"
   ]
  },
  {
   "cell_type": "code",
   "execution_count": 106,
   "id": "2470a63c",
   "metadata": {},
   "outputs": [],
   "source": [
    "from numpy import *"
   ]
  },
  {
   "cell_type": "code",
   "execution_count": 107,
   "id": "53592967",
   "metadata": {},
   "outputs": [
    {
     "data": {
      "text/plain": [
       "True"
      ]
     },
     "execution_count": 107,
     "metadata": {},
     "output_type": "execute_result"
    }
   ],
   "source": [
    "a1 = array([True,False,True,True])\n",
    "a1.any()"
   ]
  },
  {
   "cell_type": "code",
   "execution_count": 108,
   "id": "44124246",
   "metadata": {},
   "outputs": [
    {
     "data": {
      "text/plain": [
       "True"
      ]
     },
     "execution_count": 108,
     "metadata": {},
     "output_type": "execute_result"
    }
   ],
   "source": [
    "any(a1)"
   ]
  },
  {
   "cell_type": "code",
   "execution_count": 109,
   "id": "6cd2b8cd",
   "metadata": {},
   "outputs": [
    {
     "data": {
      "text/plain": [
       "array([1, 2, 3, 4, 5])"
      ]
     },
     "execution_count": 109,
     "metadata": {},
     "output_type": "execute_result"
    }
   ],
   "source": [
    "a2 = array([1,2,3,4,5])\n",
    "a2"
   ]
  },
  {
   "cell_type": "code",
   "execution_count": 110,
   "id": "84ba456f",
   "metadata": {},
   "outputs": [
    {
     "data": {
      "text/plain": [
       "True"
      ]
     },
     "execution_count": 110,
     "metadata": {},
     "output_type": "execute_result"
    }
   ],
   "source": [
    "(a2>=2).any()"
   ]
  },
  {
   "cell_type": "code",
   "execution_count": 111,
   "id": "fdf7de23",
   "metadata": {},
   "outputs": [
    {
     "data": {
      "text/plain": [
       "False"
      ]
     },
     "execution_count": 111,
     "metadata": {},
     "output_type": "execute_result"
    }
   ],
   "source": [
    "(a2>5).any()"
   ]
  },
  {
   "cell_type": "code",
   "execution_count": 112,
   "id": "f41e10c8",
   "metadata": {},
   "outputs": [
    {
     "data": {
      "text/plain": [
       "False"
      ]
     },
     "execution_count": 112,
     "metadata": {},
     "output_type": "execute_result"
    }
   ],
   "source": [
    "(a2<1).any()"
   ]
  },
  {
   "cell_type": "code",
   "execution_count": 113,
   "id": "923af250",
   "metadata": {},
   "outputs": [
    {
     "data": {
      "text/plain": [
       "False"
      ]
     },
     "execution_count": 113,
     "metadata": {},
     "output_type": "execute_result"
    }
   ],
   "source": [
    "any(a2==6)"
   ]
  },
  {
   "cell_type": "markdown",
   "id": "280386c4",
   "metadata": {},
   "source": [
    "# 12. append()"
   ]
  },
  {
   "cell_type": "markdown",
   "id": "41a3d9d6",
   "metadata": {},
   "source": [
    "'''\n",
    "Signature: append(arr, values, axis=None)\n",
    "Docstring:\n",
    "Append values to the end of an array.\n",
    "\n",
    "Examples\n",
    "--------\n",
    ">>> np.append([1, 2, 3], [[4, 5, 6], [7, 8, 9]])\n",
    "array([1, 2, 3, ..., 7, 8, 9])\n",
    "\n",
    "When `axis` is specified, `values` must have the correct shape.\n",
    "\n",
    ">>> np.append([[1, 2, 3], [4, 5, 6]], [[7, 8, 9]], axis=0)\n",
    "array([[1, 2, 3],\n",
    "       [4, 5, 6],\n",
    "       [7, 8, 9]])\n",
    ">>> np.append([[1, 2, 3], [4, 5, 6]], [7, 8, 9], axis=0)\n",
    "Traceback (most recent call last):\n",
    "    ...\n",
    "ValueError: all the input arrays must have same number of dimensions, but\n",
    "the array at index 0 has 2 dimension(s) and the array at index 1 has 1\n",
    "dimension(s)\n",
    "\n",
    "'''"
   ]
  },
  {
   "cell_type": "code",
   "execution_count": 115,
   "id": "3008e378",
   "metadata": {},
   "outputs": [
    {
     "data": {
      "text/plain": [
       "array([10, 20, 30, 40])"
      ]
     },
     "execution_count": 115,
     "metadata": {},
     "output_type": "execute_result"
    }
   ],
   "source": [
    "x = array([10,20,30,40])\n",
    "x"
   ]
  },
  {
   "cell_type": "code",
   "execution_count": 116,
   "id": "14e1d0cc",
   "metadata": {},
   "outputs": [
    {
     "data": {
      "text/plain": [
       "array([10, 20, 30, 40, 50])"
      ]
     },
     "execution_count": 116,
     "metadata": {},
     "output_type": "execute_result"
    }
   ],
   "source": [
    "append(x,50)"
   ]
  },
  {
   "cell_type": "code",
   "execution_count": 117,
   "id": "fb4acffc",
   "metadata": {},
   "outputs": [
    {
     "data": {
      "text/plain": [
       "array([10, 20, 30, 40, 50, 60])"
      ]
     },
     "execution_count": 117,
     "metadata": {},
     "output_type": "execute_result"
    }
   ],
   "source": [
    "append(x,[50,60])"
   ]
  },
  {
   "cell_type": "code",
   "execution_count": 118,
   "id": "ffdbc0e2",
   "metadata": {},
   "outputs": [
    {
     "data": {
      "text/plain": [
       "array([10, 20, 30, 40])"
      ]
     },
     "execution_count": 118,
     "metadata": {},
     "output_type": "execute_result"
    }
   ],
   "source": [
    "x"
   ]
  },
  {
   "cell_type": "code",
   "execution_count": 119,
   "id": "3d8c5004",
   "metadata": {},
   "outputs": [
    {
     "data": {
      "text/plain": [
       "array([10, 20, 30, 40, 70, 10])"
      ]
     },
     "execution_count": 119,
     "metadata": {},
     "output_type": "execute_result"
    }
   ],
   "source": [
    "append(x,[70,10])"
   ]
  },
  {
   "cell_type": "code",
   "execution_count": 120,
   "id": "3bcd07f9",
   "metadata": {},
   "outputs": [
    {
     "data": {
      "text/plain": [
       "array([[1, 2, 3],\n",
       "       [4, 5, 6],\n",
       "       [7, 8, 9]])"
      ]
     },
     "execution_count": 120,
     "metadata": {},
     "output_type": "execute_result"
    }
   ],
   "source": [
    "a = array([[1,2,3],[4,5,6],[7,8,9]])\n",
    "a"
   ]
  },
  {
   "cell_type": "code",
   "execution_count": 121,
   "id": "5a5c4041",
   "metadata": {},
   "outputs": [
    {
     "data": {
      "text/plain": [
       "array([ 1,  2,  3,  4,  5,  6,  7,  8,  9, 10, 11, 12])"
      ]
     },
     "execution_count": 121,
     "metadata": {},
     "output_type": "execute_result"
    }
   ],
   "source": [
    "append(a,[10,11,12])"
   ]
  },
  {
   "cell_type": "code",
   "execution_count": 122,
   "id": "b0dd52c9",
   "metadata": {},
   "outputs": [
    {
     "data": {
      "text/plain": [
       "array([[1, 2, 3],\n",
       "       [4, 5, 6],\n",
       "       [7, 8, 9]])"
      ]
     },
     "execution_count": 122,
     "metadata": {},
     "output_type": "execute_result"
    }
   ],
   "source": [
    "a"
   ]
  },
  {
   "cell_type": "code",
   "execution_count": 123,
   "id": "0de10015",
   "metadata": {},
   "outputs": [
    {
     "data": {
      "text/plain": [
       "array([[ 1,  2,  3],\n",
       "       [ 4,  5,  6],\n",
       "       [ 7,  8,  9],\n",
       "       [10, 11, 12]])"
      ]
     },
     "execution_count": 123,
     "metadata": {},
     "output_type": "execute_result"
    }
   ],
   "source": [
    "append(a, [[10,11,12]], axis=0)"
   ]
  },
  {
   "cell_type": "code",
   "execution_count": 124,
   "id": "3c1bf53d",
   "metadata": {},
   "outputs": [
    {
     "ename": "ValueError",
     "evalue": "all the input array dimensions except for the concatenation axis must match exactly, but along dimension 0, the array at index 0 has size 3 and the array at index 1 has size 1",
     "output_type": "error",
     "traceback": [
      "\u001b[1;31m---------------------------------------------------------------------------\u001b[0m",
      "\u001b[1;31mValueError\u001b[0m                                Traceback (most recent call last)",
      "Cell \u001b[1;32mIn[124], line 1\u001b[0m\n\u001b[1;32m----> 1\u001b[0m append(a, [[\u001b[38;5;241m0\u001b[39m,\u001b[38;5;241m1\u001b[39m,\u001b[38;5;241m6\u001b[39m]], axis \u001b[38;5;241m=\u001b[39m\u001b[38;5;241m1\u001b[39m)\n",
      "File \u001b[1;32m~\\anaconda3\\conda\\Lib\\site-packages\\numpy\\lib\\function_base.py:5617\u001b[0m, in \u001b[0;36mappend\u001b[1;34m(arr, values, axis)\u001b[0m\n\u001b[0;32m   5615\u001b[0m     values \u001b[38;5;241m=\u001b[39m ravel(values)\n\u001b[0;32m   5616\u001b[0m     axis \u001b[38;5;241m=\u001b[39m arr\u001b[38;5;241m.\u001b[39mndim\u001b[38;5;241m-\u001b[39m\u001b[38;5;241m1\u001b[39m\n\u001b[1;32m-> 5617\u001b[0m \u001b[38;5;28;01mreturn\u001b[39;00m concatenate((arr, values), axis\u001b[38;5;241m=\u001b[39maxis)\n",
      "\u001b[1;31mValueError\u001b[0m: all the input array dimensions except for the concatenation axis must match exactly, but along dimension 0, the array at index 0 has size 3 and the array at index 1 has size 1"
     ]
    }
   ],
   "source": [
    "append(a, [[0,1,6]], axis =1)"
   ]
  },
  {
   "cell_type": "code",
   "execution_count": 125,
   "id": "2bedc1ef",
   "metadata": {},
   "outputs": [
    {
     "data": {
      "text/plain": [
       "array([[1, 2, 3, 0],\n",
       "       [4, 5, 6, 1],\n",
       "       [7, 8, 9, 2]])"
      ]
     },
     "execution_count": 125,
     "metadata": {},
     "output_type": "execute_result"
    }
   ],
   "source": [
    "append(a, [[0],[1],[2]], axis=1)"
   ]
  },
  {
   "cell_type": "code",
   "execution_count": 126,
   "id": "83edd8b2",
   "metadata": {},
   "outputs": [
    {
     "data": {
      "text/plain": [
       "array([[1, 2, 3, 2],\n",
       "       [4, 5, 6, 3],\n",
       "       [7, 8, 9, 4]])"
      ]
     },
     "execution_count": 126,
     "metadata": {},
     "output_type": "execute_result"
    }
   ],
   "source": [
    "append(a, [[2],[3],[4]], axis=1)"
   ]
  },
  {
   "cell_type": "code",
   "execution_count": 127,
   "id": "ecfe1439",
   "metadata": {},
   "outputs": [],
   "source": [
    " arr1 = array([1,4,5,9])"
   ]
  },
  {
   "cell_type": "code",
   "execution_count": 128,
   "id": "42c6b3cb",
   "metadata": {},
   "outputs": [
    {
     "data": {
      "text/plain": [
       "array([1, 4, 5, 9])"
      ]
     },
     "execution_count": 128,
     "metadata": {},
     "output_type": "execute_result"
    }
   ],
   "source": [
    "arr1"
   ]
  },
  {
   "cell_type": "code",
   "execution_count": 129,
   "id": "22b7066f",
   "metadata": {},
   "outputs": [
    {
     "data": {
      "text/plain": [
       "array([ 1,  4,  5,  9, 90])"
      ]
     },
     "execution_count": 129,
     "metadata": {},
     "output_type": "execute_result"
    }
   ],
   "source": [
    "append(arr1, 90)"
   ]
  },
  {
   "cell_type": "code",
   "execution_count": 130,
   "id": "6e090e59",
   "metadata": {},
   "outputs": [
    {
     "data": {
      "text/plain": [
       "array([ 1,  4,  5,  9, 10, 20])"
      ]
     },
     "execution_count": 130,
     "metadata": {},
     "output_type": "execute_result"
    }
   ],
   "source": [
    "append(arr1, [10,20])"
   ]
  },
  {
   "cell_type": "code",
   "execution_count": 131,
   "id": "84d89826",
   "metadata": {},
   "outputs": [
    {
     "data": {
      "text/plain": [
       "array([1, 4, 5, 9, 1, 2, 3])"
      ]
     },
     "execution_count": 131,
     "metadata": {},
     "output_type": "execute_result"
    }
   ],
   "source": [
    "append(arr1, [1,2,3], axis=0)"
   ]
  },
  {
   "cell_type": "code",
   "execution_count": 132,
   "id": "253da38e",
   "metadata": {},
   "outputs": [],
   "source": [
    "a2 = array([[1,2,3],[2,3,4]])"
   ]
  },
  {
   "cell_type": "code",
   "execution_count": 133,
   "id": "495e6cfd",
   "metadata": {},
   "outputs": [
    {
     "data": {
      "text/plain": [
       "array([[1, 2, 3],\n",
       "       [2, 3, 4]])"
      ]
     },
     "execution_count": 133,
     "metadata": {},
     "output_type": "execute_result"
    }
   ],
   "source": [
    "a2"
   ]
  },
  {
   "cell_type": "code",
   "execution_count": 134,
   "id": "4f76b9a2",
   "metadata": {},
   "outputs": [],
   "source": [
    "a2 = array([[1,2,3],[2,3,4]])"
   ]
  },
  {
   "cell_type": "code",
   "execution_count": 135,
   "id": "add19771",
   "metadata": {},
   "outputs": [
    {
     "data": {
      "text/plain": [
       "array([[1, 2, 3],\n",
       "       [2, 3, 4],\n",
       "       [5, 6, 7]])"
      ]
     },
     "execution_count": 135,
     "metadata": {},
     "output_type": "execute_result"
    }
   ],
   "source": [
    "append(a2, [[5,6,7]], axis=0)"
   ]
  },
  {
   "cell_type": "code",
   "execution_count": 136,
   "id": "812ff960",
   "metadata": {},
   "outputs": [],
   "source": [
    "m = arange(50).reshape(5,10)"
   ]
  },
  {
   "cell_type": "code",
   "execution_count": 137,
   "id": "f32ca96f",
   "metadata": {},
   "outputs": [
    {
     "data": {
      "text/plain": [
       "array([[ 0,  1,  2,  3,  4,  5,  6,  7,  8,  9],\n",
       "       [10, 11, 12, 13, 14, 15, 16, 17, 18, 19],\n",
       "       [20, 21, 22, 23, 24, 25, 26, 27, 28, 29],\n",
       "       [30, 31, 32, 33, 34, 35, 36, 37, 38, 39],\n",
       "       [40, 41, 42, 43, 44, 45, 46, 47, 48, 49]])"
      ]
     },
     "execution_count": 137,
     "metadata": {},
     "output_type": "execute_result"
    }
   ],
   "source": [
    "m"
   ]
  },
  {
   "cell_type": "code",
   "execution_count": 138,
   "id": "a1a32adb",
   "metadata": {},
   "outputs": [
    {
     "data": {
      "text/plain": [
       "array([[ 0,  1,  2,  3,  4,  5,  6,  7,  8,  9],\n",
       "       [10, 11, 12, 13, 14, 15, 16, 17, 18, 19],\n",
       "       [20, 21, 22, 23, 24, 25, 26, 27, 28, 29],\n",
       "       [30, 31, 32, 33, 34, 35, 36, 37, 38, 39],\n",
       "       [40, 41, 42, 43, 44, 45, 46, 47, 48, 49],\n",
       "       [50, 51, 52, 53, 54, 55, 56, 57, 58, 59]])"
      ]
     },
     "execution_count": 138,
     "metadata": {},
     "output_type": "execute_result"
    }
   ],
   "source": [
    "append(m, [[50,51,52,53,54,55,56,57,58,59]], axis=0)"
   ]
  },
  {
   "cell_type": "markdown",
   "id": "1cb31e40",
   "metadata": {},
   "source": [
    "# 13. apply_along_axis()"
   ]
  },
  {
   "cell_type": "code",
   "execution_count": 139,
   "id": "711035ca",
   "metadata": {},
   "outputs": [],
   "source": [
    "from numpy import *"
   ]
  },
  {
   "cell_type": "code",
   "execution_count": 140,
   "id": "1ca45e59",
   "metadata": {},
   "outputs": [],
   "source": [
    "def myfunc(a):    #function works on 1d arrays, takes average of 1st and last element\n",
    "    return (a[0]+a[-1])/2"
   ]
  },
  {
   "cell_type": "code",
   "execution_count": null,
   "id": "faedca2e",
   "metadata": {},
   "outputs": [],
   "source": []
  },
  {
   "cell_type": "code",
   "execution_count": 141,
   "id": "6b8e7ec4",
   "metadata": {},
   "outputs": [],
   "source": [
    "b = array([[1,2,3],[4,5,6],[7,8,9]])"
   ]
  },
  {
   "cell_type": "code",
   "execution_count": 142,
   "id": "d0a5df50",
   "metadata": {},
   "outputs": [
    {
     "data": {
      "text/plain": [
       "array([[1, 2, 3],\n",
       "       [4, 5, 6],\n",
       "       [7, 8, 9]])"
      ]
     },
     "execution_count": 142,
     "metadata": {},
     "output_type": "execute_result"
    }
   ],
   "source": [
    "b"
   ]
  },
  {
   "cell_type": "code",
   "execution_count": 143,
   "id": "6181a066",
   "metadata": {},
   "outputs": [
    {
     "data": {
      "text/plain": [
       "array([4., 5., 6.])"
      ]
     },
     "execution_count": 143,
     "metadata": {},
     "output_type": "execute_result"
    }
   ],
   "source": [
    "apply_along_axis(myfunc,0,b)   #axis 0 rows means down the column each column"
   ]
  },
  {
   "cell_type": "code",
   "execution_count": 144,
   "id": "f4469b3b",
   "metadata": {},
   "outputs": [
    {
     "data": {
      "text/plain": [
       "array([2., 5., 8.])"
      ]
     },
     "execution_count": 144,
     "metadata": {},
     "output_type": "execute_result"
    }
   ],
   "source": [
    "apply_along_axis(myfunc,1,b) #apply myfunc to each row of b"
   ]
  },
  {
   "cell_type": "code",
   "execution_count": 145,
   "id": "172ebb14",
   "metadata": {},
   "outputs": [],
   "source": [
    "c= array([[1,3,6,7],[2,9,0,3],[2,4,5,6]])"
   ]
  },
  {
   "cell_type": "code",
   "execution_count": 146,
   "id": "7b4e0241",
   "metadata": {},
   "outputs": [
    {
     "data": {
      "text/plain": [
       "array([[1, 3, 6, 7],\n",
       "       [2, 9, 0, 3],\n",
       "       [2, 4, 5, 6]])"
      ]
     },
     "execution_count": 146,
     "metadata": {},
     "output_type": "execute_result"
    }
   ],
   "source": [
    "c"
   ]
  },
  {
   "cell_type": "code",
   "execution_count": 147,
   "id": "fd9203f0",
   "metadata": {},
   "outputs": [
    {
     "data": {
      "text/plain": [
       "array([1.5, 3.5, 5.5, 6.5])"
      ]
     },
     "execution_count": 147,
     "metadata": {},
     "output_type": "execute_result"
    }
   ],
   "source": [
    "apply_along_axis(myfunc,0,c)"
   ]
  },
  {
   "cell_type": "code",
   "execution_count": 148,
   "id": "39131081",
   "metadata": {},
   "outputs": [],
   "source": [
    "def myfun(x):\n",
    "    return x.max()"
   ]
  },
  {
   "cell_type": "code",
   "execution_count": 149,
   "id": "2f1a925a",
   "metadata": {},
   "outputs": [
    {
     "data": {
      "text/plain": [
       "array([[1, 3, 6, 7],\n",
       "       [2, 9, 0, 3],\n",
       "       [2, 4, 5, 6]])"
      ]
     },
     "execution_count": 149,
     "metadata": {},
     "output_type": "execute_result"
    }
   ],
   "source": [
    "c"
   ]
  },
  {
   "cell_type": "code",
   "execution_count": 150,
   "id": "65ad9f8e",
   "metadata": {},
   "outputs": [
    {
     "data": {
      "text/plain": [
       "array([2, 9, 6, 7])"
      ]
     },
     "execution_count": 150,
     "metadata": {},
     "output_type": "execute_result"
    }
   ],
   "source": [
    "apply_along_axis(myfun,0,c)"
   ]
  },
  {
   "cell_type": "code",
   "execution_count": 151,
   "id": "9f7f67c6",
   "metadata": {},
   "outputs": [
    {
     "data": {
      "text/plain": [
       "array([7, 9, 6])"
      ]
     },
     "execution_count": 151,
     "metadata": {},
     "output_type": "execute_result"
    }
   ],
   "source": [
    "apply_along_axis(myfun,1,c)"
   ]
  },
  {
   "cell_type": "markdown",
   "id": "a6be5690",
   "metadata": {},
   "source": [
    "# 14. apply_over_axes"
   ]
  },
  {
   "cell_type": "code",
   "execution_count": 152,
   "id": "38833035",
   "metadata": {},
   "outputs": [],
   "source": [
    "a1 = arange(24).reshape(2,3,4)"
   ]
  },
  {
   "cell_type": "code",
   "execution_count": 153,
   "id": "e4eb4ae7",
   "metadata": {},
   "outputs": [
    {
     "data": {
      "text/plain": [
       "array([[[ 0,  1,  2,  3],\n",
       "        [ 4,  5,  6,  7],\n",
       "        [ 8,  9, 10, 11]],\n",
       "\n",
       "       [[12, 13, 14, 15],\n",
       "        [16, 17, 18, 19],\n",
       "        [20, 21, 22, 23]]])"
      ]
     },
     "execution_count": 153,
     "metadata": {},
     "output_type": "execute_result"
    }
   ],
   "source": [
    "a1"
   ]
  },
  {
   "cell_type": "code",
   "execution_count": 154,
   "id": "192ed61e",
   "metadata": {},
   "outputs": [
    {
     "data": {
      "text/plain": [
       "array([[[ 60],\n",
       "        [ 92],\n",
       "        [124]]])"
      ]
     },
     "execution_count": 154,
     "metadata": {},
     "output_type": "execute_result"
    }
   ],
   "source": [
    "apply_over_axes(sum,a1,[0,2])"
   ]
  },
  {
   "cell_type": "code",
   "execution_count": 155,
   "id": "10f3d8ef",
   "metadata": {},
   "outputs": [
    {
     "data": {
      "text/plain": [
       "array([[[-2, -1,  0,  1],\n",
       "        [ 2,  3,  4,  5],\n",
       "        [ 6,  7,  8,  9]],\n",
       "\n",
       "       [[10, 11, 12, 13],\n",
       "        [14, 15, 16, 17],\n",
       "        [18, 19, 20, 21]]])"
      ]
     },
     "execution_count": 155,
     "metadata": {},
     "output_type": "execute_result"
    }
   ],
   "source": [
    "apply_over_axes(subtract,a1,[0,2])"
   ]
  },
  {
   "cell_type": "markdown",
   "id": "a2a1f370",
   "metadata": {},
   "source": [
    "# 15. arange()"
   ]
  },
  {
   "cell_type": "code",
   "execution_count": 156,
   "id": "a472f383",
   "metadata": {},
   "outputs": [
    {
     "data": {
      "text/plain": [
       "array([ 0,  1,  2,  3,  4,  5,  6,  7,  8,  9, 10, 11, 12, 13, 14])"
      ]
     },
     "execution_count": 156,
     "metadata": {},
     "output_type": "execute_result"
    }
   ],
   "source": [
    "arange(15)"
   ]
  },
  {
   "cell_type": "code",
   "execution_count": 157,
   "id": "915b7a38",
   "metadata": {},
   "outputs": [
    {
     "data": {
      "text/plain": [
       "array([0., 1., 2., 3., 4.])"
      ]
     },
     "execution_count": 157,
     "metadata": {},
     "output_type": "execute_result"
    }
   ],
   "source": [
    "arange(5.0)"
   ]
  },
  {
   "cell_type": "code",
   "execution_count": 158,
   "id": "5e2cb571",
   "metadata": {},
   "outputs": [
    {
     "data": {
      "text/plain": [
       "array([ 0,  1,  2,  3,  4,  5,  6,  7,  8,  9, 10, 11, 12, 13, 14, 15, 16,\n",
       "       17, 18, 19])"
      ]
     },
     "execution_count": 158,
     "metadata": {},
     "output_type": "execute_result"
    }
   ],
   "source": [
    "arange(20, dtype=int)"
   ]
  },
  {
   "cell_type": "code",
   "execution_count": 159,
   "id": "85cb6c60",
   "metadata": {},
   "outputs": [
    {
     "data": {
      "text/plain": [
       "array([2, 3, 4, 5, 6, 7, 8, 9])"
      ]
     },
     "execution_count": 159,
     "metadata": {},
     "output_type": "execute_result"
    }
   ],
   "source": [
    "arange(2,10)"
   ]
  },
  {
   "cell_type": "code",
   "execution_count": 160,
   "id": "48d31051",
   "metadata": {},
   "outputs": [
    {
     "data": {
      "text/plain": [
       "array([10, 15, 20, 25])"
      ]
     },
     "execution_count": 160,
     "metadata": {},
     "output_type": "execute_result"
    }
   ],
   "source": [
    "arange(10,30,5)"
   ]
  },
  {
   "cell_type": "markdown",
   "id": "bc7924c4",
   "metadata": {},
   "source": [
    "# 16. arccos()"
   ]
  },
  {
   "cell_type": "code",
   "execution_count": 161,
   "id": "3f1cd8e0",
   "metadata": {},
   "outputs": [
    {
     "data": {
      "text/plain": [
       "'\\nTrigonometric inverse cosine, element-wise.\\n'"
      ]
     },
     "execution_count": 161,
     "metadata": {},
     "output_type": "execute_result"
    }
   ],
   "source": [
    "'''\n",
    "Trigonometric inverse cosine, element-wise.\n",
    "'''"
   ]
  },
  {
   "cell_type": "code",
   "execution_count": 162,
   "id": "2603b1fc",
   "metadata": {},
   "outputs": [
    {
     "data": {
      "text/plain": [
       "array([0.        , 1.57079633])"
      ]
     },
     "execution_count": 162,
     "metadata": {},
     "output_type": "execute_result"
    }
   ],
   "source": [
    "arccos(array([1,0]))"
   ]
  },
  {
   "cell_type": "code",
   "execution_count": 163,
   "id": "1c464728",
   "metadata": {},
   "outputs": [
    {
     "data": {
      "text/plain": [
       "array([1.57079633, 0.        ])"
      ]
     },
     "execution_count": 163,
     "metadata": {},
     "output_type": "execute_result"
    }
   ],
   "source": [
    "arccos(array([0,1]))"
   ]
  },
  {
   "cell_type": "markdown",
   "id": "bc6b39e1",
   "metadata": {},
   "source": [
    "# 17. arccosh()"
   ]
  },
  {
   "cell_type": "code",
   "execution_count": 164,
   "id": "6778e026",
   "metadata": {},
   "outputs": [
    {
     "data": {
      "text/plain": [
       "array([1.65745445, 2.99322285])"
      ]
     },
     "execution_count": 164,
     "metadata": {},
     "output_type": "execute_result"
    }
   ],
   "source": [
    "arccosh(array([e,10.0]))  #inverse hyperbolic cosine"
   ]
  },
  {
   "cell_type": "code",
   "execution_count": 165,
   "id": "215fb768",
   "metadata": {},
   "outputs": [
    {
     "data": {
      "text/plain": [
       "array([1.65745445, 3.40008441])"
      ]
     },
     "execution_count": 165,
     "metadata": {},
     "output_type": "execute_result"
    }
   ],
   "source": [
    "arccosh(array([e,15.0]))"
   ]
  },
  {
   "cell_type": "markdown",
   "id": "dbe7bbec",
   "metadata": {},
   "source": [
    "# 18. arcsin()"
   ]
  },
  {
   "cell_type": "code",
   "execution_count": 166,
   "id": "da0f0cbe",
   "metadata": {},
   "outputs": [],
   "source": [
    "#inverse sine"
   ]
  },
  {
   "cell_type": "code",
   "execution_count": 167,
   "id": "942cd86a",
   "metadata": {},
   "outputs": [
    {
     "data": {
      "text/plain": [
       "array([1.57079633, 0.        ])"
      ]
     },
     "execution_count": 167,
     "metadata": {},
     "output_type": "execute_result"
    }
   ],
   "source": [
    "\n",
    "arcsin(array([1,0]))"
   ]
  },
  {
   "cell_type": "code",
   "execution_count": 168,
   "id": "4f1c352c",
   "metadata": {},
   "outputs": [
    {
     "data": {
      "text/plain": [
       "array([0.        , 1.57079633])"
      ]
     },
     "execution_count": 168,
     "metadata": {},
     "output_type": "execute_result"
    }
   ],
   "source": [
    "arcsin(array([0,1]))"
   ]
  },
  {
   "cell_type": "code",
   "execution_count": 169,
   "id": "7ed2ecd3",
   "metadata": {},
   "outputs": [
    {
     "data": {
      "text/plain": [
       "array([0.52359878, 0.52359878])"
      ]
     },
     "execution_count": 169,
     "metadata": {},
     "output_type": "execute_result"
    }
   ],
   "source": [
    "arcsin(array([0.5,0.5]))"
   ]
  },
  {
   "cell_type": "markdown",
   "id": "f2c55f06",
   "metadata": {},
   "source": [
    "# 19. arcsinh()"
   ]
  },
  {
   "cell_type": "code",
   "execution_count": 170,
   "id": "4b9910fa",
   "metadata": {},
   "outputs": [],
   "source": [
    "#inverse hyperbolic sine"
   ]
  },
  {
   "cell_type": "code",
   "execution_count": 171,
   "id": "94081944",
   "metadata": {},
   "outputs": [
    {
     "data": {
      "text/plain": [
       "array([1.72538256, 0.88137359])"
      ]
     },
     "execution_count": 171,
     "metadata": {},
     "output_type": "execute_result"
    }
   ],
   "source": [
    "arcsinh(array([e,1]))"
   ]
  },
  {
   "cell_type": "code",
   "execution_count": 172,
   "id": "07b0cf30",
   "metadata": {},
   "outputs": [
    {
     "data": {
      "text/plain": [
       "array([1.72538256, 2.99822295])"
      ]
     },
     "execution_count": 172,
     "metadata": {},
     "output_type": "execute_result"
    }
   ],
   "source": [
    "arcsinh(array([e,10.0]))"
   ]
  },
  {
   "cell_type": "code",
   "execution_count": 173,
   "id": "04a732fc",
   "metadata": {},
   "outputs": [
    {
     "data": {
      "text/plain": [
       "array([1.72538256, 3.68950387])"
      ]
     },
     "execution_count": 173,
     "metadata": {},
     "output_type": "execute_result"
    }
   ],
   "source": [
    "arcsinh(array([e,20.0]))"
   ]
  },
  {
   "cell_type": "markdown",
   "id": "c3d69ff3",
   "metadata": {},
   "source": [
    "# 20. arctan()"
   ]
  },
  {
   "cell_type": "code",
   "execution_count": 174,
   "id": "cbf7ed0e",
   "metadata": {},
   "outputs": [],
   "source": [
    "#Trigonometric inverse tangent, element-wise."
   ]
  },
  {
   "cell_type": "code",
   "execution_count": 175,
   "id": "666b33c0",
   "metadata": {},
   "outputs": [
    {
     "data": {
      "text/plain": [
       "array([0.78539816, 0.46364761])"
      ]
     },
     "execution_count": 175,
     "metadata": {},
     "output_type": "execute_result"
    }
   ],
   "source": [
    "arctan(array([1,0.5]))"
   ]
  },
  {
   "cell_type": "code",
   "execution_count": 176,
   "id": "5c41d81b",
   "metadata": {},
   "outputs": [
    {
     "data": {
      "text/plain": [
       "array([0.78539816, 0.78539816])"
      ]
     },
     "execution_count": 176,
     "metadata": {},
     "output_type": "execute_result"
    }
   ],
   "source": [
    "arctan(array([1,1]))"
   ]
  },
  {
   "cell_type": "markdown",
   "id": "2622dd3e",
   "metadata": {},
   "source": [
    "# 21. arctan2()\n"
   ]
  },
  {
   "cell_type": "code",
   "execution_count": 177,
   "id": "da5b9ea2",
   "metadata": {},
   "outputs": [
    {
     "data": {
      "text/plain": [
       "array([1.57079633, 0.        ])"
      ]
     },
     "execution_count": 177,
     "metadata": {},
     "output_type": "execute_result"
    }
   ],
   "source": [
    "arctan2(array([1,0]),array([0,1]))"
   ]
  },
  {
   "cell_type": "markdown",
   "id": "b4654796",
   "metadata": {},
   "source": [
    "# 22. arctanh()\n"
   ]
  },
  {
   "cell_type": "code",
   "execution_count": 178,
   "id": "409e68d7",
   "metadata": {},
   "outputs": [
    {
     "data": {
      "text/plain": [
       "'\\nInverse hyperbolic tangent element-wise.\\n'"
      ]
     },
     "execution_count": 178,
     "metadata": {},
     "output_type": "execute_result"
    }
   ],
   "source": [
    "'''\n",
    "Inverse hyperbolic tangent element-wise.\n",
    "'''"
   ]
  },
  {
   "cell_type": "code",
   "execution_count": 179,
   "id": "762930c1",
   "metadata": {},
   "outputs": [
    {
     "data": {
      "text/plain": [
       "array([ 0.        , -0.54930614])"
      ]
     },
     "execution_count": 179,
     "metadata": {},
     "output_type": "execute_result"
    }
   ],
   "source": [
    "arctanh(array([0,-0.5]))"
   ]
  },
  {
   "cell_type": "markdown",
   "id": "23efdab3",
   "metadata": {},
   "source": [
    "# 23. argmax()\n"
   ]
  },
  {
   "cell_type": "code",
   "execution_count": 180,
   "id": "07abf604",
   "metadata": {},
   "outputs": [
    {
     "data": {
      "text/plain": [
       "array([10, 20, 30, 40, 50, 60])"
      ]
     },
     "execution_count": 180,
     "metadata": {},
     "output_type": "execute_result"
    }
   ],
   "source": [
    "a = array([10,20,30,40,50,60])\n",
    "a"
   ]
  },
  {
   "cell_type": "code",
   "execution_count": 181,
   "id": "a503ceac",
   "metadata": {},
   "outputs": [],
   "source": [
    "maxindex = a.argmax()"
   ]
  },
  {
   "cell_type": "code",
   "execution_count": 182,
   "id": "eb29bed4",
   "metadata": {},
   "outputs": [
    {
     "data": {
      "text/plain": [
       "5"
      ]
     },
     "execution_count": 182,
     "metadata": {},
     "output_type": "execute_result"
    }
   ],
   "source": [
    "maxindex"
   ]
  },
  {
   "cell_type": "code",
   "execution_count": 183,
   "id": "c24c4a9f",
   "metadata": {},
   "outputs": [
    {
     "data": {
      "text/plain": [
       "60"
      ]
     },
     "execution_count": 183,
     "metadata": {},
     "output_type": "execute_result"
    }
   ],
   "source": [
    "a[maxindex]"
   ]
  },
  {
   "cell_type": "code",
   "execution_count": 184,
   "id": "b5a80978",
   "metadata": {},
   "outputs": [],
   "source": [
    "a1 = array([[1,4,9],[23,4,5]])"
   ]
  },
  {
   "cell_type": "code",
   "execution_count": 185,
   "id": "00d963b3",
   "metadata": {},
   "outputs": [
    {
     "data": {
      "text/plain": [
       "array([[ 1,  4,  9],\n",
       "       [23,  4,  5]])"
      ]
     },
     "execution_count": 185,
     "metadata": {},
     "output_type": "execute_result"
    }
   ],
   "source": [
    "a1"
   ]
  },
  {
   "cell_type": "code",
   "execution_count": 186,
   "id": "82efb915",
   "metadata": {},
   "outputs": [],
   "source": [
    "maxindex = a1.argmax()"
   ]
  },
  {
   "cell_type": "code",
   "execution_count": 187,
   "id": "fbc1f84e",
   "metadata": {},
   "outputs": [
    {
     "data": {
      "text/plain": [
       "3"
      ]
     },
     "execution_count": 187,
     "metadata": {},
     "output_type": "execute_result"
    }
   ],
   "source": [
    "maxindex"
   ]
  },
  {
   "cell_type": "code",
   "execution_count": 188,
   "id": "9d7f7960",
   "metadata": {},
   "outputs": [
    {
     "data": {
      "text/plain": [
       "23"
      ]
     },
     "execution_count": 188,
     "metadata": {},
     "output_type": "execute_result"
    }
   ],
   "source": [
    "#a1[maxindex]\n",
    "a1.ravel()[maxindex]"
   ]
  },
  {
   "cell_type": "code",
   "execution_count": 189,
   "id": "3c6a3c13",
   "metadata": {},
   "outputs": [],
   "source": [
    "a2 = array([[10,50,30],[60,20,40]])"
   ]
  },
  {
   "cell_type": "code",
   "execution_count": 190,
   "id": "b902aac6",
   "metadata": {},
   "outputs": [],
   "source": [
    "maxindex = a2.argmax()"
   ]
  },
  {
   "cell_type": "code",
   "execution_count": 191,
   "id": "6c63254f",
   "metadata": {},
   "outputs": [
    {
     "data": {
      "text/plain": [
       "3"
      ]
     },
     "execution_count": 191,
     "metadata": {},
     "output_type": "execute_result"
    }
   ],
   "source": [
    "maxindex"
   ]
  },
  {
   "cell_type": "code",
   "execution_count": 192,
   "id": "ece6ea9c",
   "metadata": {},
   "outputs": [
    {
     "data": {
      "text/plain": [
       "60"
      ]
     },
     "execution_count": 192,
     "metadata": {},
     "output_type": "execute_result"
    }
   ],
   "source": [
    "a2.ravel()[maxindex]"
   ]
  },
  {
   "cell_type": "code",
   "execution_count": 193,
   "id": "afc2e563",
   "metadata": {},
   "outputs": [
    {
     "ename": "IndexError",
     "evalue": "index 3 is out of bounds for axis 0 with size 2",
     "output_type": "error",
     "traceback": [
      "\u001b[1;31m---------------------------------------------------------------------------\u001b[0m",
      "\u001b[1;31mIndexError\u001b[0m                                Traceback (most recent call last)",
      "Cell \u001b[1;32mIn[193], line 1\u001b[0m\n\u001b[1;32m----> 1\u001b[0m a2[maxindex]\n",
      "\u001b[1;31mIndexError\u001b[0m: index 3 is out of bounds for axis 0 with size 2"
     ]
    }
   ],
   "source": [
    "a2[maxindex]"
   ]
  },
  {
   "cell_type": "code",
   "execution_count": 194,
   "id": "9939f6c7",
   "metadata": {},
   "outputs": [],
   "source": [
    "b1 =array([[1,5,10],[29,10,2]])"
   ]
  },
  {
   "cell_type": "code",
   "execution_count": 195,
   "id": "ef55f886",
   "metadata": {},
   "outputs": [
    {
     "data": {
      "text/plain": [
       "array([[ 1,  5, 10],\n",
       "       [29, 10,  2]])"
      ]
     },
     "execution_count": 195,
     "metadata": {},
     "output_type": "execute_result"
    }
   ],
   "source": [
    "b1"
   ]
  },
  {
   "cell_type": "code",
   "execution_count": 196,
   "id": "8237be21",
   "metadata": {},
   "outputs": [],
   "source": [
    "maxindex = b1.argmax()"
   ]
  },
  {
   "cell_type": "code",
   "execution_count": 197,
   "id": "ff41e0c6",
   "metadata": {},
   "outputs": [
    {
     "data": {
      "text/plain": [
       "3"
      ]
     },
     "execution_count": 197,
     "metadata": {},
     "output_type": "execute_result"
    }
   ],
   "source": [
    "maxindex"
   ]
  },
  {
   "cell_type": "code",
   "execution_count": 198,
   "id": "83f41c92",
   "metadata": {},
   "outputs": [
    {
     "data": {
      "text/plain": [
       "array([ 1,  5, 10, 29, 10,  2])"
      ]
     },
     "execution_count": 198,
     "metadata": {},
     "output_type": "execute_result"
    }
   ],
   "source": [
    "b1.ravel()"
   ]
  },
  {
   "cell_type": "code",
   "execution_count": 199,
   "id": "25233912",
   "metadata": {},
   "outputs": [
    {
     "data": {
      "text/plain": [
       "29"
      ]
     },
     "execution_count": 199,
     "metadata": {},
     "output_type": "execute_result"
    }
   ],
   "source": [
    "b1.ravel()[maxindex]"
   ]
  },
  {
   "cell_type": "code",
   "execution_count": 200,
   "id": "1eabd9e2",
   "metadata": {},
   "outputs": [
    {
     "data": {
      "text/plain": [
       "array([[ 1,  5, 10],\n",
       "       [29, 10,  2]])"
      ]
     },
     "execution_count": 200,
     "metadata": {},
     "output_type": "execute_result"
    }
   ],
   "source": [
    "b1"
   ]
  },
  {
   "cell_type": "code",
   "execution_count": 201,
   "id": "97768d11",
   "metadata": {},
   "outputs": [
    {
     "data": {
      "text/plain": [
       "array([1, 1, 0], dtype=int64)"
      ]
     },
     "execution_count": 201,
     "metadata": {},
     "output_type": "execute_result"
    }
   ],
   "source": [
    "b1.argmax(axis=0)"
   ]
  },
  {
   "cell_type": "code",
   "execution_count": 202,
   "id": "f92d5a3e",
   "metadata": {},
   "outputs": [
    {
     "data": {
      "text/plain": [
       "array([2, 0], dtype=int64)"
      ]
     },
     "execution_count": 202,
     "metadata": {},
     "output_type": "execute_result"
    }
   ],
   "source": [
    "b1.argmax(axis=1)"
   ]
  },
  {
   "cell_type": "code",
   "execution_count": 203,
   "id": "6e530630",
   "metadata": {},
   "outputs": [
    {
     "data": {
      "text/plain": [
       "array([2, 0], dtype=int64)"
      ]
     },
     "execution_count": 203,
     "metadata": {},
     "output_type": "execute_result"
    }
   ],
   "source": [
    "argmax(b1, axis=1)"
   ]
  },
  {
   "cell_type": "code",
   "execution_count": null,
   "id": "525c872e",
   "metadata": {},
   "outputs": [],
   "source": []
  },
  {
   "cell_type": "markdown",
   "id": "a8d04dc7",
   "metadata": {},
   "source": [
    "# 24. argmin()\n"
   ]
  },
  {
   "cell_type": "code",
   "execution_count": 204,
   "id": "d429c6db",
   "metadata": {},
   "outputs": [
    {
     "data": {
      "text/plain": [
       "array([10, 20, 30, 40, 50, 60])"
      ]
     },
     "execution_count": 204,
     "metadata": {},
     "output_type": "execute_result"
    }
   ],
   "source": [
    "a"
   ]
  },
  {
   "cell_type": "code",
   "execution_count": 205,
   "id": "575dda6b",
   "metadata": {},
   "outputs": [],
   "source": [
    "minindex = a.argmin()"
   ]
  },
  {
   "cell_type": "code",
   "execution_count": 206,
   "id": "3b94a56f",
   "metadata": {},
   "outputs": [
    {
     "data": {
      "text/plain": [
       "0"
      ]
     },
     "execution_count": 206,
     "metadata": {},
     "output_type": "execute_result"
    }
   ],
   "source": [
    "\n",
    "minindex"
   ]
  },
  {
   "cell_type": "code",
   "execution_count": 207,
   "id": "c196d815",
   "metadata": {},
   "outputs": [
    {
     "data": {
      "text/plain": [
       "10"
      ]
     },
     "execution_count": 207,
     "metadata": {},
     "output_type": "execute_result"
    }
   ],
   "source": [
    "a[minindex]"
   ]
  },
  {
   "cell_type": "code",
   "execution_count": 208,
   "id": "ebe47ffd",
   "metadata": {},
   "outputs": [
    {
     "data": {
      "text/plain": [
       "array([[ 1,  4,  9],\n",
       "       [23,  4,  5]])"
      ]
     },
     "execution_count": 208,
     "metadata": {},
     "output_type": "execute_result"
    }
   ],
   "source": [
    "a1"
   ]
  },
  {
   "cell_type": "code",
   "execution_count": 209,
   "id": "e5e83c67",
   "metadata": {},
   "outputs": [],
   "source": [
    "minindex = a1.argmin()"
   ]
  },
  {
   "cell_type": "code",
   "execution_count": 210,
   "id": "4639b422",
   "metadata": {},
   "outputs": [
    {
     "data": {
      "text/plain": [
       "0"
      ]
     },
     "execution_count": 210,
     "metadata": {},
     "output_type": "execute_result"
    }
   ],
   "source": [
    "minindex"
   ]
  },
  {
   "cell_type": "code",
   "execution_count": 211,
   "id": "54b8f468",
   "metadata": {},
   "outputs": [
    {
     "data": {
      "text/plain": [
       "array([1, 4, 9])"
      ]
     },
     "execution_count": 211,
     "metadata": {},
     "output_type": "execute_result"
    }
   ],
   "source": [
    "a1[minindex]"
   ]
  },
  {
   "cell_type": "code",
   "execution_count": 212,
   "id": "6e534ddf",
   "metadata": {},
   "outputs": [
    {
     "data": {
      "text/plain": [
       "1"
      ]
     },
     "execution_count": 212,
     "metadata": {},
     "output_type": "execute_result"
    }
   ],
   "source": [
    "a1.ravel()[minindex]"
   ]
  },
  {
   "cell_type": "code",
   "execution_count": 213,
   "id": "14ee030d",
   "metadata": {},
   "outputs": [
    {
     "data": {
      "text/plain": [
       "array([[ 1,  4,  9],\n",
       "       [23,  4,  5]])"
      ]
     },
     "execution_count": 213,
     "metadata": {},
     "output_type": "execute_result"
    }
   ],
   "source": [
    "a1"
   ]
  },
  {
   "cell_type": "code",
   "execution_count": 214,
   "id": "ca997739",
   "metadata": {},
   "outputs": [
    {
     "data": {
      "text/plain": [
       "array([0, 0, 1], dtype=int64)"
      ]
     },
     "execution_count": 214,
     "metadata": {},
     "output_type": "execute_result"
    }
   ],
   "source": [
    "a1.argmin(axis=0)"
   ]
  },
  {
   "cell_type": "code",
   "execution_count": 215,
   "id": "bbcd8247",
   "metadata": {},
   "outputs": [
    {
     "data": {
      "text/plain": [
       "array([0, 1], dtype=int64)"
      ]
     },
     "execution_count": 215,
     "metadata": {},
     "output_type": "execute_result"
    }
   ],
   "source": [
    "a1.argmin(axis=1)"
   ]
  },
  {
   "cell_type": "markdown",
   "id": "b2784000",
   "metadata": {},
   "source": [
    "# 25. argsort()\n"
   ]
  },
  {
   "cell_type": "code",
   "execution_count": 216,
   "id": "8e00b401",
   "metadata": {},
   "outputs": [],
   "source": [
    "from numpy import *"
   ]
  },
  {
   "cell_type": "code",
   "execution_count": 217,
   "id": "d7a6a373",
   "metadata": {},
   "outputs": [],
   "source": [
    "c1 = array([2,7,0,3,10])"
   ]
  },
  {
   "cell_type": "code",
   "execution_count": 218,
   "id": "77940103",
   "metadata": {},
   "outputs": [],
   "source": [
    "ind = c1.argsort()"
   ]
  },
  {
   "cell_type": "code",
   "execution_count": 219,
   "id": "725545ea",
   "metadata": {},
   "outputs": [
    {
     "data": {
      "text/plain": [
       "array([2, 0, 3, 1, 4], dtype=int64)"
      ]
     },
     "execution_count": 219,
     "metadata": {},
     "output_type": "execute_result"
    }
   ],
   "source": [
    "ind"
   ]
  },
  {
   "cell_type": "code",
   "execution_count": 220,
   "id": "86c4f586",
   "metadata": {},
   "outputs": [
    {
     "data": {
      "text/plain": [
       "array([ 0,  2,  3,  7, 10])"
      ]
     },
     "execution_count": 220,
     "metadata": {},
     "output_type": "execute_result"
    }
   ],
   "source": [
    "c1[ind]"
   ]
  },
  {
   "cell_type": "code",
   "execution_count": 221,
   "id": "d5bbad94",
   "metadata": {},
   "outputs": [],
   "source": [
    "c1.sort()"
   ]
  },
  {
   "cell_type": "code",
   "execution_count": 222,
   "id": "3e977547",
   "metadata": {},
   "outputs": [
    {
     "data": {
      "text/plain": [
       "array([ 0,  2,  3,  7, 10])"
      ]
     },
     "execution_count": 222,
     "metadata": {},
     "output_type": "execute_result"
    }
   ],
   "source": [
    "c1"
   ]
  },
  {
   "cell_type": "code",
   "execution_count": 223,
   "id": "48d9aa00",
   "metadata": {},
   "outputs": [],
   "source": [
    "# algorithm options are 'quicksort', 'mergesort' and 'heapsort'\n",
    "ind = c1.argsort(kind = 'heap')"
   ]
  },
  {
   "cell_type": "code",
   "execution_count": 224,
   "id": "3cd87681",
   "metadata": {},
   "outputs": [
    {
     "data": {
      "text/plain": [
       "array([ 0,  2,  3,  7, 10])"
      ]
     },
     "execution_count": 224,
     "metadata": {},
     "output_type": "execute_result"
    }
   ],
   "source": [
    "c1[ind]"
   ]
  },
  {
   "cell_type": "code",
   "execution_count": 225,
   "id": "5c78b8cf",
   "metadata": {},
   "outputs": [
    {
     "data": {
      "text/plain": [
       "array([[8, 2, 7],\n",
       "       [2, 0, 1]])"
      ]
     },
     "execution_count": 225,
     "metadata": {},
     "output_type": "execute_result"
    }
   ],
   "source": [
    "a= array([[8,2,7],[2,0,1]])\n",
    "a"
   ]
  },
  {
   "cell_type": "code",
   "execution_count": 226,
   "id": "a92f8e68",
   "metadata": {},
   "outputs": [],
   "source": [
    "ind = a.argsort()"
   ]
  },
  {
   "cell_type": "code",
   "execution_count": 227,
   "id": "7ad558cd",
   "metadata": {},
   "outputs": [
    {
     "data": {
      "text/plain": [
       "array([[1, 2, 0],\n",
       "       [1, 2, 0]], dtype=int64)"
      ]
     },
     "execution_count": 227,
     "metadata": {},
     "output_type": "execute_result"
    }
   ],
   "source": [
    "ind"
   ]
  },
  {
   "cell_type": "code",
   "execution_count": 228,
   "id": "b9105929",
   "metadata": {},
   "outputs": [
    {
     "data": {
      "text/plain": [
       "array([[1, 1, 1],\n",
       "       [0, 0, 0]], dtype=int64)"
      ]
     },
     "execution_count": 228,
     "metadata": {},
     "output_type": "execute_result"
    }
   ],
   "source": [
    "ind = a.argsort(axis =0)   #sort columns\n",
    "ind"
   ]
  },
  {
   "cell_type": "code",
   "execution_count": 229,
   "id": "62f75bf0",
   "metadata": {},
   "outputs": [
    {
     "data": {
      "text/plain": [
       "array([[2, 0, 1],\n",
       "       [8, 2, 7]])"
      ]
     },
     "execution_count": 229,
     "metadata": {},
     "output_type": "execute_result"
    }
   ],
   "source": [
    " # 2-D arrays need fancy indexing if you want to sort them.\n",
    "a[ind,[[0,1,2],[0,1,2]]]"
   ]
  },
  {
   "cell_type": "code",
   "execution_count": 230,
   "id": "364c91ca",
   "metadata": {},
   "outputs": [
    {
     "data": {
      "text/plain": [
       "array([[1, 2, 0],\n",
       "       [1, 2, 0]], dtype=int64)"
      ]
     },
     "execution_count": 230,
     "metadata": {},
     "output_type": "execute_result"
    }
   ],
   "source": [
    "ind = a.argsort(axis =1)   #sort rows\n",
    "ind"
   ]
  },
  {
   "cell_type": "code",
   "execution_count": 231,
   "id": "613cd20a",
   "metadata": {},
   "outputs": [
    {
     "ename": "IndexError",
     "evalue": "index 2 is out of bounds for axis 0 with size 2",
     "output_type": "error",
     "traceback": [
      "\u001b[1;31m---------------------------------------------------------------------------\u001b[0m",
      "\u001b[1;31mIndexError\u001b[0m                                Traceback (most recent call last)",
      "Cell \u001b[1;32mIn[231], line 2\u001b[0m\n\u001b[0;32m      1\u001b[0m \u001b[38;5;66;03m# 2-D arrays need fancy indexing if you want to sort them.\u001b[39;00m\n\u001b[1;32m----> 2\u001b[0m a[ind,[[\u001b[38;5;241m0\u001b[39m,\u001b[38;5;241m1\u001b[39m,\u001b[38;5;241m2\u001b[39m],[\u001b[38;5;241m0\u001b[39m,\u001b[38;5;241m1\u001b[39m,\u001b[38;5;241m2\u001b[39m]]]\n",
      "\u001b[1;31mIndexError\u001b[0m: index 2 is out of bounds for axis 0 with size 2"
     ]
    }
   ],
   "source": [
    " # 2-D arrays need fancy indexing if you want to sort them.\n",
    "a[ind,[[0,1,2],[0,1,2]]]"
   ]
  },
  {
   "cell_type": "code",
   "execution_count": 232,
   "id": "fd1e0a59",
   "metadata": {},
   "outputs": [
    {
     "data": {
      "text/plain": [
       "array([1., 1., 1., 1., 1., 1., 1., 1., 1., 1., 1., 1., 1., 1., 1.])"
      ]
     },
     "execution_count": 232,
     "metadata": {},
     "output_type": "execute_result"
    }
   ],
   "source": [
    "a=ones(15)\n",
    "a"
   ]
  },
  {
   "cell_type": "code",
   "execution_count": 233,
   "id": "5ce5a41e",
   "metadata": {},
   "outputs": [
    {
     "data": {
      "text/plain": [
       "array([ 0,  1,  2,  3,  4,  5,  6,  7,  8,  9, 10, 11, 12, 13, 14],\n",
       "      dtype=int64)"
      ]
     },
     "execution_count": 233,
     "metadata": {},
     "output_type": "execute_result"
    }
   ],
   "source": [
    "a.argsort(axis = -1,kind='quick')  ## quicksort doesn't preserve original order."
   ]
  },
  {
   "cell_type": "code",
   "execution_count": 234,
   "id": "75be4ce7",
   "metadata": {},
   "outputs": [
    {
     "data": {
      "text/plain": [
       "array([ 0,  1,  2,  3,  4,  5,  6,  7,  8,  9, 10, 11, 12, 13, 14],\n",
       "      dtype=int64)"
      ]
     },
     "execution_count": 234,
     "metadata": {},
     "output_type": "execute_result"
    }
   ],
   "source": [
    "a.argsort(kind = 'merge')\n"
   ]
  },
  {
   "cell_type": "code",
   "execution_count": 235,
   "id": "98de8ae0",
   "metadata": {},
   "outputs": [],
   "source": [
    "ind = argsort(a)"
   ]
  },
  {
   "cell_type": "code",
   "execution_count": 236,
   "id": "20c76fb3",
   "metadata": {},
   "outputs": [
    {
     "data": {
      "text/plain": [
       "array([ 0,  1,  2,  3,  4,  5,  6,  7,  8,  9, 10, 11, 12, 13, 14],\n",
       "      dtype=int64)"
      ]
     },
     "execution_count": 236,
     "metadata": {},
     "output_type": "execute_result"
    }
   ],
   "source": [
    "ind"
   ]
  },
  {
   "cell_type": "code",
   "execution_count": 237,
   "id": "59c60fa9",
   "metadata": {},
   "outputs": [
    {
     "data": {
      "text/plain": [
       "array([1., 1., 1., 1., 1., 1., 1., 1., 1., 1., 1., 1., 1., 1., 1.])"
      ]
     },
     "execution_count": 237,
     "metadata": {},
     "output_type": "execute_result"
    }
   ],
   "source": [
    "a"
   ]
  },
  {
   "cell_type": "code",
   "execution_count": 238,
   "id": "324bb116",
   "metadata": {},
   "outputs": [
    {
     "data": {
      "text/plain": [
       "array([ 0,  2,  3,  7, 10])"
      ]
     },
     "execution_count": 238,
     "metadata": {},
     "output_type": "execute_result"
    }
   ],
   "source": [
    "c1"
   ]
  },
  {
   "cell_type": "code",
   "execution_count": 239,
   "id": "b723672d",
   "metadata": {},
   "outputs": [
    {
     "name": "stdout",
     "output_type": "stream",
     "text": [
      "None\n"
     ]
    }
   ],
   "source": [
    "print(c1.sort())"
   ]
  },
  {
   "cell_type": "markdown",
   "id": "da40cc2d",
   "metadata": {},
   "source": [
    "# 26. array()\n"
   ]
  },
  {
   "cell_type": "code",
   "execution_count": 240,
   "id": "fc1d1a3b",
   "metadata": {},
   "outputs": [
    {
     "data": {
      "text/plain": [
       "\"\\nDocstring:\\narray(object, dtype=None, *, copy=True, order='K', subok=False, ndmin=0,\\n      like=None)\\n\\nCreate an array.\\n\\nParameters\\n----------\\nobject : array_like\\n    An array, any object exposing the array interface, an object whose\\n    __array__ method returns an array, or any (nested) sequence.\\n    If object is a scalar, a 0-dimensional array containing object is\\n    returned.\\ndtype : data-type, optional\\n    The desired data-type for the array.  If not given, then the type will\\n    be determined as the minimum type required to hold the objects in the\\n    sequence.\\ncopy : bool, optional\\n    If true (default), then the object is copied.  Otherwise, a copy will\\n    only be made if __array__ returns a copy, if obj is a nested sequence,\\n    or if a copy is needed to satisfy any of the other requirements\\n    (`dtype`, `order`, etc.).\\norder : {'K', 'A', 'C', 'F'}, optional\\n    Specify the memory layout of the array. If object is not an array, the\\n    newly created array will be in C order (row major) unless 'F' is\\n    specified, in which case it will be in Fortran order (column major).\\n    If object is an array the following holds.\\n\\n    ===== ========= ===================================================\\n    order  no copy                     copy=True\\n    ===== ========= ===================================================\\n    'K'   unchanged F & C order preserved, otherwise most similar order\\n    'A'   unchanged F order if input is F and not C, otherwise C order\\n    'C'   C order   C order\\n    'F'   F order   F order\\n    ===== ========= ===================================================\\nsubok : bool, optional\\n    If True, then sub-classes will be passed-through, otherwise\\n    the returned array will be forced to be a base-class array (default).\\nndmin : int, optional\\n    Specifies the minimum number of dimensions that the resulting\\n    array should have.  Ones will be prepended to the shape as\\n    needed to meet this requirement.\\n\""
      ]
     },
     "execution_count": 240,
     "metadata": {},
     "output_type": "execute_result"
    }
   ],
   "source": [
    "'''\n",
    "Docstring:\n",
    "array(object, dtype=None, *, copy=True, order='K', subok=False, ndmin=0,\n",
    "      like=None)\n",
    "\n",
    "Create an array.\n",
    "\n",
    "Parameters\n",
    "----------\n",
    "object : array_like\n",
    "    An array, any object exposing the array interface, an object whose\n",
    "    __array__ method returns an array, or any (nested) sequence.\n",
    "    If object is a scalar, a 0-dimensional array containing object is\n",
    "    returned.\n",
    "dtype : data-type, optional\n",
    "    The desired data-type for the array.  If not given, then the type will\n",
    "    be determined as the minimum type required to hold the objects in the\n",
    "    sequence.\n",
    "copy : bool, optional\n",
    "    If true (default), then the object is copied.  Otherwise, a copy will\n",
    "    only be made if __array__ returns a copy, if obj is a nested sequence,\n",
    "    or if a copy is needed to satisfy any of the other requirements\n",
    "    (`dtype`, `order`, etc.).\n",
    "order : {'K', 'A', 'C', 'F'}, optional\n",
    "    Specify the memory layout of the array. If object is not an array, the\n",
    "    newly created array will be in C order (row major) unless 'F' is\n",
    "    specified, in which case it will be in Fortran order (column major).\n",
    "    If object is an array the following holds.\n",
    "\n",
    "    ===== ========= ===================================================\n",
    "    order  no copy                     copy=True\n",
    "    ===== ========= ===================================================\n",
    "    'K'   unchanged F & C order preserved, otherwise most similar order\n",
    "    'A'   unchanged F order if input is F and not C, otherwise C order\n",
    "    'C'   C order   C order\n",
    "    'F'   F order   F order\n",
    "    ===== ========= ===================================================\n",
    "subok : bool, optional\n",
    "    If True, then sub-classes will be passed-through, otherwise\n",
    "    the returned array will be forced to be a base-class array (default).\n",
    "ndmin : int, optional\n",
    "    Specifies the minimum number of dimensions that the resulting\n",
    "    array should have.  Ones will be prepended to the shape as\n",
    "    needed to meet this requirement.\n",
    "'''"
   ]
  },
  {
   "cell_type": "code",
   "execution_count": 241,
   "id": "1c1c8eb3",
   "metadata": {},
   "outputs": [],
   "source": [
    "from numpy import *"
   ]
  },
  {
   "cell_type": "code",
   "execution_count": 242,
   "id": "de0e9420",
   "metadata": {},
   "outputs": [
    {
     "data": {
      "text/plain": [
       "array([1, 2, 3, 4])"
      ]
     },
     "execution_count": 242,
     "metadata": {},
     "output_type": "execute_result"
    }
   ],
   "source": [
    "array([1,2,3,4])"
   ]
  },
  {
   "cell_type": "code",
   "execution_count": 243,
   "id": "3bb6e24e",
   "metadata": {},
   "outputs": [
    {
     "data": {
      "text/plain": [
       "numpy.ndarray"
      ]
     },
     "execution_count": 243,
     "metadata": {},
     "output_type": "execute_result"
    }
   ],
   "source": [
    "type(array([1,2,3,4]))"
   ]
  },
  {
   "cell_type": "code",
   "execution_count": 244,
   "id": "136ce9ee",
   "metadata": {},
   "outputs": [
    {
     "data": {
      "text/plain": [
       "array([1.+0.j, 2.+0.j, 3.+0.j, 4.+0.j])"
      ]
     },
     "execution_count": 244,
     "metadata": {},
     "output_type": "execute_result"
    }
   ],
   "source": [
    "array([1,2,3,4], dtype = complex)"
   ]
  },
  {
   "cell_type": "code",
   "execution_count": 245,
   "id": "665a1a73",
   "metadata": {},
   "outputs": [
    {
     "data": {
      "text/plain": [
       "array([1])"
      ]
     },
     "execution_count": 245,
     "metadata": {},
     "output_type": "execute_result"
    }
   ],
   "source": [
    "array(1, copy=0, subok=1, ndmin=1)"
   ]
  },
  {
   "cell_type": "code",
   "execution_count": 246,
   "id": "0a218f0b",
   "metadata": {},
   "outputs": [
    {
     "data": {
      "text/plain": [
       "array([[1, 2],\n",
       "       [3, 4]])"
      ]
     },
     "execution_count": 246,
     "metadata": {},
     "output_type": "execute_result"
    }
   ],
   "source": [
    "array([[1,2],[3,4]])"
   ]
  },
  {
   "cell_type": "code",
   "execution_count": 247,
   "id": "b4238a10",
   "metadata": {},
   "outputs": [],
   "source": [
    "mydescriptor = {'names': ('gender','age','weight'), 'formats': ('S1','f4','f4')}"
   ]
  },
  {
   "cell_type": "code",
   "execution_count": 248,
   "id": "7b098481",
   "metadata": {},
   "outputs": [],
   "source": [
    "a = array([('M','23','70'), ('F','25','75')], dtype=mydescriptor)"
   ]
  },
  {
   "cell_type": "code",
   "execution_count": 249,
   "id": "41fa626c",
   "metadata": {},
   "outputs": [
    {
     "name": "stdout",
     "output_type": "stream",
     "text": [
      "[(b'M', 23., 70.) (b'F', 25., 75.)]\n"
     ]
    }
   ],
   "source": [
    "print(a)"
   ]
  },
  {
   "cell_type": "code",
   "execution_count": 250,
   "id": "eacbd7d1",
   "metadata": {},
   "outputs": [
    {
     "data": {
      "text/plain": [
       "array([(b'M', 23., 70.), (b'F', 25., 75.)],\n",
       "      dtype=[('gender', 'S1'), ('age', '<f4'), ('weight', '<f4')])"
      ]
     },
     "execution_count": 250,
     "metadata": {},
     "output_type": "execute_result"
    }
   ],
   "source": [
    "a"
   ]
  },
  {
   "cell_type": "code",
   "execution_count": 251,
   "id": "df65f024",
   "metadata": {},
   "outputs": [
    {
     "data": {
      "text/plain": [
       "array([70., 75.], dtype=float32)"
      ]
     },
     "execution_count": 251,
     "metadata": {},
     "output_type": "execute_result"
    }
   ],
   "source": [
    "a['weight']"
   ]
  },
  {
   "cell_type": "code",
   "execution_count": 252,
   "id": "49233422",
   "metadata": {},
   "outputs": [
    {
     "data": {
      "text/plain": [
       "array([23., 25.], dtype=float32)"
      ]
     },
     "execution_count": 252,
     "metadata": {},
     "output_type": "execute_result"
    }
   ],
   "source": [
    "a['age']"
   ]
  },
  {
   "cell_type": "code",
   "execution_count": 253,
   "id": "ddcbab96",
   "metadata": {},
   "outputs": [
    {
     "data": {
      "text/plain": [
       "array([b'M', b'F'], dtype='|S1')"
      ]
     },
     "execution_count": 253,
     "metadata": {},
     "output_type": "execute_result"
    }
   ],
   "source": [
    "a['gender']"
   ]
  },
  {
   "cell_type": "code",
   "execution_count": 254,
   "id": "0840569d",
   "metadata": {},
   "outputs": [
    {
     "data": {
      "text/plain": [
       "('gender', 'age', 'weight')"
      ]
     },
     "execution_count": 254,
     "metadata": {},
     "output_type": "execute_result"
    }
   ],
   "source": [
    "a.dtype.names"
   ]
  },
  {
   "cell_type": "code",
   "execution_count": null,
   "id": "fbe106f7",
   "metadata": {},
   "outputs": [],
   "source": []
  },
  {
   "cell_type": "markdown",
   "id": "6aa20d52",
   "metadata": {},
   "source": [
    "# 27. arrayrange()\n",
    "synonym for arange()"
   ]
  },
  {
   "cell_type": "code",
   "execution_count": null,
   "id": "cac17605",
   "metadata": {},
   "outputs": [],
   "source": []
  },
  {
   "cell_type": "markdown",
   "id": "edf2ee7a",
   "metadata": {},
   "source": [
    "# 28. array_split()\n"
   ]
  },
  {
   "cell_type": "code",
   "execution_count": 255,
   "id": "ccd6baab",
   "metadata": {},
   "outputs": [],
   "source": [
    "a= array([[1,2,3,4],[5,6,7,8]])"
   ]
  },
  {
   "cell_type": "code",
   "execution_count": 256,
   "id": "51d14f69",
   "metadata": {},
   "outputs": [
    {
     "data": {
      "text/plain": [
       "array([[1, 2, 3, 4],\n",
       "       [5, 6, 7, 8]])"
      ]
     },
     "execution_count": 256,
     "metadata": {},
     "output_type": "execute_result"
    }
   ],
   "source": [
    "a"
   ]
  },
  {
   "cell_type": "code",
   "execution_count": 257,
   "id": "a0756df9",
   "metadata": {},
   "outputs": [
    {
     "data": {
      "text/plain": [
       "[array([[1, 2, 3, 4]]), array([[5, 6, 7, 8]])]"
      ]
     },
     "execution_count": 257,
     "metadata": {},
     "output_type": "execute_result"
    }
   ],
   "source": [
    "array_split(a,2,axis=0) #split a in two parts along row axis"
   ]
  },
  {
   "cell_type": "code",
   "execution_count": 258,
   "id": "4ec239dd",
   "metadata": {},
   "outputs": [
    {
     "data": {
      "text/plain": [
       "[array([[1, 2, 3, 4]]),\n",
       " array([[5, 6, 7, 8]]),\n",
       " array([], shape=(0, 4), dtype=int32),\n",
       " array([], shape=(0, 4), dtype=int32)]"
      ]
     },
     "execution_count": 258,
     "metadata": {},
     "output_type": "execute_result"
    }
   ],
   "source": [
    "array_split(a,4,axis=0)"
   ]
  },
  {
   "cell_type": "code",
   "execution_count": 259,
   "id": "d4f9bc8e",
   "metadata": {},
   "outputs": [
    {
     "data": {
      "text/plain": [
       "[array([[1],\n",
       "        [5]]),\n",
       " array([[2],\n",
       "        [6]]),\n",
       " array([[3],\n",
       "        [7]]),\n",
       " array([[4],\n",
       "        [8]])]"
      ]
     },
     "execution_count": 259,
     "metadata": {},
     "output_type": "execute_result"
    }
   ],
   "source": [
    "array_split(a,4,axis=1)"
   ]
  },
  {
   "cell_type": "code",
   "execution_count": 260,
   "id": "ab36f54a",
   "metadata": {},
   "outputs": [
    {
     "data": {
      "text/plain": [
       "[array([[1, 2],\n",
       "        [5, 6]]),\n",
       " array([[3],\n",
       "        [7]]),\n",
       " array([[4],\n",
       "        [8]])]"
      ]
     },
     "execution_count": 260,
     "metadata": {},
     "output_type": "execute_result"
    }
   ],
   "source": [
    "array_split(a,3,axis=1)"
   ]
  },
  {
   "cell_type": "code",
   "execution_count": 261,
   "id": "a814c70f",
   "metadata": {},
   "outputs": [
    {
     "data": {
      "text/plain": [
       "[array([[1, 2],\n",
       "        [5, 6]]),\n",
       " array([[3],\n",
       "        [7]]),\n",
       " array([[4],\n",
       "        [8]])]"
      ]
     },
     "execution_count": 261,
     "metadata": {},
     "output_type": "execute_result"
    }
   ],
   "source": [
    "array_split(a,[2,3],axis=1)"
   ]
  },
  {
   "cell_type": "code",
   "execution_count": null,
   "id": "bc310502",
   "metadata": {},
   "outputs": [],
   "source": []
  },
  {
   "cell_type": "markdown",
   "id": "b5899630",
   "metadata": {},
   "source": [
    "# 29. asarray()\n"
   ]
  },
  {
   "cell_type": "code",
   "execution_count": 262,
   "id": "488c3e70",
   "metadata": {},
   "outputs": [
    {
     "data": {
      "text/plain": [
       "matrix([[1, 2],\n",
       "        [5, 8]])"
      ]
     },
     "execution_count": 262,
     "metadata": {},
     "output_type": "execute_result"
    }
   ],
   "source": [
    "m= matrix('1 2; 5 8')\n",
    "m"
   ]
  },
  {
   "cell_type": "code",
   "execution_count": 263,
   "id": "cc914c69",
   "metadata": {},
   "outputs": [],
   "source": [
    "a1 = asarray(m)  # a is array type with same contents as m -- data is not copied"
   ]
  },
  {
   "cell_type": "code",
   "execution_count": 264,
   "id": "fd14e142",
   "metadata": {},
   "outputs": [
    {
     "data": {
      "text/plain": [
       "array([[1, 2],\n",
       "       [5, 8]])"
      ]
     },
     "execution_count": 264,
     "metadata": {},
     "output_type": "execute_result"
    }
   ],
   "source": [
    "a1"
   ]
  },
  {
   "cell_type": "code",
   "execution_count": 265,
   "id": "311f3122",
   "metadata": {},
   "outputs": [
    {
     "data": {
      "text/plain": [
       "matrix([[  1,   2],\n",
       "        [  5, -90]])"
      ]
     },
     "execution_count": 265,
     "metadata": {},
     "output_type": "execute_result"
    }
   ],
   "source": [
    "m[1,1] = -90\n",
    "m"
   ]
  },
  {
   "cell_type": "code",
   "execution_count": 266,
   "id": "7f1ee0ee",
   "metadata": {},
   "outputs": [
    {
     "data": {
      "text/plain": [
       "array([[  1,   2],\n",
       "       [  5, -90]])"
      ]
     },
     "execution_count": 266,
     "metadata": {},
     "output_type": "execute_result"
    }
   ],
   "source": [
    "a1   # no copy was made, so modifying m modifies a, and vice versa"
   ]
  },
  {
   "cell_type": "code",
   "execution_count": 267,
   "id": "00ae98be",
   "metadata": {},
   "outputs": [
    {
     "data": {
      "text/plain": [
       "array([[ -4,   2],\n",
       "       [  5, -90]])"
      ]
     },
     "execution_count": 267,
     "metadata": {},
     "output_type": "execute_result"
    }
   ],
   "source": [
    "a1[0,0] = -4\n",
    "a1"
   ]
  },
  {
   "cell_type": "code",
   "execution_count": 268,
   "id": "0d82bf06",
   "metadata": {},
   "outputs": [
    {
     "data": {
      "text/plain": [
       "matrix([[ -4,   2],\n",
       "        [  5, -90]])"
      ]
     },
     "execution_count": 268,
     "metadata": {},
     "output_type": "execute_result"
    }
   ],
   "source": [
    "m"
   ]
  },
  {
   "cell_type": "markdown",
   "id": "603436b6",
   "metadata": {},
   "source": [
    "# 30. asanyarray()\n"
   ]
  },
  {
   "cell_type": "code",
   "execution_count": 269,
   "id": "60d14507",
   "metadata": {},
   "outputs": [],
   "source": [
    "a= array([[1,2],[3,4]])"
   ]
  },
  {
   "cell_type": "code",
   "execution_count": 270,
   "id": "a041499e",
   "metadata": {},
   "outputs": [
    {
     "data": {
      "text/plain": [
       "array([[1, 2],\n",
       "       [3, 4]])"
      ]
     },
     "execution_count": 270,
     "metadata": {},
     "output_type": "execute_result"
    }
   ],
   "source": [
    "a"
   ]
  },
  {
   "cell_type": "code",
   "execution_count": 271,
   "id": "c96b0c62",
   "metadata": {},
   "outputs": [
    {
     "data": {
      "text/plain": [
       "matrix([[1, 2],\n",
       "        [5, 8]])"
      ]
     },
     "execution_count": 271,
     "metadata": {},
     "output_type": "execute_result"
    }
   ],
   "source": [
    "m = matrix('1 2; 5 8')\n",
    "m"
   ]
  },
  {
   "cell_type": "code",
   "execution_count": 272,
   "id": "aecc8fde",
   "metadata": {},
   "outputs": [
    {
     "data": {
      "text/plain": [
       "array([[1, 2],\n",
       "       [3, 4]])"
      ]
     },
     "execution_count": 272,
     "metadata": {},
     "output_type": "execute_result"
    }
   ],
   "source": [
    "asanyarray(a)"
   ]
  },
  {
   "cell_type": "code",
   "execution_count": 273,
   "id": "59cc85ce",
   "metadata": {},
   "outputs": [
    {
     "data": {
      "text/plain": [
       "True"
      ]
     },
     "execution_count": 273,
     "metadata": {},
     "output_type": "execute_result"
    }
   ],
   "source": [
    "asanyarray(a) is a"
   ]
  },
  {
   "cell_type": "code",
   "execution_count": 274,
   "id": "e0b2bca0",
   "metadata": {},
   "outputs": [
    {
     "data": {
      "text/plain": [
       "matrix([[1, 2],\n",
       "        [5, 8]])"
      ]
     },
     "execution_count": 274,
     "metadata": {},
     "output_type": "execute_result"
    }
   ],
   "source": [
    "asanyarray(m)"
   ]
  },
  {
   "cell_type": "code",
   "execution_count": 275,
   "id": "e03f4daa",
   "metadata": {},
   "outputs": [
    {
     "data": {
      "text/plain": [
       "True"
      ]
     },
     "execution_count": 275,
     "metadata": {},
     "output_type": "execute_result"
    }
   ],
   "source": [
    "asanyarray(m) is m"
   ]
  },
  {
   "cell_type": "code",
   "execution_count": 276,
   "id": "de844510",
   "metadata": {},
   "outputs": [
    {
     "data": {
      "text/plain": [
       "array([1, 2, 3, 4])"
      ]
     },
     "execution_count": 276,
     "metadata": {},
     "output_type": "execute_result"
    }
   ],
   "source": [
    "asanyarray([1,2,3,4])"
   ]
  },
  {
   "cell_type": "markdown",
   "id": "df0cff56",
   "metadata": {},
   "source": [
    "# 31. asmatrix()\n"
   ]
  },
  {
   "cell_type": "code",
   "execution_count": 277,
   "id": "ca4bad5c",
   "metadata": {},
   "outputs": [],
   "source": [
    "a = array([[1,2,3],[4,5,6]])"
   ]
  },
  {
   "cell_type": "code",
   "execution_count": 278,
   "id": "7b2ce3c4",
   "metadata": {},
   "outputs": [
    {
     "data": {
      "text/plain": [
       "array([[1, 2, 3],\n",
       "       [4, 5, 6]])"
      ]
     },
     "execution_count": 278,
     "metadata": {},
     "output_type": "execute_result"
    }
   ],
   "source": [
    "a"
   ]
  },
  {
   "cell_type": "code",
   "execution_count": 279,
   "id": "67ea4657",
   "metadata": {},
   "outputs": [],
   "source": [
    "m = asmatrix(a)    # m is matrix type with same contents as a -- data is not copied"
   ]
  },
  {
   "cell_type": "code",
   "execution_count": 280,
   "id": "7386f38d",
   "metadata": {},
   "outputs": [
    {
     "data": {
      "text/plain": [
       "matrix([[1, 2, 3],\n",
       "        [4, 5, 6]])"
      ]
     },
     "execution_count": 280,
     "metadata": {},
     "output_type": "execute_result"
    }
   ],
   "source": [
    "m"
   ]
  },
  {
   "cell_type": "code",
   "execution_count": 281,
   "id": "8eff932c",
   "metadata": {},
   "outputs": [],
   "source": [
    "m[0,1]=45"
   ]
  },
  {
   "cell_type": "code",
   "execution_count": 282,
   "id": "8df56c86",
   "metadata": {},
   "outputs": [
    {
     "data": {
      "text/plain": [
       "matrix([[ 1, 45,  3],\n",
       "        [ 4,  5,  6]])"
      ]
     },
     "execution_count": 282,
     "metadata": {},
     "output_type": "execute_result"
    }
   ],
   "source": [
    "m"
   ]
  },
  {
   "cell_type": "code",
   "execution_count": 283,
   "id": "ed757830",
   "metadata": {},
   "outputs": [
    {
     "data": {
      "text/plain": [
       "array([[ 1, 45,  3],\n",
       "       [ 4,  5,  6]])"
      ]
     },
     "execution_count": 283,
     "metadata": {},
     "output_type": "execute_result"
    }
   ],
   "source": [
    "a"
   ]
  },
  {
   "cell_type": "code",
   "execution_count": 284,
   "id": "53f2b23d",
   "metadata": {},
   "outputs": [],
   "source": [
    "a[1,1]=-7"
   ]
  },
  {
   "cell_type": "code",
   "execution_count": 285,
   "id": "d1095f73",
   "metadata": {},
   "outputs": [
    {
     "data": {
      "text/plain": [
       "array([[ 1, 45,  3],\n",
       "       [ 4, -7,  6]])"
      ]
     },
     "execution_count": 285,
     "metadata": {},
     "output_type": "execute_result"
    }
   ],
   "source": [
    "a"
   ]
  },
  {
   "cell_type": "code",
   "execution_count": 286,
   "id": "1279a31b",
   "metadata": {},
   "outputs": [
    {
     "data": {
      "text/plain": [
       "matrix([[ 1, 45,  3],\n",
       "        [ 4, -7,  6]])"
      ]
     },
     "execution_count": 286,
     "metadata": {},
     "output_type": "execute_result"
    }
   ],
   "source": [
    "m    # no copy was made so modifying a modifies m, and vice versa"
   ]
  },
  {
   "cell_type": "markdown",
   "id": "9a691043",
   "metadata": {},
   "source": [
    "# 32. astype()\n"
   ]
  },
  {
   "cell_type": "code",
   "execution_count": 287,
   "id": "cc555aab",
   "metadata": {},
   "outputs": [],
   "source": [
    "x= array([0,1,23])"
   ]
  },
  {
   "cell_type": "code",
   "execution_count": 288,
   "id": "a082ea2c",
   "metadata": {},
   "outputs": [
    {
     "data": {
      "text/plain": [
       "array([ 0.,  1., 23.])"
      ]
     },
     "execution_count": 288,
     "metadata": {},
     "output_type": "execute_result"
    }
   ],
   "source": [
    "y=x.astype(float64)\n",
    "y"
   ]
  },
  {
   "cell_type": "code",
   "execution_count": 289,
   "id": "3798ac46",
   "metadata": {},
   "outputs": [
    {
     "name": "stdout",
     "output_type": "stream",
     "text": [
      "0.0\n"
     ]
    },
    {
     "data": {
      "text/plain": [
       "numpy.float64"
      ]
     },
     "execution_count": 289,
     "metadata": {},
     "output_type": "execute_result"
    }
   ],
   "source": [
    "print(y[0])\n",
    "type(y[0])\n"
   ]
  },
  {
   "cell_type": "markdown",
   "id": "4bfc9fa0",
   "metadata": {},
   "source": [
    "# 33. atleast_1d()\n"
   ]
  },
  {
   "cell_type": "code",
   "execution_count": 290,
   "id": "ea62bf13",
   "metadata": {},
   "outputs": [],
   "source": [
    "a = 1 #0-d array\n",
    "b = array([1,2])  #1-d array\n",
    "c = array([[1,2],[3,4]])  #2-d array\n",
    "d = arange(8).reshape(2,2,2)  #3-d array"
   ]
  },
  {
   "cell_type": "code",
   "execution_count": 291,
   "id": "0e083468",
   "metadata": {},
   "outputs": [
    {
     "name": "stdout",
     "output_type": "stream",
     "text": [
      "1\n",
      "[1 2]\n",
      "[[1 2]\n",
      " [3 4]]\n",
      "[[[0 1]\n",
      "  [2 3]]\n",
      "\n",
      " [[4 5]\n",
      "  [6 7]]]\n"
     ]
    }
   ],
   "source": [
    "print(a)\n",
    "print(b)\n",
    "print(c)\n",
    "print(d)"
   ]
  },
  {
   "cell_type": "code",
   "execution_count": 292,
   "id": "082495e2",
   "metadata": {},
   "outputs": [
    {
     "data": {
      "text/plain": [
       "[array([1]),\n",
       " array([1, 2]),\n",
       " array([[1, 2],\n",
       "        [3, 4]]),\n",
       " array([[[0, 1],\n",
       "         [2, 3]],\n",
       " \n",
       "        [[4, 5],\n",
       "         [6, 7]]])]"
      ]
     },
     "execution_count": 292,
     "metadata": {},
     "output_type": "execute_result"
    }
   ],
   "source": [
    "atleast_1d(a,b,c,d)   # all output arrays have dim >= 1"
   ]
  },
  {
   "cell_type": "markdown",
   "id": "10a0a096",
   "metadata": {},
   "source": [
    "# 34. atleast_2d()\n"
   ]
  },
  {
   "cell_type": "code",
   "execution_count": 293,
   "id": "227723a7",
   "metadata": {},
   "outputs": [],
   "source": [
    "from numpy import *"
   ]
  },
  {
   "cell_type": "code",
   "execution_count": 294,
   "id": "17b13af3",
   "metadata": {},
   "outputs": [
    {
     "data": {
      "text/plain": [
       "array([[[0, 1],\n",
       "        [2, 3]],\n",
       "\n",
       "       [[4, 5],\n",
       "        [6, 7]]])"
      ]
     },
     "execution_count": 294,
     "metadata": {},
     "output_type": "execute_result"
    }
   ],
   "source": [
    "a = 1\n",
    "b = array([2,3])\n",
    "c = array([[4,5],[6,7]])\n",
    "d = arange(8).reshape(2,2,2)\n",
    "d"
   ]
  },
  {
   "cell_type": "code",
   "execution_count": 295,
   "id": "0f85fcfd",
   "metadata": {},
   "outputs": [
    {
     "data": {
      "text/plain": [
       "[array([[1]]),\n",
       " array([[2, 3]]),\n",
       " array([[4, 5],\n",
       "        [6, 7]]),\n",
       " array([[[0, 1],\n",
       "         [2, 3]],\n",
       " \n",
       "        [[4, 5],\n",
       "         [6, 7]]])]"
      ]
     },
     "execution_count": 295,
     "metadata": {},
     "output_type": "execute_result"
    }
   ],
   "source": [
    "atleast_2d(a,b,c,d)  # all output arrays have dim >= 2"
   ]
  },
  {
   "cell_type": "markdown",
   "id": "4d8ff092",
   "metadata": {},
   "source": [
    "# 35. atleast_3d()\n"
   ]
  },
  {
   "cell_type": "code",
   "execution_count": 296,
   "id": "769d9d16",
   "metadata": {},
   "outputs": [
    {
     "data": {
      "text/plain": [
       "array([[[0, 1],\n",
       "        [2, 3]],\n",
       "\n",
       "       [[4, 5],\n",
       "        [6, 7]]])"
      ]
     },
     "execution_count": 296,
     "metadata": {},
     "output_type": "execute_result"
    }
   ],
   "source": [
    "a = 1\n",
    "b = array([2,3])\n",
    "c = array([[4,5],[6,7]])\n",
    "d = arange(8).reshape(2,2,2)\n",
    "d"
   ]
  },
  {
   "cell_type": "code",
   "execution_count": 297,
   "id": "73cba3c5",
   "metadata": {},
   "outputs": [
    {
     "data": {
      "text/plain": [
       "[array([[[1]]]),\n",
       " array([[[2],\n",
       "         [3]]]),\n",
       " array([[[4],\n",
       "         [5]],\n",
       " \n",
       "        [[6],\n",
       "         [7]]]),\n",
       " array([[[0, 1],\n",
       "         [2, 3]],\n",
       " \n",
       "        [[4, 5],\n",
       "         [6, 7]]])]"
      ]
     },
     "execution_count": 297,
     "metadata": {},
     "output_type": "execute_result"
    }
   ],
   "source": [
    "atleast_3d(a,b,c,d)  ## all output arrays have dim >= 3"
   ]
  },
  {
   "cell_type": "markdown",
   "id": "a3c798ab",
   "metadata": {},
   "source": [
    "# 36. average()\n"
   ]
  },
  {
   "cell_type": "code",
   "execution_count": 298,
   "id": "a2811b09",
   "metadata": {},
   "outputs": [
    {
     "data": {
      "text/plain": [
       "3.0"
      ]
     },
     "execution_count": 298,
     "metadata": {},
     "output_type": "execute_result"
    }
   ],
   "source": [
    "a = array([1,2,3,4,5])\n",
    "w = array([0.1,0.2,0.5,0.2,0.2])  # weights, not necessarily normalized\n",
    "average(a)  # plain mean value\n"
   ]
  },
  {
   "cell_type": "code",
   "execution_count": 299,
   "id": "cd4df310",
   "metadata": {},
   "outputs": [
    {
     "data": {
      "text/plain": [
       "3.1666666666666665"
      ]
     },
     "execution_count": 299,
     "metadata": {},
     "output_type": "execute_result"
    }
   ],
   "source": [
    "average(a, weights=w)  ## weighted average"
   ]
  },
  {
   "cell_type": "code",
   "execution_count": 300,
   "id": "4fcad7b8",
   "metadata": {},
   "outputs": [
    {
     "data": {
      "text/plain": [
       "(3.1666666666666665, 1.2)"
      ]
     },
     "execution_count": 300,
     "metadata": {},
     "output_type": "execute_result"
    }
   ],
   "source": [
    "average(a, weights=w, returned=True)  ## output = weighted average, sum of weights"
   ]
  },
  {
   "cell_type": "markdown",
   "id": "3e060611",
   "metadata": {},
   "source": [
    "# 37. beta()"
   ]
  },
  {
   "cell_type": "code",
   "execution_count": 301,
   "id": "c1f187b6",
   "metadata": {},
   "outputs": [],
   "source": [
    "#Docstring:\n",
    "#beta(a, b, size=None)\n",
    "\n",
    "#Draw samples from a Beta distribution.\n",
    "\n",
    "#The Beta distribution is a special case of the Dirichlet distribution,\n",
    "#and is related to the Gamma distribution.  It has the probability\n",
    "#distribution function\n"
   ]
  },
  {
   "cell_type": "code",
   "execution_count": 302,
   "id": "9f502f2d",
   "metadata": {},
   "outputs": [
    {
     "data": {
      "text/plain": [
       "array([[0.12350185, 0.13825714],\n",
       "       [0.1070757 , 0.03289319]])"
      ]
     },
     "execution_count": 302,
     "metadata": {},
     "output_type": "execute_result"
    }
   ],
   "source": [
    "from numpy import *\n",
    "from numpy.random import *\n",
    "beta(a=1,b=10,size=(2,2))"
   ]
  },
  {
   "cell_type": "markdown",
   "id": "159525fb",
   "metadata": {},
   "source": [
    "# 38. binary_repr()"
   ]
  },
  {
   "cell_type": "code",
   "execution_count": 303,
   "id": "aa8c9574",
   "metadata": {},
   "outputs": [
    {
     "data": {
      "text/plain": [
       "'111000'"
      ]
     },
     "execution_count": 303,
     "metadata": {},
     "output_type": "execute_result"
    }
   ],
   "source": [
    "a=56\n",
    "binary_repr(a)"
   ]
  },
  {
   "cell_type": "code",
   "execution_count": 304,
   "id": "143aadc8",
   "metadata": {},
   "outputs": [
    {
     "data": {
      "text/plain": [
       "'0b111000'"
      ]
     },
     "execution_count": 304,
     "metadata": {},
     "output_type": "execute_result"
    }
   ],
   "source": [
    "bin(a)"
   ]
  },
  {
   "cell_type": "code",
   "execution_count": 305,
   "id": "2849cd64",
   "metadata": {},
   "outputs": [
    {
     "data": {
      "text/plain": [
       "3.141592653589793"
      ]
     },
     "execution_count": 305,
     "metadata": {},
     "output_type": "execute_result"
    }
   ],
   "source": [
    "b= float_(pi)  ## numpy float has extra functionality ...\n",
    "b"
   ]
  },
  {
   "cell_type": "code",
   "execution_count": 306,
   "id": "de2d73aa",
   "metadata": {},
   "outputs": [
    {
     "data": {
      "text/plain": [
       "8"
      ]
     },
     "execution_count": 306,
     "metadata": {},
     "output_type": "execute_result"
    }
   ],
   "source": [
    "b.nbytes  #number of bytes it takes"
   ]
  },
  {
   "cell_type": "code",
   "execution_count": 307,
   "id": "ce2bdda7",
   "metadata": {},
   "outputs": [
    {
     "data": {
      "text/plain": [
       "'100000000001001001000011111101101010100010001000010110100011000'"
      ]
     },
     "execution_count": 307,
     "metadata": {},
     "output_type": "execute_result"
    }
   ],
   "source": [
    "binary_repr(b.view('u8'))   ##view float number as an 8 byte integer, then get binary bitstring"
   ]
  },
  {
   "cell_type": "code",
   "execution_count": 308,
   "id": "b9f139a9",
   "metadata": {},
   "outputs": [
    {
     "data": {
      "text/plain": [
       "'100000000001001001000011111101101010100010001000010110100011000'"
      ]
     },
     "execution_count": 308,
     "metadata": {},
     "output_type": "execute_result"
    }
   ],
   "source": [
    "binary_repr(b.view('u8'))"
   ]
  },
  {
   "cell_type": "markdown",
   "id": "3fa18c3d",
   "metadata": {},
   "source": [
    "# 39. bincount()"
   ]
  },
  {
   "cell_type": "code",
   "execution_count": 309,
   "id": "3ac370b8",
   "metadata": {},
   "outputs": [],
   "source": [
    "a = array([1,1,2,2,2,3,4,5,5,5,6,7,7,7])"
   ]
  },
  {
   "cell_type": "code",
   "execution_count": 310,
   "id": "e6a12047",
   "metadata": {},
   "outputs": [
    {
     "data": {
      "text/plain": [
       "array([0, 2, 3, 1, 1, 3, 1, 3], dtype=int64)"
      ]
     },
     "execution_count": 310,
     "metadata": {},
     "output_type": "execute_result"
    }
   ],
   "source": [
    "bincount(a)"
   ]
  },
  {
   "cell_type": "code",
   "execution_count": 311,
   "id": "e70999bc",
   "metadata": {},
   "outputs": [],
   "source": [
    "a1 = array([6,2,4,4,1])\n",
    "w = array([0.1,0.5,0.1,0.2,0.2])"
   ]
  },
  {
   "cell_type": "code",
   "execution_count": 312,
   "id": "ec10ac9b",
   "metadata": {},
   "outputs": [
    {
     "data": {
      "text/plain": [
       "array([0, 1, 1, 0, 2, 0, 1], dtype=int64)"
      ]
     },
     "execution_count": 312,
     "metadata": {},
     "output_type": "execute_result"
    }
   ],
   "source": [
    "bincount(a1)"
   ]
  },
  {
   "cell_type": "code",
   "execution_count": 313,
   "id": "c80d109e",
   "metadata": {},
   "outputs": [
    {
     "data": {
      "text/plain": [
       "array([0. , 0.2, 0.5, 0. , 0.3, 0. , 0.1])"
      ]
     },
     "execution_count": 313,
     "metadata": {},
     "output_type": "execute_result"
    }
   ],
   "source": [
    "bincount(a1, weights =w)"
   ]
  },
  {
   "cell_type": "markdown",
   "id": "3d1a2b5a",
   "metadata": {},
   "source": [
    "# 40. binomial()"
   ]
  },
  {
   "cell_type": "code",
   "execution_count": 314,
   "id": "7141540d",
   "metadata": {},
   "outputs": [],
   "source": [
    "from numpy import *\n",
    "from numpy.random import*"
   ]
  },
  {
   "cell_type": "code",
   "execution_count": 315,
   "id": "f9a7be2f",
   "metadata": {},
   "outputs": [
    {
     "data": {
      "text/plain": [
       "array([[48, 53, 47],\n",
       "       [54, 55, 41]])"
      ]
     },
     "execution_count": 315,
     "metadata": {},
     "output_type": "execute_result"
    }
   ],
   "source": [
    "binomial(n=100,p=0.5,size=(2,3))"
   ]
  },
  {
   "cell_type": "code",
   "execution_count": 316,
   "id": "a60791af",
   "metadata": {},
   "outputs": [],
   "source": [
    "from pylab import *"
   ]
  },
  {
   "cell_type": "code",
   "execution_count": 317,
   "id": "15a39a61",
   "metadata": {},
   "outputs": [
    {
     "data": {
      "text/plain": [
       "(array([  5.,   6.,  16.,  15.,  44.,  40.,  80.,  65., 110.,  80., 161.,\n",
       "         75., 127.,  37.,  81.,  16.,  28.,   5.,   6.,   3.]),\n",
       " array([35. , 36.5, 38. , 39.5, 41. , 42.5, 44. , 45.5, 47. , 48.5, 50. ,\n",
       "        51.5, 53. , 54.5, 56. , 57.5, 59. , 60.5, 62. , 63.5, 65. ]),\n",
       " <BarContainer object of 20 artists>)"
      ]
     },
     "execution_count": 317,
     "metadata": {},
     "output_type": "execute_result"
    },
    {
     "data": {
      "image/png": "[encoded data removed]",
      "text/plain": [
       "<Figure size 640x480 with 1 Axes>"
      ]
     },
     "metadata": {},
     "output_type": "display_data"
    }
   ],
   "source": [
    "hist(binomial(100,0.5,(1000)),20)"
   ]
  },
  {
   "cell_type": "markdown",
   "id": "e66ec470",
   "metadata": {},
   "source": [
    "# 41. bitwise_and()"
   ]
  },
  {
   "cell_type": "code",
   "execution_count": 318,
   "id": "7a3f1d65",
   "metadata": {},
   "outputs": [
    {
     "data": {
      "text/plain": [
       "array([0, 2, 0])"
      ]
     },
     "execution_count": 318,
     "metadata": {},
     "output_type": "execute_result"
    }
   ],
   "source": [
    "bitwise_and(array([1,2,3]), array([2,3,4]))"
   ]
  },
  {
   "cell_type": "code",
   "execution_count": 319,
   "id": "ff3d012d",
   "metadata": {},
   "outputs": [
    {
     "data": {
      "text/plain": [
       "array([         0,          4,          4, 2147483647])"
      ]
     },
     "execution_count": 319,
     "metadata": {},
     "output_type": "execute_result"
    }
   ],
   "source": [
    "bitwise_and(array([2,5,255,2147483647],dtype=int32), array([4,4,4,2147483647],dtype=int32))"
   ]
  },
  {
   "cell_type": "markdown",
   "id": "36b2fc73",
   "metadata": {},
   "source": [
    "# 42. bitwise_or()"
   ]
  },
  {
   "cell_type": "code",
   "execution_count": 320,
   "id": "bfa0d940",
   "metadata": {},
   "outputs": [
    {
     "data": {
      "text/plain": [
       "array([  6,   5, 255])"
      ]
     },
     "execution_count": 320,
     "metadata": {},
     "output_type": "execute_result"
    }
   ],
   "source": [
    "bitwise_or(array([2,5,255]), array([4,4,4]))"
   ]
  },
  {
   "cell_type": "code",
   "execution_count": 321,
   "id": "1de66332",
   "metadata": {},
   "outputs": [
    {
     "ename": "SyntaxError",
     "evalue": "invalid decimal literal (303688444.py, line 1)",
     "output_type": "error",
     "traceback": [
      "\u001b[1;36m  Cell \u001b[1;32mIn[321], line 1\u001b[1;36m\u001b[0m\n\u001b[1;33m    bitwise_or(array([2,5,255,2147483647L],dtype=int32), array([4,4,4,2147483647L],dtype=int32))\u001b[0m\n\u001b[1;37m                                       ^\u001b[0m\n\u001b[1;31mSyntaxError\u001b[0m\u001b[1;31m:\u001b[0m invalid decimal literal\n"
     ]
    }
   ],
   "source": [
    "bitwise_or(array([2,5,255,2147483647L],dtype=int32), array([4,4,4,2147483647L],dtype=int32))\n",
    "'''\n",
    "The issue is with the \"2147483647L\" value in both arrays. \n",
    "In Python 2, adding an 'L' to the end of an integer literal denotes a long integer. \n",
    "However, Python 3 does not support the 'L' suffix for long integers, and instead, all integers are considered \n",
    "to be long by default.\n",
    "'''"
   ]
  },
  {
   "cell_type": "code",
   "execution_count": 322,
   "id": "623f7e58",
   "metadata": {},
   "outputs": [
    {
     "data": {
      "text/plain": [
       "array([         6,          5,        255, 2147483647])"
      ]
     },
     "execution_count": 322,
     "metadata": {},
     "output_type": "execute_result"
    }
   ],
   "source": [
    "bitwise_or(array([2,5,255,2147483647],dtype=int32), array([4,4,4,2147483647],dtype=int32))"
   ]
  },
  {
   "cell_type": "markdown",
   "id": "844c2be1",
   "metadata": {},
   "source": [
    "# 43. bitwise_xor()"
   ]
  },
  {
   "cell_type": "code",
   "execution_count": 323,
   "id": "4b9b30d4",
   "metadata": {},
   "outputs": [
    {
     "data": {
      "text/plain": [
       "array([  6,   1, 251])"
      ]
     },
     "execution_count": 323,
     "metadata": {},
     "output_type": "execute_result"
    }
   ],
   "source": [
    "bitwise_xor(array([2,5,255]), array([4,4,4]))"
   ]
  },
  {
   "cell_type": "code",
   "execution_count": 324,
   "id": "c1165c4e",
   "metadata": {},
   "outputs": [
    {
     "data": {
      "text/plain": [
       "array([  6,   1, 251,   0])"
      ]
     },
     "execution_count": 324,
     "metadata": {},
     "output_type": "execute_result"
    }
   ],
   "source": [
    "bitwise_xor(array([2,5,255,2147483647],dtype=int32), array([4,4,4,2147483647],dtype=int32))"
   ]
  },
  {
   "cell_type": "markdown",
   "id": "68f99abe",
   "metadata": {},
   "source": [
    "# 44. bmat()"
   ]
  },
  {
   "cell_type": "code",
   "execution_count": 325,
   "id": "1da3d0cd",
   "metadata": {},
   "outputs": [
    {
     "data": {
      "text/plain": [
       "matrix([[1, 2, 5, 6],\n",
       "        [3, 4, 7, 8],\n",
       "        [5, 6, 1, 2],\n",
       "        [7, 8, 3, 4]])"
      ]
     },
     "execution_count": 325,
     "metadata": {},
     "output_type": "execute_result"
    }
   ],
   "source": [
    "a = mat('1 2;3 4')\n",
    "b = mat('5 6;7 8')\n",
    "bmat('a b;b a')"
   ]
  },
  {
   "cell_type": "markdown",
   "id": "2e817c90",
   "metadata": {},
   "source": [
    "# 45. broadcast()"
   ]
  },
  {
   "cell_type": "code",
   "execution_count": 326,
   "id": "1393d6db",
   "metadata": {},
   "outputs": [
    {
     "name": "stdout",
     "output_type": "stream",
     "text": [
      "<numpy.broadcast object at 0x00000164014B4F70>\n"
     ]
    }
   ],
   "source": [
    "a = array([[1,2],[3,4]])\n",
    "b = array([5,6])\n",
    "c= broadcast(a,b)\n",
    "print(c)"
   ]
  },
  {
   "cell_type": "code",
   "execution_count": 327,
   "id": "88664174",
   "metadata": {},
   "outputs": [
    {
     "data": {
      "text/plain": [
       "2"
      ]
     },
     "execution_count": 327,
     "metadata": {},
     "output_type": "execute_result"
    }
   ],
   "source": [
    "c.nd"
   ]
  },
  {
   "cell_type": "code",
   "execution_count": 328,
   "id": "7315158f",
   "metadata": {},
   "outputs": [
    {
     "data": {
      "text/plain": [
       "(2, 2)"
      ]
     },
     "execution_count": 328,
     "metadata": {},
     "output_type": "execute_result"
    }
   ],
   "source": [
    "c.shape"
   ]
  },
  {
   "cell_type": "code",
   "execution_count": 329,
   "id": "553dddfd",
   "metadata": {},
   "outputs": [
    {
     "data": {
      "text/plain": [
       "4"
      ]
     },
     "execution_count": 329,
     "metadata": {},
     "output_type": "execute_result"
    }
   ],
   "source": [
    "c.size"
   ]
  },
  {
   "cell_type": "code",
   "execution_count": 330,
   "id": "f3c621bf",
   "metadata": {},
   "outputs": [
    {
     "name": "stdout",
     "output_type": "stream",
     "text": [
      "(1, 5)\n",
      "(2, 6)\n",
      "(3, 5)\n",
      "(4, 6)\n"
     ]
    }
   ],
   "source": [
    "for i in c: \n",
    "    print(i)"
   ]
  },
  {
   "cell_type": "code",
   "execution_count": 331,
   "id": "5c19a0a4",
   "metadata": {},
   "outputs": [],
   "source": [
    "c.reset()"
   ]
  },
  {
   "cell_type": "code",
   "execution_count": 332,
   "id": "f564bec0",
   "metadata": {},
   "outputs": [
    {
     "ename": "AttributeError",
     "evalue": "'numpy.broadcast' object has no attribute 'next'",
     "output_type": "error",
     "traceback": [
      "\u001b[1;31m---------------------------------------------------------------------------\u001b[0m",
      "\u001b[1;31mAttributeError\u001b[0m                            Traceback (most recent call last)",
      "Cell \u001b[1;32mIn[332], line 1\u001b[0m\n\u001b[1;32m----> 1\u001b[0m c\u001b[38;5;241m.\u001b[39mnext()\n",
      "\u001b[1;31mAttributeError\u001b[0m: 'numpy.broadcast' object has no attribute 'next'"
     ]
    }
   ],
   "source": [
    "c.next()"
   ]
  },
  {
   "cell_type": "markdown",
   "id": "6118f0d2",
   "metadata": {},
   "source": [
    "# 46. bytes()"
   ]
  },
  {
   "cell_type": "code",
   "execution_count": 333,
   "id": "20da8b67",
   "metadata": {},
   "outputs": [],
   "source": [
    "from numpy import *\n",
    "from numpy.random import bytes"
   ]
  },
  {
   "cell_type": "code",
   "execution_count": 334,
   "id": "c9b80159",
   "metadata": {},
   "outputs": [
    {
     "name": "stdout",
     "output_type": "stream",
     "text": [
      "b'\\xec\\xca\\xd6[\\x99'\n"
     ]
    }
   ],
   "source": [
    "print(repr(bytes(5)))  #string of five random bytes"
   ]
  },
  {
   "cell_type": "code",
   "execution_count": 335,
   "id": "93b5b7ec",
   "metadata": {},
   "outputs": [
    {
     "name": "stdout",
     "output_type": "stream",
     "text": [
      "b'\\xa4V\\x9f\\x03\\xbe'\n"
     ]
    }
   ],
   "source": [
    "print(repr(bytes(5)))"
   ]
  },
  {
   "cell_type": "markdown",
   "id": "d5bd06af",
   "metadata": {},
   "source": [
    "# 47. c_[]"
   ]
  },
  {
   "cell_type": "code",
   "execution_count": 336,
   "id": "d81f3f42",
   "metadata": {},
   "outputs": [
    {
     "data": {
      "text/plain": [
       "array([0, 1, 2, 3, 4])"
      ]
     },
     "execution_count": 336,
     "metadata": {},
     "output_type": "execute_result"
    }
   ],
   "source": [
    "arange(0,5)"
   ]
  },
  {
   "cell_type": "code",
   "execution_count": 337,
   "id": "de4ba62d",
   "metadata": {},
   "outputs": [
    {
     "data": {
      "text/plain": [
       "array([[1],\n",
       "       [2],\n",
       "       [3],\n",
       "       [4]])"
      ]
     },
     "execution_count": 337,
     "metadata": {},
     "output_type": "execute_result"
    }
   ],
   "source": [
    "c_[1:5]"
   ]
  },
  {
   "cell_type": "code",
   "execution_count": 338,
   "id": "98d34f0e",
   "metadata": {},
   "outputs": [
    {
     "data": {
      "text/plain": [
       "array([[1, 5],\n",
       "       [2, 6],\n",
       "       [3, 7]])"
      ]
     },
     "execution_count": 338,
     "metadata": {},
     "output_type": "execute_result"
    }
   ],
   "source": [
    "c_[1:4,5:8]"
   ]
  },
  {
   "cell_type": "code",
   "execution_count": 339,
   "id": "2194483b",
   "metadata": {},
   "outputs": [],
   "source": [
    "a = array([[1,2,3],[5,6,7]])"
   ]
  },
  {
   "cell_type": "code",
   "execution_count": 340,
   "id": "1737855d",
   "metadata": {},
   "outputs": [
    {
     "data": {
      "text/plain": [
       "array([[1, 2, 3, 1, 2, 3],\n",
       "       [5, 6, 7, 5, 6, 7]])"
      ]
     },
     "execution_count": 340,
     "metadata": {},
     "output_type": "execute_result"
    }
   ],
   "source": [
    "c_[a,a]  # along column axis"
   ]
  },
  {
   "cell_type": "code",
   "execution_count": 341,
   "id": "532bd574",
   "metadata": {},
   "outputs": [
    {
     "data": {
      "text/plain": [
       "array([[1, 2, 3],\n",
       "       [5, 6, 7],\n",
       "       [1, 2, 3],\n",
       "       [5, 6, 7]])"
      ]
     },
     "execution_count": 341,
     "metadata": {},
     "output_type": "execute_result"
    }
   ],
   "source": [
    "c_['0',a,a]  #along row axis"
   ]
  },
  {
   "cell_type": "markdown",
   "id": "bce16619",
   "metadata": {},
   "source": [
    "# 48. cast[] ()"
   ]
  },
  {
   "cell_type": "code",
   "execution_count": 342,
   "id": "c457a51b",
   "metadata": {},
   "outputs": [],
   "source": [
    "from numpy import *\n",
    "x = arange(6)"
   ]
  },
  {
   "cell_type": "code",
   "execution_count": 343,
   "id": "55c4d3e8",
   "metadata": {},
   "outputs": [
    {
     "data": {
      "text/plain": [
       "array([0, 1, 2, 3, 4, 5])"
      ]
     },
     "execution_count": 343,
     "metadata": {},
     "output_type": "execute_result"
    }
   ],
   "source": [
    "x"
   ]
  },
  {
   "cell_type": "code",
   "execution_count": 344,
   "id": "7a505fd8",
   "metadata": {},
   "outputs": [
    {
     "data": {
      "text/plain": [
       "dtype('int32')"
      ]
     },
     "execution_count": 344,
     "metadata": {},
     "output_type": "execute_result"
    }
   ],
   "source": [
    "x.dtype"
   ]
  },
  {
   "cell_type": "code",
   "execution_count": 345,
   "id": "da0be082",
   "metadata": {},
   "outputs": [
    {
     "data": {
      "text/plain": [
       "array([0, 1, 2, 3, 4, 5], dtype=int64)"
      ]
     },
     "execution_count": 345,
     "metadata": {},
     "output_type": "execute_result"
    }
   ],
   "source": [
    "cast['int64'](x)"
   ]
  },
  {
   "cell_type": "code",
   "execution_count": 346,
   "id": "750ea473",
   "metadata": {},
   "outputs": [
    {
     "data": {
      "text/plain": [
       "array([0, 1, 2, 3, 4, 5], dtype=uint32)"
      ]
     },
     "execution_count": 346,
     "metadata": {},
     "output_type": "execute_result"
    }
   ],
   "source": [
    "cast['uint'](x)"
   ]
  },
  {
   "cell_type": "code",
   "execution_count": 347,
   "id": "8dea47cf",
   "metadata": {},
   "outputs": [
    {
     "ename": "NameError",
     "evalue": "name 'float128' is not defined",
     "output_type": "error",
     "traceback": [
      "\u001b[1;31m---------------------------------------------------------------------------\u001b[0m",
      "\u001b[1;31mNameError\u001b[0m                                 Traceback (most recent call last)",
      "Cell \u001b[1;32mIn[347], line 1\u001b[0m\n\u001b[1;32m----> 1\u001b[0m cast[float128](x)\n",
      "\u001b[1;31mNameError\u001b[0m: name 'float128' is not defined"
     ]
    }
   ],
   "source": [
    "cast[float128](x)"
   ]
  },
  {
   "cell_type": "code",
   "execution_count": 348,
   "id": "05a8781d",
   "metadata": {},
   "outputs": [
    {
     "data": {
      "text/plain": [
       "dict_keys([<class 'numpy.timedelta64'>, <class 'numpy.clongdouble'>, <class 'numpy.uintc'>, <class 'numpy.int64'>, <class 'numpy.void'>, <class 'numpy.int8'>, <class 'numpy.longdouble'>, <class 'numpy.uint32'>, <class 'numpy.int16'>, <class 'numpy.uint64'>, <class 'numpy.intc'>, <class 'numpy.uint8'>, <class 'numpy.float64'>, <class 'numpy.bool_'>, <class 'numpy.float32'>, <class 'numpy.datetime64'>, <class 'numpy.str_'>, <class 'numpy.object_'>, <class 'numpy.complex64'>, <class 'numpy.uint16'>, <class 'numpy.bytes_'>, <class 'numpy.float16'>, <class 'numpy.complex128'>, <class 'numpy.int32'>])"
      ]
     },
     "execution_count": 348,
     "metadata": {},
     "output_type": "execute_result"
    }
   ],
   "source": [
    "cast.keys()"
   ]
  },
  {
   "cell_type": "markdown",
   "id": "3f09980e",
   "metadata": {},
   "source": [
    "# 49. ceil()"
   ]
  },
  {
   "cell_type": "code",
   "execution_count": 349,
   "id": "d4c748c8",
   "metadata": {},
   "outputs": [],
   "source": [
    "a = array([-1.4,-2.8,2,7.090])"
   ]
  },
  {
   "cell_type": "code",
   "execution_count": 350,
   "id": "09d7c5d1",
   "metadata": {},
   "outputs": [
    {
     "data": {
      "text/plain": [
       "array([-1., -2.,  2.,  8.])"
      ]
     },
     "execution_count": 350,
     "metadata": {},
     "output_type": "execute_result"
    }
   ],
   "source": [
    "ceil(a)"
   ]
  },
  {
   "cell_type": "markdown",
   "id": "1df5ecdf",
   "metadata": {},
   "source": [
    "# 50. choose()"
   ]
  },
  {
   "cell_type": "code",
   "execution_count": 351,
   "id": "501528d4",
   "metadata": {},
   "outputs": [
    {
     "data": {
      "text/plain": [
       "array([10, 12, 34, 26])"
      ]
     },
     "execution_count": 351,
     "metadata": {},
     "output_type": "execute_result"
    }
   ],
   "source": [
    "choice0 =array([10,12,14,16]) # selector and choice arrays must be equally sized\n",
    "choice1 =array([20,22,24,26])\n",
    "choice2 =array([30,32,34,36])\n",
    "selector = array([0,0,2,1]) # selector can only contain integers in range(number_of_choice_arrays)\n",
    "selector.choose(choice0,choice1,choice2)"
   ]
  },
  {
   "cell_type": "code",
   "execution_count": 352,
   "id": "676ab230",
   "metadata": {},
   "outputs": [
    {
     "data": {
      "text/plain": [
       "array([10, 12, 24, 26])"
      ]
     },
     "execution_count": 352,
     "metadata": {},
     "output_type": "execute_result"
    }
   ],
   "source": [
    "a = arange(4)\n",
    "choose(a >= 2, (choice0, choice1)) # separate function also exists"
   ]
  },
  {
   "cell_type": "markdown",
   "id": "9aa23187",
   "metadata": {},
   "source": [
    "# 51. clip()"
   ]
  },
  {
   "cell_type": "code",
   "execution_count": 353,
   "id": "0698a654",
   "metadata": {},
   "outputs": [
    {
     "data": {
      "text/plain": [
       "array([ 5, 15, 25,  3, 13])"
      ]
     },
     "execution_count": 353,
     "metadata": {},
     "output_type": "execute_result"
    }
   ],
   "source": [
    "from numpy import *\n",
    "a = array([5,15,25,3,13])\n",
    "a"
   ]
  },
  {
   "cell_type": "code",
   "execution_count": 354,
   "id": "65863a47",
   "metadata": {},
   "outputs": [
    {
     "data": {
      "text/plain": [
       "array([10, 15, 20, 10, 13])"
      ]
     },
     "execution_count": 354,
     "metadata": {},
     "output_type": "execute_result"
    }
   ],
   "source": [
    "a.clip(min=10,max=20)"
   ]
  },
  {
   "cell_type": "code",
   "execution_count": 355,
   "id": "48a2d181",
   "metadata": {},
   "outputs": [
    {
     "data": {
      "text/plain": [
       "array([10, 15, 20, 10, 13])"
      ]
     },
     "execution_count": 355,
     "metadata": {},
     "output_type": "execute_result"
    }
   ],
   "source": [
    "clip(a,10,20)"
   ]
  },
  {
   "cell_type": "code",
   "execution_count": 356,
   "id": "bbd22a00",
   "metadata": {},
   "outputs": [
    {
     "data": {
      "text/plain": [
       "array([ 6, 10, 11,  4, 39])"
      ]
     },
     "execution_count": 356,
     "metadata": {},
     "output_type": "execute_result"
    }
   ],
   "source": [
    "b = array([6,10,11,4,39])\n",
    "b"
   ]
  },
  {
   "cell_type": "code",
   "execution_count": 357,
   "id": "d02350f7",
   "metadata": {},
   "outputs": [
    {
     "data": {
      "text/plain": [
       "array([ 8, 10, 11,  8, 15])"
      ]
     },
     "execution_count": 357,
     "metadata": {},
     "output_type": "execute_result"
    }
   ],
   "source": [
    "b.clip(min=8, max=15 )"
   ]
  },
  {
   "cell_type": "markdown",
   "id": "9f66838a",
   "metadata": {},
   "source": [
    "# 52. column_stack()"
   ]
  },
  {
   "cell_type": "code",
   "execution_count": 358,
   "id": "b8d0bca4",
   "metadata": {},
   "outputs": [
    {
     "data": {
      "text/plain": [
       "array([[1, 4, 7],\n",
       "       [2, 5, 8],\n",
       "       [3, 6, 9]])"
      ]
     },
     "execution_count": 358,
     "metadata": {},
     "output_type": "execute_result"
    }
   ],
   "source": [
    "a = array([1,2,3])\n",
    "b = array([4,5,6])\n",
    "c = array([7,8,9])\n",
    "column_stack((a,b,c))"
   ]
  },
  {
   "cell_type": "markdown",
   "id": "3f27a1cd",
   "metadata": {},
   "source": [
    "# 53. compress()"
   ]
  },
  {
   "cell_type": "code",
   "execution_count": 359,
   "id": "103f04a1",
   "metadata": {},
   "outputs": [
    {
     "data": {
      "text/plain": [
       "array([False, False,  True,  True, False])"
      ]
     },
     "execution_count": 359,
     "metadata": {},
     "output_type": "execute_result"
    }
   ],
   "source": [
    "a = array([10,20,30,40,50])\n",
    "condition = (a>25) & (a<45)\n",
    "condition"
   ]
  },
  {
   "cell_type": "code",
   "execution_count": 360,
   "id": "e4472e99",
   "metadata": {},
   "outputs": [
    {
     "data": {
      "text/plain": [
       "array([30, 40])"
      ]
     },
     "execution_count": 360,
     "metadata": {},
     "output_type": "execute_result"
    }
   ],
   "source": [
    "a.compress(condition)"
   ]
  },
  {
   "cell_type": "code",
   "execution_count": 361,
   "id": "f8c095b7",
   "metadata": {},
   "outputs": [
    {
     "data": {
      "text/plain": [
       "array([30, 40])"
      ]
     },
     "execution_count": 361,
     "metadata": {},
     "output_type": "execute_result"
    }
   ],
   "source": [
    "a[condition]"
   ]
  },
  {
   "cell_type": "code",
   "execution_count": 362,
   "id": "bbffca59",
   "metadata": {},
   "outputs": [
    {
     "data": {
      "text/plain": [
       "array([30, 40, 50])"
      ]
     },
     "execution_count": 362,
     "metadata": {},
     "output_type": "execute_result"
    }
   ],
   "source": [
    "compress(a>=30, a)"
   ]
  },
  {
   "cell_type": "code",
   "execution_count": 363,
   "id": "ce764eb6",
   "metadata": {},
   "outputs": [
    {
     "data": {
      "text/plain": [
       "array([[10, 20, 30],\n",
       "       [40, 50, 60]])"
      ]
     },
     "execution_count": 363,
     "metadata": {},
     "output_type": "execute_result"
    }
   ],
   "source": [
    "b = array([[10,20,30],[40,50,60]])\n",
    "b"
   ]
  },
  {
   "cell_type": "code",
   "execution_count": 364,
   "id": "1b9ea096",
   "metadata": {},
   "outputs": [
    {
     "data": {
      "text/plain": [
       "array([30, 40, 50, 60])"
      ]
     },
     "execution_count": 364,
     "metadata": {},
     "output_type": "execute_result"
    }
   ],
   "source": [
    "b.compress(b.ravel() >= 22)"
   ]
  },
  {
   "cell_type": "code",
   "execution_count": 365,
   "id": "bf741523",
   "metadata": {},
   "outputs": [],
   "source": [
    "x = array([3,1,2])\n",
    "y = array([50,101])"
   ]
  },
  {
   "cell_type": "code",
   "execution_count": 366,
   "id": "825a5149",
   "metadata": {},
   "outputs": [
    {
     "data": {
      "text/plain": [
       "array([[10, 30],\n",
       "       [40, 60]])"
      ]
     },
     "execution_count": 366,
     "metadata": {},
     "output_type": "execute_result"
    }
   ],
   "source": [
    "b.compress(x>=2, axis=1)"
   ]
  },
  {
   "cell_type": "code",
   "execution_count": 367,
   "id": "cb585b69",
   "metadata": {},
   "outputs": [
    {
     "data": {
      "text/plain": [
       "array([[40, 50, 60]])"
      ]
     },
     "execution_count": 367,
     "metadata": {},
     "output_type": "execute_result"
    }
   ],
   "source": [
    "b.compress(y>100, axis=0)"
   ]
  },
  {
   "cell_type": "markdown",
   "id": "6937aeba",
   "metadata": {},
   "source": [
    "# 54. concatenate()"
   ]
  },
  {
   "cell_type": "code",
   "execution_count": 368,
   "id": "74312edb",
   "metadata": {},
   "outputs": [],
   "source": [
    "x = ([[1,2],[3,4]])\n",
    "y = ([[5,6],[7,8]])"
   ]
  },
  {
   "cell_type": "code",
   "execution_count": 369,
   "id": "a5ec8ea6",
   "metadata": {},
   "outputs": [
    {
     "data": {
      "text/plain": [
       "array([[1, 2],\n",
       "       [3, 4],\n",
       "       [5, 6],\n",
       "       [7, 8]])"
      ]
     },
     "execution_count": 369,
     "metadata": {},
     "output_type": "execute_result"
    }
   ],
   "source": [
    "concatenate((x,y))"
   ]
  },
  {
   "cell_type": "code",
   "execution_count": 370,
   "id": "e1399258",
   "metadata": {},
   "outputs": [
    {
     "data": {
      "text/plain": [
       "array([[1, 2, 5, 6],\n",
       "       [3, 4, 7, 8]])"
      ]
     },
     "execution_count": 370,
     "metadata": {},
     "output_type": "execute_result"
    }
   ],
   "source": [
    "concatenate((x,y), axis=1)"
   ]
  },
  {
   "cell_type": "markdown",
   "id": "75c3b829",
   "metadata": {},
   "source": [
    "# 55. conj()\n",
    "# 56. conjugate()"
   ]
  },
  {
   "cell_type": "code",
   "execution_count": 371,
   "id": "9dbb985d",
   "metadata": {},
   "outputs": [
    {
     "data": {
      "text/plain": [
       "array([1.-2.j, 5.+6.j])"
      ]
     },
     "execution_count": 371,
     "metadata": {},
     "output_type": "execute_result"
    }
   ],
   "source": [
    "a = array([1+2j, 5-6j])\n",
    "a.conj()"
   ]
  },
  {
   "cell_type": "code",
   "execution_count": 372,
   "id": "6fc12257",
   "metadata": {},
   "outputs": [
    {
     "data": {
      "text/plain": [
       "array([1.-2.j, 5.+6.j])"
      ]
     },
     "execution_count": 372,
     "metadata": {},
     "output_type": "execute_result"
    }
   ],
   "source": [
    "a.conjugate()"
   ]
  },
  {
   "cell_type": "code",
   "execution_count": 373,
   "id": "7187629b",
   "metadata": {},
   "outputs": [
    {
     "data": {
      "text/plain": [
       "array([1.-2.j, 5.+6.j])"
      ]
     },
     "execution_count": 373,
     "metadata": {},
     "output_type": "execute_result"
    }
   ],
   "source": [
    "conj(a)"
   ]
  },
  {
   "cell_type": "markdown",
   "id": "bca9dcc4",
   "metadata": {},
   "source": [
    "# 57. copy()"
   ]
  },
  {
   "cell_type": "code",
   "execution_count": 374,
   "id": "f31a68d9",
   "metadata": {},
   "outputs": [
    {
     "data": {
      "text/plain": [
       "array([1, 2, 3])"
      ]
     },
     "execution_count": 374,
     "metadata": {},
     "output_type": "execute_result"
    }
   ],
   "source": [
    "a =array([1,2,3])\n",
    "a"
   ]
  },
  {
   "cell_type": "code",
   "execution_count": 375,
   "id": "d96df8f3",
   "metadata": {},
   "outputs": [],
   "source": [
    "b = a #b is reference to a"
   ]
  },
  {
   "cell_type": "code",
   "execution_count": 376,
   "id": "ef4e547c",
   "metadata": {},
   "outputs": [],
   "source": [
    "b[1] = 4"
   ]
  },
  {
   "cell_type": "code",
   "execution_count": 377,
   "id": "8b3b1417",
   "metadata": {},
   "outputs": [
    {
     "data": {
      "text/plain": [
       "array([1, 4, 3])"
      ]
     },
     "execution_count": 377,
     "metadata": {},
     "output_type": "execute_result"
    }
   ],
   "source": [
    "a"
   ]
  },
  {
   "cell_type": "code",
   "execution_count": 378,
   "id": "db525c5b",
   "metadata": {},
   "outputs": [],
   "source": [
    "a1 = array([5,6,7])"
   ]
  },
  {
   "cell_type": "code",
   "execution_count": 379,
   "id": "f530395f",
   "metadata": {},
   "outputs": [],
   "source": [
    "b1 = a1.copy()"
   ]
  },
  {
   "cell_type": "code",
   "execution_count": 380,
   "id": "183c12ab",
   "metadata": {},
   "outputs": [
    {
     "data": {
      "text/plain": [
       "array([5, 6, 7])"
      ]
     },
     "execution_count": 380,
     "metadata": {},
     "output_type": "execute_result"
    }
   ],
   "source": [
    "b1"
   ]
  },
  {
   "cell_type": "code",
   "execution_count": 381,
   "id": "d382262c",
   "metadata": {},
   "outputs": [
    {
     "data": {
      "text/plain": [
       "array([ 5, 10,  7])"
      ]
     },
     "execution_count": 381,
     "metadata": {},
     "output_type": "execute_result"
    }
   ],
   "source": [
    "b1[1]=10\n",
    "b1"
   ]
  },
  {
   "cell_type": "code",
   "execution_count": 382,
   "id": "59dd4a3c",
   "metadata": {},
   "outputs": [
    {
     "data": {
      "text/plain": [
       "array([5, 6, 7])"
      ]
     },
     "execution_count": 382,
     "metadata": {},
     "output_type": "execute_result"
    }
   ],
   "source": [
    "a1"
   ]
  },
  {
   "cell_type": "markdown",
   "id": "fde45253",
   "metadata": {},
   "source": [
    "# 58. corrcoef()"
   ]
  },
  {
   "cell_type": "code",
   "execution_count": 383,
   "id": "6b4cf0f0",
   "metadata": {},
   "outputs": [
    {
     "name": "stdout",
     "output_type": "stream",
     "text": [
      "[[ 1.         -0.86340489]\n",
      " [-0.86340489  1.        ]]\n"
     ]
    }
   ],
   "source": [
    "T = array([1.8, 2.7, 1.0, 3.7, 1.8])\n",
    "P = array([2.0, 1.6, 3.1, 0.5, 1.2])\n",
    "print(corrcoef([T,P]))"
   ]
  },
  {
   "cell_type": "code",
   "execution_count": 384,
   "id": "c0ff135d",
   "metadata": {},
   "outputs": [
    {
     "data": {
      "text/plain": [
       "array([[1.8, 2. , 3. ],\n",
       "       [2.7, 1.6, 7.1],\n",
       "       [1. , 3.1, 1.9],\n",
       "       [3.7, 0.5, 0.7],\n",
       "       [1.8, 1.2, 3.9]])"
      ]
     },
     "execution_count": 384,
     "metadata": {},
     "output_type": "execute_result"
    }
   ],
   "source": [
    "r = array([3.0, 7.1, 1.9, 0.7, 3.9])\n",
    "data = column_stack([T,P,r])\n",
    "data"
   ]
  },
  {
   "cell_type": "code",
   "execution_count": 385,
   "id": "40d4dc1e",
   "metadata": {},
   "outputs": [
    {
     "name": "stdout",
     "output_type": "stream",
     "text": [
      "[[ 1.         -0.86340489 -0.04387512]\n",
      " [-0.86340489  1.          0.04167318]\n",
      " [-0.04387512  0.04167318  1.        ]]\n"
     ]
    }
   ],
   "source": [
    "print(corrcoef([T,P,r]))"
   ]
  },
  {
   "cell_type": "code",
   "execution_count": 386,
   "id": "a4e7c791",
   "metadata": {},
   "outputs": [
    {
     "name": "stdout",
     "output_type": "stream",
     "text": [
      "[[ 1.          0.94063416  0.07381732 -0.58425442  0.9325469 ]\n",
      " [ 0.94063416  1.         -0.269061   -0.27410467  0.99973344]\n",
      " [ 0.07381732 -0.269061    1.         -0.85248451 -0.29122573]\n",
      " [-0.58425442 -0.27410467 -0.85248451  1.         -0.25182802]\n",
      " [ 0.9325469   0.99973344 -0.29122573 -0.25182802  1.        ]]\n"
     ]
    }
   ],
   "source": [
    "print(corrcoef(data))"
   ]
  },
  {
   "cell_type": "markdown",
   "id": "e5773cf2",
   "metadata": {},
   "source": [
    "# 59. cos()"
   ]
  },
  {
   "cell_type": "code",
   "execution_count": 387,
   "id": "c0012a11",
   "metadata": {},
   "outputs": [
    {
     "data": {
      "text/plain": [
       "array([ 1.000000e+00,  6.123234e-17, -1.000000e+00])"
      ]
     },
     "execution_count": 387,
     "metadata": {},
     "output_type": "execute_result"
    }
   ],
   "source": [
    "cos(array([0,pi/2,pi]))"
   ]
  },
  {
   "cell_type": "markdown",
   "id": "479bab9d",
   "metadata": {},
   "source": [
    "# 60. cov()"
   ]
  },
  {
   "cell_type": "code",
   "execution_count": 388,
   "id": "9553fa1f",
   "metadata": {},
   "outputs": [],
   "source": [
    "x = array([1., 3., 7., 2.])"
   ]
  },
  {
   "cell_type": "code",
   "execution_count": 389,
   "id": "a1757190",
   "metadata": {},
   "outputs": [
    {
     "data": {
      "text/plain": [
       "array(6.91666667)"
      ]
     },
     "execution_count": 389,
     "metadata": {},
     "output_type": "execute_result"
    }
   ],
   "source": [
    "variance = cov(x)  # normalised by N-1\n",
    "variance"
   ]
  },
  {
   "cell_type": "code",
   "execution_count": 390,
   "id": "962da99f",
   "metadata": {},
   "outputs": [
    {
     "data": {
      "text/plain": [
       "array(5.1875)"
      ]
     },
     "execution_count": 390,
     "metadata": {},
     "output_type": "execute_result"
    }
   ],
   "source": [
    "variance = cov(x, bias =1)  # Normalised by N\n",
    "variance"
   ]
  },
  {
   "cell_type": "code",
   "execution_count": 391,
   "id": "ebfae859",
   "metadata": {},
   "outputs": [],
   "source": [
    "T = array([1.8, 2.7, 1.0, 3.7])\n",
    "P = array([2.0, 1.6, 3.1, 0.5])"
   ]
  },
  {
   "cell_type": "code",
   "execution_count": 392,
   "id": "1469c5b4",
   "metadata": {},
   "outputs": [
    {
     "data": {
      "text/plain": [
       "array([[ 1.35333333, -1.23      ],\n",
       "       [-1.23      ,  1.15333333]])"
      ]
     },
     "execution_count": 392,
     "metadata": {},
     "output_type": "execute_result"
    }
   ],
   "source": [
    "cov(T,P)"
   ]
  },
  {
   "cell_type": "code",
   "execution_count": 393,
   "id": "acb21357",
   "metadata": {},
   "outputs": [
    {
     "data": {
      "text/plain": [
       "array([[1.97583333, 3.95416667],\n",
       "       [3.95416667, 8.22916667]])"
      ]
     },
     "execution_count": 393,
     "metadata": {},
     "output_type": "execute_result"
    }
   ],
   "source": [
    "T = array([1.3, 4.5, 2.8, 3.9]) # temperature measurements\n",
    "P = array([2.7, 8.7, 4.7, 8.2]) # corresponding pressure measurements\n",
    "cov(T,P) # covariance between temperature and pressure\n"
   ]
  },
  {
   "cell_type": "code",
   "execution_count": 394,
   "id": "56e436cb",
   "metadata": {},
   "outputs": [],
   "source": [
    "den = array([1,7,2.,3.])"
   ]
  },
  {
   "cell_type": "code",
   "execution_count": 395,
   "id": "890a4096",
   "metadata": {},
   "outputs": [],
   "source": [
    "data = column_stack([T,P,den])"
   ]
  },
  {
   "cell_type": "code",
   "execution_count": 396,
   "id": "f988a587",
   "metadata": {},
   "outputs": [
    {
     "data": {
      "text/plain": [
       "array([[1.3, 2.7, 1. ],\n",
       "       [4.5, 8.7, 7. ],\n",
       "       [2.8, 4.7, 2. ],\n",
       "       [3.9, 8.2, 3. ]])"
      ]
     },
     "execution_count": 396,
     "metadata": {},
     "output_type": "execute_result"
    }
   ],
   "source": [
    "data"
   ]
  },
  {
   "cell_type": "code",
   "execution_count": 397,
   "id": "7f655af0",
   "metadata": {},
   "outputs": [
    {
     "data": {
      "text/plain": [
       "array([[1.97583333, 3.95416667, 3.15833333],\n",
       "       [3.95416667, 8.22916667, 6.20833333],\n",
       "       [3.15833333, 6.20833333, 6.91666667]])"
      ]
     },
     "execution_count": 397,
     "metadata": {},
     "output_type": "execute_result"
    }
   ],
   "source": [
    "cov([T,P,den])"
   ]
  },
  {
   "cell_type": "code",
   "execution_count": 398,
   "id": "86aef24b",
   "metadata": {},
   "outputs": [
    {
     "name": "stdout",
     "output_type": "stream",
     "text": [
      "[[0.82333333 1.33666667 1.24833333 2.52166667]\n",
      " [1.33666667 4.46333333 1.76166667 4.10833333]\n",
      " [1.24833333 1.76166667 1.92333333 3.82166667]\n",
      " [2.52166667 4.10833333 3.82166667 7.72333333]]\n"
     ]
    }
   ],
   "source": [
    "print(cov(data))"
   ]
  },
  {
   "cell_type": "markdown",
   "id": "2e477558",
   "metadata": {},
   "source": [
    "# 61.cross()"
   ]
  },
  {
   "cell_type": "code",
   "execution_count": 399,
   "id": "15d07610",
   "metadata": {},
   "outputs": [
    {
     "data": {
      "text/plain": [
       "array([-3,  6, -3])"
      ]
     },
     "execution_count": 399,
     "metadata": {},
     "output_type": "execute_result"
    }
   ],
   "source": [
    "x = array([1,2,3])\n",
    "y = array([4,5,6])\n",
    "cross(x,y)  #vector cross product"
   ]
  },
  {
   "cell_type": "markdown",
   "id": "c5244e80",
   "metadata": {},
   "source": [
    "# 62. cumprod()"
   ]
  },
  {
   "cell_type": "code",
   "execution_count": 400,
   "id": "071aa4cd",
   "metadata": {},
   "outputs": [
    {
     "data": {
      "text/plain": [
       "array([1, 2, 6])"
      ]
     },
     "execution_count": 400,
     "metadata": {},
     "output_type": "execute_result"
    }
   ],
   "source": [
    "a = array([1,2,3])\n",
    "a.cumprod()"
   ]
  },
  {
   "cell_type": "code",
   "execution_count": 401,
   "id": "6d477b7e",
   "metadata": {},
   "outputs": [],
   "source": [
    "a= array([[1,2,3],[4,5,6]])"
   ]
  },
  {
   "cell_type": "code",
   "execution_count": 402,
   "id": "fd145701",
   "metadata": {},
   "outputs": [
    {
     "data": {
      "text/plain": [
       "array([  1.,   2.,   6.,  24., 120., 720.])"
      ]
     },
     "execution_count": 402,
     "metadata": {},
     "output_type": "execute_result"
    }
   ],
   "source": [
    "a.cumprod(dtype=float)"
   ]
  },
  {
   "cell_type": "code",
   "execution_count": 403,
   "id": "16aeb022",
   "metadata": {},
   "outputs": [
    {
     "data": {
      "text/plain": [
       "array([[ 1,  2,  3],\n",
       "       [ 4, 10, 18]])"
      ]
     },
     "execution_count": 403,
     "metadata": {},
     "output_type": "execute_result"
    }
   ],
   "source": [
    "cumprod(a, axis=0)"
   ]
  },
  {
   "cell_type": "code",
   "execution_count": 404,
   "id": "c9e019c7",
   "metadata": {},
   "outputs": [
    {
     "data": {
      "text/plain": [
       "array([[  1,   2,   6],\n",
       "       [  4,  20, 120]])"
      ]
     },
     "execution_count": 404,
     "metadata": {},
     "output_type": "execute_result"
    }
   ],
   "source": [
    "cumprod(a, axis=1)"
   ]
  },
  {
   "cell_type": "markdown",
   "id": "c531878d",
   "metadata": {},
   "source": [
    "# 63. cumsum()"
   ]
  },
  {
   "cell_type": "code",
   "execution_count": 405,
   "id": "32a42f98",
   "metadata": {},
   "outputs": [
    {
     "data": {
      "text/plain": [
       "array([1, 3, 6])"
      ]
     },
     "execution_count": 405,
     "metadata": {},
     "output_type": "execute_result"
    }
   ],
   "source": [
    "a = array([1,2,3])\n",
    "cumsum(a)"
   ]
  },
  {
   "cell_type": "code",
   "execution_count": 406,
   "id": "a017fe05",
   "metadata": {},
   "outputs": [
    {
     "data": {
      "text/plain": [
       "array([ 1,  3,  6, 10, 15, 21])"
      ]
     },
     "execution_count": 406,
     "metadata": {},
     "output_type": "execute_result"
    }
   ],
   "source": [
    "a = array([[1,2,3],[4,5,6]])\n",
    "cumsum(a)"
   ]
  },
  {
   "cell_type": "code",
   "execution_count": 407,
   "id": "e25475f1",
   "metadata": {},
   "outputs": [
    {
     "data": {
      "text/plain": [
       "array([ 1.,  3.,  6., 10., 15., 21.])"
      ]
     },
     "execution_count": 407,
     "metadata": {},
     "output_type": "execute_result"
    }
   ],
   "source": [
    "cumsum(a, dtype = float)"
   ]
  },
  {
   "cell_type": "code",
   "execution_count": 408,
   "id": "1e4177ed",
   "metadata": {},
   "outputs": [
    {
     "data": {
      "text/plain": [
       "array([[1, 2, 3],\n",
       "       [5, 7, 9]])"
      ]
     },
     "execution_count": 408,
     "metadata": {},
     "output_type": "execute_result"
    }
   ],
   "source": [
    "cumsum(a, axis=0)"
   ]
  },
  {
   "cell_type": "code",
   "execution_count": 409,
   "id": "da42926e",
   "metadata": {},
   "outputs": [
    {
     "data": {
      "text/plain": [
       "array([[ 1,  3,  6],\n",
       "       [ 4,  9, 15]])"
      ]
     },
     "execution_count": 409,
     "metadata": {},
     "output_type": "execute_result"
    }
   ],
   "source": [
    "cumsum(a, axis=1)"
   ]
  },
  {
   "cell_type": "markdown",
   "id": "678ede3c",
   "metadata": {},
   "source": [
    "# 64. delete()"
   ]
  },
  {
   "cell_type": "code",
   "execution_count": 410,
   "id": "f664e1c8",
   "metadata": {},
   "outputs": [
    {
     "data": {
      "text/plain": [
       "array([1, 2, 5])"
      ]
     },
     "execution_count": 410,
     "metadata": {},
     "output_type": "execute_result"
    }
   ],
   "source": [
    "a = array([1,2,3,4,5])\n",
    "delete(a, [2,3])"
   ]
  },
  {
   "cell_type": "code",
   "execution_count": 411,
   "id": "1079ee35",
   "metadata": {},
   "outputs": [
    {
     "data": {
      "text/plain": [
       "array([[ 0,  1,  2,  3],\n",
       "       [ 4,  5,  6,  7],\n",
       "       [ 8,  9, 10, 11],\n",
       "       [12, 13, 14, 15]])"
      ]
     },
     "execution_count": 411,
     "metadata": {},
     "output_type": "execute_result"
    }
   ],
   "source": [
    "a = arange(16).reshape(4,4)\n",
    "a"
   ]
  },
  {
   "cell_type": "code",
   "execution_count": 412,
   "id": "ad5f30a4",
   "metadata": {},
   "outputs": [
    {
     "data": {
      "text/plain": [
       "array([[ 0,  1,  2,  3],\n",
       "       [12, 13, 14, 15]])"
      ]
     },
     "execution_count": 412,
     "metadata": {},
     "output_type": "execute_result"
    }
   ],
   "source": [
    "delete(a, s_[1:3], axis=0)"
   ]
  },
  {
   "cell_type": "code",
   "execution_count": 413,
   "id": "1ecfd3ad",
   "metadata": {},
   "outputs": [
    {
     "data": {
      "text/plain": [
       "array([[ 0,  3],\n",
       "       [ 4,  7],\n",
       "       [ 8, 11],\n",
       "       [12, 15]])"
      ]
     },
     "execution_count": 413,
     "metadata": {},
     "output_type": "execute_result"
    }
   ],
   "source": [
    "delete(a, s_[1:3], axis=1)"
   ]
  },
  {
   "cell_type": "markdown",
   "id": "71ac7bcb",
   "metadata": {},
   "source": [
    "# 65. det()"
   ]
  },
  {
   "cell_type": "code",
   "execution_count": 414,
   "id": "1bfc2973",
   "metadata": {},
   "outputs": [
    {
     "data": {
      "text/plain": [
       "-2.0000000000000004"
      ]
     },
     "execution_count": 414,
     "metadata": {},
     "output_type": "execute_result"
    }
   ],
   "source": [
    "from numpy import *\n",
    "from numpy.linalg import det\n",
    "A = array([[1., 2.],[3., 4.]])\n",
    "det(A) # determinant of square matrix"
   ]
  },
  {
   "cell_type": "code",
   "execution_count": 415,
   "id": "9bf60002",
   "metadata": {},
   "outputs": [],
   "source": [
    "#3x+4y=1\n",
    "#2x+y=-1\n",
    "a=array([[3,4],[2,1]])\n",
    "b=array([1,-1])"
   ]
  },
  {
   "cell_type": "code",
   "execution_count": 416,
   "id": "56ea5db8",
   "metadata": {},
   "outputs": [
    {
     "data": {
      "text/plain": [
       "array([-1.,  1.])"
      ]
     },
     "execution_count": 416,
     "metadata": {},
     "output_type": "execute_result"
    }
   ],
   "source": [
    "from numpy.linalg import solve\n",
    "solve(a,b)"
   ]
  },
  {
   "cell_type": "markdown",
   "id": "4d2c1869",
   "metadata": {},
   "source": [
    "# 66. diag()"
   ]
  },
  {
   "cell_type": "code",
   "execution_count": 417,
   "id": "2d8bcac8",
   "metadata": {},
   "outputs": [
    {
     "data": {
      "text/plain": [
       "array([[ 0,  1,  2],\n",
       "       [ 3,  4,  5],\n",
       "       [ 6,  7,  8],\n",
       "       [ 9, 10, 11]])"
      ]
     },
     "execution_count": 417,
     "metadata": {},
     "output_type": "execute_result"
    }
   ],
   "source": [
    "a = arange(12).reshape(4,3)\n",
    "a"
   ]
  },
  {
   "cell_type": "code",
   "execution_count": 418,
   "id": "e0fb81d1",
   "metadata": {},
   "outputs": [
    {
     "name": "stdout",
     "output_type": "stream",
     "text": [
      "[0 4 8]\n"
     ]
    }
   ],
   "source": [
    "print(diag(a, k=0))"
   ]
  },
  {
   "cell_type": "code",
   "execution_count": 419,
   "id": "cff82077",
   "metadata": {},
   "outputs": [
    {
     "name": "stdout",
     "output_type": "stream",
     "text": [
      "[1 5]\n"
     ]
    }
   ],
   "source": [
    "print(diag(a, k=1))"
   ]
  },
  {
   "cell_type": "code",
   "execution_count": 420,
   "id": "8c0202c7",
   "metadata": {},
   "outputs": [
    {
     "name": "stdout",
     "output_type": "stream",
     "text": [
      "[2]\n"
     ]
    }
   ],
   "source": [
    "print(diag(a, k=2))"
   ]
  },
  {
   "cell_type": "code",
   "execution_count": 421,
   "id": "433fd4dd",
   "metadata": {},
   "outputs": [
    {
     "name": "stdout",
     "output_type": "stream",
     "text": [
      "[ 3  7 11]\n"
     ]
    }
   ],
   "source": [
    "print(diag(a, k=-1))"
   ]
  },
  {
   "cell_type": "markdown",
   "id": "baedbb47",
   "metadata": {},
   "source": [
    "# 67. diagflat()"
   ]
  },
  {
   "cell_type": "code",
   "execution_count": 422,
   "id": "7b38b305",
   "metadata": {},
   "outputs": [],
   "source": [
    "from numpy import *"
   ]
  },
  {
   "cell_type": "code",
   "execution_count": 423,
   "id": "76175308",
   "metadata": {},
   "outputs": [
    {
     "data": {
      "text/plain": [
       "array([[1, 0, 0, 0, 0, 0],\n",
       "       [0, 2, 0, 0, 0, 0],\n",
       "       [0, 0, 3, 0, 0, 0],\n",
       "       [0, 0, 0, 4, 0, 0],\n",
       "       [0, 0, 0, 0, 5, 0],\n",
       "       [0, 0, 0, 0, 0, 6]])"
      ]
     },
     "execution_count": 423,
     "metadata": {},
     "output_type": "execute_result"
    }
   ],
   "source": [
    "x = array([[1,2,3],[4,5,6]])\n",
    "'''Create a two-dimensional array with the flattened input as a diagonal.'''\n",
    "diagflat(x)"
   ]
  },
  {
   "cell_type": "code",
   "execution_count": 424,
   "id": "044c7eea",
   "metadata": {},
   "outputs": [
    {
     "name": "stdout",
     "output_type": "stream",
     "text": [
      "\n",
      "    Create a two-dimensional array with the flattened input as a diagonal.\n",
      "\n",
      "    Parameters\n",
      "    ----------\n",
      "    v : array_like\n",
      "        Input data, which is flattened and set as the `k`-th\n",
      "        diagonal of the output.\n",
      "    k : int, optional\n",
      "        Diagonal to set; 0, the default, corresponds to the \"main\" diagonal,\n",
      "        a positive (negative) `k` giving the number of the diagonal above\n",
      "        (below) the main.\n",
      "\n",
      "    Returns\n",
      "    -------\n",
      "    out : ndarray\n",
      "        The 2-D output array.\n",
      "\n",
      "    See Also\n",
      "    --------\n",
      "    diag : MATLAB work-alike for 1-D and 2-D arrays.\n",
      "    diagonal : Return specified diagonals.\n",
      "    trace : Sum along diagonals.\n",
      "\n",
      "    Examples\n",
      "    --------\n",
      "    >>> np.diagflat([[1,2], [3,4]])\n",
      "    array([[1, 0, 0, 0],\n",
      "           [0, 2, 0, 0],\n",
      "           [0, 0, 3, 0],\n",
      "           [0, 0, 0, 4]])\n",
      "\n",
      "    >>> np.diagflat([1,2], 1)\n",
      "    array([[0, 1, 0],\n",
      "           [0, 0, 2],\n",
      "           [0, 0, 0]])\n",
      "\n",
      "    \n"
     ]
    }
   ],
   "source": [
    "print(diagflat.__doc__)"
   ]
  },
  {
   "cell_type": "markdown",
   "id": "fee7b3bb",
   "metadata": {},
   "source": [
    "# 68. diagonal()"
   ]
  },
  {
   "cell_type": "code",
   "execution_count": 425,
   "id": "36f4ddd5",
   "metadata": {},
   "outputs": [],
   "source": [
    "a = arange(12).reshape(3,4)"
   ]
  },
  {
   "cell_type": "code",
   "execution_count": 426,
   "id": "879bb908",
   "metadata": {},
   "outputs": [
    {
     "data": {
      "text/plain": [
       "array([[ 0,  1,  2,  3],\n",
       "       [ 4,  5,  6,  7],\n",
       "       [ 8,  9, 10, 11]])"
      ]
     },
     "execution_count": 426,
     "metadata": {},
     "output_type": "execute_result"
    }
   ],
   "source": [
    "a"
   ]
  },
  {
   "cell_type": "code",
   "execution_count": 427,
   "id": "7a78ccfe",
   "metadata": {},
   "outputs": [
    {
     "data": {
      "text/plain": [
       "array([ 0,  5, 10])"
      ]
     },
     "execution_count": 427,
     "metadata": {},
     "output_type": "execute_result"
    }
   ],
   "source": [
    "diagonal(a)"
   ]
  },
  {
   "cell_type": "code",
   "execution_count": 428,
   "id": "7b3ac341",
   "metadata": {},
   "outputs": [
    {
     "data": {
      "text/plain": [
       "array([ 1,  6, 11])"
      ]
     },
     "execution_count": 428,
     "metadata": {},
     "output_type": "execute_result"
    }
   ],
   "source": [
    "a.diagonal(offset=1)"
   ]
  },
  {
   "cell_type": "markdown",
   "id": "4c4f16bb",
   "metadata": {},
   "source": [
    "# 69. diff()"
   ]
  },
  {
   "cell_type": "code",
   "execution_count": 429,
   "id": "5e604166",
   "metadata": {},
   "outputs": [],
   "source": [
    "a = array([2,7,1,9,2,3])"
   ]
  },
  {
   "cell_type": "code",
   "execution_count": 430,
   "id": "c435c9d6",
   "metadata": {},
   "outputs": [
    {
     "data": {
      "text/plain": [
       "array([ 5, -6,  8, -7,  1])"
      ]
     },
     "execution_count": 430,
     "metadata": {},
     "output_type": "execute_result"
    }
   ],
   "source": [
    "diff(a)  # 1st-order differences between the elements of x"
   ]
  },
  {
   "cell_type": "code",
   "execution_count": 431,
   "id": "e894a2f4",
   "metadata": {},
   "outputs": [
    {
     "data": {
      "text/plain": [
       "array([-11,  14, -15,   8])"
      ]
     },
     "execution_count": 431,
     "metadata": {},
     "output_type": "execute_result"
    }
   ],
   "source": [
    "# 2nd-order differences, equivalent to diff(diff(x))\n",
    "diff(a,n=2)"
   ]
  },
  {
   "cell_type": "code",
   "execution_count": 432,
   "id": "3472abf9",
   "metadata": {},
   "outputs": [
    {
     "data": {
      "text/plain": [
       "array([ 25, -29,  23])"
      ]
     },
     "execution_count": 432,
     "metadata": {},
     "output_type": "execute_result"
    }
   ],
   "source": [
    "diff(a,n=3)"
   ]
  },
  {
   "cell_type": "code",
   "execution_count": 433,
   "id": "8761a80c",
   "metadata": {},
   "outputs": [],
   "source": [
    "q = array([[1,2,3],[7,8,9]])"
   ]
  },
  {
   "cell_type": "code",
   "execution_count": 434,
   "id": "314a3131",
   "metadata": {},
   "outputs": [
    {
     "data": {
      "text/plain": [
       "array([[1, 1],\n",
       "       [1, 1]])"
      ]
     },
     "execution_count": 434,
     "metadata": {},
     "output_type": "execute_result"
    }
   ],
   "source": [
    "diff(q)  # 1st-order differences between the columns (default: axis=-1)"
   ]
  },
  {
   "cell_type": "code",
   "execution_count": 435,
   "id": "b97b6e9a",
   "metadata": {},
   "outputs": [
    {
     "data": {
      "text/plain": [
       "array([[0],\n",
       "       [0]])"
      ]
     },
     "execution_count": 435,
     "metadata": {},
     "output_type": "execute_result"
    }
   ],
   "source": [
    "diff(q,n=2)"
   ]
  },
  {
   "cell_type": "code",
   "execution_count": 436,
   "id": "fc809dba",
   "metadata": {},
   "outputs": [
    {
     "data": {
      "text/plain": [
       "array([[6, 6, 6]])"
      ]
     },
     "execution_count": 436,
     "metadata": {},
     "output_type": "execute_result"
    }
   ],
   "source": [
    "diff(q, axis=0)  # 1st-order difference between the rows"
   ]
  },
  {
   "cell_type": "markdown",
   "id": "170a8d02",
   "metadata": {},
   "source": [
    "# 70. digitize()"
   ]
  },
  {
   "cell_type": "code",
   "execution_count": 437,
   "id": "950f60b5",
   "metadata": {},
   "outputs": [],
   "source": [
    "x = array([1.0,1.8,6.7,2.3,4.1])\n",
    "bins = array([0.0, 0.4,1.4,5.4,10.0])"
   ]
  },
  {
   "cell_type": "code",
   "execution_count": 438,
   "id": "94f2ff17",
   "metadata": {},
   "outputs": [],
   "source": [
    "d = digitize(x,bins)"
   ]
  },
  {
   "cell_type": "code",
   "execution_count": 439,
   "id": "212c673c",
   "metadata": {},
   "outputs": [
    {
     "data": {
      "text/plain": [
       "array([2, 3, 4, 3, 3], dtype=int64)"
      ]
     },
     "execution_count": 439,
     "metadata": {},
     "output_type": "execute_result"
    }
   ],
   "source": [
    "d"
   ]
  },
  {
   "cell_type": "markdown",
   "id": "c60247d8",
   "metadata": {},
   "source": [
    "# 71. dot()"
   ]
  },
  {
   "cell_type": "code",
   "execution_count": 440,
   "id": "aaa03010",
   "metadata": {},
   "outputs": [
    {
     "data": {
      "text/plain": [
       "(2, 2)"
      ]
     },
     "execution_count": 440,
     "metadata": {},
     "output_type": "execute_result"
    }
   ],
   "source": [
    "x = array([[1,2],[4,6]])\n",
    "x.shape"
   ]
  },
  {
   "cell_type": "code",
   "execution_count": 441,
   "id": "c09fffd0",
   "metadata": {},
   "outputs": [
    {
     "data": {
      "text/plain": [
       "(2, 2)"
      ]
     },
     "execution_count": 441,
     "metadata": {},
     "output_type": "execute_result"
    }
   ],
   "source": [
    "y = array([[9,0],[6,7]])\n",
    "y.shape"
   ]
  },
  {
   "cell_type": "code",
   "execution_count": 442,
   "id": "e0b492c1",
   "metadata": {},
   "outputs": [
    {
     "data": {
      "text/plain": [
       "array([[21, 14],\n",
       "       [72, 42]])"
      ]
     },
     "execution_count": 442,
     "metadata": {},
     "output_type": "execute_result"
    }
   ],
   "source": [
    "dot(x,y)  # matrix multiplication (2,3) x (3,2) -> (2,2)"
   ]
  },
  {
   "cell_type": "code",
   "execution_count": 443,
   "id": "3bc8290f",
   "metadata": {},
   "outputs": [
    {
     "data": {
      "text/plain": [
       "(2, 3)"
      ]
     },
     "execution_count": 443,
     "metadata": {},
     "output_type": "execute_result"
    }
   ],
   "source": [
    "a = array([[1,2,3],[1,2,3]])\n",
    "a.shape"
   ]
  },
  {
   "cell_type": "code",
   "execution_count": 444,
   "id": "2cf0f913",
   "metadata": {},
   "outputs": [
    {
     "data": {
      "text/plain": [
       "(3, 2)"
      ]
     },
     "execution_count": 444,
     "metadata": {},
     "output_type": "execute_result"
    }
   ],
   "source": [
    "b = array([[1,2],[3,4],[8,9]])\n",
    "b.shape"
   ]
  },
  {
   "cell_type": "code",
   "execution_count": 445,
   "id": "e9ff06fa",
   "metadata": {},
   "outputs": [
    {
     "data": {
      "text/plain": [
       "array([[31, 37],\n",
       "       [31, 37]])"
      ]
     },
     "execution_count": 445,
     "metadata": {},
     "output_type": "execute_result"
    }
   ],
   "source": [
    "dot(a,b)"
   ]
  },
  {
   "cell_type": "code",
   "execution_count": 446,
   "id": "f22e777e",
   "metadata": {},
   "outputs": [
    {
     "data": {
      "text/plain": [
       "1529269833136"
      ]
     },
     "execution_count": 446,
     "metadata": {},
     "output_type": "execute_result"
    }
   ],
   "source": [
    "id(dot(a,b))"
   ]
  },
  {
   "cell_type": "code",
   "execution_count": 447,
   "id": "cd441d95",
   "metadata": {},
   "outputs": [
    {
     "data": {
      "text/plain": [
       "1529171307184"
      ]
     },
     "execution_count": 447,
     "metadata": {},
     "output_type": "execute_result"
    }
   ],
   "source": [
    "id(dot)"
   ]
  },
  {
   "cell_type": "code",
   "execution_count": 448,
   "id": "ac094481",
   "metadata": {},
   "outputs": [
    {
     "data": {
      "text/plain": [
       "numpy.ndarray"
      ]
     },
     "execution_count": 448,
     "metadata": {},
     "output_type": "execute_result"
    }
   ],
   "source": [
    "type(dot(a,b))"
   ]
  },
  {
   "cell_type": "code",
   "execution_count": 449,
   "id": "f046bb30",
   "metadata": {},
   "outputs": [
    {
     "name": "stdout",
     "output_type": "stream",
     "text": [
      "Not using blas/lapack!\n"
     ]
    }
   ],
   "source": [
    "import numpy\n",
    "if id(dot) == id(numpy.core.multiarray.dot): # A way to know if you use fast blas/lapack or not.\n",
    "     print(\"Not using blas/lapack!\")"
   ]
  },
  {
   "cell_type": "markdown",
   "id": "8cd8c831",
   "metadata": {},
   "source": [
    "# 72.dsplit()"
   ]
  },
  {
   "cell_type": "code",
   "execution_count": 450,
   "id": "f223d7c1",
   "metadata": {},
   "outputs": [
    {
     "data": {
      "text/plain": [
       "(2, 2, 4)"
      ]
     },
     "execution_count": 450,
     "metadata": {},
     "output_type": "execute_result"
    }
   ],
   "source": [
    "from numpy import *\n",
    "a = array([[1,2],[3,4]])\n",
    "b = dstack((a,a,a,a))\n",
    "b.shape # stacking in depth: for k in (0,..,3): b[:,:,k] = a\n",
    "\n"
   ]
  },
  {
   "cell_type": "code",
   "execution_count": 451,
   "id": "ec46cfbc",
   "metadata": {},
   "outputs": [
    {
     "name": "stdout",
     "output_type": "stream",
     "text": [
      "(2, 2, 2) (2, 2, 2)\n"
     ]
    }
   ],
   "source": [
    "c = dsplit(b,2) # split, depth-wise, in 2 equal parts\n",
    "print( c[0].shape, c[1].shape) # for k in (0,1): c[0][:,:,k] = a and c[1][:,:,k] = a\n"
   ]
  },
  {
   "cell_type": "code",
   "execution_count": 452,
   "id": "6f30e661",
   "metadata": {},
   "outputs": [
    {
     "name": "stdout",
     "output_type": "stream",
     "text": [
      "(2, 2, 1) (2, 2, 1) (2, 2, 2)\n"
     ]
    }
   ],
   "source": [
    "d = dsplit(b,[1,2]) # split before [:,:,1] and before [:,:,2]\n",
    "print(d[0].shape, d[1].shape, d[2].shape) # for any of the parts: d[.][:,:,k] = a\n"
   ]
  },
  {
   "cell_type": "markdown",
   "id": "65677d3c",
   "metadata": {},
   "source": [
    "# 73. dstack()"
   ]
  },
  {
   "cell_type": "code",
   "execution_count": 453,
   "id": "09ca2104",
   "metadata": {},
   "outputs": [
    {
     "data": {
      "text/plain": [
       "array([[[1, 5],\n",
       "        [2, 6]],\n",
       "\n",
       "       [[3, 7],\n",
       "        [4, 8]]])"
      ]
     },
     "execution_count": 453,
     "metadata": {},
     "output_type": "execute_result"
    }
   ],
   "source": [
    "from numpy import *\n",
    "a = array([[1,2],[3,4]]) # shapes of a and b can only differ in the 3rd dimension (if present)\n",
    "b = array([[5,6],[7,8]])\n",
    "dstack((a,b)) # stack arrays along a third axis (depth wise)"
   ]
  },
  {
   "cell_type": "markdown",
   "id": "c9df4c91",
   "metadata": {},
   "source": [
    "# 74. dtype()"
   ]
  },
  {
   "cell_type": "code",
   "execution_count": null,
   "id": "5be2f9c6",
   "metadata": {},
   "outputs": [],
   "source": []
  },
  {
   "cell_type": "code",
   "execution_count": null,
   "id": "09a561f4",
   "metadata": {},
   "outputs": [],
   "source": []
  },
  {
   "cell_type": "markdown",
   "id": "880d1711",
   "metadata": {},
   "source": [
    "# 75. empty()"
   ]
  },
  {
   "cell_type": "code",
   "execution_count": 454,
   "id": "9c529487",
   "metadata": {},
   "outputs": [
    {
     "data": {
      "text/plain": [
       "array([0.e+000, 1.e-323, 2.e-323])"
      ]
     },
     "execution_count": 454,
     "metadata": {},
     "output_type": "execute_result"
    }
   ],
   "source": [
    "from numpy import *\n",
    "empty(3) # uninitialized array, size=3, dtype = float\n",
    "\n"
   ]
  },
  {
   "cell_type": "code",
   "execution_count": 455,
   "id": "f33e9627",
   "metadata": {},
   "outputs": [
    {
     "data": {
      "text/plain": [
       "array([[0, 0, 2],\n",
       "       [0, 4, 0]])"
      ]
     },
     "execution_count": 455,
     "metadata": {},
     "output_type": "execute_result"
    }
   ],
   "source": [
    "empty((2,3),int) # uninitialized array, dtype = int"
   ]
  },
  {
   "cell_type": "markdown",
   "id": "de215bc7",
   "metadata": {},
   "source": [
    "# 76. empty_like()"
   ]
  },
  {
   "cell_type": "code",
   "execution_count": 456,
   "id": "e5b44eb5",
   "metadata": {},
   "outputs": [
    {
     "data": {
      "text/plain": [
       "array([[  29228576,        356,          0],\n",
       "       [         0,          1, -218103808]])"
      ]
     },
     "execution_count": 456,
     "metadata": {},
     "output_type": "execute_result"
    }
   ],
   "source": [
    "from numpy import *\n",
    "a = array([[1,2,3],[4,5,6]])\n",
    "empty_like(a) # uninitialized array with the same shape and datatype as 'a'\n"
   ]
  },
  {
   "cell_type": "markdown",
   "id": "1711a978",
   "metadata": {},
   "source": [
    "# 77. expand_dims()"
   ]
  },
  {
   "cell_type": "code",
   "execution_count": 457,
   "id": "dc935e71",
   "metadata": {},
   "outputs": [
    {
     "data": {
      "text/plain": [
       "array([[1, 2]])"
      ]
     },
     "execution_count": 457,
     "metadata": {},
     "output_type": "execute_result"
    }
   ],
   "source": [
    "from numpy import *\n",
    "x = array([1,2])\n",
    "expand_dims(x,axis=0) # Equivalent to x[newaxis,:] or x[None] or x[newaxis]"
   ]
  },
  {
   "cell_type": "code",
   "execution_count": 458,
   "id": "467563b9",
   "metadata": {},
   "outputs": [
    {
     "data": {
      "text/plain": [
       "array([[1],\n",
       "       [2]])"
      ]
     },
     "execution_count": 458,
     "metadata": {},
     "output_type": "execute_result"
    }
   ],
   "source": [
    "expand_dims(x,axis=1) # Equivalent to x[:,newaxis]"
   ]
  },
  {
   "cell_type": "markdown",
   "id": "a90589c3",
   "metadata": {},
   "source": [
    "# 78. eye()"
   ]
  },
  {
   "cell_type": "code",
   "execution_count": 459,
   "id": "57732a85",
   "metadata": {},
   "outputs": [
    {
     "data": {
      "text/plain": [
       "array([[1., 0., 0., 0.],\n",
       "       [0., 1., 0., 0.],\n",
       "       [0., 0., 1., 0.]])"
      ]
     },
     "execution_count": 459,
     "metadata": {},
     "output_type": "execute_result"
    }
   ],
   "source": [
    "from numpy import *\n",
    "eye(3,4,0,dtype=float) # a 3x4 matrix containing zeros except for the 0th diagonal that contains ones"
   ]
  },
  {
   "cell_type": "code",
   "execution_count": 460,
   "id": "4503b134",
   "metadata": {},
   "outputs": [
    {
     "data": {
      "text/plain": [
       "array([[0., 1., 0., 0.],\n",
       "       [0., 0., 1., 0.],\n",
       "       [0., 0., 0., 1.]])"
      ]
     },
     "execution_count": 460,
     "metadata": {},
     "output_type": "execute_result"
    }
   ],
   "source": [
    "eye(3,4,1,dtype=float) # a 3x4 matrix containing zeros except for the 1st diagonal that contains ones"
   ]
  },
  {
   "cell_type": "markdown",
   "id": "5ad63cf7",
   "metadata": {},
   "source": [
    "# 79. fft()"
   ]
  },
  {
   "cell_type": "code",
   "execution_count": 461,
   "id": "346c7ddc",
   "metadata": {},
   "outputs": [
    {
     "data": {
      "text/plain": [
       "array([ 13.         +0.j        ,   3.36396103 +4.05025253j,\n",
       "         2.         +1.j        ,  -9.36396103-13.94974747j,\n",
       "       -21.         +0.j        ,  -9.36396103+13.94974747j,\n",
       "         2.         -1.j        ,   3.36396103 -4.05025253j])"
      ]
     },
     "execution_count": 461,
     "metadata": {},
     "output_type": "execute_result"
    }
   ],
   "source": [
    "from numpy import *\n",
    "from numpy.fft import *\n",
    "signal = array([-2., 8., -6., 4., 1., 0., 3., 5.]) # could also be complex\n",
    "fourier = fft(signal)\n",
    "fourier"
   ]
  },
  {
   "cell_type": "code",
   "execution_count": 462,
   "id": "3ba9c845",
   "metadata": {},
   "outputs": [
    {
     "data": {
      "text/plain": [
       "array([ 0.  ,  1.25,  2.5 ,  3.75, -5.  , -3.75, -2.5 , -1.25])"
      ]
     },
     "execution_count": 462,
     "metadata": {},
     "output_type": "execute_result"
    }
   ],
   "source": [
    "N = len(signal)\n",
    "fourier = empty(N,complex)\n",
    "for k in range(N): # equivalent but much slower\n",
    "    fourier[k] = sum(signal * exp(-1j*2*pi*k*arange(N)/N))\n",
    "\n",
    "timestep = 0.1 # if unit=day -> freq unit=cycles/day\n",
    "fftfreq(N, d=timestep) # freqs corresponding to 'fourier'"
   ]
  },
  {
   "cell_type": "markdown",
   "id": "248a8afa",
   "metadata": {},
   "source": [
    "# 80. fftfreq()"
   ]
  },
  {
   "cell_type": "code",
   "execution_count": 463,
   "id": "d9de1317",
   "metadata": {},
   "outputs": [
    {
     "data": {
      "text/plain": [
       "array([ 0.  ,  1.25,  2.5 ,  3.75, -5.  , -3.75, -2.5 , -1.25])"
      ]
     },
     "execution_count": 463,
     "metadata": {},
     "output_type": "execute_result"
    }
   ],
   "source": [
    "from numpy import *\n",
    "from numpy.fft import *\n",
    "signal = array([-2., 8., -6., 4., 1., 0., 3., 5.])\n",
    "fourier = fft(signal)\n",
    "N = len(signal)\n",
    "timestep = 0.1 # if unit=day -> freq unit=cycles/day\n",
    "freq = fftfreq(N, d=timestep) # freqs corresponding to 'fourier'\n",
    "freq"
   ]
  },
  {
   "cell_type": "code",
   "execution_count": 464,
   "id": "5aa0ec42",
   "metadata": {},
   "outputs": [
    {
     "data": {
      "text/plain": [
       "array([-5.  , -3.75, -2.5 , -1.25,  0.  ,  1.25,  2.5 ,  3.75])"
      ]
     },
     "execution_count": 464,
     "metadata": {},
     "output_type": "execute_result"
    }
   ],
   "source": [
    "fftshift(freq) # freqs in ascending order"
   ]
  },
  {
   "cell_type": "markdown",
   "id": "f636244a",
   "metadata": {},
   "source": [
    "# 81. fftshift()"
   ]
  },
  {
   "cell_type": "code",
   "execution_count": 465,
   "id": "72603844",
   "metadata": {},
   "outputs": [],
   "source": [
    "from numpy import *\n",
    "from numpy.fft import *"
   ]
  },
  {
   "cell_type": "code",
   "execution_count": 466,
   "id": "1eed1767",
   "metadata": {},
   "outputs": [
    {
     "data": {
      "text/plain": [
       "array([ 0.  ,  1.25,  2.5 ,  3.75, -5.  , -3.75, -2.5 , -1.25])"
      ]
     },
     "execution_count": 466,
     "metadata": {},
     "output_type": "execute_result"
    }
   ],
   "source": [
    "signal = array([-2.,8.,-6., 4., 1., 0., 3., 5. ])\n",
    "fourier = fft(signal)\n",
    "N = len(signal)\n",
    "timestep = 0.1 # if unit=day -> freq unit=cycles/day\n",
    "freq = fftfreq(N, d=timestep)  # freqs corresponding to 'fourier'\n",
    "freq"
   ]
  },
  {
   "cell_type": "code",
   "execution_count": 467,
   "id": "0a8fcc24",
   "metadata": {},
   "outputs": [
    {
     "name": "stdout",
     "output_type": "stream",
     "text": [
      "[-5.   -3.75 -2.5  -1.25  0.    1.25  2.5   3.75]\n"
     ]
    },
    {
     "data": {
      "text/plain": [
       "'Shift the zero-frequency component to the center of the spectrum.'"
      ]
     },
     "execution_count": 467,
     "metadata": {},
     "output_type": "execute_result"
    }
   ],
   "source": [
    "freq = fftshift(freq)  # freqs in ascending order\n",
    "print(freq)\n",
    "'''Shift the zero-frequency component to the center of the spectrum.'''"
   ]
  },
  {
   "cell_type": "code",
   "execution_count": 468,
   "id": "cc142348",
   "metadata": {},
   "outputs": [],
   "source": [
    "fourier = fftshift(fourier)"
   ]
  },
  {
   "cell_type": "code",
   "execution_count": 469,
   "id": "0dcfa65f",
   "metadata": {},
   "outputs": [],
   "source": [
    "freq = ifftshift(freq) # undo previous frequency shift\n",
    "fourier = ifftshift(fourier) # undo previous fourier shift"
   ]
  },
  {
   "cell_type": "code",
   "execution_count": 470,
   "id": "0e8f5e84",
   "metadata": {},
   "outputs": [
    {
     "data": {
      "text/plain": [
       "array([ 0.  ,  1.25,  2.5 ,  3.75, -5.  , -3.75, -2.5 , -1.25])"
      ]
     },
     "execution_count": 470,
     "metadata": {},
     "output_type": "execute_result"
    }
   ],
   "source": [
    "freq"
   ]
  },
  {
   "cell_type": "code",
   "execution_count": 471,
   "id": "a441a43d",
   "metadata": {},
   "outputs": [
    {
     "data": {
      "text/plain": [
       "array([ 13.         +0.j        ,   3.36396103 +4.05025253j,\n",
       "         2.         +1.j        ,  -9.36396103-13.94974747j,\n",
       "       -21.         +0.j        ,  -9.36396103+13.94974747j,\n",
       "         2.         -1.j        ,   3.36396103 -4.05025253j])"
      ]
     },
     "execution_count": 471,
     "metadata": {},
     "output_type": "execute_result"
    }
   ],
   "source": [
    "fourier"
   ]
  },
  {
   "cell_type": "markdown",
   "id": "58421a64",
   "metadata": {},
   "source": [
    "# 82. fill()"
   ]
  },
  {
   "cell_type": "code",
   "execution_count": 472,
   "id": "3068b481",
   "metadata": {},
   "outputs": [],
   "source": [
    "from numpy import *"
   ]
  },
  {
   "cell_type": "code",
   "execution_count": 473,
   "id": "562269fb",
   "metadata": {},
   "outputs": [
    {
     "data": {
      "text/plain": [
       "array([0, 1, 2, 3])"
      ]
     },
     "execution_count": 473,
     "metadata": {},
     "output_type": "execute_result"
    }
   ],
   "source": [
    "a = arange(4, dtype=int)\n",
    "a"
   ]
  },
  {
   "cell_type": "code",
   "execution_count": 474,
   "id": "8c250653",
   "metadata": {},
   "outputs": [
    {
     "data": {
      "text/plain": [
       "array([7, 7, 7, 7])"
      ]
     },
     "execution_count": 474,
     "metadata": {},
     "output_type": "execute_result"
    }
   ],
   "source": [
    "a.fill(7) # replace all elements with the number 7\n",
    "a"
   ]
  },
  {
   "cell_type": "code",
   "execution_count": 475,
   "id": "24ef1800",
   "metadata": {},
   "outputs": [
    {
     "data": {
      "text/plain": [
       "array([6, 6, 6, 6])"
      ]
     },
     "execution_count": 475,
     "metadata": {},
     "output_type": "execute_result"
    }
   ],
   "source": [
    "a.fill(6.5)\n",
    "a"
   ]
  },
  {
   "cell_type": "markdown",
   "id": "ddc0baa1",
   "metadata": {},
   "source": [
    "# 83. finfo()"
   ]
  },
  {
   "cell_type": "code",
   "execution_count": 476,
   "id": "3f9765e5",
   "metadata": {},
   "outputs": [
    {
     "data": {
      "text/plain": [
       "finfo(resolution=1e-15, min=-1.7976931348623157e+308, max=1.7976931348623157e+308, dtype=float64)"
      ]
     },
     "execution_count": 476,
     "metadata": {},
     "output_type": "execute_result"
    }
   ],
   "source": [
    "f = finfo(float)\n",
    "f"
   ]
  },
  {
   "cell_type": "code",
   "execution_count": 477,
   "id": "816fc7ce",
   "metadata": {},
   "outputs": [
    {
     "data": {
      "text/plain": [
       "(52, 11)"
      ]
     },
     "execution_count": 477,
     "metadata": {},
     "output_type": "execute_result"
    }
   ],
   "source": [
    "f.nmant, f.nexp  #nr bits in the mantissa and in the exponent"
   ]
  },
  {
   "cell_type": "code",
   "execution_count": 478,
   "id": "038fa898",
   "metadata": {},
   "outputs": [
    {
     "data": {
      "text/plain": [
       "-52"
      ]
     },
     "execution_count": 478,
     "metadata": {},
     "output_type": "execute_result"
    }
   ],
   "source": [
    "f.machep"
   ]
  },
  {
   "cell_type": "code",
   "execution_count": 479,
   "id": "3647cd13",
   "metadata": {},
   "outputs": [
    {
     "data": {
      "text/plain": [
       "2.220446049250313e-16"
      ]
     },
     "execution_count": 479,
     "metadata": {},
     "output_type": "execute_result"
    }
   ],
   "source": [
    "f.eps"
   ]
  },
  {
   "cell_type": "code",
   "execution_count": 480,
   "id": "b525e4c8",
   "metadata": {},
   "outputs": [
    {
     "data": {
      "text/plain": [
       "15"
      ]
     },
     "execution_count": 480,
     "metadata": {},
     "output_type": "execute_result"
    }
   ],
   "source": [
    "f.precision"
   ]
  },
  {
   "cell_type": "code",
   "execution_count": 481,
   "id": "e941ad57",
   "metadata": {},
   "outputs": [
    {
     "data": {
      "text/plain": [
       "1e-15"
      ]
     },
     "execution_count": 481,
     "metadata": {},
     "output_type": "execute_result"
    }
   ],
   "source": [
    "f.resolution"
   ]
  },
  {
   "cell_type": "code",
   "execution_count": 482,
   "id": "40b072a0",
   "metadata": {},
   "outputs": [
    {
     "data": {
      "text/plain": [
       "-53"
      ]
     },
     "execution_count": 482,
     "metadata": {},
     "output_type": "execute_result"
    }
   ],
   "source": [
    "f.negep"
   ]
  },
  {
   "cell_type": "code",
   "execution_count": 483,
   "id": "fd3f09ce",
   "metadata": {},
   "outputs": [
    {
     "data": {
      "text/plain": [
       "1.1102230246251565e-16"
      ]
     },
     "execution_count": 483,
     "metadata": {},
     "output_type": "execute_result"
    }
   ],
   "source": [
    "f.epsneg"
   ]
  },
  {
   "cell_type": "code",
   "execution_count": 484,
   "id": "08d6c4d1",
   "metadata": {},
   "outputs": [
    {
     "data": {
      "text/plain": [
       "-1022"
      ]
     },
     "execution_count": 484,
     "metadata": {},
     "output_type": "execute_result"
    }
   ],
   "source": [
    "f.minexp"
   ]
  },
  {
   "cell_type": "code",
   "execution_count": 485,
   "id": "79c89bc5",
   "metadata": {},
   "outputs": [
    {
     "data": {
      "text/plain": [
       "2.2250738585072014e-308"
      ]
     },
     "execution_count": 485,
     "metadata": {},
     "output_type": "execute_result"
    }
   ],
   "source": [
    "f.tiny"
   ]
  },
  {
   "cell_type": "code",
   "execution_count": 486,
   "id": "de2d2604",
   "metadata": {},
   "outputs": [
    {
     "data": {
      "text/plain": [
       "1024"
      ]
     },
     "execution_count": 486,
     "metadata": {},
     "output_type": "execute_result"
    }
   ],
   "source": [
    "f.maxexp"
   ]
  },
  {
   "cell_type": "code",
   "execution_count": 487,
   "id": "7611a6b9",
   "metadata": {},
   "outputs": [
    {
     "data": {
      "text/plain": [
       "(-1.7976931348623157e+308, 1.7976931348623157e+308)"
      ]
     },
     "execution_count": 487,
     "metadata": {},
     "output_type": "execute_result"
    }
   ],
   "source": [
    "f.min, f.max"
   ]
  },
  {
   "cell_type": "markdown",
   "id": "4084ba2c",
   "metadata": {},
   "source": [
    "# 84. fix()"
   ]
  },
  {
   "cell_type": "code",
   "execution_count": 488,
   "id": "84598749",
   "metadata": {},
   "outputs": [
    {
     "data": {
      "text/plain": [
       "array([-1.7, -1. , -0.2,  0.2,  1.5,  1.7])"
      ]
     },
     "execution_count": 488,
     "metadata": {},
     "output_type": "execute_result"
    }
   ],
   "source": [
    "a = array([-1.7, -1.0, -0.2, 0.2, 1.5, 1.7])\n",
    "a"
   ]
  },
  {
   "cell_type": "code",
   "execution_count": 489,
   "id": "ca8226b0",
   "metadata": {},
   "outputs": [
    {
     "data": {
      "text/plain": [
       "array([-1., -1., -0.,  0.,  1.,  1.])"
      ]
     },
     "execution_count": 489,
     "metadata": {},
     "output_type": "execute_result"
    }
   ],
   "source": [
    "fix(a)"
   ]
  },
  {
   "cell_type": "markdown",
   "id": "722e1d8f",
   "metadata": {},
   "source": [
    "# 85. flat()"
   ]
  },
  {
   "cell_type": "code",
   "execution_count": 490,
   "id": "c48acc1d",
   "metadata": {},
   "outputs": [
    {
     "data": {
      "text/plain": [
       "array([[10, 20],\n",
       "       [30, 40]])"
      ]
     },
     "execution_count": 490,
     "metadata": {},
     "output_type": "execute_result"
    }
   ],
   "source": [
    "a = array([[10,20],[30,40]])\n",
    "a"
   ]
  },
  {
   "cell_type": "code",
   "execution_count": 491,
   "id": "53127e35",
   "metadata": {},
   "outputs": [],
   "source": [
    "iter = a.flat"
   ]
  },
  {
   "cell_type": "code",
   "execution_count": 492,
   "id": "2ac65486",
   "metadata": {},
   "outputs": [
    {
     "data": {
      "text/plain": [
       "<numpy.flatiter at 0x1640378ce90>"
      ]
     },
     "execution_count": 492,
     "metadata": {},
     "output_type": "execute_result"
    }
   ],
   "source": [
    "iter"
   ]
  },
  {
   "cell_type": "markdown",
   "id": "05932da3",
   "metadata": {},
   "source": [
    "# 86. flatten()"
   ]
  },
  {
   "cell_type": "code",
   "execution_count": 493,
   "id": "d1ebc382",
   "metadata": {},
   "outputs": [],
   "source": [
    "a = array([[[1,2]],[[3,4]]])"
   ]
  },
  {
   "cell_type": "code",
   "execution_count": 494,
   "id": "a5260fc4",
   "metadata": {},
   "outputs": [
    {
     "data": {
      "text/plain": [
       "array([[[1, 2]],\n",
       "\n",
       "       [[3, 4]]])"
      ]
     },
     "execution_count": 494,
     "metadata": {},
     "output_type": "execute_result"
    }
   ],
   "source": [
    "a"
   ]
  },
  {
   "cell_type": "code",
   "execution_count": 495,
   "id": "1393c69e",
   "metadata": {},
   "outputs": [
    {
     "data": {
      "text/plain": [
       "(2, 1, 2)"
      ]
     },
     "execution_count": 495,
     "metadata": {},
     "output_type": "execute_result"
    }
   ],
   "source": [
    "a.shape"
   ]
  },
  {
   "cell_type": "code",
   "execution_count": 496,
   "id": "aac3d118",
   "metadata": {},
   "outputs": [
    {
     "data": {
      "text/plain": [
       "numpy.ndarray"
      ]
     },
     "execution_count": 496,
     "metadata": {},
     "output_type": "execute_result"
    }
   ],
   "source": [
    "type(a)"
   ]
  },
  {
   "cell_type": "code",
   "execution_count": 497,
   "id": "eb7da460",
   "metadata": {},
   "outputs": [
    {
     "data": {
      "text/plain": [
       "array([[1, 2]])"
      ]
     },
     "execution_count": 497,
     "metadata": {},
     "output_type": "execute_result"
    }
   ],
   "source": [
    "a[0]"
   ]
  },
  {
   "cell_type": "code",
   "execution_count": 498,
   "id": "b1a2e66d",
   "metadata": {},
   "outputs": [
    {
     "data": {
      "text/plain": [
       "array([[3, 4]])"
      ]
     },
     "execution_count": 498,
     "metadata": {},
     "output_type": "execute_result"
    }
   ],
   "source": [
    "a[1]"
   ]
  },
  {
   "cell_type": "code",
   "execution_count": 499,
   "id": "f1774369",
   "metadata": {},
   "outputs": [
    {
     "data": {
      "text/plain": [
       "array([3, 4])"
      ]
     },
     "execution_count": 499,
     "metadata": {},
     "output_type": "execute_result"
    }
   ],
   "source": [
    "a[1][0]"
   ]
  },
  {
   "cell_type": "code",
   "execution_count": 500,
   "id": "5c7d36a2",
   "metadata": {},
   "outputs": [
    {
     "data": {
      "text/plain": [
       "3"
      ]
     },
     "execution_count": 500,
     "metadata": {},
     "output_type": "execute_result"
    }
   ],
   "source": [
    "a[1][0][0]"
   ]
  },
  {
   "cell_type": "code",
   "execution_count": 501,
   "id": "506f48f2",
   "metadata": {},
   "outputs": [
    {
     "data": {
      "text/plain": [
       "4"
      ]
     },
     "execution_count": 501,
     "metadata": {},
     "output_type": "execute_result"
    }
   ],
   "source": [
    "a[1][0][1]"
   ]
  },
  {
   "cell_type": "code",
   "execution_count": 502,
   "id": "fdc0d228",
   "metadata": {},
   "outputs": [
    {
     "data": {
      "text/plain": [
       "2"
      ]
     },
     "execution_count": 502,
     "metadata": {},
     "output_type": "execute_result"
    }
   ],
   "source": [
    "a[0][0][1]"
   ]
  },
  {
   "cell_type": "code",
   "execution_count": 503,
   "id": "5743c3aa",
   "metadata": {},
   "outputs": [
    {
     "name": "stdout",
     "output_type": "stream",
     "text": [
      "[[[1 2]]\n",
      "\n",
      " [[3 4]]]\n"
     ]
    }
   ],
   "source": [
    "print(a)"
   ]
  },
  {
   "cell_type": "code",
   "execution_count": 504,
   "id": "ab2e13d8",
   "metadata": {},
   "outputs": [],
   "source": [
    "b=a.flatten()"
   ]
  },
  {
   "cell_type": "code",
   "execution_count": 505,
   "id": "5d0c8509",
   "metadata": {},
   "outputs": [
    {
     "data": {
      "text/plain": [
       "array([1, 2, 3, 4])"
      ]
     },
     "execution_count": 505,
     "metadata": {},
     "output_type": "execute_result"
    }
   ],
   "source": [
    "b"
   ]
  },
  {
   "cell_type": "markdown",
   "id": "464f9cdb",
   "metadata": {},
   "source": [
    "# 87. fliplr()"
   ]
  },
  {
   "cell_type": "code",
   "execution_count": 506,
   "id": "faf9a31d",
   "metadata": {},
   "outputs": [],
   "source": [
    "a = arange(12).reshape(4,3)"
   ]
  },
  {
   "cell_type": "code",
   "execution_count": 507,
   "id": "09d19f55",
   "metadata": {},
   "outputs": [
    {
     "data": {
      "text/plain": [
       "array([[ 0,  1,  2],\n",
       "       [ 3,  4,  5],\n",
       "       [ 6,  7,  8],\n",
       "       [ 9, 10, 11]])"
      ]
     },
     "execution_count": 507,
     "metadata": {},
     "output_type": "execute_result"
    }
   ],
   "source": [
    "a"
   ]
  },
  {
   "cell_type": "code",
   "execution_count": 508,
   "id": "5b663adf",
   "metadata": {},
   "outputs": [
    {
     "data": {
      "text/plain": [
       "array([[ 2,  1,  0],\n",
       "       [ 5,  4,  3],\n",
       "       [ 8,  7,  6],\n",
       "       [11, 10,  9]])"
      ]
     },
     "execution_count": 508,
     "metadata": {},
     "output_type": "execute_result"
    }
   ],
   "source": [
    "fliplr(a)  #flip left right"
   ]
  },
  {
   "cell_type": "markdown",
   "id": "8cf0e44b",
   "metadata": {},
   "source": [
    "# 88. flipup()"
   ]
  },
  {
   "cell_type": "code",
   "execution_count": 509,
   "id": "4c439903",
   "metadata": {},
   "outputs": [
    {
     "data": {
      "text/plain": [
       "array([[ 0,  1,  2],\n",
       "       [ 3,  4,  5],\n",
       "       [ 6,  7,  8],\n",
       "       [ 9, 10, 11]])"
      ]
     },
     "execution_count": 509,
     "metadata": {},
     "output_type": "execute_result"
    }
   ],
   "source": [
    "a = arange(12).reshape(4,3)\n",
    "a"
   ]
  },
  {
   "cell_type": "code",
   "execution_count": 510,
   "id": "3f491ed0",
   "metadata": {},
   "outputs": [
    {
     "data": {
      "text/plain": [
       "array([[ 9, 10, 11],\n",
       "       [ 6,  7,  8],\n",
       "       [ 3,  4,  5],\n",
       "       [ 0,  1,  2]])"
      ]
     },
     "execution_count": 510,
     "metadata": {},
     "output_type": "execute_result"
    }
   ],
   "source": [
    "flipud(a)"
   ]
  },
  {
   "cell_type": "markdown",
   "id": "3ded746d",
   "metadata": {},
   "source": [
    "# 89. floor()"
   ]
  },
  {
   "cell_type": "code",
   "execution_count": 511,
   "id": "edb4eeb4",
   "metadata": {},
   "outputs": [
    {
     "data": {
      "text/plain": [
       "array([-1.7, -1.2,  0.4,  1. ,  2.5,  3.7])"
      ]
     },
     "execution_count": 511,
     "metadata": {},
     "output_type": "execute_result"
    }
   ],
   "source": [
    "a = array([-1.7, -1.2, 0.4, 1.0, 2.5, 3.7])\n",
    "a"
   ]
  },
  {
   "cell_type": "code",
   "execution_count": 512,
   "id": "7c216e87",
   "metadata": {},
   "outputs": [
    {
     "data": {
      "text/plain": [
       "array([-2., -2.,  0.,  1.,  2.,  3.])"
      ]
     },
     "execution_count": 512,
     "metadata": {},
     "output_type": "execute_result"
    }
   ],
   "source": [
    "floor(a)"
   ]
  },
  {
   "cell_type": "markdown",
   "id": "3b6c8d53",
   "metadata": {},
   "source": [
    "# 90. fromarrays()"
   ]
  },
  {
   "cell_type": "code",
   "execution_count": 513,
   "id": "f5926d19",
   "metadata": {},
   "outputs": [
    {
     "data": {
      "text/plain": [
       "('Smith', 'F', 10)"
      ]
     },
     "execution_count": 513,
     "metadata": {},
     "output_type": "execute_result"
    }
   ],
   "source": [
    "x = array(['Smith', 'warner', 'alexa'])   # datatype is string\n",
    "y = array(['F','M','F'])  # datatype is single character\n",
    "z = array([10,20,45])  #datatype is integer\n",
    "data = rec.fromarrays([x,y,z], names = 'surname, gender, age')  #convert to record array\n",
    "data[0]"
   ]
  },
  {
   "cell_type": "code",
   "execution_count": 514,
   "id": "a8f394e3",
   "metadata": {},
   "outputs": [
    {
     "data": {
      "text/plain": [
       "array([10, 20, 45])"
      ]
     },
     "execution_count": 514,
     "metadata": {},
     "output_type": "execute_result"
    }
   ],
   "source": [
    "data.age"
   ]
  },
  {
   "cell_type": "markdown",
   "id": "8417be17",
   "metadata": {},
   "source": [
    "# 91. frombuffer()"
   ]
  },
  {
   "cell_type": "code",
   "execution_count": null,
   "id": "0a6444a2",
   "metadata": {},
   "outputs": [],
   "source": []
  },
  {
   "cell_type": "code",
   "execution_count": null,
   "id": "022e43b2",
   "metadata": {},
   "outputs": [],
   "source": []
  },
  {
   "cell_type": "markdown",
   "id": "483867b4",
   "metadata": {},
   "source": [
    "# 92. fromfile()"
   ]
  },
  {
   "cell_type": "code",
   "execution_count": 515,
   "id": "8c9cb467",
   "metadata": {},
   "outputs": [
    {
     "data": {
      "text/plain": [
       "array([2., 4., 6., 8.])"
      ]
     },
     "execution_count": 515,
     "metadata": {},
     "output_type": "execute_result"
    }
   ],
   "source": [
    "from numpy import *\n",
    "y = array([2.,4.,6.,8.])\n",
    "y.tofile(\"myfile.dat\") # binary format\n",
    "y.tofile(\"myfile.txt\", sep='\\n', format = \"%e\") # ascii format, one column, exponential notation\n",
    "fromfile('myfile.dat', dtype=float)\n"
   ]
  },
  {
   "cell_type": "code",
   "execution_count": 516,
   "id": "30c8adc4",
   "metadata": {},
   "outputs": [
    {
     "data": {
      "text/plain": [
       "array([2., 4., 6., 8.])"
      ]
     },
     "execution_count": 516,
     "metadata": {},
     "output_type": "execute_result"
    }
   ],
   "source": [
    "fromfile('myfile.txt', dtype=float, sep='\\n')"
   ]
  },
  {
   "cell_type": "markdown",
   "id": "c77f9389",
   "metadata": {},
   "source": [
    "# 93. fromfunction()"
   ]
  },
  {
   "cell_type": "code",
   "execution_count": 517,
   "id": "0bd6d3ac",
   "metadata": {},
   "outputs": [
    {
     "data": {
      "text/plain": [
       "array([[0., 1., 4.],\n",
       "       [1., 2., 5.],\n",
       "       [4., 5., 8.]])"
      ]
     },
     "execution_count": 517,
     "metadata": {},
     "output_type": "execute_result"
    }
   ],
   "source": [
    "from numpy import *\n",
    "def f(i,j):\n",
    "    return i**2 + j**2\n",
    "\n",
    "fromfunction(f, (3,3)) # evaluate functiom for all combinations of indices [0,1,2]x[0,1,2]"
   ]
  },
  {
   "cell_type": "markdown",
   "id": "726db5d0",
   "metadata": {},
   "source": [
    "# 94. fromiter()"
   ]
  },
  {
   "cell_type": "code",
   "execution_count": 518,
   "id": "85912644",
   "metadata": {},
   "outputs": [
    {
     "ename": "AttributeError",
     "evalue": "module 'itertools' has no attribute 'imap'",
     "output_type": "error",
     "traceback": [
      "\u001b[1;31m---------------------------------------------------------------------------\u001b[0m",
      "\u001b[1;31mAttributeError\u001b[0m                            Traceback (most recent call last)",
      "Cell \u001b[1;32mIn[518], line 5\u001b[0m\n\u001b[0;32m      3\u001b[0m mydata \u001b[38;5;241m=\u001b[39m [[\u001b[38;5;241m55.5\u001b[39m, \u001b[38;5;241m40\u001b[39m],[\u001b[38;5;241m60.5\u001b[39m, \u001b[38;5;241m70\u001b[39m]] \u001b[38;5;66;03m# List of lists\u001b[39;00m\n\u001b[0;32m      4\u001b[0m mydescriptor \u001b[38;5;241m=\u001b[39m {\u001b[38;5;124m'\u001b[39m\u001b[38;5;124mnames\u001b[39m\u001b[38;5;124m'\u001b[39m: (\u001b[38;5;124m'\u001b[39m\u001b[38;5;124mweight\u001b[39m\u001b[38;5;124m'\u001b[39m,\u001b[38;5;124m'\u001b[39m\u001b[38;5;124mage\u001b[39m\u001b[38;5;124m'\u001b[39m), \u001b[38;5;124m'\u001b[39m\u001b[38;5;124mformats\u001b[39m\u001b[38;5;124m'\u001b[39m: (float32, int32)} \u001b[38;5;66;03m# Descriptor of the data\u001b[39;00m\n\u001b[1;32m----> 5\u001b[0m myiterator \u001b[38;5;241m=\u001b[39m itertools\u001b[38;5;241m.\u001b[39mimap(\u001b[38;5;28mtuple\u001b[39m,mydata) \u001b[38;5;66;03m# Clever way of putting list of lists into iterator\u001b[39;00m\n\u001b[0;32m      6\u001b[0m \u001b[38;5;66;03m# of tuples. E.g.: myiterator.next() == (55.5, 40.)\u001b[39;00m\n\u001b[0;32m      7\u001b[0m a \u001b[38;5;241m=\u001b[39m fromiter(myiterator, dtype \u001b[38;5;241m=\u001b[39m mydescriptor)\n",
      "\u001b[1;31mAttributeError\u001b[0m: module 'itertools' has no attribute 'imap'"
     ]
    }
   ],
   "source": [
    "from numpy import *\n",
    "import itertools\n",
    "mydata = [[55.5, 40],[60.5, 70]] # List of lists\n",
    "mydescriptor = {'names': ('weight','age'), 'formats': (float32, int32)} # Descriptor of the data\n",
    "myiterator = itertools.imap(tuple,mydata) # Clever way of putting list of lists into iterator\n",
    "# of tuples. E.g.: myiterator.next() == (55.5, 40.)\n",
    "a = fromiter(myiterator, dtype = mydescriptor)\n",
    "a"
   ]
  },
  {
   "cell_type": "markdown",
   "id": "c43092b5",
   "metadata": {},
   "source": [
    "# 95. generic"
   ]
  },
  {
   "cell_type": "code",
   "execution_count": 519,
   "id": "d87f840e",
   "metadata": {},
   "outputs": [
    {
     "data": {
      "text/plain": [
       "b'7'"
      ]
     },
     "execution_count": 519,
     "metadata": {},
     "output_type": "execute_result"
    }
   ],
   "source": [
    "from numpy import *\n",
    "numpyscalar = string_('7') # Convert to numpy scalar\n",
    "numpyscalar # Looks like a build-in scalar...\n",
    "\n"
   ]
  },
  {
   "cell_type": "code",
   "execution_count": 520,
   "id": "13d7dac3",
   "metadata": {},
   "outputs": [
    {
     "data": {
      "text/plain": [
       "numpy.bytes_"
      ]
     },
     "execution_count": 520,
     "metadata": {},
     "output_type": "execute_result"
    }
   ],
   "source": [
    "type(numpyscalar) # ... but it isn't"
   ]
  },
  {
   "cell_type": "code",
   "execution_count": 521,
   "id": "c8525b3d",
   "metadata": {},
   "outputs": [
    {
     "data": {
      "text/plain": [
       "str"
      ]
     },
     "execution_count": 521,
     "metadata": {},
     "output_type": "execute_result"
    }
   ],
   "source": [
    "buildinscalar = '7' # Build-in python scalar\n",
    "type(buildinscalar)\n"
   ]
  },
  {
   "cell_type": "code",
   "execution_count": 522,
   "id": "653ba8b7",
   "metadata": {},
   "outputs": [
    {
     "data": {
      "text/plain": [
       "False"
      ]
     },
     "execution_count": 522,
     "metadata": {},
     "output_type": "execute_result"
    }
   ],
   "source": [
    "isinstance(numpyscalar, generic) # Check if scalar is a NumPy one\n",
    "isinstance(buildinscalar, generic) # Example on how to recognize NumPy scalars"
   ]
  },
  {
   "cell_type": "markdown",
   "id": "a2f93380",
   "metadata": {},
   "source": [
    "# 96. gumbel()"
   ]
  },
  {
   "cell_type": "code",
   "execution_count": 523,
   "id": "2b8324a4",
   "metadata": {},
   "outputs": [
    {
     "data": {
      "text/plain": [
       "array([[-1.21577504,  1.316322  ,  1.13088299],\n",
       "       [ 5.23509762,  1.08430591,  0.53347248]])"
      ]
     },
     "execution_count": 523,
     "metadata": {},
     "output_type": "execute_result"
    }
   ],
   "source": [
    "from numpy import *\n",
    "from numpy.random import *\n",
    "gumbel(loc=0.0,scale=1.0,size=(2,3)) # Gumbel distribution location=0.0, scale=1.0"
   ]
  },
  {
   "cell_type": "code",
   "execution_count": 524,
   "id": "e4b54166",
   "metadata": {},
   "outputs": [
    {
     "data": {
      "text/plain": [
       "(array([ 1.,  0.,  3.,  5.,  7., 18., 20., 28., 32., 50., 60., 51., 52.,\n",
       "        64., 51., 58., 57., 48., 58., 38., 24., 33., 36., 25., 19., 18.,\n",
       "        20., 19., 16., 12., 10., 13., 13.,  6.,  2.,  7.,  1.,  2.,  8.,\n",
       "         2.,  2.,  1.,  2.,  2.,  0.,  1.,  3.,  0.,  0.,  2.]),\n",
       " array([-2.24774704, -2.08364095, -1.91953486, -1.75542876, -1.59132267,\n",
       "        -1.42721658, -1.26311048, -1.09900439, -0.9348983 , -0.7707922 ,\n",
       "        -0.60668611, -0.44258002, -0.27847392, -0.11436783,  0.04973826,\n",
       "         0.21384436,  0.37795045,  0.54205654,  0.70616264,  0.87026873,\n",
       "         1.03437482,  1.19848092,  1.36258701,  1.5266931 ,  1.6907992 ,\n",
       "         1.85490529,  2.01901138,  2.18311748,  2.34722357,  2.51132966,\n",
       "         2.67543576,  2.83954185,  3.00364794,  3.16775404,  3.33186013,\n",
       "         3.49596622,  3.66007232,  3.82417841,  3.9882845 ,  4.1523906 ,\n",
       "         4.31649669,  4.48060278,  4.64470888,  4.80881497,  4.97292106,\n",
       "         5.13702716,  5.30113325,  5.46523934,  5.62934544,  5.79345153,\n",
       "         5.95755762]),\n",
       " <BarContainer object of 50 artists>)"
      ]
     },
     "execution_count": 524,
     "metadata": {},
     "output_type": "execute_result"
    },
    {
     "data": {
      "image/png": "[encoded data removed]",
      "text/plain": [
       "<Figure size 640x480 with 1 Axes>"
      ]
     },
     "metadata": {},
     "output_type": "display_data"
    }
   ],
   "source": [
    "from pylab import * # histogram plot example\n",
    "hist(gumbel(0,1,(1000)), 50)"
   ]
  },
  {
   "cell_type": "markdown",
   "id": "f8564c6d",
   "metadata": {},
   "source": [
    "# 97. histogram()"
   ]
  },
  {
   "cell_type": "code",
   "execution_count": 525,
   "id": "83d30f15",
   "metadata": {},
   "outputs": [
    {
     "data": {
      "text/plain": [
       "(array([2, 3, 1, 4], dtype=int64), array([ 0. ,  1. ,  2.5,  4. , 10. ]))"
      ]
     },
     "execution_count": 525,
     "metadata": {},
     "output_type": "execute_result"
    }
   ],
   "source": [
    "from numpy import *\n",
    "x = array([0.2, 6.4, 3.0, 1.6, 0.9, 2.3, 1.6, 5.7, 8.5, 4.0, 12.8])\n",
    "bins = array([0.0, 1.0, 2.5, 4.0, 10.0]) # increasing monotonically\n",
    "N,bins = histogram(x,bins)\n",
    "N,bins\n"
   ]
  },
  {
   "cell_type": "code",
   "execution_count": 526,
   "id": "ad68f4c0",
   "metadata": {},
   "outputs": [
    {
     "name": "stdout",
     "output_type": "stream",
     "text": [
      "#  2 number fall into bin [ 0.0 , 1.0 [\n",
      "#  3 number fall into bin [ 1.0 , 2.5 [\n",
      "#  1 number fall into bin [ 2.5 , 4.0 [\n",
      "#  4 number fall into bin [ 4.0 , 10.0 [\n"
     ]
    },
    {
     "data": {
      "text/plain": [
       "(array([4, 2, 2, 1, 1], dtype=int64), array([ 0.,  2.,  4.,  6.,  8., 10.]))"
      ]
     },
     "execution_count": 526,
     "metadata": {},
     "output_type": "execute_result"
    }
   ],
   "source": [
    "for n in range(len(bins)-1):\n",
    "    print(\"# \", N[n], \"number fall into bin [\", bins[n], \",\", bins[n+1], \"[\")\n",
    "\n",
    "# 2 numbers fall into bin [ 0.0 , 1.0 [\n",
    "# 3 numbers fall into bin [ 1.0 , 2.5 [\n",
    "# 1 numbers fall into bin [ 2.5 , 4.0 [\n",
    "# 4 numbers fall into bin [ 4.0 , 10.0 [\n",
    "#\n",
    "N,bins = histogram(x,5,range=(0.0, 10.0)) # 5 bin boundaries in the range (0,10)\n",
    "N,bins\n"
   ]
  },
  {
   "cell_type": "code",
   "execution_count": 527,
   "id": "480dc84d",
   "metadata": {},
   "outputs": [
    {
     "data": {
      "text/plain": [
       "(array([4, 2, 2, 1, 1], dtype=int64), array([ 0.,  2.,  4.,  6.,  8., 10.]))"
      ]
     },
     "execution_count": 527,
     "metadata": {},
     "output_type": "execute_result"
    }
   ],
   "source": [
    "N,bins = histogram(x,5,range=(0.0, 10.0)) # normalize histogram, i.e. divide by len(x)\n",
    "N,bins"
   ]
  },
  {
   "cell_type": "markdown",
   "id": "da21e928",
   "metadata": {},
   "source": [
    "# 98. hsplit()"
   ]
  },
  {
   "cell_type": "code",
   "execution_count": 528,
   "id": "0fd2ab68",
   "metadata": {},
   "outputs": [
    {
     "data": {
      "text/plain": [
       "[array([[1, 2],\n",
       "        [5, 6]]),\n",
       " array([[3, 4],\n",
       "        [7, 8]])]"
      ]
     },
     "execution_count": 528,
     "metadata": {},
     "output_type": "execute_result"
    }
   ],
   "source": [
    "from numpy import *\n",
    "a = array([[1,2,3,4],[5,6,7,8]])\n",
    "hsplit(a,2) # split, column-wise, in 2 equal parts\n"
   ]
  },
  {
   "cell_type": "code",
   "execution_count": 529,
   "id": "f5c1051f",
   "metadata": {},
   "outputs": [
    {
     "data": {
      "text/plain": [
       "[array([[1],\n",
       "        [5]]),\n",
       " array([[2],\n",
       "        [6]]),\n",
       " array([[3, 4],\n",
       "        [7, 8]])]"
      ]
     },
     "execution_count": 529,
     "metadata": {},
     "output_type": "execute_result"
    }
   ],
   "source": [
    "hsplit(a,[1,2]) # split before column 1 and before column 2"
   ]
  },
  {
   "cell_type": "markdown",
   "id": "a8067e42",
   "metadata": {},
   "source": [
    "# 99. hstack()"
   ]
  },
  {
   "cell_type": "code",
   "execution_count": 530,
   "id": "abcf7ec4",
   "metadata": {},
   "outputs": [
    {
     "data": {
      "text/plain": [
       "array([[1, 3, 4, 1],\n",
       "       [2, 5, 6, 2]])"
      ]
     },
     "execution_count": 530,
     "metadata": {},
     "output_type": "execute_result"
    }
   ],
   "source": [
    "from numpy import *\n",
    "a =array([[1],[2]]) # 2x1 array\n",
    "b = array([[3,4],[5,6]]) # 2x2 array\n",
    "hstack((a,b,a)) # only the 2nd dimension of the arrays is allowed to be different"
   ]
  },
  {
   "cell_type": "markdown",
   "id": "c99ca3cd",
   "metadata": {},
   "source": [
    "# 100. hypot()"
   ]
  },
  {
   "cell_type": "code",
   "execution_count": 531,
   "id": "281f1705",
   "metadata": {},
   "outputs": [
    {
     "data": {
      "text/plain": [
       "5.0"
      ]
     },
     "execution_count": 531,
     "metadata": {},
     "output_type": "execute_result"
    }
   ],
   "source": [
    "from numpy import *\n",
    "hypot(3.,4.) # hypotenuse: sqrt(3**2 + 4**2) = 5\n"
   ]
  },
  {
   "cell_type": "code",
   "execution_count": 532,
   "id": "f7b2156f",
   "metadata": {},
   "outputs": [
    {
     "data": {
      "text/plain": [
       "array([3.60555128, 5.        ])"
      ]
     },
     "execution_count": 532,
     "metadata": {},
     "output_type": "execute_result"
    }
   ],
   "source": [
    "z = array([2+3j, 3+4j])\n",
    "hypot(z.real, z.imag) # norm of complex numbers"
   ]
  },
  {
   "cell_type": "markdown",
   "id": "3afc981a",
   "metadata": {},
   "source": [
    "# 101. identity()"
   ]
  },
  {
   "cell_type": "code",
   "execution_count": 533,
   "id": "29224763",
   "metadata": {},
   "outputs": [],
   "source": [
    "from numpy import *"
   ]
  },
  {
   "cell_type": "code",
   "execution_count": 534,
   "id": "a250cd3a",
   "metadata": {},
   "outputs": [
    {
     "data": {
      "text/plain": [
       "array([[1, 0, 0],\n",
       "       [0, 1, 0],\n",
       "       [0, 0, 1]])"
      ]
     },
     "execution_count": 534,
     "metadata": {},
     "output_type": "execute_result"
    }
   ],
   "source": [
    "identity(3, int)"
   ]
  },
  {
   "cell_type": "markdown",
   "id": "f06ae1b0",
   "metadata": {},
   "source": [
    "# 102. ifft()"
   ]
  },
  {
   "cell_type": "code",
   "execution_count": 535,
   "id": "009e4e78",
   "metadata": {},
   "outputs": [],
   "source": [
    "from numpy.fft import *"
   ]
  },
  {
   "cell_type": "code",
   "execution_count": 536,
   "id": "64b395a7",
   "metadata": {},
   "outputs": [
    {
     "data": {
      "text/plain": [
       "array([-2.00000000e+00+0.j,  8.00000000e+00+0.j, -6.00000000e+00+0.j,\n",
       "        4.00000000e+00+0.j,  1.00000000e+00+0.j, -1.77635684e-15+0.j,\n",
       "        3.00000000e+00+0.j,  5.00000000e+00+0.j])"
      ]
     },
     "execution_count": 536,
     "metadata": {},
     "output_type": "execute_result"
    }
   ],
   "source": [
    "signal = array([-2., 8., -6., 4., 1., 0., 3., 5.])\n",
    "fourier = fft(signal)\n",
    "ifft(fourier) # Inverse fourier transform"
   ]
  },
  {
   "cell_type": "code",
   "execution_count": 537,
   "id": "cd3ea3ac",
   "metadata": {},
   "outputs": [
    {
     "data": {
      "text/plain": [
       "True"
      ]
     },
     "execution_count": 537,
     "metadata": {},
     "output_type": "execute_result"
    }
   ],
   "source": [
    "allclose(signal.astype(complex), ifft(fft(signal))) # ifft(fft()) = original signal"
   ]
  },
  {
   "cell_type": "code",
   "execution_count": 538,
   "id": "b91e46cf",
   "metadata": {},
   "outputs": [],
   "source": [
    "N = len(fourier)\n",
    "signal = empty(N,complex)\n",
    "for k in range(N): # equivalent but much slower\n",
    "    signal[k] = sum(fourier * exp(+1j*2*pi*k*arange(N)/N)) / N"
   ]
  },
  {
   "cell_type": "markdown",
   "id": "da9811dd",
   "metadata": {},
   "source": [
    "# 103. imag()"
   ]
  },
  {
   "cell_type": "code",
   "execution_count": 539,
   "id": "8ebf577c",
   "metadata": {},
   "outputs": [],
   "source": [
    "a = array([1+3j,4+1j,2+9j])"
   ]
  },
  {
   "cell_type": "code",
   "execution_count": 540,
   "id": "9b89f0b5",
   "metadata": {},
   "outputs": [
    {
     "data": {
      "text/plain": [
       "array([3., 1., 9.])"
      ]
     },
     "execution_count": 540,
     "metadata": {},
     "output_type": "execute_result"
    }
   ],
   "source": [
    "a.imag"
   ]
  },
  {
   "cell_type": "code",
   "execution_count": 541,
   "id": "a96b35cb",
   "metadata": {},
   "outputs": [],
   "source": [
    "a.imag = 9"
   ]
  },
  {
   "cell_type": "code",
   "execution_count": 542,
   "id": "cda46ba6",
   "metadata": {},
   "outputs": [
    {
     "data": {
      "text/plain": [
       "array([1.+9.j, 4.+9.j, 2.+9.j])"
      ]
     },
     "execution_count": 542,
     "metadata": {},
     "output_type": "execute_result"
    }
   ],
   "source": [
    "a"
   ]
  },
  {
   "cell_type": "code",
   "execution_count": 543,
   "id": "e36941af",
   "metadata": {},
   "outputs": [],
   "source": [
    "a.imag = array([6,7,5])"
   ]
  },
  {
   "cell_type": "code",
   "execution_count": 544,
   "id": "26177acd",
   "metadata": {},
   "outputs": [
    {
     "data": {
      "text/plain": [
       "array([1.+6.j, 4.+7.j, 2.+5.j])"
      ]
     },
     "execution_count": 544,
     "metadata": {},
     "output_type": "execute_result"
    }
   ],
   "source": [
    "a"
   ]
  },
  {
   "cell_type": "markdown",
   "id": "c8b49c00",
   "metadata": {},
   "source": [
    "# 104. index_exp[]"
   ]
  },
  {
   "cell_type": "code",
   "execution_count": 545,
   "id": "a4beef71",
   "metadata": {},
   "outputs": [
    {
     "name": "stdout",
     "output_type": "stream",
     "text": [
      "(slice(2, 4, None), Ellipsis, 4, slice(None, None, -1))\n"
     ]
    }
   ],
   "source": [
    "myslice = index_exp[2:4,...,4,::-1] # myslice could now be passed to a function, for example.\n",
    "print(myslice)"
   ]
  },
  {
   "cell_type": "code",
   "execution_count": 546,
   "id": "626223d0",
   "metadata": {},
   "outputs": [],
   "source": [
    "#A nicer way to build up index tuples for arrays."
   ]
  },
  {
   "cell_type": "markdown",
   "id": "9ffe99a1",
   "metadata": {},
   "source": [
    "# 105. indices[]"
   ]
  },
  {
   "cell_type": "code",
   "execution_count": 547,
   "id": "4c15345f",
   "metadata": {},
   "outputs": [
    {
     "data": {
      "text/plain": [
       "array([[[0, 0, 0],\n",
       "        [1, 1, 1]],\n",
       "\n",
       "       [[0, 1, 2],\n",
       "        [0, 1, 2]]])"
      ]
     },
     "execution_count": 547,
     "metadata": {},
     "output_type": "execute_result"
    }
   ],
   "source": [
    "indices((2,3))"
   ]
  },
  {
   "cell_type": "code",
   "execution_count": 548,
   "id": "27a79e75",
   "metadata": {},
   "outputs": [
    {
     "data": {
      "text/plain": [
       "array([[ 0,  1],\n",
       "       [10, 11]])"
      ]
     },
     "execution_count": 548,
     "metadata": {},
     "output_type": "execute_result"
    }
   ],
   "source": [
    "a = array([ [ 0, 1, 2, 3, 4],\n",
    "... [10,11,12,13,14],\n",
    "... [20,21,22,23,24],\n",
    "... [30,31,32,33,34] ])\n",
    "i,j = indices((2,2))\n",
    "a[i,j]"
   ]
  },
  {
   "cell_type": "markdown",
   "id": "cc4e76a4",
   "metadata": {},
   "source": [
    "# 106. inf"
   ]
  },
  {
   "cell_type": "code",
   "execution_count": 549,
   "id": "2a0dd9c3",
   "metadata": {},
   "outputs": [
    {
     "name": "stderr",
     "output_type": "stream",
     "text": [
      "C:\\Users\\nithi\\AppData\\Local\\Temp\\ipykernel_20556\\2966194585.py:2: RuntimeWarning: overflow encountered in exp\n",
      "  exp(array([1000.])) # inf = infinite = number too large to represent, machine dependent\n"
     ]
    },
    {
     "data": {
      "text/plain": [
       "array([inf])"
      ]
     },
     "execution_count": 549,
     "metadata": {},
     "output_type": "execute_result"
    }
   ],
   "source": [
    "from numpy import *\n",
    "exp(array([1000.])) # inf = infinite = number too large to represent, machine dependent"
   ]
  },
  {
   "cell_type": "code",
   "execution_count": 550,
   "id": "ce5c2bf4",
   "metadata": {},
   "outputs": [
    {
     "data": {
      "text/plain": [
       "array([ True, False,  True, False])"
      ]
     },
     "execution_count": 550,
     "metadata": {},
     "output_type": "execute_result"
    }
   ],
   "source": [
    "x = array([2,-inf,1,inf])\n",
    "isfinite(x) # show which elements are not nan/inf/-inf"
   ]
  },
  {
   "cell_type": "code",
   "execution_count": 551,
   "id": "cadd3d9e",
   "metadata": {},
   "outputs": [
    {
     "data": {
      "text/plain": [
       "array([False,  True, False,  True])"
      ]
     },
     "execution_count": 551,
     "metadata": {},
     "output_type": "execute_result"
    }
   ],
   "source": [
    "isinf(x)"
   ]
  },
  {
   "cell_type": "code",
   "execution_count": 552,
   "id": "1d452e87",
   "metadata": {},
   "outputs": [
    {
     "data": {
      "text/plain": [
       "array([False, False, False,  True])"
      ]
     },
     "execution_count": 552,
     "metadata": {},
     "output_type": "execute_result"
    }
   ],
   "source": [
    "isposinf(x)"
   ]
  },
  {
   "cell_type": "code",
   "execution_count": 553,
   "id": "22bb2161",
   "metadata": {},
   "outputs": [
    {
     "data": {
      "text/plain": [
       "array([False,  True, False, False])"
      ]
     },
     "execution_count": 553,
     "metadata": {},
     "output_type": "execute_result"
    }
   ],
   "source": [
    "isneginf(x)"
   ]
  },
  {
   "cell_type": "code",
   "execution_count": 554,
   "id": "7983a9c6",
   "metadata": {},
   "outputs": [
    {
     "data": {
      "text/plain": [
       "array([ 2.00000000e+000, -1.79769313e+308,  1.00000000e+000,\n",
       "        1.79769313e+308])"
      ]
     },
     "execution_count": 554,
     "metadata": {},
     "output_type": "execute_result"
    }
   ],
   "source": [
    "nan_to_num(x)"
   ]
  },
  {
   "cell_type": "markdown",
   "id": "389ca44f",
   "metadata": {},
   "source": [
    "# 107. inner()"
   ]
  },
  {
   "cell_type": "code",
   "execution_count": 555,
   "id": "b6da9157",
   "metadata": {},
   "outputs": [
    {
     "data": {
      "text/plain": [
       "32"
      ]
     },
     "execution_count": 555,
     "metadata": {},
     "output_type": "execute_result"
    }
   ],
   "source": [
    "x = array([1,2,3])\n",
    "y = array([4,5,6])\n",
    "inner(x,y)  #1x4+2x5+3x6=32"
   ]
  },
  {
   "cell_type": "markdown",
   "id": "fdf48504",
   "metadata": {},
   "source": [
    "# 108. insert()"
   ]
  },
  {
   "cell_type": "code",
   "execution_count": 556,
   "id": "46f1709e",
   "metadata": {},
   "outputs": [],
   "source": [
    "a = array([10,20,30,40])"
   ]
  },
  {
   "cell_type": "code",
   "execution_count": 557,
   "id": "756c7e27",
   "metadata": {},
   "outputs": [
    {
     "data": {
      "text/plain": [
       "array([10, 50, 20, 30, 50, 40])"
      ]
     },
     "execution_count": 557,
     "metadata": {},
     "output_type": "execute_result"
    }
   ],
   "source": [
    "insert(a,[1,3],50)"
   ]
  },
  {
   "cell_type": "code",
   "execution_count": 558,
   "id": "b2e4d67f",
   "metadata": {},
   "outputs": [
    {
     "data": {
      "text/plain": [
       "array([10, 50, 20, 30, 60, 40])"
      ]
     },
     "execution_count": 558,
     "metadata": {},
     "output_type": "execute_result"
    }
   ],
   "source": [
    "insert(a,[1,3],[50,60])"
   ]
  },
  {
   "cell_type": "code",
   "execution_count": 559,
   "id": "38a37fdc",
   "metadata": {},
   "outputs": [],
   "source": [
    "a = array([[10,20,30],[40,50,60],[70,80,90]])"
   ]
  },
  {
   "cell_type": "code",
   "execution_count": 560,
   "id": "98190a2b",
   "metadata": {},
   "outputs": [
    {
     "data": {
      "text/plain": [
       "array([[ 10, 100,  20, 100,  30],\n",
       "       [ 40, 100,  50, 100,  60],\n",
       "       [ 70, 100,  80, 100,  90]])"
      ]
     },
     "execution_count": 560,
     "metadata": {},
     "output_type": "execute_result"
    }
   ],
   "source": [
    "insert(a,[1,2],100,axis=1)"
   ]
  },
  {
   "cell_type": "code",
   "execution_count": 561,
   "id": "fd4fe694",
   "metadata": {},
   "outputs": [
    {
     "data": {
      "text/plain": [
       "array([[ 10,  20,  30],\n",
       "       [100, 100, 100],\n",
       "       [ 40,  50,  60],\n",
       "       [200, 200, 200],\n",
       "       [ 70,  80,  90]])"
      ]
     },
     "execution_count": 561,
     "metadata": {},
     "output_type": "execute_result"
    }
   ],
   "source": [
    "insert(a, [1,2], [[100],[200]], axis=0)"
   ]
  },
  {
   "cell_type": "markdown",
   "id": "125eb16d",
   "metadata": {},
   "source": [
    "# 109. inv()"
   ]
  },
  {
   "cell_type": "code",
   "execution_count": 562,
   "id": "605931dc",
   "metadata": {},
   "outputs": [],
   "source": [
    "from numpy.linalg import inv"
   ]
  },
  {
   "cell_type": "code",
   "execution_count": 563,
   "id": "6bbf2d82",
   "metadata": {},
   "outputs": [],
   "source": [
    "a = array([[3,4,1],[6,7,8],[1,9,0]])"
   ]
  },
  {
   "cell_type": "code",
   "execution_count": 564,
   "id": "2020e6ac",
   "metadata": {},
   "outputs": [
    {
     "name": "stdout",
     "output_type": "stream",
     "text": [
      "[[3 4 1]\n",
      " [6 7 8]\n",
      " [1 9 0]]\n"
     ]
    }
   ],
   "source": [
    "print(a)"
   ]
  },
  {
   "cell_type": "code",
   "execution_count": 565,
   "id": "5f949223",
   "metadata": {},
   "outputs": [],
   "source": [
    "inva = inv(a)"
   ]
  },
  {
   "cell_type": "code",
   "execution_count": 566,
   "id": "c96fc867",
   "metadata": {},
   "outputs": [
    {
     "data": {
      "text/plain": [
       "array([[ 0.52554745, -0.06569343, -0.18248175],\n",
       "       [-0.05839416,  0.00729927,  0.13138686],\n",
       "       [-0.34306569,  0.16788321,  0.02189781]])"
      ]
     },
     "execution_count": 566,
     "metadata": {},
     "output_type": "execute_result"
    }
   ],
   "source": [
    "inva"
   ]
  },
  {
   "cell_type": "code",
   "execution_count": 567,
   "id": "46c4fabb",
   "metadata": {},
   "outputs": [
    {
     "data": {
      "text/plain": [
       "array([[1., 0., 0.],\n",
       "       [0., 1., 0.],\n",
       "       [0., 0., 1.]])"
      ]
     },
     "execution_count": 567,
     "metadata": {},
     "output_type": "execute_result"
    }
   ],
   "source": [
    "eye(3)"
   ]
  },
  {
   "cell_type": "code",
   "execution_count": 568,
   "id": "252ae15b",
   "metadata": {},
   "outputs": [
    {
     "data": {
      "text/plain": [
       "array([[ 1.00000000e+00,  0.00000000e+00,  2.77555756e-17],\n",
       "       [ 0.00000000e+00,  1.00000000e+00,  8.32667268e-17],\n",
       "       [ 4.16333634e-17, -3.46944695e-18,  1.00000000e+00]])"
      ]
     },
     "execution_count": 568,
     "metadata": {},
     "output_type": "execute_result"
    }
   ],
   "source": [
    "dot(a, inva)"
   ]
  },
  {
   "cell_type": "markdown",
   "id": "791e2b66",
   "metadata": {},
   "source": [
    "# 110. iscomplexobj()"
   ]
  },
  {
   "cell_type": "code",
   "execution_count": 569,
   "id": "4734f420",
   "metadata": {},
   "outputs": [],
   "source": [
    "a = array([1,2,3.j])"
   ]
  },
  {
   "cell_type": "code",
   "execution_count": 570,
   "id": "e0dacdca",
   "metadata": {},
   "outputs": [
    {
     "data": {
      "text/plain": [
       "True"
      ]
     },
     "execution_count": 570,
     "metadata": {},
     "output_type": "execute_result"
    }
   ],
   "source": [
    "iscomplexobj(a)"
   ]
  },
  {
   "cell_type": "code",
   "execution_count": 571,
   "id": "102a1374",
   "metadata": {},
   "outputs": [],
   "source": [
    "a = array([1,2,3])"
   ]
  },
  {
   "cell_type": "code",
   "execution_count": 572,
   "id": "39264e18",
   "metadata": {},
   "outputs": [
    {
     "data": {
      "text/plain": [
       "False"
      ]
     },
     "execution_count": 572,
     "metadata": {},
     "output_type": "execute_result"
    }
   ],
   "source": [
    "iscomplexobj(a)"
   ]
  },
  {
   "cell_type": "code",
   "execution_count": 573,
   "id": "bae53b07",
   "metadata": {},
   "outputs": [],
   "source": [
    "a = array([1,2,7], dtype=complex)"
   ]
  },
  {
   "cell_type": "code",
   "execution_count": 574,
   "id": "12eb59b1",
   "metadata": {},
   "outputs": [
    {
     "data": {
      "text/plain": [
       "array([1.+0.j, 2.+0.j, 7.+0.j])"
      ]
     },
     "execution_count": 574,
     "metadata": {},
     "output_type": "execute_result"
    }
   ],
   "source": [
    "a"
   ]
  },
  {
   "cell_type": "code",
   "execution_count": 575,
   "id": "3aad43e2",
   "metadata": {},
   "outputs": [
    {
     "data": {
      "text/plain": [
       "True"
      ]
     },
     "execution_count": 575,
     "metadata": {},
     "output_type": "execute_result"
    }
   ],
   "source": [
    "iscomplexobj(a)"
   ]
  },
  {
   "cell_type": "markdown",
   "id": "a6d42bdb",
   "metadata": {},
   "source": [
    "# 111. item()"
   ]
  },
  {
   "cell_type": "code",
   "execution_count": 576,
   "id": "59332a04",
   "metadata": {},
   "outputs": [
    {
     "data": {
      "text/plain": [
       "numpy.int32"
      ]
     },
     "execution_count": 576,
     "metadata": {},
     "output_type": "execute_result"
    }
   ],
   "source": [
    "from numpy import *\n",
    "a = array([5])\n",
    "type(a[0])\n",
    "\n"
   ]
  },
  {
   "cell_type": "code",
   "execution_count": 577,
   "id": "24084cd4",
   "metadata": {},
   "outputs": [
    {
     "data": {
      "text/plain": [
       "5"
      ]
     },
     "execution_count": 577,
     "metadata": {},
     "output_type": "execute_result"
    }
   ],
   "source": [
    "a.item() # Conversion of array of size 1 to Python scalar"
   ]
  },
  {
   "cell_type": "code",
   "execution_count": 578,
   "id": "1c8a757d",
   "metadata": {},
   "outputs": [
    {
     "data": {
      "text/plain": [
       "int"
      ]
     },
     "execution_count": 578,
     "metadata": {},
     "output_type": "execute_result"
    }
   ],
   "source": [
    "type(a.item())"
   ]
  },
  {
   "cell_type": "code",
   "execution_count": 579,
   "id": "dd67a93a",
   "metadata": {},
   "outputs": [
    {
     "data": {
      "text/plain": [
       "3"
      ]
     },
     "execution_count": 579,
     "metadata": {},
     "output_type": "execute_result"
    }
   ],
   "source": [
    "b = array([2,3,4])\n",
    "b[1].item() # Conversion of 2nd element to Python scalar"
   ]
  },
  {
   "cell_type": "code",
   "execution_count": 580,
   "id": "2529dd22",
   "metadata": {},
   "outputs": [
    {
     "data": {
      "text/plain": [
       "int"
      ]
     },
     "execution_count": 580,
     "metadata": {},
     "output_type": "execute_result"
    }
   ],
   "source": [
    "type(b[1].item())"
   ]
  },
  {
   "cell_type": "code",
   "execution_count": 581,
   "id": "5e3908bb",
   "metadata": {},
   "outputs": [
    {
     "data": {
      "text/plain": [
       "4"
      ]
     },
     "execution_count": 581,
     "metadata": {},
     "output_type": "execute_result"
    }
   ],
   "source": [
    "b.item(2) # Return 3rd element converted to Python scalar"
   ]
  },
  {
   "cell_type": "code",
   "execution_count": 582,
   "id": "3a76b86e",
   "metadata": {},
   "outputs": [
    {
     "name": "stdout",
     "output_type": "stream",
     "text": [
      "<class 'int'>\n",
      "<class 'numpy.int32'>\n"
     ]
    }
   ],
   "source": [
    "print(type(b.item(2)))\n",
    "print(type(b[2])) # b[2] is slower than b.item(2), and there is no conversion"
   ]
  },
  {
   "cell_type": "markdown",
   "id": "d732e01a",
   "metadata": {},
   "source": [
    "# 112. ix_()"
   ]
  },
  {
   "cell_type": "code",
   "execution_count": 583,
   "id": "bb87ef96",
   "metadata": {},
   "outputs": [
    {
     "name": "stdout",
     "output_type": "stream",
     "text": [
      "[[0 1 2]\n",
      " [3 4 5]\n",
      " [6 7 8]]\n"
     ]
    }
   ],
   "source": [
    "from numpy import *\n",
    "a = arange(9).reshape(3,3)\n",
    "print(a)"
   ]
  },
  {
   "cell_type": "code",
   "execution_count": 584,
   "id": "33162690",
   "metadata": {},
   "outputs": [
    {
     "name": "stdout",
     "output_type": "stream",
     "text": [
      "(array([[0],\n",
      "       [1],\n",
      "       [2]]), array([[1, 2, 0]]))\n"
     ]
    }
   ],
   "source": [
    "indices = ix_([0,1,2],[1,2,0]) # trick to be used with array broadcasting\n",
    "print(indices)"
   ]
  },
  {
   "cell_type": "code",
   "execution_count": 585,
   "id": "dc643f7a",
   "metadata": {},
   "outputs": [
    {
     "name": "stdout",
     "output_type": "stream",
     "text": [
      "[[1 2 0]\n",
      " [4 5 3]\n",
      " [7 8 6]]\n"
     ]
    }
   ],
   "source": [
    "print(a[indices])"
   ]
  },
  {
   "cell_type": "code",
   "execution_count": 586,
   "id": "e958f723",
   "metadata": {},
   "outputs": [],
   "source": [
    "# The latter array is the cross-product:\n",
    "# [[ a[0,1] a[0,2] a[0,0]]\n",
    "# [ a[1,1] a[1,2] a[1,0]]\n",
    "# [ a[2,1] a[2,2] a[2,0]]]"
   ]
  },
  {
   "cell_type": "markdown",
   "id": "c69460a5",
   "metadata": {},
   "source": [
    "# 113. lexsort()"
   ]
  },
  {
   "cell_type": "code",
   "execution_count": 587,
   "id": "5ff0aa06",
   "metadata": {},
   "outputs": [
    {
     "data": {
      "text/plain": [
       "array([5, 0, 1, 3, 2, 4], dtype=int64)"
      ]
     },
     "execution_count": 587,
     "metadata": {},
     "output_type": "execute_result"
    }
   ],
   "source": [
    "from numpy import *\n",
    "serialnr = array([1023, 5202, 6230, 1671, 1682, 5241])\n",
    "height = array([40., 42., 60., 60., 98., 40.])\n",
    "width = array([50., 20., 70., 60., 15., 30.])\n",
    "\n",
    "# We want to sort the serial numbers with increasing height, _AND_\n",
    "# serial numbers with equal heights should be sorted with increasing width.\n",
    "\n",
    "indices = lexsort(keys = (width, height)) # mind the order!\n",
    "indices\n"
   ]
  },
  {
   "cell_type": "code",
   "execution_count": 588,
   "id": "941af33c",
   "metadata": {},
   "outputs": [
    {
     "name": "stdout",
     "output_type": "stream",
     "text": [
      "5241 40.0 30.0\n",
      "1023 40.0 50.0\n",
      "5202 42.0 20.0\n",
      "1671 60.0 60.0\n",
      "6230 60.0 70.0\n",
      "1682 98.0 15.0\n"
     ]
    }
   ],
   "source": [
    "for n in indices:\n",
    "    print(serialnr[n], height[n], width[n])"
   ]
  },
  {
   "cell_type": "code",
   "execution_count": 589,
   "id": "d2c05574",
   "metadata": {},
   "outputs": [
    {
     "name": "stdout",
     "output_type": "stream",
     "text": [
      "[[1023. 5202. 6230. 1671. 1682. 5241.]\n",
      " [  50.   20.   70.   60.   15.   30.]\n",
      " [  40.   42.   60.   60.   98.   40.]]\n"
     ]
    }
   ],
   "source": [
    "a = vstack([serialnr,width,height]) # Alternatively: all data in one big matrix\n",
    "print(a)# Mind the order of the rows!"
   ]
  },
  {
   "cell_type": "code",
   "execution_count": 590,
   "id": "7e3fd8ca",
   "metadata": {},
   "outputs": [
    {
     "data": {
      "text/plain": [
       "array([[5241., 1023., 5202., 1671., 6230., 1682.],\n",
       "       [  30.,   50.,   20.,   60.,   70.,   15.],\n",
       "       [  40.,   40.,   42.,   60.,   60.,   98.]])"
      ]
     },
     "execution_count": 590,
     "metadata": {},
     "output_type": "execute_result"
    }
   ],
   "source": [
    "indices = lexsort(a) # Sort on last row, then on 2nd last row, etc.\n",
    "a.take(indices, axis=-1)"
   ]
  },
  {
   "cell_type": "markdown",
   "id": "486426b7",
   "metadata": {},
   "source": [
    "# 114. linspace()"
   ]
  },
  {
   "cell_type": "code",
   "execution_count": 591,
   "id": "9e1da4ad",
   "metadata": {},
   "outputs": [
    {
     "data": {
      "text/plain": [
       "array([0., 1., 2., 3., 4., 5.])"
      ]
     },
     "execution_count": 591,
     "metadata": {},
     "output_type": "execute_result"
    }
   ],
   "source": [
    "from numpy import *\n",
    "linspace(0,5,num=6) # 6 evenly spaced numbers between 0 and 5 incl."
   ]
  },
  {
   "cell_type": "code",
   "execution_count": 592,
   "id": "1f323a17",
   "metadata": {},
   "outputs": [
    {
     "data": {
      "text/plain": [
       "array([0.        , 0.55555556, 1.11111111, 1.66666667, 2.22222222,\n",
       "       2.77777778, 3.33333333, 3.88888889, 4.44444444, 5.        ])"
      ]
     },
     "execution_count": 592,
     "metadata": {},
     "output_type": "execute_result"
    }
   ],
   "source": [
    "linspace(0,5,num=10) # 10 evenly spaced numbers between 0 and 5 incl."
   ]
  },
  {
   "cell_type": "code",
   "execution_count": 593,
   "id": "382c8880",
   "metadata": {},
   "outputs": [
    {
     "data": {
      "text/plain": [
       "array([0. , 0.5, 1. , 1.5, 2. , 2.5, 3. , 3.5, 4. , 4.5])"
      ]
     },
     "execution_count": 593,
     "metadata": {},
     "output_type": "execute_result"
    }
   ],
   "source": [
    "linspace(0,5,num=10,endpoint=False) # 10 evenly spaced numbers between 0 and 5 EXCL."
   ]
  },
  {
   "cell_type": "code",
   "execution_count": 594,
   "id": "81d0d7a5",
   "metadata": {},
   "outputs": [
    {
     "data": {
      "text/plain": [
       "(array([0. , 0.5, 1. , 1.5, 2. , 2.5, 3. , 3.5, 4. , 4.5]), 0.5)"
      ]
     },
     "execution_count": 594,
     "metadata": {},
     "output_type": "execute_result"
    }
   ],
   "source": [
    "stepsize = linspace(0,5,num=10,endpoint=False,retstep=True) # besides the usual array, also return the step size\n",
    "stepsize"
   ]
  },
  {
   "cell_type": "code",
   "execution_count": 595,
   "id": "35c98936",
   "metadata": {},
   "outputs": [
    {
     "data": {
      "text/plain": [
       "0.5"
      ]
     },
     "execution_count": 595,
     "metadata": {},
     "output_type": "execute_result"
    }
   ],
   "source": [
    "myarray, stepsize = linspace(0,5,num=10,endpoint=False,retstep=True)\n",
    "stepsize"
   ]
  },
  {
   "cell_type": "markdown",
   "id": "caf75d8f",
   "metadata": {},
   "source": [
    "# 115. loadtxt()"
   ]
  },
  {
   "cell_type": "code",
   "execution_count": 596,
   "id": "2cac1969",
   "metadata": {},
   "outputs": [
    {
     "ename": "ValueError",
     "evalue": "invalid column index 3 at row 1 with 1 columns",
     "output_type": "error",
     "traceback": [
      "\u001b[1;31m---------------------------------------------------------------------------\u001b[0m",
      "\u001b[1;31mValueError\u001b[0m                                Traceback (most recent call last)",
      "Cell \u001b[1;32mIn[596], line 6\u001b[0m\n\u001b[0;32m      3\u001b[0m \u001b[38;5;66;03m#t,z = data[:,0], data[:,3] # data is 2D numpy array\u001b[39;00m\n\u001b[0;32m      5\u001b[0m t,x,y,z \u001b[38;5;241m=\u001b[39m loadtxt(\u001b[38;5;124m\"\u001b[39m\u001b[38;5;124mmyfile.txt\u001b[39m\u001b[38;5;124m\"\u001b[39m, unpack\u001b[38;5;241m=\u001b[39m\u001b[38;5;28;01mTrue\u001b[39;00m) \u001b[38;5;66;03m# to unpack all columns\u001b[39;00m\n\u001b[1;32m----> 6\u001b[0m t,z \u001b[38;5;241m=\u001b[39m loadtxt(\u001b[38;5;124m\"\u001b[39m\u001b[38;5;124mmyfile.txt\u001b[39m\u001b[38;5;124m\"\u001b[39m, usecols \u001b[38;5;241m=\u001b[39m (\u001b[38;5;241m0\u001b[39m,\u001b[38;5;241m3\u001b[39m), unpack\u001b[38;5;241m=\u001b[39m\u001b[38;5;28;01mTrue\u001b[39;00m) \u001b[38;5;66;03m# to select just a few columns\u001b[39;00m\n\u001b[0;32m      7\u001b[0m data \u001b[38;5;241m=\u001b[39m loadtxt(\u001b[38;5;124m\"\u001b[39m\u001b[38;5;124mmyfile.txt\u001b[39m\u001b[38;5;124m\"\u001b[39m, skiprows \u001b[38;5;241m=\u001b[39m \u001b[38;5;241m7\u001b[39m) \u001b[38;5;66;03m# to skip 7 rows from top of file\u001b[39;00m\n\u001b[0;32m      8\u001b[0m data \u001b[38;5;241m=\u001b[39m loadtxt(\u001b[38;5;124m\"\u001b[39m\u001b[38;5;124mmyfile.txt\u001b[39m\u001b[38;5;124m\"\u001b[39m, comments \u001b[38;5;241m=\u001b[39m \u001b[38;5;124m'\u001b[39m\u001b[38;5;124m!\u001b[39m\u001b[38;5;124m'\u001b[39m) \u001b[38;5;66;03m# use '!' as comment char instead of '#'\u001b[39;00m\n",
      "File \u001b[1;32m~\\anaconda3\\conda\\Lib\\site-packages\\numpy\\lib\\npyio.py:1373\u001b[0m, in \u001b[0;36mloadtxt\u001b[1;34m(fname, dtype, comments, delimiter, converters, skiprows, usecols, unpack, ndmin, encoding, max_rows, quotechar, like)\u001b[0m\n\u001b[0;32m   1370\u001b[0m \u001b[38;5;28;01mif\u001b[39;00m \u001b[38;5;28misinstance\u001b[39m(delimiter, \u001b[38;5;28mbytes\u001b[39m):\n\u001b[0;32m   1371\u001b[0m     delimiter \u001b[38;5;241m=\u001b[39m delimiter\u001b[38;5;241m.\u001b[39mdecode(\u001b[38;5;124m'\u001b[39m\u001b[38;5;124mlatin1\u001b[39m\u001b[38;5;124m'\u001b[39m)\n\u001b[1;32m-> 1373\u001b[0m arr \u001b[38;5;241m=\u001b[39m _read(fname, dtype\u001b[38;5;241m=\u001b[39mdtype, comment\u001b[38;5;241m=\u001b[39mcomment, delimiter\u001b[38;5;241m=\u001b[39mdelimiter,\n\u001b[0;32m   1374\u001b[0m             converters\u001b[38;5;241m=\u001b[39mconverters, skiplines\u001b[38;5;241m=\u001b[39mskiprows, usecols\u001b[38;5;241m=\u001b[39musecols,\n\u001b[0;32m   1375\u001b[0m             unpack\u001b[38;5;241m=\u001b[39munpack, ndmin\u001b[38;5;241m=\u001b[39mndmin, encoding\u001b[38;5;241m=\u001b[39mencoding,\n\u001b[0;32m   1376\u001b[0m             max_rows\u001b[38;5;241m=\u001b[39mmax_rows, quote\u001b[38;5;241m=\u001b[39mquotechar)\n\u001b[0;32m   1378\u001b[0m \u001b[38;5;28;01mreturn\u001b[39;00m arr\n",
      "File \u001b[1;32m~\\anaconda3\\conda\\Lib\\site-packages\\numpy\\lib\\npyio.py:1016\u001b[0m, in \u001b[0;36m_read\u001b[1;34m(fname, delimiter, comment, quote, imaginary_unit, usecols, skiplines, max_rows, converters, ndmin, unpack, dtype, encoding)\u001b[0m\n\u001b[0;32m   1013\u001b[0m     data \u001b[38;5;241m=\u001b[39m _preprocess_comments(data, comments, encoding)\n\u001b[0;32m   1015\u001b[0m \u001b[38;5;28;01mif\u001b[39;00m read_dtype_via_object_chunks \u001b[38;5;129;01mis\u001b[39;00m \u001b[38;5;28;01mNone\u001b[39;00m:\n\u001b[1;32m-> 1016\u001b[0m     arr \u001b[38;5;241m=\u001b[39m _load_from_filelike(\n\u001b[0;32m   1017\u001b[0m         data, delimiter\u001b[38;5;241m=\u001b[39mdelimiter, comment\u001b[38;5;241m=\u001b[39mcomment, quote\u001b[38;5;241m=\u001b[39mquote,\n\u001b[0;32m   1018\u001b[0m         imaginary_unit\u001b[38;5;241m=\u001b[39mimaginary_unit,\n\u001b[0;32m   1019\u001b[0m         usecols\u001b[38;5;241m=\u001b[39musecols, skiplines\u001b[38;5;241m=\u001b[39mskiplines, max_rows\u001b[38;5;241m=\u001b[39mmax_rows,\n\u001b[0;32m   1020\u001b[0m         converters\u001b[38;5;241m=\u001b[39mconverters, dtype\u001b[38;5;241m=\u001b[39mdtype,\n\u001b[0;32m   1021\u001b[0m         encoding\u001b[38;5;241m=\u001b[39mencoding, filelike\u001b[38;5;241m=\u001b[39mfilelike,\n\u001b[0;32m   1022\u001b[0m         byte_converters\u001b[38;5;241m=\u001b[39mbyte_converters)\n\u001b[0;32m   1024\u001b[0m \u001b[38;5;28;01melse\u001b[39;00m:\n\u001b[0;32m   1025\u001b[0m     \u001b[38;5;66;03m# This branch reads the file into chunks of object arrays and then\u001b[39;00m\n\u001b[0;32m   1026\u001b[0m     \u001b[38;5;66;03m# casts them to the desired actual dtype.  This ensures correct\u001b[39;00m\n\u001b[0;32m   1027\u001b[0m     \u001b[38;5;66;03m# string-length and datetime-unit discovery (like `arr.astype()`).\u001b[39;00m\n\u001b[0;32m   1028\u001b[0m     \u001b[38;5;66;03m# Due to chunking, certain error reports are less clear, currently.\u001b[39;00m\n\u001b[0;32m   1029\u001b[0m     \u001b[38;5;28;01mif\u001b[39;00m filelike:\n",
      "\u001b[1;31mValueError\u001b[0m: invalid column index 3 at row 1 with 1 columns"
     ]
    }
   ],
   "source": [
    "from numpy import *\n",
    "data = loadtxt(\"myfile.txt\") # myfile.txt contains 4 columns of numbers\n",
    "#t,z = data[:,0], data[:,3] # data is 2D numpy array\n",
    "\n",
    "t,x,y,z = loadtxt(\"myfile.txt\", unpack=True) # to unpack all columns\n",
    "t,z = loadtxt(\"myfile.txt\", usecols = (0,3), unpack=True) # to select just a few columns\n",
    "data = loadtxt(\"myfile.txt\", skiprows = 7) # to skip 7 rows from top of file\n",
    "data = loadtxt(\"myfile.txt\", comments = '!') # use '!' as comment char instead of '#'\n",
    "data = loadtxt(\"myfile.txt\", delimiter=';') # use ';' as column separator instead of whitespace\n",
    "data = loadtxt(\"myfile.txt\", dtype = int) # file contains integers instead of floats"
   ]
  },
  {
   "cell_type": "markdown",
   "id": "93f8e3f2",
   "metadata": {},
   "source": [
    "# 116. logical_and()"
   ]
  },
  {
   "cell_type": "code",
   "execution_count": 597,
   "id": "294d0f8f",
   "metadata": {},
   "outputs": [
    {
     "data": {
      "text/plain": [
       "array([False, False, False,  True])"
      ]
     },
     "execution_count": 597,
     "metadata": {},
     "output_type": "execute_result"
    }
   ],
   "source": [
    "from numpy import *\n",
    "logical_and(array([0,0,1,1]), array([0,1,0,1]))\n"
   ]
  },
  {
   "cell_type": "code",
   "execution_count": 598,
   "id": "3368b210",
   "metadata": {},
   "outputs": [
    {
     "data": {
      "text/plain": [
       "array([False, False, False,  True])"
      ]
     },
     "execution_count": 598,
     "metadata": {},
     "output_type": "execute_result"
    }
   ],
   "source": [
    "logical_and(array([False,False,True,True]), array([False,True,False,True]))"
   ]
  },
  {
   "cell_type": "markdown",
   "id": "060a6120",
   "metadata": {},
   "source": [
    "# 117. logical_not()"
   ]
  },
  {
   "cell_type": "code",
   "execution_count": 599,
   "id": "42fcbde6",
   "metadata": {},
   "outputs": [
    {
     "data": {
      "text/plain": [
       "array([ True, False])"
      ]
     },
     "execution_count": 599,
     "metadata": {},
     "output_type": "execute_result"
    }
   ],
   "source": [
    "logical_not(array([0,1]))"
   ]
  },
  {
   "cell_type": "code",
   "execution_count": 600,
   "id": "0d0ca979",
   "metadata": {},
   "outputs": [
    {
     "data": {
      "text/plain": [
       "array([ True, False])"
      ]
     },
     "execution_count": 600,
     "metadata": {},
     "output_type": "execute_result"
    }
   ],
   "source": [
    "logical_not(array([False, True]))"
   ]
  },
  {
   "cell_type": "markdown",
   "id": "0bdc41dd",
   "metadata": {},
   "source": [
    "# 118. logical_or()"
   ]
  },
  {
   "cell_type": "code",
   "execution_count": 601,
   "id": "45318db2",
   "metadata": {},
   "outputs": [
    {
     "data": {
      "text/plain": [
       "array([False,  True,  True,  True])"
      ]
     },
     "execution_count": 601,
     "metadata": {},
     "output_type": "execute_result"
    }
   ],
   "source": [
    "logical_or(array([0,0,1,1]), array([0,1,0,1]))\n",
    "logical_or(array([False,False,True,True]), array([False,True,False,True]))"
   ]
  },
  {
   "cell_type": "markdown",
   "id": "e5d4ff1b",
   "metadata": {},
   "source": [
    "# 119. logical_xor()"
   ]
  },
  {
   "cell_type": "code",
   "execution_count": 602,
   "id": "d89680fa",
   "metadata": {},
   "outputs": [
    {
     "data": {
      "text/plain": [
       "array([False,  True,  True, False])"
      ]
     },
     "execution_count": 602,
     "metadata": {},
     "output_type": "execute_result"
    }
   ],
   "source": [
    "logical_xor(array([0,0,1,1]), array([0,1,0,1]))\n",
    "logical_xor(array([False,False,True,True]), array([False,True,False,True]))"
   ]
  },
  {
   "cell_type": "markdown",
   "id": "4bb39026",
   "metadata": {},
   "source": [
    "# 120. logspace()"
   ]
  },
  {
   "cell_type": "code",
   "execution_count": 603,
   "id": "6ab771e4",
   "metadata": {},
   "outputs": [
    {
     "data": {
      "text/plain": [
       "array([1.e-02, 1.e-01, 1.e+00, 1.e+01, 1.e+02, 1.e+03])"
      ]
     },
     "execution_count": 603,
     "metadata": {},
     "output_type": "execute_result"
    }
   ],
   "source": [
    "from numpy import *\n",
    "logspace(-2, 3, num = 6) # 6 evenly spaced pts on a logarithmic scale, from 10^{-2} to 10^3 incl.\n"
   ]
  },
  {
   "cell_type": "code",
   "execution_count": 604,
   "id": "4f38761f",
   "metadata": {},
   "outputs": [
    {
     "data": {
      "text/plain": [
       "array([1.00000000e-02, 3.59381366e-02, 1.29154967e-01, 4.64158883e-01,\n",
       "       1.66810054e+00, 5.99484250e+00, 2.15443469e+01, 7.74263683e+01,\n",
       "       2.78255940e+02, 1.00000000e+03])"
      ]
     },
     "execution_count": 604,
     "metadata": {},
     "output_type": "execute_result"
    }
   ],
   "source": [
    "logspace(-2, 3, num = 10) # 10 evenly spaced pts on a logarithmic scale, from 10^{-2} to 10^3 incl.\n"
   ]
  },
  {
   "cell_type": "code",
   "execution_count": 605,
   "id": "93c80d14",
   "metadata": {},
   "outputs": [
    {
     "data": {
      "text/plain": [
       "array([1.00000000e-02, 6.81292069e-02, 4.64158883e-01, 3.16227766e+00,\n",
       "       2.15443469e+01, 1.46779927e+02])"
      ]
     },
     "execution_count": 605,
     "metadata": {},
     "output_type": "execute_result"
    }
   ],
   "source": [
    "logspace(-2, 3, num = 6, endpoint=False) # 6 evenly spaced pts on a logarithmic scale, from 10^{-2} to 10^3 EXCL.\n"
   ]
  },
  {
   "cell_type": "code",
   "execution_count": 606,
   "id": "6aeab2cc",
   "metadata": {},
   "outputs": [
    {
     "data": {
      "text/plain": [
       "array([1.00000000e-02, 6.81292069e-02, 4.64158883e-01, 3.16227766e+00,\n",
       "       2.15443469e+01, 1.46779927e+02])"
      ]
     },
     "execution_count": 606,
     "metadata": {},
     "output_type": "execute_result"
    }
   ],
   "source": [
    "exp(linspace(log(0.01), log(1000), num=6, endpoint=False)) # for comparison"
   ]
  },
  {
   "cell_type": "markdown",
   "id": "c14ddae8",
   "metadata": {},
   "source": [
    "# 121. lstsq()"
   ]
  },
  {
   "cell_type": "markdown",
   "id": "bc8707c9",
   "metadata": {},
   "source": [
    "lstsq() is most often used in the context of least-squares fitting of data. Suppose you obtain some noisy data y as a function of a variable t, e.g. velocity as a function of time. You can use lstsq() to fit a model to the data, if the model is linear in its parameters, that is if\n",
    "\n",
    "y = p0 * f0(t) + p1 * f1(t) + ... + pN-1 * fN-1(t) + noise\n",
    "\n",
    "where the pi are the parameters you want to obtain through fitting and the fi(t) are known functions of t. What follows is an example how you can do this.\n",
    "\n",
    "First, for the example's sake, some data is simulated:"
   ]
  },
  {
   "cell_type": "code",
   "execution_count": 607,
   "id": "cc8715bf",
   "metadata": {},
   "outputs": [],
   "source": [
    "from numpy.random import normal\n",
    "t = arange(0.0, 10.0, 0.05) # independent variable\n",
    "y = 2.0 * sin(2.*pi*t*0.6) + 2.7 * cos(2.*pi*t*0.6) + normal(0.0, 1.0, len(t))"
   ]
  },
  {
   "cell_type": "markdown",
   "id": "1f526805",
   "metadata": {},
   "source": [
    "We would like to fit this data with: model(t) = p0 * sin(2.*pi*t*0.6) + p1 * cos(2.*pi*t*0.6), where p0 and p1 are the unknown fit parameters. Here we go:"
   ]
  },
  {
   "cell_type": "code",
   "execution_count": 608,
   "id": "7beae894",
   "metadata": {},
   "outputs": [
    {
     "name": "stderr",
     "output_type": "stream",
     "text": [
      "C:\\Users\\nithi\\AppData\\Local\\Temp\\ipykernel_20556\\876336982.py:6: FutureWarning: `rcond` parameter will change to the default of machine precision times ``max(M, N)`` where M and N are the input matrix dimensions.\n",
      "To use the future default and silence this warning we advise to pass `rcond=None`, to keep using the old, explicitly pass `rcond=-1`.\n",
      "  (p, residuals, rank, s) = lstsq(A,y)\n"
     ]
    },
    {
     "data": {
      "text/plain": [
       "array([1.97577955, 2.79729667])"
      ]
     },
     "execution_count": 608,
     "metadata": {},
     "output_type": "execute_result"
    }
   ],
   "source": [
    "from numpy.linalg import lstsq\n",
    "Nparam = 2 # we want to estimate 2 parameters: p_0 and p_1\n",
    "A = zeros((len(t),Nparam), float) # one big array with all the f_i(t)\n",
    "A[:,0] = sin(2.*pi*t*0.6) # f_0(t) stored\n",
    "A[:,1] = cos(2.*pi*t*0.6) # f_1(t) stored\n",
    "(p, residuals, rank, s) = lstsq(A,y)\n",
    "p # our final estimate of the parameters using noisy data"
   ]
  },
  {
   "cell_type": "code",
   "execution_count": 609,
   "id": "088a174c",
   "metadata": {},
   "outputs": [
    {
     "data": {
      "text/plain": [
       "array([211.00248166])"
      ]
     },
     "execution_count": 609,
     "metadata": {},
     "output_type": "execute_result"
    }
   ],
   "source": [
    "residuals # sum of the residuals: sum((p[0] * A[:,0] + p[1] * A[:,1] - y)**2)"
   ]
  },
  {
   "cell_type": "code",
   "execution_count": 610,
   "id": "f7528bac",
   "metadata": {},
   "outputs": [
    {
     "data": {
      "text/plain": [
       "2"
      ]
     },
     "execution_count": 610,
     "metadata": {},
     "output_type": "execute_result"
    }
   ],
   "source": [
    "rank # rank of the array A"
   ]
  },
  {
   "cell_type": "code",
   "execution_count": 611,
   "id": "6769e342",
   "metadata": {},
   "outputs": [
    {
     "data": {
      "text/plain": [
       "array([10., 10.])"
      ]
     },
     "execution_count": 611,
     "metadata": {},
     "output_type": "execute_result"
    }
   ],
   "source": [
    "s # singular values of A"
   ]
  },
  {
   "cell_type": "markdown",
   "id": "a593d21f",
   "metadata": {},
   "source": [
    "# 122. mat()"
   ]
  },
  {
   "cell_type": "code",
   "execution_count": 612,
   "id": "21211a6a",
   "metadata": {},
   "outputs": [
    {
     "data": {
      "text/plain": [
       "matrix([[1, 3, 4],\n",
       "        [5, 6, 9]])"
      ]
     },
     "execution_count": 612,
     "metadata": {},
     "output_type": "execute_result"
    }
   ],
   "source": [
    "from numpy import *\n",
    "mat('1 3 4; 5 6 9') # matrices are always 2-dimensional"
   ]
  },
  {
   "cell_type": "code",
   "execution_count": 613,
   "id": "e0f6b350",
   "metadata": {},
   "outputs": [
    {
     "data": {
      "text/plain": [
       "matrix([[1, 2],\n",
       "        [3, 4]])"
      ]
     },
     "execution_count": 613,
     "metadata": {},
     "output_type": "execute_result"
    }
   ],
   "source": [
    "a = array([[1,2],[3,4]])\n",
    "m = mat(a) # convert 2-d array to matrix\n",
    "m"
   ]
  },
  {
   "cell_type": "code",
   "execution_count": 614,
   "id": "05eb34c5",
   "metadata": {},
   "outputs": [
    {
     "data": {
      "text/plain": [
       "array([1, 2])"
      ]
     },
     "execution_count": 614,
     "metadata": {},
     "output_type": "execute_result"
    }
   ],
   "source": [
    "a[0] # result is 1-dimensional"
   ]
  },
  {
   "cell_type": "code",
   "execution_count": 615,
   "id": "936b3985",
   "metadata": {},
   "outputs": [
    {
     "data": {
      "text/plain": [
       "matrix([[1, 2]])"
      ]
     },
     "execution_count": 615,
     "metadata": {},
     "output_type": "execute_result"
    }
   ],
   "source": [
    "m[0] # result is 2-dimensional\n"
   ]
  },
  {
   "cell_type": "code",
   "execution_count": 616,
   "id": "f1086791",
   "metadata": {},
   "outputs": [
    {
     "data": {
      "text/plain": [
       "array([1, 2, 3, 4])"
      ]
     },
     "execution_count": 616,
     "metadata": {},
     "output_type": "execute_result"
    }
   ],
   "source": [
    "a.ravel() # result is 1-dimensional\n"
   ]
  },
  {
   "cell_type": "code",
   "execution_count": 617,
   "id": "b8c702ef",
   "metadata": {},
   "outputs": [
    {
     "data": {
      "text/plain": [
       "matrix([[1, 2, 3, 4]])"
      ]
     },
     "execution_count": 617,
     "metadata": {},
     "output_type": "execute_result"
    }
   ],
   "source": [
    "m.ravel() # result is 2-dimensional"
   ]
  },
  {
   "cell_type": "code",
   "execution_count": 618,
   "id": "abc42646",
   "metadata": {},
   "outputs": [
    {
     "data": {
      "text/plain": [
       "array([[ 1,  4],\n",
       "       [ 9, 16]])"
      ]
     },
     "execution_count": 618,
     "metadata": {},
     "output_type": "execute_result"
    }
   ],
   "source": [
    "a*a # element-by-element multiplication"
   ]
  },
  {
   "cell_type": "code",
   "execution_count": 619,
   "id": "0dda8bd4",
   "metadata": {},
   "outputs": [
    {
     "data": {
      "text/plain": [
       "matrix([[ 7, 10],\n",
       "        [15, 22]])"
      ]
     },
     "execution_count": 619,
     "metadata": {},
     "output_type": "execute_result"
    }
   ],
   "source": [
    "m*m # (algebraic) matrix multiplication"
   ]
  },
  {
   "cell_type": "code",
   "execution_count": 620,
   "id": "2743c16c",
   "metadata": {},
   "outputs": [
    {
     "data": {
      "text/plain": [
       "array([[ 1,  8],\n",
       "       [27, 64]], dtype=int32)"
      ]
     },
     "execution_count": 620,
     "metadata": {},
     "output_type": "execute_result"
    }
   ],
   "source": [
    "a**3 # element-wise power"
   ]
  },
  {
   "cell_type": "code",
   "execution_count": 621,
   "id": "f2b46928",
   "metadata": {},
   "outputs": [
    {
     "data": {
      "text/plain": [
       "matrix([[ 37,  54],\n",
       "        [ 81, 118]])"
      ]
     },
     "execution_count": 621,
     "metadata": {},
     "output_type": "execute_result"
    }
   ],
   "source": [
    "m**3 # matrix multiplication m*m*m"
   ]
  },
  {
   "cell_type": "code",
   "execution_count": 622,
   "id": "d9572c30",
   "metadata": {},
   "outputs": [
    {
     "data": {
      "text/plain": [
       "matrix([[1, 3],\n",
       "        [2, 4]])"
      ]
     },
     "execution_count": 622,
     "metadata": {},
     "output_type": "execute_result"
    }
   ],
   "source": [
    "m.T # transpose of the matrix"
   ]
  },
  {
   "cell_type": "code",
   "execution_count": 623,
   "id": "7e2daacf",
   "metadata": {},
   "outputs": [
    {
     "data": {
      "text/plain": [
       "matrix([[1, 3],\n",
       "        [2, 4]])"
      ]
     },
     "execution_count": 623,
     "metadata": {},
     "output_type": "execute_result"
    }
   ],
   "source": [
    "m.H # conjugate transpose (differs from .T for complex matrices)"
   ]
  },
  {
   "cell_type": "code",
   "execution_count": 624,
   "id": "75b5b180",
   "metadata": {},
   "outputs": [
    {
     "data": {
      "text/plain": [
       "matrix([[-2. ,  1. ],\n",
       "        [ 1.5, -0.5]])"
      ]
     },
     "execution_count": 624,
     "metadata": {},
     "output_type": "execute_result"
    }
   ],
   "source": [
    "m.I # inverse matrix"
   ]
  },
  {
   "cell_type": "markdown",
   "id": "d5bd4861",
   "metadata": {},
   "source": [
    "# 123. matrix()"
   ]
  },
  {
   "cell_type": "code",
   "execution_count": 625,
   "id": "72ed246f",
   "metadata": {},
   "outputs": [
    {
     "data": {
      "text/plain": [
       "matrix([[1, 2, 3],\n",
       "        [4, 5, 6]])"
      ]
     },
     "execution_count": 625,
     "metadata": {},
     "output_type": "execute_result"
    }
   ],
   "source": [
    "matrix('1 2 3;4 5 6')"
   ]
  },
  {
   "cell_type": "markdown",
   "id": "7c6d302e",
   "metadata": {},
   "source": [
    "# 124. max()"
   ]
  },
  {
   "cell_type": "code",
   "execution_count": 626,
   "id": "1a8ade9a",
   "metadata": {},
   "outputs": [],
   "source": [
    "a = array([10,20,30])"
   ]
  },
  {
   "cell_type": "code",
   "execution_count": 627,
   "id": "8178a970",
   "metadata": {},
   "outputs": [
    {
     "data": {
      "text/plain": [
       "30"
      ]
     },
     "execution_count": 627,
     "metadata": {},
     "output_type": "execute_result"
    }
   ],
   "source": [
    "a.max()"
   ]
  },
  {
   "cell_type": "code",
   "execution_count": 628,
   "id": "2a63b87c",
   "metadata": {},
   "outputs": [],
   "source": [
    "a = array([[10,20,30],[40,50,60]])"
   ]
  },
  {
   "cell_type": "code",
   "execution_count": 629,
   "id": "3fc33382",
   "metadata": {},
   "outputs": [
    {
     "data": {
      "text/plain": [
       "60"
      ]
     },
     "execution_count": 629,
     "metadata": {},
     "output_type": "execute_result"
    }
   ],
   "source": [
    "a.max()"
   ]
  },
  {
   "cell_type": "code",
   "execution_count": 630,
   "id": "0d82ff2d",
   "metadata": {},
   "outputs": [
    {
     "data": {
      "text/plain": [
       "array([40, 50, 60])"
      ]
     },
     "execution_count": 630,
     "metadata": {},
     "output_type": "execute_result"
    }
   ],
   "source": [
    "a.max(axis=0)"
   ]
  },
  {
   "cell_type": "code",
   "execution_count": 631,
   "id": "53fbde88",
   "metadata": {},
   "outputs": [
    {
     "data": {
      "text/plain": [
       "array([30, 60])"
      ]
     },
     "execution_count": 631,
     "metadata": {},
     "output_type": "execute_result"
    }
   ],
   "source": [
    "a.max(axis=1)"
   ]
  },
  {
   "cell_type": "code",
   "execution_count": 632,
   "id": "e1f67e58",
   "metadata": {},
   "outputs": [
    {
     "data": {
      "text/plain": [
       "60"
      ]
     },
     "execution_count": 632,
     "metadata": {},
     "output_type": "execute_result"
    }
   ],
   "source": [
    "max(a)"
   ]
  },
  {
   "cell_type": "markdown",
   "id": "ef5ec46c",
   "metadata": {},
   "source": [
    "# 125. maximum()"
   ]
  },
  {
   "cell_type": "code",
   "execution_count": 633,
   "id": "808b5979",
   "metadata": {},
   "outputs": [],
   "source": [
    "a = array([1,2,7])\n",
    "b = array([4,5,6])"
   ]
  },
  {
   "cell_type": "code",
   "execution_count": 634,
   "id": "9b804940",
   "metadata": {},
   "outputs": [
    {
     "data": {
      "text/plain": [
       "array([4, 5, 7])"
      ]
     },
     "execution_count": 634,
     "metadata": {},
     "output_type": "execute_result"
    }
   ],
   "source": [
    "maximum(a,b)"
   ]
  },
  {
   "cell_type": "code",
   "execution_count": 635,
   "id": "0a0daf7b",
   "metadata": {},
   "outputs": [
    {
     "ename": "TypeError",
     "evalue": "'list' object cannot be interpreted as an integer",
     "output_type": "error",
     "traceback": [
      "\u001b[1;31m---------------------------------------------------------------------------\u001b[0m",
      "\u001b[1;31mTypeError\u001b[0m                                 Traceback (most recent call last)",
      "Cell \u001b[1;32mIn[635], line 1\u001b[0m\n\u001b[1;32m----> 1\u001b[0m \u001b[38;5;28mmax\u001b[39m(a\u001b[38;5;241m.\u001b[39mtolist(),b\u001b[38;5;241m.\u001b[39mtolist())\n",
      "File \u001b[1;32m~\\anaconda3\\conda\\Lib\\site-packages\\numpy\\core\\fromnumeric.py:2810\u001b[0m, in \u001b[0;36mmax\u001b[1;34m(a, axis, out, keepdims, initial, where)\u001b[0m\n\u001b[0;32m   2692\u001b[0m \u001b[38;5;129m@array_function_dispatch\u001b[39m(_max_dispatcher)\n\u001b[0;32m   2693\u001b[0m \u001b[38;5;129m@set_module\u001b[39m(\u001b[38;5;124m'\u001b[39m\u001b[38;5;124mnumpy\u001b[39m\u001b[38;5;124m'\u001b[39m)\n\u001b[0;32m   2694\u001b[0m \u001b[38;5;28;01mdef\u001b[39;00m \u001b[38;5;21mmax\u001b[39m(a, axis\u001b[38;5;241m=\u001b[39m\u001b[38;5;28;01mNone\u001b[39;00m, out\u001b[38;5;241m=\u001b[39m\u001b[38;5;28;01mNone\u001b[39;00m, keepdims\u001b[38;5;241m=\u001b[39mnp\u001b[38;5;241m.\u001b[39m_NoValue, initial\u001b[38;5;241m=\u001b[39mnp\u001b[38;5;241m.\u001b[39m_NoValue,\n\u001b[0;32m   2695\u001b[0m          where\u001b[38;5;241m=\u001b[39mnp\u001b[38;5;241m.\u001b[39m_NoValue):\n\u001b[0;32m   2696\u001b[0m \u001b[38;5;250m    \u001b[39m\u001b[38;5;124;03m\"\"\"\u001b[39;00m\n\u001b[0;32m   2697\u001b[0m \u001b[38;5;124;03m    Return the maximum of an array or maximum along an axis.\u001b[39;00m\n\u001b[0;32m   2698\u001b[0m \n\u001b[1;32m   (...)\u001b[0m\n\u001b[0;32m   2808\u001b[0m \u001b[38;5;124;03m    5\u001b[39;00m\n\u001b[0;32m   2809\u001b[0m \u001b[38;5;124;03m    \"\"\"\u001b[39;00m\n\u001b[1;32m-> 2810\u001b[0m     \u001b[38;5;28;01mreturn\u001b[39;00m _wrapreduction(a, np\u001b[38;5;241m.\u001b[39mmaximum, \u001b[38;5;124m'\u001b[39m\u001b[38;5;124mmax\u001b[39m\u001b[38;5;124m'\u001b[39m, axis, \u001b[38;5;28;01mNone\u001b[39;00m, out,\n\u001b[0;32m   2811\u001b[0m                           keepdims\u001b[38;5;241m=\u001b[39mkeepdims, initial\u001b[38;5;241m=\u001b[39minitial, where\u001b[38;5;241m=\u001b[39mwhere)\n",
      "File \u001b[1;32m~\\anaconda3\\conda\\Lib\\site-packages\\numpy\\core\\fromnumeric.py:88\u001b[0m, in \u001b[0;36m_wrapreduction\u001b[1;34m(obj, ufunc, method, axis, dtype, out, **kwargs)\u001b[0m\n\u001b[0;32m     85\u001b[0m         \u001b[38;5;28;01melse\u001b[39;00m:\n\u001b[0;32m     86\u001b[0m             \u001b[38;5;28;01mreturn\u001b[39;00m reduction(axis\u001b[38;5;241m=\u001b[39maxis, out\u001b[38;5;241m=\u001b[39mout, \u001b[38;5;241m*\u001b[39m\u001b[38;5;241m*\u001b[39mpasskwargs)\n\u001b[1;32m---> 88\u001b[0m \u001b[38;5;28;01mreturn\u001b[39;00m ufunc\u001b[38;5;241m.\u001b[39mreduce(obj, axis, dtype, out, \u001b[38;5;241m*\u001b[39m\u001b[38;5;241m*\u001b[39mpasskwargs)\n",
      "\u001b[1;31mTypeError\u001b[0m: 'list' object cannot be interpreted as an integer"
     ]
    }
   ],
   "source": [
    "max(a.tolist(),b.tolist()) # standard Python function does not give the same!"
   ]
  },
  {
   "cell_type": "markdown",
   "id": "c35e8c46",
   "metadata": {},
   "source": [
    "# 126. mean()"
   ]
  },
  {
   "cell_type": "code",
   "execution_count": 636,
   "id": "c789143f",
   "metadata": {},
   "outputs": [],
   "source": [
    "a = array([1,7,9])"
   ]
  },
  {
   "cell_type": "code",
   "execution_count": 637,
   "id": "38f814ef",
   "metadata": {},
   "outputs": [
    {
     "data": {
      "text/plain": [
       "5.666666666666667"
      ]
     },
     "execution_count": 637,
     "metadata": {},
     "output_type": "execute_result"
    }
   ],
   "source": [
    "a.mean()"
   ]
  },
  {
   "cell_type": "code",
   "execution_count": 638,
   "id": "b17dfc80",
   "metadata": {},
   "outputs": [],
   "source": [
    "a = array([[1,2,3],[6,9,2]])"
   ]
  },
  {
   "cell_type": "code",
   "execution_count": 639,
   "id": "adc1d04c",
   "metadata": {},
   "outputs": [
    {
     "data": {
      "text/plain": [
       "3.8333333333333335"
      ]
     },
     "execution_count": 639,
     "metadata": {},
     "output_type": "execute_result"
    }
   ],
   "source": [
    "a.mean()"
   ]
  },
  {
   "cell_type": "code",
   "execution_count": 640,
   "id": "3f44a2d7",
   "metadata": {},
   "outputs": [
    {
     "data": {
      "text/plain": [
       "array([3.5, 5.5, 2.5])"
      ]
     },
     "execution_count": 640,
     "metadata": {},
     "output_type": "execute_result"
    }
   ],
   "source": [
    "a.mean(axis=0)"
   ]
  },
  {
   "cell_type": "code",
   "execution_count": 641,
   "id": "af72b682",
   "metadata": {},
   "outputs": [
    {
     "data": {
      "text/plain": [
       "array([2.        , 5.66666667])"
      ]
     },
     "execution_count": 641,
     "metadata": {},
     "output_type": "execute_result"
    }
   ],
   "source": [
    "a.mean(axis=1)"
   ]
  },
  {
   "cell_type": "markdown",
   "id": "1258ed67",
   "metadata": {},
   "source": [
    "# 127. median()"
   ]
  },
  {
   "cell_type": "code",
   "execution_count": 642,
   "id": "ba637aca",
   "metadata": {},
   "outputs": [],
   "source": [
    "a = array([1,8,2,6,0,3])"
   ]
  },
  {
   "cell_type": "code",
   "execution_count": 643,
   "id": "8f883ae4",
   "metadata": {},
   "outputs": [
    {
     "data": {
      "text/plain": [
       "2.5"
      ]
     },
     "execution_count": 643,
     "metadata": {},
     "output_type": "execute_result"
    }
   ],
   "source": [
    "median(a)"
   ]
  },
  {
   "cell_type": "code",
   "execution_count": 644,
   "id": "a64034fd",
   "metadata": {},
   "outputs": [],
   "source": [
    "a = array([1,8,2,6,3])"
   ]
  },
  {
   "cell_type": "code",
   "execution_count": 645,
   "id": "d3ebf693",
   "metadata": {},
   "outputs": [
    {
     "data": {
      "text/plain": [
       "3.0"
      ]
     },
     "execution_count": 645,
     "metadata": {},
     "output_type": "execute_result"
    }
   ],
   "source": [
    "median(a)"
   ]
  },
  {
   "cell_type": "markdown",
   "id": "9a8c714e",
   "metadata": {},
   "source": [
    "# 128. mgrid()"
   ]
  },
  {
   "cell_type": "code",
   "execution_count": 646,
   "id": "e1dad582",
   "metadata": {},
   "outputs": [],
   "source": [
    "m = mgrid[1:4,6:9]"
   ]
  },
  {
   "cell_type": "code",
   "execution_count": 647,
   "id": "0038e63d",
   "metadata": {},
   "outputs": [
    {
     "data": {
      "text/plain": [
       "array([[[1, 1, 1],\n",
       "        [2, 2, 2],\n",
       "        [3, 3, 3]],\n",
       "\n",
       "       [[6, 7, 8],\n",
       "        [6, 7, 8],\n",
       "        [6, 7, 8]]])"
      ]
     },
     "execution_count": 647,
     "metadata": {},
     "output_type": "execute_result"
    }
   ],
   "source": [
    "m"
   ]
  },
  {
   "cell_type": "code",
   "execution_count": 648,
   "id": "682b0f2a",
   "metadata": {},
   "outputs": [
    {
     "data": {
      "text/plain": [
       "3"
      ]
     },
     "execution_count": 648,
     "metadata": {},
     "output_type": "execute_result"
    }
   ],
   "source": [
    "m[0,2,0]"
   ]
  },
  {
   "cell_type": "markdown",
   "id": "8706fb10",
   "metadata": {},
   "source": [
    "# 129. min()"
   ]
  },
  {
   "cell_type": "code",
   "execution_count": 649,
   "id": "fa5f4dea",
   "metadata": {},
   "outputs": [],
   "source": [
    "a =array([12,3,4,11,10])"
   ]
  },
  {
   "cell_type": "code",
   "execution_count": 650,
   "id": "16d0f018",
   "metadata": {},
   "outputs": [
    {
     "data": {
      "text/plain": [
       "3"
      ]
     },
     "execution_count": 650,
     "metadata": {},
     "output_type": "execute_result"
    }
   ],
   "source": [
    "min(a)"
   ]
  },
  {
   "cell_type": "code",
   "execution_count": 651,
   "id": "a7b77a34",
   "metadata": {},
   "outputs": [
    {
     "data": {
      "text/plain": [
       "3"
      ]
     },
     "execution_count": 651,
     "metadata": {},
     "output_type": "execute_result"
    }
   ],
   "source": [
    "a.min()"
   ]
  },
  {
   "cell_type": "markdown",
   "id": "563dd093",
   "metadata": {},
   "source": [
    "# 130. minimum()"
   ]
  },
  {
   "cell_type": "code",
   "execution_count": 652,
   "id": "ed058aa9",
   "metadata": {},
   "outputs": [],
   "source": [
    "a = array([1,12,31])\n",
    "b = array([10,20,3])"
   ]
  },
  {
   "cell_type": "code",
   "execution_count": 653,
   "id": "dfe8b7c1",
   "metadata": {},
   "outputs": [
    {
     "data": {
      "text/plain": [
       "array([ 1, 12,  3])"
      ]
     },
     "execution_count": 653,
     "metadata": {},
     "output_type": "execute_result"
    }
   ],
   "source": [
    "minimum(a,b)"
   ]
  },
  {
   "cell_type": "markdown",
   "id": "8f3a1a74",
   "metadata": {},
   "source": [
    "# 131. iscomplex()"
   ]
  },
  {
   "cell_type": "code",
   "execution_count": 654,
   "id": "a385c33d",
   "metadata": {},
   "outputs": [],
   "source": [
    "import numpy as np"
   ]
  },
  {
   "cell_type": "code",
   "execution_count": 655,
   "id": "245f54a8",
   "metadata": {},
   "outputs": [],
   "source": [
    "a = np.array([1,2,3.j])"
   ]
  },
  {
   "cell_type": "code",
   "execution_count": 656,
   "id": "4872b17e",
   "metadata": {},
   "outputs": [
    {
     "data": {
      "text/plain": [
       "array([False, False,  True])"
      ]
     },
     "execution_count": 656,
     "metadata": {},
     "output_type": "execute_result"
    }
   ],
   "source": [
    "np.iscomplex(a)"
   ]
  },
  {
   "cell_type": "markdown",
   "id": "217f24a9",
   "metadata": {},
   "source": [
    "# 132. multiply()"
   ]
  },
  {
   "cell_type": "code",
   "execution_count": 657,
   "id": "23851c52",
   "metadata": {},
   "outputs": [
    {
     "data": {
      "text/plain": [
       "array([ 4, 10, 18])"
      ]
     },
     "execution_count": 657,
     "metadata": {},
     "output_type": "execute_result"
    }
   ],
   "source": [
    "from numpy import *\n",
    "multiply(array([1,2,3]), array([4,5,6]))"
   ]
  },
  {
   "cell_type": "markdown",
   "id": "fa5f9ca1",
   "metadata": {},
   "source": [
    "# 133. nan"
   ]
  },
  {
   "cell_type": "code",
   "execution_count": 658,
   "id": "8e18c6b0",
   "metadata": {},
   "outputs": [
    {
     "name": "stderr",
     "output_type": "stream",
     "text": [
      "C:\\Users\\nithi\\AppData\\Local\\Temp\\ipykernel_20556\\494075515.py:1: RuntimeWarning: invalid value encountered in sqrt\n",
      "  sqrt(array([-1.0]))\n"
     ]
    },
    {
     "data": {
      "text/plain": [
       "array([nan])"
      ]
     },
     "execution_count": 658,
     "metadata": {},
     "output_type": "execute_result"
    }
   ],
   "source": [
    "sqrt(array([-1.0]))"
   ]
  },
  {
   "cell_type": "code",
   "execution_count": 659,
   "id": "d7ac8886",
   "metadata": {},
   "outputs": [],
   "source": [
    "x = array([2, nan, 1])"
   ]
  },
  {
   "cell_type": "code",
   "execution_count": 660,
   "id": "80ba7720",
   "metadata": {},
   "outputs": [
    {
     "data": {
      "text/plain": [
       "array([False,  True, False])"
      ]
     },
     "execution_count": 660,
     "metadata": {},
     "output_type": "execute_result"
    }
   ],
   "source": [
    "isnan(x)"
   ]
  },
  {
   "cell_type": "code",
   "execution_count": 661,
   "id": "f70dbf82",
   "metadata": {},
   "outputs": [
    {
     "data": {
      "text/plain": [
       "array([ True, False,  True])"
      ]
     },
     "execution_count": 661,
     "metadata": {},
     "output_type": "execute_result"
    }
   ],
   "source": [
    "isfinite(x)"
   ]
  },
  {
   "cell_type": "code",
   "execution_count": 662,
   "id": "f33cbe43",
   "metadata": {},
   "outputs": [
    {
     "data": {
      "text/plain": [
       "3.0"
      ]
     },
     "execution_count": 662,
     "metadata": {},
     "output_type": "execute_result"
    }
   ],
   "source": [
    "nansum(x)"
   ]
  },
  {
   "cell_type": "code",
   "execution_count": 663,
   "id": "5f3e5812",
   "metadata": {},
   "outputs": [
    {
     "data": {
      "text/plain": [
       "2.0"
      ]
     },
     "execution_count": 663,
     "metadata": {},
     "output_type": "execute_result"
    }
   ],
   "source": [
    "nanmax(x)"
   ]
  },
  {
   "cell_type": "code",
   "execution_count": 664,
   "id": "c8a95302",
   "metadata": {},
   "outputs": [
    {
     "data": {
      "text/plain": [
       "1.0"
      ]
     },
     "execution_count": 664,
     "metadata": {},
     "output_type": "execute_result"
    }
   ],
   "source": [
    "nanmin(x)"
   ]
  },
  {
   "cell_type": "code",
   "execution_count": 665,
   "id": "a9ba47a1",
   "metadata": {},
   "outputs": [
    {
     "data": {
      "text/plain": [
       "2"
      ]
     },
     "execution_count": 665,
     "metadata": {},
     "output_type": "execute_result"
    }
   ],
   "source": [
    "nanargmin(x)"
   ]
  },
  {
   "cell_type": "code",
   "execution_count": 666,
   "id": "d9e35aac",
   "metadata": {},
   "outputs": [
    {
     "data": {
      "text/plain": [
       "0"
      ]
     },
     "execution_count": 666,
     "metadata": {},
     "output_type": "execute_result"
    }
   ],
   "source": [
    "nanargmax(x)"
   ]
  },
  {
   "cell_type": "code",
   "execution_count": 667,
   "id": "b3e8f4eb",
   "metadata": {},
   "outputs": [
    {
     "data": {
      "text/plain": [
       "array([2., 0., 1.])"
      ]
     },
     "execution_count": 667,
     "metadata": {},
     "output_type": "execute_result"
    }
   ],
   "source": [
    "nan_to_num(x)"
   ]
  },
  {
   "cell_type": "markdown",
   "id": "e94c386b",
   "metadata": {},
   "source": [
    "# 134. ndenumerate()"
   ]
  },
  {
   "cell_type": "code",
   "execution_count": 668,
   "id": "9397de0d",
   "metadata": {},
   "outputs": [],
   "source": [
    "a = arange(9).reshape(3,3) + 10"
   ]
  },
  {
   "cell_type": "code",
   "execution_count": 669,
   "id": "35fca334",
   "metadata": {},
   "outputs": [
    {
     "data": {
      "text/plain": [
       "array([[10, 11, 12],\n",
       "       [13, 14, 15],\n",
       "       [16, 17, 18]])"
      ]
     },
     "execution_count": 669,
     "metadata": {},
     "output_type": "execute_result"
    }
   ],
   "source": [
    "a"
   ]
  },
  {
   "cell_type": "code",
   "execution_count": 670,
   "id": "d1072b17",
   "metadata": {},
   "outputs": [],
   "source": [
    "b = ndenumerate(a)"
   ]
  },
  {
   "cell_type": "code",
   "execution_count": 671,
   "id": "b2b599a3",
   "metadata": {},
   "outputs": [
    {
     "name": "stdout",
     "output_type": "stream",
     "text": [
      "(0, 0) 10\n",
      "(0, 1) 11\n",
      "(0, 2) 12\n",
      "(1, 0) 13\n",
      "(1, 1) 14\n",
      "(1, 2) 15\n",
      "(2, 0) 16\n",
      "(2, 1) 17\n",
      "(2, 2) 18\n"
     ]
    }
   ],
   "source": [
    "for position,value in b:\n",
    "    print(position, value)"
   ]
  },
  {
   "cell_type": "code",
   "execution_count": 672,
   "id": "f9b57ee7",
   "metadata": {},
   "outputs": [
    {
     "name": "stdout",
     "output_type": "stream",
     "text": [
      "(0, 0) 10\n",
      "(0, 1) 11\n",
      "(0, 2) 12\n",
      "(1, 0) 13\n",
      "(1, 1) 14\n",
      "(1, 2) 15\n",
      "(2, 0) 16\n",
      "(2, 1) 17\n",
      "(2, 2) 18\n"
     ]
    }
   ],
   "source": [
    "b = ndenumerate(a)\n",
    "for position,value in b: print(position,value) # position is the N-dimensional index"
   ]
  },
  {
   "cell_type": "markdown",
   "id": "53aa07d0",
   "metadata": {},
   "source": [
    "# 135. ndim"
   ]
  },
  {
   "cell_type": "code",
   "execution_count": 673,
   "id": "c9a909c7",
   "metadata": {},
   "outputs": [],
   "source": [
    "a = arange(12).reshape(4,3)"
   ]
  },
  {
   "cell_type": "code",
   "execution_count": 674,
   "id": "f24c0200",
   "metadata": {},
   "outputs": [
    {
     "data": {
      "text/plain": [
       "array([[ 0,  1,  2],\n",
       "       [ 3,  4,  5],\n",
       "       [ 6,  7,  8],\n",
       "       [ 9, 10, 11]])"
      ]
     },
     "execution_count": 674,
     "metadata": {},
     "output_type": "execute_result"
    }
   ],
   "source": [
    "a"
   ]
  },
  {
   "cell_type": "code",
   "execution_count": 675,
   "id": "f491a11e",
   "metadata": {},
   "outputs": [
    {
     "data": {
      "text/plain": [
       "2"
      ]
     },
     "execution_count": 675,
     "metadata": {},
     "output_type": "execute_result"
    }
   ],
   "source": [
    "a.ndim  # a has 2 axes"
   ]
  },
  {
   "cell_type": "code",
   "execution_count": 676,
   "id": "4359590c",
   "metadata": {},
   "outputs": [],
   "source": [
    "a.shape = (2,2,3)"
   ]
  },
  {
   "cell_type": "code",
   "execution_count": 677,
   "id": "cef1b3f5",
   "metadata": {},
   "outputs": [
    {
     "data": {
      "text/plain": [
       "array([[[ 0,  1,  2],\n",
       "        [ 3,  4,  5]],\n",
       "\n",
       "       [[ 6,  7,  8],\n",
       "        [ 9, 10, 11]]])"
      ]
     },
     "execution_count": 677,
     "metadata": {},
     "output_type": "execute_result"
    }
   ],
   "source": [
    "a"
   ]
  },
  {
   "cell_type": "code",
   "execution_count": 678,
   "id": "a913aef2",
   "metadata": {},
   "outputs": [
    {
     "data": {
      "text/plain": [
       "3"
      ]
     },
     "execution_count": 678,
     "metadata": {},
     "output_type": "execute_result"
    }
   ],
   "source": [
    "a.ndim"
   ]
  },
  {
   "cell_type": "code",
   "execution_count": 679,
   "id": "d99522e6",
   "metadata": {},
   "outputs": [
    {
     "data": {
      "text/plain": [
       "3"
      ]
     },
     "execution_count": 679,
     "metadata": {},
     "output_type": "execute_result"
    }
   ],
   "source": [
    "len(a.shape)"
   ]
  },
  {
   "cell_type": "markdown",
   "id": "43851384",
   "metadata": {},
   "source": [
    "# 136. ndindex()"
   ]
  },
  {
   "cell_type": "code",
   "execution_count": 680,
   "id": "f7cc1f79",
   "metadata": {},
   "outputs": [
    {
     "name": "stdout",
     "output_type": "stream",
     "text": [
      "(0, 0, 0)\n",
      "(0, 0, 1)\n",
      "(0, 1, 0)\n",
      "(0, 1, 1)\n",
      "(0, 2, 0)\n",
      "(0, 2, 1)\n",
      "(1, 0, 0)\n",
      "(1, 0, 1)\n",
      "(1, 1, 0)\n",
      "(1, 1, 1)\n",
      "(1, 2, 0)\n",
      "(1, 2, 1)\n",
      "(2, 0, 0)\n",
      "(2, 0, 1)\n",
      "(2, 1, 0)\n",
      "(2, 1, 1)\n",
      "(2, 2, 0)\n",
      "(2, 2, 1)\n",
      "(3, 0, 0)\n",
      "(3, 0, 1)\n",
      "(3, 1, 0)\n",
      "(3, 1, 1)\n",
      "(3, 2, 0)\n",
      "(3, 2, 1)\n"
     ]
    }
   ],
   "source": [
    "for index in ndindex(4,3,2):\n",
    "    print(index)"
   ]
  },
  {
   "cell_type": "markdown",
   "id": "eaf56510",
   "metadata": {},
   "source": [
    "# 137. newaxis"
   ]
  },
  {
   "cell_type": "code",
   "execution_count": 681,
   "id": "605c65c1",
   "metadata": {},
   "outputs": [],
   "source": [
    "x = arange(3)"
   ]
  },
  {
   "cell_type": "code",
   "execution_count": 682,
   "id": "0f44808d",
   "metadata": {},
   "outputs": [
    {
     "data": {
      "text/plain": [
       "array([0, 1, 2])"
      ]
     },
     "execution_count": 682,
     "metadata": {},
     "output_type": "execute_result"
    }
   ],
   "source": [
    "x"
   ]
  },
  {
   "cell_type": "code",
   "execution_count": 683,
   "id": "0ac48494",
   "metadata": {},
   "outputs": [
    {
     "data": {
      "text/plain": [
       "array([[0],\n",
       "       [1],\n",
       "       [2]])"
      ]
     },
     "execution_count": 683,
     "metadata": {},
     "output_type": "execute_result"
    }
   ],
   "source": [
    "x[:,newaxis]"
   ]
  },
  {
   "cell_type": "code",
   "execution_count": 684,
   "id": "5877686b",
   "metadata": {},
   "outputs": [
    {
     "data": {
      "text/plain": [
       "array([[[0]],\n",
       "\n",
       "       [[1]],\n",
       "\n",
       "       [[2]]])"
      ]
     },
     "execution_count": 684,
     "metadata": {},
     "output_type": "execute_result"
    }
   ],
   "source": [
    "x[:,newaxis,newaxis]"
   ]
  },
  {
   "cell_type": "code",
   "execution_count": 685,
   "id": "401fb6bc",
   "metadata": {},
   "outputs": [
    {
     "data": {
      "text/plain": [
       "array([[0, 0, 0],\n",
       "       [0, 1, 2],\n",
       "       [0, 2, 4]])"
      ]
     },
     "execution_count": 685,
     "metadata": {},
     "output_type": "execute_result"
    }
   ],
   "source": [
    "x[:,newaxis]*x"
   ]
  },
  {
   "cell_type": "code",
   "execution_count": 686,
   "id": "6d0d638c",
   "metadata": {},
   "outputs": [],
   "source": [
    "y = arange(3,6)"
   ]
  },
  {
   "cell_type": "code",
   "execution_count": 687,
   "id": "6e3926b4",
   "metadata": {},
   "outputs": [
    {
     "data": {
      "text/plain": [
       "array([3, 4, 5])"
      ]
     },
     "execution_count": 687,
     "metadata": {},
     "output_type": "execute_result"
    }
   ],
   "source": [
    "y"
   ]
  },
  {
   "cell_type": "code",
   "execution_count": 688,
   "id": "7dab9c96",
   "metadata": {},
   "outputs": [
    {
     "data": {
      "text/plain": [
       "array([[ 0,  0,  0],\n",
       "       [ 3,  4,  5],\n",
       "       [ 6,  8, 10]])"
      ]
     },
     "execution_count": 688,
     "metadata": {},
     "output_type": "execute_result"
    }
   ],
   "source": [
    "x[:,newaxis]*y"
   ]
  },
  {
   "cell_type": "code",
   "execution_count": 689,
   "id": "403da486",
   "metadata": {},
   "outputs": [
    {
     "data": {
      "text/plain": [
       "(3,)"
      ]
     },
     "execution_count": 689,
     "metadata": {},
     "output_type": "execute_result"
    }
   ],
   "source": [
    "x.shape"
   ]
  },
  {
   "cell_type": "code",
   "execution_count": 690,
   "id": "cb3f16c2",
   "metadata": {},
   "outputs": [
    {
     "data": {
      "text/plain": [
       "(1, 3)"
      ]
     },
     "execution_count": 690,
     "metadata": {},
     "output_type": "execute_result"
    }
   ],
   "source": [
    "x[newaxis,:].shape"
   ]
  },
  {
   "cell_type": "code",
   "execution_count": 691,
   "id": "97375e4c",
   "metadata": {},
   "outputs": [
    {
     "data": {
      "text/plain": [
       "(3, 1)"
      ]
     },
     "execution_count": 691,
     "metadata": {},
     "output_type": "execute_result"
    }
   ],
   "source": [
    "x[:,newaxis].shape"
   ]
  },
  {
   "cell_type": "markdown",
   "id": "9b300fb3",
   "metadata": {},
   "source": [
    "# 138. nonzero()"
   ]
  },
  {
   "cell_type": "code",
   "execution_count": 692,
   "id": "2263b3f4",
   "metadata": {},
   "outputs": [
    {
     "data": {
      "text/plain": [
       "(array([0, 2, 3, 6], dtype=int64),)"
      ]
     },
     "execution_count": 692,
     "metadata": {},
     "output_type": "execute_result"
    }
   ],
   "source": [
    "from numpy import *\n",
    "x = array([1,0,2,-1,0,0,8])\n",
    "indices = x.nonzero() # find the indices of the nonzero elements\n",
    "indices"
   ]
  },
  {
   "cell_type": "code",
   "execution_count": 693,
   "id": "328af42a",
   "metadata": {},
   "outputs": [
    {
     "data": {
      "text/plain": [
       "array([ 1,  2, -1,  8])"
      ]
     },
     "execution_count": 693,
     "metadata": {},
     "output_type": "execute_result"
    }
   ],
   "source": [
    "x[indices]"
   ]
  },
  {
   "cell_type": "code",
   "execution_count": 694,
   "id": "db8aade3",
   "metadata": {},
   "outputs": [
    {
     "data": {
      "text/plain": [
       "(array([0, 1, 1], dtype=int64), array([1, 0, 2], dtype=int64))"
      ]
     },
     "execution_count": 694,
     "metadata": {},
     "output_type": "execute_result"
    }
   ],
   "source": [
    "y = array([[0,1,0],[2,0,3]])\n",
    "indices = y.nonzero()\n",
    "indices"
   ]
  },
  {
   "cell_type": "code",
   "execution_count": 695,
   "id": "19dc4867",
   "metadata": {},
   "outputs": [
    {
     "data": {
      "text/plain": [
       "array([1, 2, 3])"
      ]
     },
     "execution_count": 695,
     "metadata": {},
     "output_type": "execute_result"
    }
   ],
   "source": [
    "y[indices[0],indices[1]] # one way of doing it, explains what's in indices[0] and indices[1]"
   ]
  },
  {
   "cell_type": "code",
   "execution_count": 696,
   "id": "87c1f1f3",
   "metadata": {},
   "outputs": [
    {
     "data": {
      "text/plain": [
       "array([1, 2, 3])"
      ]
     },
     "execution_count": 696,
     "metadata": {},
     "output_type": "execute_result"
    }
   ],
   "source": [
    "y[indices] # this way is shorter"
   ]
  },
  {
   "cell_type": "code",
   "execution_count": 697,
   "id": "14ea6d28",
   "metadata": {},
   "outputs": [
    {
     "data": {
      "text/plain": [
       "array([5, 7])"
      ]
     },
     "execution_count": 697,
     "metadata": {},
     "output_type": "execute_result"
    }
   ],
   "source": [
    "y = array([1,3,5,7])\n",
    "indices = (y >= 5).nonzero()\n",
    "y[indices]"
   ]
  },
  {
   "cell_type": "code",
   "execution_count": 698,
   "id": "0d0cb47b",
   "metadata": {},
   "outputs": [
    {
     "data": {
      "text/plain": [
       "(array([0, 1, 2, 3], dtype=int64),)"
      ]
     },
     "execution_count": 698,
     "metadata": {},
     "output_type": "execute_result"
    }
   ],
   "source": [
    "nonzero(y) # function also exists"
   ]
  },
  {
   "cell_type": "markdown",
   "id": "e45449cd",
   "metadata": {},
   "source": [
    "# 139. ogrid()"
   ]
  },
  {
   "cell_type": "code",
   "execution_count": 699,
   "id": "f96459d2",
   "metadata": {},
   "outputs": [
    {
     "data": {
      "text/plain": [
       "array([[0],\n",
       "       [1],\n",
       "       [2]])"
      ]
     },
     "execution_count": 699,
     "metadata": {},
     "output_type": "execute_result"
    }
   ],
   "source": [
    "from numpy import *\n",
    "x,y = ogrid[0:3,0:3] # x and y are useful to use with broadcasting rules\n",
    "x"
   ]
  },
  {
   "cell_type": "code",
   "execution_count": 700,
   "id": "a0c162e1",
   "metadata": {},
   "outputs": [
    {
     "data": {
      "text/plain": [
       "array([[0, 1, 2]])"
      ]
     },
     "execution_count": 700,
     "metadata": {},
     "output_type": "execute_result"
    }
   ],
   "source": [
    "y"
   ]
  },
  {
   "cell_type": "code",
   "execution_count": 701,
   "id": "f257b3cc",
   "metadata": {},
   "outputs": [
    {
     "name": "stdout",
     "output_type": "stream",
     "text": [
      "[[0 0 0]\n",
      " [0 1 2]\n",
      " [0 2 4]]\n"
     ]
    }
   ],
   "source": [
    "print(x*y) # example how to use broadcasting rules"
   ]
  },
  {
   "cell_type": "markdown",
   "id": "18118372",
   "metadata": {},
   "source": [
    "# 140. ones()"
   ]
  },
  {
   "cell_type": "code",
   "execution_count": 702,
   "id": "4c3cce29",
   "metadata": {},
   "outputs": [
    {
     "data": {
      "text/plain": [
       "array([1., 1., 1., 1., 1.])"
      ]
     },
     "execution_count": 702,
     "metadata": {},
     "output_type": "execute_result"
    }
   ],
   "source": [
    "ones(5)"
   ]
  },
  {
   "cell_type": "code",
   "execution_count": 703,
   "id": "da84b5bb",
   "metadata": {},
   "outputs": [
    {
     "data": {
      "text/plain": [
       "array([[1, 1, 1],\n",
       "       [1, 1, 1]])"
      ]
     },
     "execution_count": 703,
     "metadata": {},
     "output_type": "execute_result"
    }
   ],
   "source": [
    "ones((2,3), int)"
   ]
  },
  {
   "cell_type": "markdown",
   "id": "639b94c2",
   "metadata": {},
   "source": [
    "# 141. ones_like()"
   ]
  },
  {
   "cell_type": "code",
   "execution_count": 704,
   "id": "5dd80bcf",
   "metadata": {},
   "outputs": [
    {
     "data": {
      "text/plain": [
       "array([[1, 1, 1],\n",
       "       [1, 1, 1]])"
      ]
     },
     "execution_count": 704,
     "metadata": {},
     "output_type": "execute_result"
    }
   ],
   "source": [
    "from numpy import *\n",
    "a = array([[1,2,3],[4,2,5]])\n",
    "ones_like(a)  # ones initialised array with the same shape and datatype as 'a'"
   ]
  },
  {
   "cell_type": "markdown",
   "id": "d42b53ed",
   "metadata": {},
   "source": [
    "# 142. outer()"
   ]
  },
  {
   "cell_type": "code",
   "execution_count": 705,
   "id": "9bc6f13c",
   "metadata": {},
   "outputs": [
    {
     "data": {
      "text/plain": [
       "array([[10, 19, 18],\n",
       "       [10, 19, 18],\n",
       "       [30, 57, 54]])"
      ]
     },
     "execution_count": 705,
     "metadata": {},
     "output_type": "execute_result"
    }
   ],
   "source": [
    "a = array([1,1,3])\n",
    "b= array([10,19,18])\n",
    "outer(a,b)  # outer product"
   ]
  },
  {
   "cell_type": "markdown",
   "id": "0399a1cb",
   "metadata": {},
   "source": [
    "# 143. permutation()"
   ]
  },
  {
   "cell_type": "code",
   "execution_count": 706,
   "id": "fe6b8aaa",
   "metadata": {},
   "outputs": [
    {
     "data": {
      "text/plain": [
       "array([2, 0, 1])"
      ]
     },
     "execution_count": 706,
     "metadata": {},
     "output_type": "execute_result"
    }
   ],
   "source": [
    "from numpy import *\n",
    "from numpy.random import permutation\n",
    "permutation(3)"
   ]
  },
  {
   "cell_type": "code",
   "execution_count": 707,
   "id": "59109b43",
   "metadata": {},
   "outputs": [
    {
     "data": {
      "text/plain": [
       "array([0, 1, 2])"
      ]
     },
     "execution_count": 707,
     "metadata": {},
     "output_type": "execute_result"
    }
   ],
   "source": [
    "permutation(3)"
   ]
  },
  {
   "cell_type": "markdown",
   "id": "5c8324c0",
   "metadata": {},
   "source": [
    "# 144. piecewise()"
   ]
  },
  {
   "cell_type": "code",
   "execution_count": 708,
   "id": "ee1cac4b",
   "metadata": {},
   "outputs": [],
   "source": [
    "f1 = lambda x: x*x\n",
    "f2 = lambda x: 2*x\n",
    "x= arange(-2.,3.,0.1)\n"
   ]
  },
  {
   "cell_type": "code",
   "execution_count": 709,
   "id": "43b0d4b5",
   "metadata": {},
   "outputs": [
    {
     "name": "stdout",
     "output_type": "stream",
     "text": [
      "[0.00000000e+00 0.00000000e+00 0.00000000e+00 0.00000000e+00\n",
      " 0.00000000e+00 0.00000000e+00 0.00000000e+00 0.00000000e+00\n",
      " 0.00000000e+00 0.00000000e+00 1.00000000e+00 8.10000000e-01\n",
      " 6.40000000e-01 4.90000000e-01 3.60000000e-01 2.50000000e-01\n",
      " 1.60000000e-01 9.00000000e-02 4.00000000e-02 1.00000000e-02\n",
      " 3.15544362e-30 1.00000000e-02 4.00000000e-02 9.00000000e-02\n",
      " 1.60000000e-01 2.50000000e-01 3.60000000e-01 4.90000000e-01\n",
      " 6.40000000e-01 8.10000000e-01 2.00000000e+00 2.20000000e+00\n",
      " 2.40000000e+00 2.60000000e+00 2.80000000e+00 3.00000000e+00\n",
      " 3.20000000e+00 3.40000000e+00 3.60000000e+00 3.80000000e+00\n",
      " 4.00000000e+00 4.20000000e+00 4.40000000e+00 4.60000000e+00\n",
      " 4.80000000e+00 5.00000000e+00 5.20000000e+00 5.40000000e+00\n",
      " 5.60000000e+00 5.80000000e+00]\n"
     ]
    }
   ],
   "source": [
    "condition = (x>1)&(x<2) # boolean array\n",
    "y = piecewise(x,condition, [f1,1.]) # if condition is true, return f1, otherwise 1.\n",
    "y = piecewise(x, fabs(x)<=1, [f1,0]) + piecewise(x, x>1, [f2,0]) # 0. in ]-inf,-1[, f1 in [-1,+1], f2 in ]+1,+inf[\n",
    "print(y)"
   ]
  },
  {
   "cell_type": "markdown",
   "id": "7d876a46",
   "metadata": {},
   "source": [
    "# 145. pinv()"
   ]
  },
  {
   "cell_type": "code",
   "execution_count": 710,
   "id": "cbb01150",
   "metadata": {},
   "outputs": [
    {
     "name": "stdout",
     "output_type": "stream",
     "text": [
      "[[-1.33333333  1.08333333]\n",
      " [-0.33333333  0.33333333]\n",
      " [ 0.66666667 -0.41666667]]\n"
     ]
    }
   ],
   "source": [
    " from numpy import *\n",
    "from numpy.linalg import pinv,svd,lstsq\n",
    "A = array([[1., 3., 5.],[2., 4., 6.]])\n",
    "b = array([1., 3.])\n",
    "\n",
    "# Question: find x such that ||A*x-b|| is minimal\n",
    "# Answer: x = pinvA * b, with pinvA the pseudo-inverse of A\n",
    "pinvA = pinv(A)\n",
    "print(pinvA)"
   ]
  },
  {
   "cell_type": "code",
   "execution_count": 711,
   "id": "9f041162",
   "metadata": {},
   "outputs": [
    {
     "name": "stdout",
     "output_type": "stream",
     "text": [
      "[ 1.91666667  0.66666667 -0.58333333]\n"
     ]
    }
   ],
   "source": [
    "x = dot(pinvA, b)\n",
    "print(x)"
   ]
  },
  {
   "cell_type": "code",
   "execution_count": 712,
   "id": "e2b8c0ad",
   "metadata": {},
   "outputs": [
    {
     "name": "stdout",
     "output_type": "stream",
     "text": [
      "[ 1.91666667  0.66666667 -0.58333333]\n"
     ]
    },
    {
     "name": "stderr",
     "output_type": "stream",
     "text": [
      "C:\\Users\\nithi\\AppData\\Local\\Temp\\ipykernel_20556\\1646301873.py:3: FutureWarning: `rcond` parameter will change to the default of machine precision times ``max(M, N)`` where M and N are the input matrix dimensions.\n",
      "To use the future default and silence this warning we advise to pass `rcond=None`, to keep using the old, explicitly pass `rcond=-1`.\n",
      "  x,resids,rank,s = lstsq(A,b)\n"
     ]
    }
   ],
   "source": [
    " # Relation with least-squares minimisation lstsq()\n",
    "\n",
    "x,resids,rank,s = lstsq(A,b)\n",
    "print(x) # the same solution for x as above"
   ]
  },
  {
   "cell_type": "code",
   "execution_count": 713,
   "id": "676d07c4",
   "metadata": {},
   "outputs": [
    {
     "data": {
      "text/plain": [
       "array([[-1.33333333,  1.08333333],\n",
       "       [-0.33333333,  0.33333333],\n",
       "       [ 0.66666667, -0.41666667]])"
      ]
     },
     "execution_count": 713,
     "metadata": {},
     "output_type": "execute_result"
    }
   ],
   "source": [
    "# Relation with singular-value decomposition svd()\n",
    "U,sigma,V = svd(A)\n",
    "S = zeros_like(A.transpose())\n",
    "for n in range(len(sigma)): S[n,n] = 1. / sigma[n]\n",
    "dot(V.transpose(), dot(S, U.transpose())) # = pinv(A)"
   ]
  },
  {
   "cell_type": "markdown",
   "id": "f4d7124c",
   "metadata": {},
   "source": [
    "# 146. poisson()"
   ]
  },
  {
   "cell_type": "code",
   "execution_count": 714,
   "id": "a2aa44f7",
   "metadata": {},
   "outputs": [
    {
     "data": {
      "text/plain": [
       "array([[0, 1, 1],\n",
       "       [1, 0, 0]])"
      ]
     },
     "execution_count": 714,
     "metadata": {},
     "output_type": "execute_result"
    }
   ],
   "source": [
    "from numpy import *\n",
    "from numpy.random import *\n",
    "poisson(lam=0.5, size=(2,3)) # poisson distribution lambda=0.5"
   ]
  },
  {
   "cell_type": "markdown",
   "id": "e9690572",
   "metadata": {},
   "source": [
    "# 147. poly1d()"
   ]
  },
  {
   "cell_type": "code",
   "execution_count": 715,
   "id": "6505fb3f",
   "metadata": {},
   "outputs": [
    {
     "name": "stdout",
     "output_type": "stream",
     "text": [
      "   2\n",
      "1 x - 5 x + 6\n"
     ]
    }
   ],
   "source": [
    "from numpy import *\n",
    "p1 = poly1d([2,3],r=1) # specify polynomial by its roots\n",
    "print(p1)"
   ]
  },
  {
   "cell_type": "code",
   "execution_count": 716,
   "id": "3174552f",
   "metadata": {},
   "outputs": [
    {
     "name": "stdout",
     "output_type": "stream",
     "text": [
      " \n",
      "2 x + 3\n"
     ]
    }
   ],
   "source": [
    "p2 = poly1d([2,3],r=0) # specify polynomial by its coefficients\n",
    "print (p2)"
   ]
  },
  {
   "cell_type": "code",
   "execution_count": 717,
   "id": "331066df",
   "metadata": {},
   "outputs": [
    {
     "name": "stdout",
     "output_type": "stream",
     "text": [
      "   2\n",
      "1 x - 3 x + 9\n"
     ]
    }
   ],
   "source": [
    "print(p1+p2) # +,-,*,/ and even ** are supported"
   ]
  },
  {
   "cell_type": "code",
   "execution_count": 718,
   "id": "08b8b56e",
   "metadata": {},
   "outputs": [
    {
     "name": "stdout",
     "output_type": "stream",
     "text": [
      " \n",
      "0.5 x - 3.25  \n",
      "15.75\n"
     ]
    }
   ],
   "source": [
    "quotient,remainder = p1/p2 # division gives a tupple with the quotient and remainder\n",
    "print(quotient,remainder)"
   ]
  },
  {
   "cell_type": "code",
   "execution_count": 719,
   "id": "206f3cad",
   "metadata": {},
   "outputs": [
    {
     "name": "stdout",
     "output_type": "stream",
     "text": [
      "   3     2\n",
      "2 x - 7 x - 3 x + 18\n"
     ]
    }
   ],
   "source": [
    "p3 = p1*p2\n",
    "print (p3)"
   ]
  },
  {
   "cell_type": "code",
   "execution_count": 720,
   "id": "ac73644a",
   "metadata": {},
   "outputs": [
    {
     "data": {
      "text/plain": [
       "array([10.,  0.,  0., 22.])"
      ]
     },
     "execution_count": 720,
     "metadata": {},
     "output_type": "execute_result"
    }
   ],
   "source": [
    "p3([1,2,3,4]) # evaluate the polynomial in the values [1,2,3,4]"
   ]
  },
  {
   "cell_type": "code",
   "execution_count": 721,
   "id": "fab47417",
   "metadata": {},
   "outputs": [
    {
     "data": {
      "text/plain": [
       "-7.0"
      ]
     },
     "execution_count": 721,
     "metadata": {},
     "output_type": "execute_result"
    }
   ],
   "source": [
    "p3[2] # the coefficient of x**2"
   ]
  },
  {
   "cell_type": "code",
   "execution_count": 722,
   "id": "dc52a57d",
   "metadata": {},
   "outputs": [
    {
     "data": {
      "text/plain": [
       "array([-1.5,  3. ,  2. ])"
      ]
     },
     "execution_count": 722,
     "metadata": {},
     "output_type": "execute_result"
    }
   ],
   "source": [
    "p3.r # the roots of the polynomial\n"
   ]
  },
  {
   "cell_type": "code",
   "execution_count": 723,
   "id": "b87df19c",
   "metadata": {},
   "outputs": [
    {
     "data": {
      "text/plain": [
       "array([ 2., -7., -3., 18.])"
      ]
     },
     "execution_count": 723,
     "metadata": {},
     "output_type": "execute_result"
    }
   ],
   "source": [
    "p3.c # the coefficients of the polynomial"
   ]
  },
  {
   "cell_type": "code",
   "execution_count": 724,
   "id": "d43c5a97",
   "metadata": {},
   "outputs": [
    {
     "data": {
      "text/plain": [
       "3"
      ]
     },
     "execution_count": 724,
     "metadata": {},
     "output_type": "execute_result"
    }
   ],
   "source": [
    "p3.o # the order of the polynomial"
   ]
  },
  {
   "cell_type": "code",
   "execution_count": 725,
   "id": "be80a2a3",
   "metadata": {},
   "outputs": [
    {
     "name": "stdout",
     "output_type": "stream",
     "text": [
      " \n",
      "12 x - 14\n"
     ]
    }
   ],
   "source": [
    "print (p3.deriv(m=2)) # the 2nd derivative of the polynomial\n"
   ]
  },
  {
   "cell_type": "code",
   "execution_count": 726,
   "id": "5c3e2bd1",
   "metadata": {},
   "outputs": [
    {
     "name": "stdout",
     "output_type": "stream",
     "text": [
      "     5          4       3     2\n",
      "0.1 x - 0.5833 x - 0.5 x + 9 x + 1 x + 2\n"
     ]
    }
   ],
   "source": [
    "print (p3.integ(m=2,k=[1,2])) # integrate polynomial twice and use [1,2] as integration constants"
   ]
  },
  {
   "cell_type": "markdown",
   "id": "2c277ac0",
   "metadata": {},
   "source": [
    "# 148. polyfit()"
   ]
  },
  {
   "cell_type": "code",
   "execution_count": 727,
   "id": "568c9655",
   "metadata": {},
   "outputs": [
    {
     "data": {
      "text/plain": [
       "array([1., 2., 3.])"
      ]
     },
     "execution_count": 727,
     "metadata": {},
     "output_type": "execute_result"
    }
   ],
   "source": [
    "from numpy import *\n",
    "x = array([1,2,3,4,5])\n",
    "y = array([6, 11, 18, 27, 38])\n",
    "polyfit(x,y,2) # fit a 2nd degree polynomial to the data, result is x**2 + 2x + 3"
   ]
  },
  {
   "cell_type": "code",
   "execution_count": 728,
   "id": "3edbad48",
   "metadata": {},
   "outputs": [
    {
     "data": {
      "text/plain": [
       "array([ 8., -4.])"
      ]
     },
     "execution_count": 728,
     "metadata": {},
     "output_type": "execute_result"
    }
   ],
   "source": [
    "polyfit(x,y,1) # fit a 1st degree polynomial (straight line), result is 8x-4"
   ]
  },
  {
   "cell_type": "markdown",
   "id": "3ae7679d",
   "metadata": {},
   "source": [
    "# 149. prod()"
   ]
  },
  {
   "cell_type": "code",
   "execution_count": 729,
   "id": "75425383",
   "metadata": {},
   "outputs": [
    {
     "data": {
      "text/plain": [
       "6"
      ]
     },
     "execution_count": 729,
     "metadata": {},
     "output_type": "execute_result"
    }
   ],
   "source": [
    "from numpy import *\n",
    "a = array([1,2,3])\n",
    "a.prod() # 1 * 2 * 3 = 6"
   ]
  },
  {
   "cell_type": "code",
   "execution_count": 730,
   "id": "c84d20fb",
   "metadata": {},
   "outputs": [
    {
     "data": {
      "text/plain": [
       "6"
      ]
     },
     "execution_count": 730,
     "metadata": {},
     "output_type": "execute_result"
    }
   ],
   "source": [
    "prod(a) # also exists"
   ]
  },
  {
   "cell_type": "code",
   "execution_count": 731,
   "id": "6529a08c",
   "metadata": {},
   "outputs": [
    {
     "data": {
      "text/plain": [
       "720.0"
      ]
     },
     "execution_count": 731,
     "metadata": {},
     "output_type": "execute_result"
    }
   ],
   "source": [
    "a = array([[1,2,3],[4,5,6]])\n",
    "a.prod(dtype=float) # specify type of output\n"
   ]
  },
  {
   "cell_type": "code",
   "execution_count": 732,
   "id": "6291c504",
   "metadata": {},
   "outputs": [
    {
     "data": {
      "text/plain": [
       "array([ 4, 10, 18])"
      ]
     },
     "execution_count": 732,
     "metadata": {},
     "output_type": "execute_result"
    }
   ],
   "source": [
    "a.prod(axis=0) # for each of the 3 columns: product"
   ]
  },
  {
   "cell_type": "code",
   "execution_count": 733,
   "id": "c5a116d2",
   "metadata": {},
   "outputs": [
    {
     "data": {
      "text/plain": [
       "array([  6, 120])"
      ]
     },
     "execution_count": 733,
     "metadata": {},
     "output_type": "execute_result"
    }
   ],
   "source": [
    "a.prod(axis=1) # for each of the two rows: product"
   ]
  },
  {
   "cell_type": "markdown",
   "id": "3bb9d352",
   "metadata": {},
   "source": [
    "# 150.ptp()"
   ]
  },
  {
   "cell_type": "code",
   "execution_count": 734,
   "id": "4489943e",
   "metadata": {},
   "outputs": [
    {
     "data": {
      "text/plain": [
       "20"
      ]
     },
     "execution_count": 734,
     "metadata": {},
     "output_type": "execute_result"
    }
   ],
   "source": [
    "from numpy import *\n",
    "a = array([5,15,25])\n",
    "a.ptp() # peak-to-peak = maximum - minimum"
   ]
  },
  {
   "cell_type": "code",
   "execution_count": 735,
   "id": "48d409ce",
   "metadata": {},
   "outputs": [
    {
     "data": {
      "text/plain": [
       "30"
      ]
     },
     "execution_count": 735,
     "metadata": {},
     "output_type": "execute_result"
    }
   ],
   "source": [
    "a = array([[5,15,25],[3,13,33]])\n",
    "a.ptp()\n"
   ]
  },
  {
   "cell_type": "code",
   "execution_count": 736,
   "id": "1e74ba4a",
   "metadata": {},
   "outputs": [
    {
     "data": {
      "text/plain": [
       "array([2, 2, 8])"
      ]
     },
     "execution_count": 736,
     "metadata": {},
     "output_type": "execute_result"
    }
   ],
   "source": [
    "a.ptp(axis=0) # peak-to-peak value for each of the 3 columns\n"
   ]
  },
  {
   "cell_type": "code",
   "execution_count": 737,
   "id": "1b6fdb6a",
   "metadata": {},
   "outputs": [
    {
     "data": {
      "text/plain": [
       "array([20, 30])"
      ]
     },
     "execution_count": 737,
     "metadata": {},
     "output_type": "execute_result"
    }
   ],
   "source": [
    "a.ptp(axis=1) # peak-to-peak value for each of the 2 rows"
   ]
  },
  {
   "cell_type": "markdown",
   "id": "f5f1de56",
   "metadata": {},
   "source": [
    "# 151. put()"
   ]
  },
  {
   "cell_type": "code",
   "execution_count": 738,
   "id": "627484f6",
   "metadata": {},
   "outputs": [
    {
     "ename": "IndexError",
     "evalue": "index 60 is out of bounds for axis 0 with size 6",
     "output_type": "error",
     "traceback": [
      "\u001b[1;31m---------------------------------------------------------------------------\u001b[0m",
      "\u001b[1;31mIndexError\u001b[0m                                Traceback (most recent call last)",
      "Cell \u001b[1;32mIn[738], line 3\u001b[0m\n\u001b[0;32m      1\u001b[0m \u001b[38;5;28;01mfrom\u001b[39;00m \u001b[38;5;21;01mnumpy\u001b[39;00m \u001b[38;5;28;01mimport\u001b[39;00m \u001b[38;5;241m*\u001b[39m\n\u001b[0;32m      2\u001b[0m a \u001b[38;5;241m=\u001b[39m array([\u001b[38;5;241m1\u001b[39m,\u001b[38;5;241m2\u001b[39m,\u001b[38;5;241m3\u001b[39m,\u001b[38;5;241m4\u001b[39m,\u001b[38;5;241m5\u001b[39m,\u001b[38;5;241m6\u001b[39m])\n\u001b[1;32m----> 3\u001b[0m a\u001b[38;5;241m.\u001b[39mput([\u001b[38;5;241m60\u001b[39m,\u001b[38;5;241m20\u001b[39m,\u001b[38;5;241m89\u001b[39m],[\u001b[38;5;241m0\u001b[39m,\u001b[38;5;241m4\u001b[39m,\u001b[38;5;241m1\u001b[39m])\n",
      "\u001b[1;31mIndexError\u001b[0m: index 60 is out of bounds for axis 0 with size 6"
     ]
    }
   ],
   "source": [
    "from numpy import *\n",
    "a = array([1,2,3,4,5,6])\n",
    "a.put([60,20,89],[0,4,1])"
   ]
  },
  {
   "cell_type": "code",
   "execution_count": 739,
   "id": "42f53540",
   "metadata": {},
   "outputs": [
    {
     "ename": "IndexError",
     "evalue": "index 10 is out of bounds for axis 0 with size 4",
     "output_type": "error",
     "traceback": [
      "\u001b[1;31m---------------------------------------------------------------------------\u001b[0m",
      "\u001b[1;31mIndexError\u001b[0m                                Traceback (most recent call last)",
      "Cell \u001b[1;32mIn[739], line 3\u001b[0m\n\u001b[0;32m      1\u001b[0m \u001b[38;5;28;01mfrom\u001b[39;00m \u001b[38;5;21;01mnumpy\u001b[39;00m \u001b[38;5;28;01mimport\u001b[39;00m \u001b[38;5;241m*\u001b[39m\n\u001b[0;32m      2\u001b[0m a \u001b[38;5;241m=\u001b[39m array([\u001b[38;5;241m10\u001b[39m,\u001b[38;5;241m20\u001b[39m,\u001b[38;5;241m30\u001b[39m,\u001b[38;5;241m40\u001b[39m])\n\u001b[1;32m----> 3\u001b[0m a\u001b[38;5;241m.\u001b[39mput([\u001b[38;5;241m10\u001b[39m], [\u001b[38;5;241m0\u001b[39m]) \u001b[38;5;66;03m# first values, then indices\u001b[39;00m\n\u001b[0;32m      4\u001b[0m a\n",
      "\u001b[1;31mIndexError\u001b[0m: index 10 is out of bounds for axis 0 with size 4"
     ]
    }
   ],
   "source": [
    "from numpy import *\n",
    "a = array([10,20,30,40])\n",
    "a.put([10], [0]) # first values, then indices\n",
    "a"
   ]
  },
  {
   "cell_type": "markdown",
   "id": "cc2750f3",
   "metadata": {},
   "source": [
    "# 152. putmask()"
   ]
  },
  {
   "cell_type": "code",
   "execution_count": 740,
   "id": "3e4c08d5",
   "metadata": {},
   "outputs": [
    {
     "ename": "AttributeError",
     "evalue": "'numpy.ndarray' object has no attribute 'putmask'",
     "output_type": "error",
     "traceback": [
      "\u001b[1;31m---------------------------------------------------------------------------\u001b[0m",
      "\u001b[1;31mAttributeError\u001b[0m                            Traceback (most recent call last)",
      "Cell \u001b[1;32mIn[740], line 4\u001b[0m\n\u001b[0;32m      2\u001b[0m a \u001b[38;5;241m=\u001b[39m array([\u001b[38;5;241m10\u001b[39m,\u001b[38;5;241m20\u001b[39m,\u001b[38;5;241m30\u001b[39m,\u001b[38;5;241m40\u001b[39m])\n\u001b[0;32m      3\u001b[0m mask \u001b[38;5;241m=\u001b[39m array([\u001b[38;5;28;01mTrue\u001b[39;00m,\u001b[38;5;28;01mFalse\u001b[39;00m,\u001b[38;5;28;01mTrue\u001b[39;00m,\u001b[38;5;28;01mTrue\u001b[39;00m]) \u001b[38;5;66;03m# size mask = size a\u001b[39;00m\n\u001b[1;32m----> 4\u001b[0m a\u001b[38;5;241m.\u001b[39mputmask([\u001b[38;5;241m60\u001b[39m,\u001b[38;5;241m70\u001b[39m,\u001b[38;5;241m80\u001b[39m,\u001b[38;5;241m90\u001b[39m], mask) \u001b[38;5;66;03m# first values, then the mask\u001b[39;00m\n\u001b[0;32m      5\u001b[0m a\n",
      "\u001b[1;31mAttributeError\u001b[0m: 'numpy.ndarray' object has no attribute 'putmask'"
     ]
    }
   ],
   "source": [
    "from numpy import *\n",
    "a = array([10,20,30,40])\n",
    "mask = array([True,False,True,True]) # size mask = size a\n",
    "a.putmask([60,70,80,90], mask) # first values, then the mask\n",
    "a"
   ]
  },
  {
   "cell_type": "code",
   "execution_count": 741,
   "id": "3e4b1ec1",
   "metadata": {},
   "outputs": [
    {
     "data": {
      "text/plain": [
       "array([10, 20, 30, 40, 50, 60])"
      ]
     },
     "execution_count": 741,
     "metadata": {},
     "output_type": "execute_result"
    }
   ],
   "source": [
    "a = array([10,20,30,40,50])\n",
    "append(a,60)"
   ]
  },
  {
   "cell_type": "markdown",
   "id": "f52f243b",
   "metadata": {},
   "source": [
    "# 153. r_[]"
   ]
  },
  {
   "cell_type": "code",
   "execution_count": 742,
   "id": "0afc648f",
   "metadata": {},
   "outputs": [
    {
     "data": {
      "text/plain": [
       "array([1, 2, 3, 4])"
      ]
     },
     "execution_count": 742,
     "metadata": {},
     "output_type": "execute_result"
    }
   ],
   "source": [
    "from numpy import *\n",
    "r_[1:5] # same as arange(1,5)\n",
    "\n"
   ]
  },
  {
   "cell_type": "code",
   "execution_count": 743,
   "id": "d2b23cf5",
   "metadata": {},
   "outputs": [
    {
     "data": {
      "text/plain": [
       "array([1, 5, 9])"
      ]
     },
     "execution_count": 743,
     "metadata": {},
     "output_type": "execute_result"
    }
   ],
   "source": [
    "r_[1:10:4] # same as arange(1,10,4)"
   ]
  },
  {
   "cell_type": "code",
   "execution_count": 744,
   "id": "33147f64",
   "metadata": {},
   "outputs": [
    {
     "data": {
      "text/plain": [
       "array([ 1.,  4.,  7., 10.])"
      ]
     },
     "execution_count": 744,
     "metadata": {},
     "output_type": "execute_result"
    }
   ],
   "source": [
    "r_[1:10:4j] # same as linspace(1,10,4), 4 equally-spaced elements between 1 and 10 inclusive"
   ]
  },
  {
   "cell_type": "code",
   "execution_count": 745,
   "id": "13b6e187",
   "metadata": {},
   "outputs": [
    {
     "data": {
      "text/plain": [
       "array([1, 2, 3, 4, 7, 1, 5, 9])"
      ]
     },
     "execution_count": 745,
     "metadata": {},
     "output_type": "execute_result"
    }
   ],
   "source": [
    "r_[1:5,7,1:10:4] # sequences separated with commas are concatenated"
   ]
  },
  {
   "cell_type": "code",
   "execution_count": 746,
   "id": "1fd42c8b",
   "metadata": {},
   "outputs": [
    {
     "data": {
      "text/plain": [
       "matrix([[1, 2]])"
      ]
     },
     "execution_count": 746,
     "metadata": {},
     "output_type": "execute_result"
    }
   ],
   "source": [
    "r_['r', 1:3] # return a matrix. If 1-d, result is a 1xN matrix"
   ]
  },
  {
   "cell_type": "code",
   "execution_count": 747,
   "id": "7e4ee7be",
   "metadata": {},
   "outputs": [
    {
     "data": {
      "text/plain": [
       "matrix([[1],\n",
       "        [2]])"
      ]
     },
     "execution_count": 747,
     "metadata": {},
     "output_type": "execute_result"
    }
   ],
   "source": [
    "r_['c',1:3] # return a matrix. If 1-d, result is a Nx1 matrix"
   ]
  },
  {
   "cell_type": "code",
   "execution_count": 748,
   "id": "9419e9b5",
   "metadata": {},
   "outputs": [
    {
     "data": {
      "text/plain": [
       "array([[1, 2, 3],\n",
       "       [4, 5, 6],\n",
       "       [1, 2, 3],\n",
       "       [4, 5, 6]])"
      ]
     },
     "execution_count": 748,
     "metadata": {},
     "output_type": "execute_result"
    }
   ],
   "source": [
    "a = array([[1,2,3],[4,5,6]])\n",
    "r_[a,a] # concatenation along 1st (default) axis (row-wise, that's why it's called r_)"
   ]
  },
  {
   "cell_type": "code",
   "execution_count": 749,
   "id": "7285e72d",
   "metadata": {},
   "outputs": [
    {
     "data": {
      "text/plain": [
       "array([[1, 2, 3, 1, 2, 3],\n",
       "       [4, 5, 6, 4, 5, 6]])"
      ]
     },
     "execution_count": 749,
     "metadata": {},
     "output_type": "execute_result"
    }
   ],
   "source": [
    "r_['-1',a,a] # concatenation along last axis, same as c_[a,a]"
   ]
  },
  {
   "cell_type": "markdown",
   "id": "c651558a",
   "metadata": {},
   "source": [
    "# 154. rand()"
   ]
  },
  {
   "cell_type": "code",
   "execution_count": 750,
   "id": "6e56e1ca",
   "metadata": {},
   "outputs": [
    {
     "data": {
      "text/plain": [
       "array([[0.24102529, 0.75738955],\n",
       "       [0.30372818, 0.92608852],\n",
       "       [0.1600426 , 0.88828344]])"
      ]
     },
     "execution_count": 750,
     "metadata": {},
     "output_type": "execute_result"
    }
   ],
   "source": [
    "from numpy.random import *\n",
    "rand(3,2)"
   ]
  },
  {
   "cell_type": "markdown",
   "id": "aaddaa02",
   "metadata": {},
   "source": [
    "# 155.randint()"
   ]
  },
  {
   "cell_type": "code",
   "execution_count": 751,
   "id": "118c7724",
   "metadata": {},
   "outputs": [
    {
     "ename": "SyntaxError",
     "evalue": "invalid syntax (4174126349.py, line 1)",
     "output_type": "error",
     "traceback": [
      "\u001b[1;36m  Cell \u001b[1;32mIn[751], line 1\u001b[1;36m\u001b[0m\n\u001b[1;33m    similar to random_integers()\u001b[0m\n\u001b[1;37m            ^\u001b[0m\n\u001b[1;31mSyntaxError\u001b[0m\u001b[1;31m:\u001b[0m invalid syntax\n"
     ]
    }
   ],
   "source": [
    "similar to random_integers()"
   ]
  },
  {
   "cell_type": "markdown",
   "id": "298efe65",
   "metadata": {},
   "source": [
    "# 156. randn()"
   ]
  },
  {
   "cell_type": "code",
   "execution_count": 752,
   "id": "635439ed",
   "metadata": {},
   "outputs": [
    {
     "data": {
      "text/plain": [
       "array([[ 1.32614311,  0.79773172, -1.14378126],\n",
       "       [-0.73062919,  1.07249008,  1.36396574]])"
      ]
     },
     "execution_count": 752,
     "metadata": {},
     "output_type": "execute_result"
    }
   ],
   "source": [
    "randn(2,3)"
   ]
  },
  {
   "cell_type": "code",
   "execution_count": 753,
   "id": "5f1026ca",
   "metadata": {},
   "outputs": [
    {
     "data": {
      "text/plain": [
       "array([[-0.51590351, -1.05677278,  1.58526515,  0.10180744],\n",
       "       [ 0.71284616, -1.31647713, -0.71169163, -0.23730187],\n",
       "       [ 0.22199829,  0.98147906,  1.68762734,  1.06827572]])"
      ]
     },
     "execution_count": 753,
     "metadata": {},
     "output_type": "execute_result"
    }
   ],
   "source": [
    "randn(3,4)"
   ]
  },
  {
   "cell_type": "markdown",
   "id": "0deba4d8",
   "metadata": {},
   "source": [
    "# 157. random_integers()"
   ]
  },
  {
   "cell_type": "code",
   "execution_count": 754,
   "id": "de24671f",
   "metadata": {},
   "outputs": [
    {
     "name": "stderr",
     "output_type": "stream",
     "text": [
      "C:\\Users\\nithi\\AppData\\Local\\Temp\\ipykernel_20556\\1584869344.py:1: DeprecationWarning: This function is deprecated. Please call randint(-1, 5 + 1) instead\n",
      "  random_integers(-1,5,(2,2))\n"
     ]
    },
    {
     "data": {
      "text/plain": [
       "array([[3, 3],\n",
       "       [0, 1]])"
      ]
     },
     "execution_count": 754,
     "metadata": {},
     "output_type": "execute_result"
    }
   ],
   "source": [
    "random_integers(-1,5,(2,2))"
   ]
  },
  {
   "cell_type": "code",
   "execution_count": 755,
   "id": "733e69e9",
   "metadata": {},
   "outputs": [
    {
     "data": {
      "text/plain": [
       "array([[ 0,  1],\n",
       "       [-1,  0]])"
      ]
     },
     "execution_count": 755,
     "metadata": {},
     "output_type": "execute_result"
    }
   ],
   "source": [
    "randint(-1,5 ,(2,2))"
   ]
  },
  {
   "cell_type": "markdown",
   "id": "75aa7976",
   "metadata": {},
   "source": [
    "# 158. random_sample()"
   ]
  },
  {
   "cell_type": "code",
   "execution_count": 756,
   "id": "6d578933",
   "metadata": {},
   "outputs": [
    {
     "data": {
      "text/plain": [
       "array([[0.00388765, 0.38873438],\n",
       "       [0.85245003, 0.23142359],\n",
       "       [0.59142888, 0.81696262]])"
      ]
     },
     "execution_count": 756,
     "metadata": {},
     "output_type": "execute_result"
    }
   ],
   "source": [
    "random_sample((3,2))"
   ]
  },
  {
   "cell_type": "markdown",
   "id": "2ece48dd",
   "metadata": {},
   "source": [
    "# 159. ranf()"
   ]
  },
  {
   "cell_type": "code",
   "execution_count": 757,
   "id": "71e8b6ac",
   "metadata": {},
   "outputs": [
    {
     "data": {
      "text/plain": [
       "array([[0.06341494, 0.90637912, 0.93043232, 0.15415405],\n",
       "       [0.52767997, 0.41595012, 0.4633249 , 0.91341926]])"
      ]
     },
     "execution_count": 757,
     "metadata": {},
     "output_type": "execute_result"
    }
   ],
   "source": [
    "ranf((2,4))  # similar to random_sample()"
   ]
  },
  {
   "cell_type": "markdown",
   "id": "b462d9c5",
   "metadata": {},
   "source": [
    "# 160. ravel()"
   ]
  },
  {
   "cell_type": "code",
   "execution_count": 758,
   "id": "ed3638f5",
   "metadata": {},
   "outputs": [
    {
     "data": {
      "text/plain": [
       "array([1, 2, 3, 4])"
      ]
     },
     "execution_count": 758,
     "metadata": {},
     "output_type": "execute_result"
    }
   ],
   "source": [
    "from numpy import *\n",
    "a = array([[1,2],[3,4]])\n",
    "a.ravel() # 1-d version of a"
   ]
  },
  {
   "cell_type": "code",
   "execution_count": 759,
   "id": "5530911b",
   "metadata": {},
   "outputs": [
    {
     "data": {
      "text/plain": [
       "array([1, 3])"
      ]
     },
     "execution_count": 759,
     "metadata": {},
     "output_type": "execute_result"
    }
   ],
   "source": [
    "b = a[:,0].ravel() # a[:,0] does not occupy a single memory segment, thus b is a copy, not a reference\n",
    "b"
   ]
  },
  {
   "cell_type": "code",
   "execution_count": 760,
   "id": "ce376e64",
   "metadata": {},
   "outputs": [
    {
     "data": {
      "text/plain": [
       "array([1, 2])"
      ]
     },
     "execution_count": 760,
     "metadata": {},
     "output_type": "execute_result"
    }
   ],
   "source": [
    "c = a[0,:].ravel() # a[0,:] occupies a single memory segment, thus c is a reference, not a copy\n",
    "c"
   ]
  },
  {
   "cell_type": "code",
   "execution_count": 761,
   "id": "aa2c9cc5",
   "metadata": {},
   "outputs": [
    {
     "data": {
      "text/plain": [
       "array([[ 1, -2],\n",
       "       [ 3,  4]])"
      ]
     },
     "execution_count": 761,
     "metadata": {},
     "output_type": "execute_result"
    }
   ],
   "source": [
    "b[0] = -1\n",
    "c[1] = -2\n",
    "a\n"
   ]
  },
  {
   "cell_type": "code",
   "execution_count": 762,
   "id": "331f1526",
   "metadata": {},
   "outputs": [
    {
     "data": {
      "text/plain": [
       "array([ 1, -2,  3,  4])"
      ]
     },
     "execution_count": 762,
     "metadata": {},
     "output_type": "execute_result"
    }
   ],
   "source": [
    "ravel(a) # also exists"
   ]
  },
  {
   "cell_type": "markdown",
   "id": "969b06cf",
   "metadata": {},
   "source": [
    "# 161. real()"
   ]
  },
  {
   "cell_type": "code",
   "execution_count": 763,
   "id": "914a48b8",
   "metadata": {},
   "outputs": [
    {
     "data": {
      "text/plain": [
       "array([1., 3., 5.])"
      ]
     },
     "execution_count": 763,
     "metadata": {},
     "output_type": "execute_result"
    }
   ],
   "source": [
    "from numpy import *\n",
    "a = array([1+2j,3+4j,5+6j])\n",
    "a.real\n"
   ]
  },
  {
   "cell_type": "code",
   "execution_count": 764,
   "id": "dfb308ba",
   "metadata": {},
   "outputs": [
    {
     "data": {
      "text/plain": [
       "array([9.+2.j, 9.+4.j, 9.+6.j])"
      ]
     },
     "execution_count": 764,
     "metadata": {},
     "output_type": "execute_result"
    }
   ],
   "source": [
    "a.real = 9\n",
    "a"
   ]
  },
  {
   "cell_type": "code",
   "execution_count": 765,
   "id": "f4a387e7",
   "metadata": {},
   "outputs": [
    {
     "data": {
      "text/plain": [
       "array([9.+2.j, 8.+4.j, 7.+6.j])"
      ]
     },
     "execution_count": 765,
     "metadata": {},
     "output_type": "execute_result"
    }
   ],
   "source": [
    "a.real = array([9,8,7])\n",
    "a"
   ]
  },
  {
   "cell_type": "markdown",
   "id": "fb5bda93",
   "metadata": {},
   "source": [
    "# 162. recarray()"
   ]
  },
  {
   "cell_type": "code",
   "execution_count": 766,
   "id": "9df78ace",
   "metadata": {},
   "outputs": [
    {
     "data": {
      "text/plain": [
       "array([8, 4])"
      ]
     },
     "execution_count": 766,
     "metadata": {},
     "output_type": "execute_result"
    }
   ],
   "source": [
    "from numpy import *\n",
    "num=2\n",
    "a = recarray(num, formats='i4,f8,f8', names='id,x,y')\n",
    "a['id']= [8,4]\n",
    "a['id']"
   ]
  },
  {
   "cell_type": "code",
   "execution_count": 767,
   "id": "317d35fa",
   "metadata": {},
   "outputs": [
    {
     "data": {
      "text/plain": [
       "array([35, 26])"
      ]
     },
     "execution_count": 767,
     "metadata": {},
     "output_type": "execute_result"
    }
   ],
   "source": [
    "a= rec.fromrecords([(35,1.4,5.6),(26,2.3,4.5)], names='id,x,y')  # fromrecords is in the numpy.rec submodule\n",
    "a['id']"
   ]
  },
  {
   "cell_type": "markdown",
   "id": "348a1c40",
   "metadata": {},
   "source": [
    "# 163. reduce()"
   ]
  },
  {
   "cell_type": "code",
   "execution_count": 768,
   "id": "abee683c",
   "metadata": {},
   "outputs": [
    {
     "data": {
      "text/plain": [
       "10"
      ]
     },
     "execution_count": 768,
     "metadata": {},
     "output_type": "execute_result"
    }
   ],
   "source": [
    "add.reduce(array([1,2,3,4]))"
   ]
  },
  {
   "cell_type": "code",
   "execution_count": 769,
   "id": "8aac350a",
   "metadata": {},
   "outputs": [
    {
     "data": {
      "text/plain": [
       "24"
      ]
     },
     "execution_count": 769,
     "metadata": {},
     "output_type": "execute_result"
    }
   ],
   "source": [
    "multiply.reduce(array([1,2,3,4]))"
   ]
  },
  {
   "cell_type": "code",
   "execution_count": 770,
   "id": "91f17364",
   "metadata": {},
   "outputs": [
    {
     "data": {
      "text/plain": [
       "array([ 5,  7, 12])"
      ]
     },
     "execution_count": 770,
     "metadata": {},
     "output_type": "execute_result"
    }
   ],
   "source": [
    "add.reduce(array([[1,2,3],[4,5,9]]), axis=0)"
   ]
  },
  {
   "cell_type": "code",
   "execution_count": 771,
   "id": "32c9d1ed",
   "metadata": {},
   "outputs": [
    {
     "data": {
      "text/plain": [
       "array([18, 17])"
      ]
     },
     "execution_count": 771,
     "metadata": {},
     "output_type": "execute_result"
    }
   ],
   "source": [
    "add.reduce(array([[1,9,8],[10,5,2]]), axis=1)"
   ]
  },
  {
   "cell_type": "markdown",
   "id": "89aee1dd",
   "metadata": {},
   "source": [
    "# 164. repeat()"
   ]
  },
  {
   "cell_type": "code",
   "execution_count": 772,
   "id": "864c9dc5",
   "metadata": {},
   "outputs": [
    {
     "data": {
      "text/plain": [
       "array([7., 7., 7., 7.])"
      ]
     },
     "execution_count": 772,
     "metadata": {},
     "output_type": "execute_result"
    }
   ],
   "source": [
    "repeat(7.,4)"
   ]
  },
  {
   "cell_type": "code",
   "execution_count": 773,
   "id": "a35571ae",
   "metadata": {},
   "outputs": [],
   "source": [
    "a = array([10,20])"
   ]
  },
  {
   "cell_type": "code",
   "execution_count": 774,
   "id": "287d2bdf",
   "metadata": {},
   "outputs": [
    {
     "data": {
      "text/plain": [
       "array([10, 10, 10, 20, 20])"
      ]
     },
     "execution_count": 774,
     "metadata": {},
     "output_type": "execute_result"
    }
   ],
   "source": [
    "a.repeat([3,2])"
   ]
  },
  {
   "cell_type": "code",
   "execution_count": 775,
   "id": "f49ea404",
   "metadata": {},
   "outputs": [
    {
     "data": {
      "text/plain": [
       "array([10, 10, 10, 20, 20])"
      ]
     },
     "execution_count": 775,
     "metadata": {},
     "output_type": "execute_result"
    }
   ],
   "source": [
    "repeat(a,[3,2])"
   ]
  },
  {
   "cell_type": "code",
   "execution_count": 776,
   "id": "5e7b1727",
   "metadata": {},
   "outputs": [],
   "source": [
    "a = array([[10,30],[2,3]])"
   ]
  },
  {
   "cell_type": "code",
   "execution_count": 777,
   "id": "757a7221",
   "metadata": {},
   "outputs": [
    {
     "data": {
      "text/plain": [
       "array([10, 10, 30, 30,  2,  3,  3,  3])"
      ]
     },
     "execution_count": 777,
     "metadata": {},
     "output_type": "execute_result"
    }
   ],
   "source": [
    "a.repeat([2,2,1,3])"
   ]
  },
  {
   "cell_type": "code",
   "execution_count": 778,
   "id": "1d0f39cf",
   "metadata": {},
   "outputs": [
    {
     "data": {
      "text/plain": [
       "array([[10, 30],\n",
       "       [10, 30],\n",
       "       [ 2,  3],\n",
       "       [ 2,  3],\n",
       "       [ 2,  3],\n",
       "       [ 2,  3]])"
      ]
     },
     "execution_count": 778,
     "metadata": {},
     "output_type": "execute_result"
    }
   ],
   "source": [
    "a.repeat([2,4], axis=0)"
   ]
  },
  {
   "cell_type": "code",
   "execution_count": 779,
   "id": "cd023cd1",
   "metadata": {},
   "outputs": [
    {
     "data": {
      "text/plain": [
       "array([[10, 10, 30],\n",
       "       [ 2,  2,  3]])"
      ]
     },
     "execution_count": 779,
     "metadata": {},
     "output_type": "execute_result"
    }
   ],
   "source": [
    "a.repeat([2,1],axis=1)"
   ]
  },
  {
   "cell_type": "markdown",
   "id": "55b60c4a",
   "metadata": {},
   "source": [
    "# 165. reshape()"
   ]
  },
  {
   "cell_type": "code",
   "execution_count": 780,
   "id": "9de1bd6c",
   "metadata": {},
   "outputs": [],
   "source": [
    "x = arange(12)"
   ]
  },
  {
   "cell_type": "code",
   "execution_count": 781,
   "id": "37f161b7",
   "metadata": {},
   "outputs": [
    {
     "data": {
      "text/plain": [
       "array([[ 0,  1,  2,  3],\n",
       "       [ 4,  5,  6,  7],\n",
       "       [ 8,  9, 10, 11]])"
      ]
     },
     "execution_count": 781,
     "metadata": {},
     "output_type": "execute_result"
    }
   ],
   "source": [
    "x.reshape(3,4)"
   ]
  },
  {
   "cell_type": "code",
   "execution_count": 782,
   "id": "eb87ca2b",
   "metadata": {},
   "outputs": [
    {
     "data": {
      "text/plain": [
       "array([[[ 0,  1],\n",
       "        [ 2,  3]],\n",
       "\n",
       "       [[ 4,  5],\n",
       "        [ 6,  7]],\n",
       "\n",
       "       [[ 8,  9],\n",
       "        [10, 11]]])"
      ]
     },
     "execution_count": 782,
     "metadata": {},
     "output_type": "execute_result"
    }
   ],
   "source": [
    "x.reshape(3,2,2)"
   ]
  },
  {
   "cell_type": "code",
   "execution_count": 783,
   "id": "b8e37467",
   "metadata": {},
   "outputs": [
    {
     "data": {
      "text/plain": [
       "array([[ 0,  1,  2,  3,  4,  5],\n",
       "       [ 6,  7,  8,  9, 10, 11]])"
      ]
     },
     "execution_count": 783,
     "metadata": {},
     "output_type": "execute_result"
    }
   ],
   "source": [
    "x.reshape(2,-2)"
   ]
  },
  {
   "cell_type": "markdown",
   "id": "0a926117",
   "metadata": {},
   "source": [
    "# 166. resize()"
   ]
  },
  {
   "cell_type": "code",
   "execution_count": 784,
   "id": "52a0f706",
   "metadata": {},
   "outputs": [],
   "source": [
    "a = array([1,2,3,4])"
   ]
  },
  {
   "cell_type": "code",
   "execution_count": 785,
   "id": "7e7ebd82",
   "metadata": {},
   "outputs": [
    {
     "data": {
      "text/plain": [
       "array([1, 2, 3, 4])"
      ]
     },
     "execution_count": 785,
     "metadata": {},
     "output_type": "execute_result"
    }
   ],
   "source": [
    "a"
   ]
  },
  {
   "cell_type": "code",
   "execution_count": 786,
   "id": "44e8700c",
   "metadata": {},
   "outputs": [],
   "source": [
    "a.resize(2,2)"
   ]
  },
  {
   "cell_type": "code",
   "execution_count": 787,
   "id": "a5543ccd",
   "metadata": {},
   "outputs": [
    {
     "name": "stdout",
     "output_type": "stream",
     "text": [
      "[[1 2]\n",
      " [3 4]]\n"
     ]
    }
   ],
   "source": [
    "print(a)"
   ]
  },
  {
   "cell_type": "code",
   "execution_count": 788,
   "id": "eb4875e7",
   "metadata": {},
   "outputs": [
    {
     "data": {
      "text/plain": [
       "array([[1, 2, 3, 4],\n",
       "       [1, 2, 3, 4]])"
      ]
     },
     "execution_count": 788,
     "metadata": {},
     "output_type": "execute_result"
    }
   ],
   "source": [
    "import numpy as np\n",
    "np.resize(a,(2,4))"
   ]
  },
  {
   "cell_type": "code",
   "execution_count": 789,
   "id": "5847e629",
   "metadata": {},
   "outputs": [
    {
     "data": {
      "text/plain": [
       "array([[1, 2],\n",
       "       [3, 4],\n",
       "       [1, 2]])"
      ]
     },
     "execution_count": 789,
     "metadata": {},
     "output_type": "execute_result"
    }
   ],
   "source": [
    "np.resize(a,(3,2))"
   ]
  },
  {
   "cell_type": "markdown",
   "id": "8d333222",
   "metadata": {},
   "source": [
    "# 167. rollaxis()"
   ]
  },
  {
   "cell_type": "code",
   "execution_count": 790,
   "id": "c0b371d6",
   "metadata": {},
   "outputs": [],
   "source": [
    "a=arange(3*2*2).reshape(3,2,2)"
   ]
  },
  {
   "cell_type": "code",
   "execution_count": 791,
   "id": "2e9b971b",
   "metadata": {},
   "outputs": [
    {
     "data": {
      "text/plain": [
       "array([[[ 0,  1],\n",
       "        [ 2,  3]],\n",
       "\n",
       "       [[ 4,  5],\n",
       "        [ 6,  7]],\n",
       "\n",
       "       [[ 8,  9],\n",
       "        [10, 11]]])"
      ]
     },
     "execution_count": 791,
     "metadata": {},
     "output_type": "execute_result"
    }
   ],
   "source": [
    "a"
   ]
  },
  {
   "cell_type": "code",
   "execution_count": 792,
   "id": "5a795966",
   "metadata": {},
   "outputs": [
    {
     "data": {
      "text/plain": [
       "(3, 2, 2)"
      ]
     },
     "execution_count": 792,
     "metadata": {},
     "output_type": "execute_result"
    }
   ],
   "source": [
    "a.shape"
   ]
  },
  {
   "cell_type": "code",
   "execution_count": 793,
   "id": "dd9f4e6c",
   "metadata": {},
   "outputs": [],
   "source": [
    "b = rollaxis(a,1,0)"
   ]
  },
  {
   "cell_type": "code",
   "execution_count": 794,
   "id": "3b6ebba2",
   "metadata": {},
   "outputs": [
    {
     "data": {
      "text/plain": [
       "(2, 3, 2)"
      ]
     },
     "execution_count": 794,
     "metadata": {},
     "output_type": "execute_result"
    }
   ],
   "source": [
    "b.shape"
   ]
  },
  {
   "cell_type": "code",
   "execution_count": 795,
   "id": "c7522fd8",
   "metadata": {},
   "outputs": [],
   "source": [
    "c = rollaxis(a,0,1)"
   ]
  },
  {
   "cell_type": "code",
   "execution_count": 796,
   "id": "64fe160a",
   "metadata": {},
   "outputs": [
    {
     "data": {
      "text/plain": [
       "(3, 2, 2)"
      ]
     },
     "execution_count": 796,
     "metadata": {},
     "output_type": "execute_result"
    }
   ],
   "source": [
    "c.shape"
   ]
  },
  {
   "cell_type": "markdown",
   "id": "1c52c981",
   "metadata": {},
   "source": [
    "# 168. round()"
   ]
  },
  {
   "cell_type": "markdown",
   "id": "849582c6",
   "metadata": {},
   "source": [
    "round(decimals=0, out=None) -> reference to rounded values."
   ]
  },
  {
   "cell_type": "code",
   "execution_count": 797,
   "id": "f2003011",
   "metadata": {},
   "outputs": [
    {
     "data": {
      "text/plain": [
       "array([ 2., -4.])"
      ]
     },
     "execution_count": 797,
     "metadata": {},
     "output_type": "execute_result"
    }
   ],
   "source": [
    "array([1.78,-4.2899]).round()"
   ]
  },
  {
   "cell_type": "code",
   "execution_count": 798,
   "id": "a430fd12",
   "metadata": {},
   "outputs": [
    {
     "data": {
      "text/plain": [
       "array([ 1.57, -3.89])"
      ]
     },
     "execution_count": 798,
     "metadata": {},
     "output_type": "execute_result"
    }
   ],
   "source": [
    "array([1.567,-3.8900]).round(decimals=2)"
   ]
  },
  {
   "cell_type": "markdown",
   "id": "a30b630a",
   "metadata": {},
   "source": [
    "# 169. rot90()"
   ]
  },
  {
   "cell_type": "code",
   "execution_count": 799,
   "id": "72e74f36",
   "metadata": {},
   "outputs": [],
   "source": [
    "a = arange(16).reshape(4,4)"
   ]
  },
  {
   "cell_type": "code",
   "execution_count": 800,
   "id": "7ffd7fae",
   "metadata": {},
   "outputs": [
    {
     "data": {
      "text/plain": [
       "array([[ 0,  1,  2,  3],\n",
       "       [ 4,  5,  6,  7],\n",
       "       [ 8,  9, 10, 11],\n",
       "       [12, 13, 14, 15]])"
      ]
     },
     "execution_count": 800,
     "metadata": {},
     "output_type": "execute_result"
    }
   ],
   "source": [
    "a"
   ]
  },
  {
   "cell_type": "code",
   "execution_count": 801,
   "id": "f21bd674",
   "metadata": {},
   "outputs": [
    {
     "data": {
      "text/plain": [
       "array([[ 3,  7, 11, 15],\n",
       "       [ 2,  6, 10, 14],\n",
       "       [ 1,  5,  9, 13],\n",
       "       [ 0,  4,  8, 12]])"
      ]
     },
     "execution_count": 801,
     "metadata": {},
     "output_type": "execute_result"
    }
   ],
   "source": [
    "rot90(a)"
   ]
  },
  {
   "cell_type": "markdown",
   "id": "1110e596",
   "metadata": {},
   "source": [
    "# 170. s_[]"
   ]
  },
  {
   "cell_type": "code",
   "execution_count": 802,
   "id": "a47a7c12",
   "metadata": {},
   "outputs": [
    {
     "data": {
      "text/plain": [
       "slice(1, 5, None)"
      ]
     },
     "execution_count": 802,
     "metadata": {},
     "output_type": "execute_result"
    }
   ],
   "source": [
    "s_[1:5]"
   ]
  },
  {
   "cell_type": "code",
   "execution_count": 803,
   "id": "ed06d42d",
   "metadata": {},
   "outputs": [
    {
     "name": "stdout",
     "output_type": "stream",
     "text": [
      "slice(1, 5, None)\n"
     ]
    }
   ],
   "source": [
    "print(s_[1:5])"
   ]
  },
  {
   "cell_type": "markdown",
   "id": "7f2a528e",
   "metadata": {},
   "source": [
    "# 171. sample()"
   ]
  },
  {
   "cell_type": "markdown",
   "id": "c85bdf37",
   "metadata": {},
   "source": [
    "Synonym for random_sample"
   ]
  },
  {
   "cell_type": "markdown",
   "id": "5be36b27",
   "metadata": {},
   "source": [
    "# 172. savetxt()"
   ]
  },
  {
   "cell_type": "code",
   "execution_count": 804,
   "id": "99e9ea7a",
   "metadata": {},
   "outputs": [],
   "source": [
    "from numpy import *\n",
    "data = array([[1, 2, 3],\n",
    "                 [4, 5, 6],\n",
    "                 [7, 8, 9]])"
   ]
  },
  {
   "cell_type": "code",
   "execution_count": 805,
   "id": "53882ab4",
   "metadata": {},
   "outputs": [],
   "source": [
    "x = array([1,2,3])\n",
    "y = array([7,8,9])"
   ]
  },
  {
   "cell_type": "code",
   "execution_count": 806,
   "id": "d3ef1882",
   "metadata": {},
   "outputs": [],
   "source": [
    "from numpy import *\n",
    "savetxt(\"myfile.txt\", data) # data is 2D array\n",
    "savetxt(\"myfile.txt\", x) # x is 1D array. 1 column in file.\n",
    "savetxt(\"myfile.txt\", (x,y)) # x,y are 1D arrays. 2 rows in file.\n",
    "savetxt(\"myfile.txt\", transpose((x,y))) # x,y are 1D arrays. 2 columns in file.\n",
    "savetxt(\"myfile.txt\", transpose((x,y)), fmt='%6.3f') # use new format instead of '%.18e'\n",
    "savetxt(\"myfile.txt\", data, delimiter = ';') # use ';' to separate columns instead of space"
   ]
  },
  {
   "cell_type": "markdown",
   "id": "ddcea06e",
   "metadata": {},
   "source": [
    "# 173. searchsorted()"
   ]
  },
  {
   "cell_type": "code",
   "execution_count": 807,
   "id": "15c0098f",
   "metadata": {},
   "outputs": [],
   "source": [
    "a = array([1,2,3,4,4])"
   ]
  },
  {
   "cell_type": "code",
   "execution_count": 808,
   "id": "00563c44",
   "metadata": {},
   "outputs": [
    {
     "data": {
      "text/plain": [
       "1"
      ]
     },
     "execution_count": 808,
     "metadata": {},
     "output_type": "execute_result"
    }
   ],
   "source": [
    "a.searchsorted(2)"
   ]
  },
  {
   "cell_type": "code",
   "execution_count": 809,
   "id": "7e8de52f",
   "metadata": {},
   "outputs": [
    {
     "data": {
      "text/plain": [
       "3"
      ]
     },
     "execution_count": 809,
     "metadata": {},
     "output_type": "execute_result"
    }
   ],
   "source": [
    "a.searchsorted(4)"
   ]
  },
  {
   "cell_type": "markdown",
   "id": "3bafcfbb",
   "metadata": {},
   "source": [
    "# 174. seed()"
   ]
  },
  {
   "cell_type": "code",
   "execution_count": 810,
   "id": "d5235ada",
   "metadata": {},
   "outputs": [],
   "source": [
    "from numpy import *\n",
    "seed([1]) # seed the pseudo-random number generator"
   ]
  },
  {
   "cell_type": "code",
   "execution_count": 811,
   "id": "509f1ba2",
   "metadata": {},
   "outputs": [
    {
     "data": {
      "text/plain": [
       "array([0.13436424, 0.84743374, 0.76377462])"
      ]
     },
     "execution_count": 811,
     "metadata": {},
     "output_type": "execute_result"
    }
   ],
   "source": [
    "rand(3)"
   ]
  },
  {
   "cell_type": "markdown",
   "id": "0e838b76",
   "metadata": {},
   "source": [
    "# 175. select()"
   ]
  },
  {
   "cell_type": "code",
   "execution_count": 812,
   "id": "f88f33fb",
   "metadata": {},
   "outputs": [
    {
     "data": {
      "text/plain": [
       "array([  5.2,  -2.1,   1.2,   0. ,   4.2,  -1.1,   3.2, 100. ])"
      ]
     },
     "execution_count": 812,
     "metadata": {},
     "output_type": "execute_result"
    }
   ],
   "source": [
    "from numpy import *\n",
    "x = array([5., -2., 1., 0., 4., -1., 3., 10.])\n",
    "select([x < 0, x == 0, x <= 5], [x-0.1, 0.0, x+0.2], default = 100.)"
   ]
  },
  {
   "cell_type": "code",
   "execution_count": 813,
   "id": "429d95be",
   "metadata": {},
   "outputs": [
    {
     "data": {
      "text/plain": [
       "array([  5.2,  -2.1,   1.2,   0. ,   4.2,  -1.1,   3.2, 100. ])"
      ]
     },
     "execution_count": 813,
     "metadata": {},
     "output_type": "execute_result"
    }
   ],
   "source": [
    "#This is how it works\n",
    "\n",
    "result = zeros_like(x)\n",
    "for n in range(len(x)):\n",
    "    if x[n] < 0: result[n] = x[n]-0.1 # The order of the conditions matters. The first one that\n",
    "    elif x[n] == 0: result[n] = 0.0 # matches, will be 'selected'.\n",
    "    elif x[n] <= 5: result[n] = x[n]+0.2\n",
    "    else: result[n] = 100. # The default is used when none of the conditions match\n",
    "\n",
    "result"
   ]
  },
  {
   "cell_type": "markdown",
   "id": "b8610bfe",
   "metadata": {},
   "source": [
    "# 176. set_printoptions()"
   ]
  },
  {
   "cell_type": "code",
   "execution_count": 814,
   "id": "bd6b1146",
   "metadata": {},
   "outputs": [
    {
     "data": {
      "text/plain": [
       "array([3.14159265e+000, 1.00000000e-200])"
      ]
     },
     "execution_count": 814,
     "metadata": {},
     "output_type": "execute_result"
    }
   ],
   "source": [
    "from numpy import *\n",
    "x = array([pi, 1.e-200])\n",
    "x\n"
   ]
  },
  {
   "cell_type": "code",
   "execution_count": 815,
   "id": "ab8aefae",
   "metadata": {},
   "outputs": [
    {
     "data": {
      "text/plain": [
       "array([3.142, 0.   ])"
      ]
     },
     "execution_count": 815,
     "metadata": {},
     "output_type": "execute_result"
    }
   ],
   "source": [
    "set_printoptions(precision=3, suppress=True) # 3 digits behind decimal point + suppress small values\n",
    "x\n"
   ]
  },
  {
   "cell_type": "code",
   "execution_count": 816,
   "id": "fa8053d6",
   "metadata": {},
   "outputs": [
    {
     "name": "stdout",
     "output_type": "stream",
     "text": [
      "Help on function set_printoptions in module numpy:\n",
      "\n",
      "set_printoptions(precision=None, threshold=None, edgeitems=None, linewidth=None, suppress=None, nanstr=None, infstr=None, formatter=None, sign=None, floatmode=None, *, legacy=None)\n",
      "    Set printing options.\n",
      "    \n",
      "    These options determine the way floating point numbers, arrays and\n",
      "    other NumPy objects are displayed.\n",
      "    \n",
      "    Parameters\n",
      "    ----------\n",
      "    precision : int or None, optional\n",
      "        Number of digits of precision for floating point output (default 8).\n",
      "        May be None if `floatmode` is not `fixed`, to print as many digits as\n",
      "        necessary to uniquely specify the value.\n",
      "    threshold : int, optional\n",
      "        Total number of array elements which trigger summarization\n",
      "        rather than full repr (default 1000).\n",
      "        To always use the full repr without summarization, pass `sys.maxsize`.\n",
      "    edgeitems : int, optional\n",
      "        Number of array items in summary at beginning and end of\n",
      "        each dimension (default 3).\n",
      "    linewidth : int, optional\n",
      "        The number of characters per line for the purpose of inserting\n",
      "        line breaks (default 75).\n",
      "    suppress : bool, optional\n",
      "        If True, always print floating point numbers using fixed point\n",
      "        notation, in which case numbers equal to zero in the current precision\n",
      "        will print as zero.  If False, then scientific notation is used when\n",
      "        absolute value of the smallest number is < 1e-4 or the ratio of the\n",
      "        maximum absolute value to the minimum is > 1e3. The default is False.\n",
      "    nanstr : str, optional\n",
      "        String representation of floating point not-a-number (default nan).\n",
      "    infstr : str, optional\n",
      "        String representation of floating point infinity (default inf).\n",
      "    sign : string, either '-', '+', or ' ', optional\n",
      "        Controls printing of the sign of floating-point types. If '+', always\n",
      "        print the sign of positive values. If ' ', always prints a space\n",
      "        (whitespace character) in the sign position of positive values.  If\n",
      "        '-', omit the sign character of positive values. (default '-')\n",
      "    formatter : dict of callables, optional\n",
      "        If not None, the keys should indicate the type(s) that the respective\n",
      "        formatting function applies to.  Callables should return a string.\n",
      "        Types that are not specified (by their corresponding keys) are handled\n",
      "        by the default formatters.  Individual types for which a formatter\n",
      "        can be set are:\n",
      "    \n",
      "        - 'bool'\n",
      "        - 'int'\n",
      "        - 'timedelta' : a `numpy.timedelta64`\n",
      "        - 'datetime' : a `numpy.datetime64`\n",
      "        - 'float'\n",
      "        - 'longfloat' : 128-bit floats\n",
      "        - 'complexfloat'\n",
      "        - 'longcomplexfloat' : composed of two 128-bit floats\n",
      "        - 'numpystr' : types `numpy.bytes_` and `numpy.str_`\n",
      "        - 'object' : `np.object_` arrays\n",
      "    \n",
      "        Other keys that can be used to set a group of types at once are:\n",
      "    \n",
      "        - 'all' : sets all types\n",
      "        - 'int_kind' : sets 'int'\n",
      "        - 'float_kind' : sets 'float' and 'longfloat'\n",
      "        - 'complex_kind' : sets 'complexfloat' and 'longcomplexfloat'\n",
      "        - 'str_kind' : sets 'numpystr'\n",
      "    floatmode : str, optional\n",
      "        Controls the interpretation of the `precision` option for\n",
      "        floating-point types. Can take the following values\n",
      "        (default maxprec_equal):\n",
      "    \n",
      "        * 'fixed': Always print exactly `precision` fractional digits,\n",
      "                even if this would print more or fewer digits than\n",
      "                necessary to specify the value uniquely.\n",
      "        * 'unique': Print the minimum number of fractional digits necessary\n",
      "                to represent each value uniquely. Different elements may\n",
      "                have a different number of digits. The value of the\n",
      "                `precision` option is ignored.\n",
      "        * 'maxprec': Print at most `precision` fractional digits, but if\n",
      "                an element can be uniquely represented with fewer digits\n",
      "                only print it with that many.\n",
      "        * 'maxprec_equal': Print at most `precision` fractional digits,\n",
      "                but if every element in the array can be uniquely\n",
      "                represented with an equal number of fewer digits, use that\n",
      "                many digits for all elements.\n",
      "    legacy : string or `False`, optional\n",
      "        If set to the string `'1.13'` enables 1.13 legacy printing mode. This\n",
      "        approximates numpy 1.13 print output by including a space in the sign\n",
      "        position of floats and different behavior for 0d arrays. This also\n",
      "        enables 1.21 legacy printing mode (described below).\n",
      "    \n",
      "        If set to the string `'1.21'` enables 1.21 legacy printing mode. This\n",
      "        approximates numpy 1.21 print output of complex structured dtypes\n",
      "        by not inserting spaces after commas that separate fields and after\n",
      "        colons.\n",
      "    \n",
      "        If set to `False`, disables legacy mode.\n",
      "    \n",
      "        Unrecognized strings will be ignored with a warning for forward\n",
      "        compatibility.\n",
      "    \n",
      "        .. versionadded:: 1.14.0\n",
      "        .. versionchanged:: 1.22.0\n",
      "    \n",
      "    See Also\n",
      "    --------\n",
      "    get_printoptions, printoptions, set_string_function, array2string\n",
      "    \n",
      "    Notes\n",
      "    -----\n",
      "    `formatter` is always reset with a call to `set_printoptions`.\n",
      "    \n",
      "    Use `printoptions` as a context manager to set the values temporarily.\n",
      "    \n",
      "    Examples\n",
      "    --------\n",
      "    Floating point precision can be set:\n",
      "    \n",
      "    >>> np.set_printoptions(precision=4)\n",
      "    >>> np.array([1.123456789])\n",
      "    [1.1235]\n",
      "    \n",
      "    Long arrays can be summarised:\n",
      "    \n",
      "    >>> np.set_printoptions(threshold=5)\n",
      "    >>> np.arange(10)\n",
      "    array([0, 1, 2, ..., 7, 8, 9])\n",
      "    \n",
      "    Small results can be suppressed:\n",
      "    \n",
      "    >>> eps = np.finfo(float).eps\n",
      "    >>> x = np.arange(4.)\n",
      "    >>> x**2 - (x + eps)**2\n",
      "    array([-4.9304e-32, -4.4409e-16,  0.0000e+00,  0.0000e+00])\n",
      "    >>> np.set_printoptions(suppress=True)\n",
      "    >>> x**2 - (x + eps)**2\n",
      "    array([-0., -0.,  0.,  0.])\n",
      "    \n",
      "    A custom formatter can be used to display array elements as desired:\n",
      "    \n",
      "    >>> np.set_printoptions(formatter={'all':lambda x: 'int: '+str(-x)})\n",
      "    >>> x = np.arange(3)\n",
      "    >>> x\n",
      "    array([int: 0, int: -1, int: -2])\n",
      "    >>> np.set_printoptions()  # formatter gets reset\n",
      "    >>> x\n",
      "    array([0, 1, 2])\n",
      "    \n",
      "    To put back the default options, you can use:\n",
      "    \n",
      "    >>> np.set_printoptions(edgeitems=3, infstr='inf',\n",
      "    ... linewidth=75, nanstr='nan', precision=8,\n",
      "    ... suppress=False, threshold=1000, formatter=None)\n",
      "    \n",
      "    Also to temporarily override options, use `printoptions` as a context manager:\n",
      "    \n",
      "    >>> with np.printoptions(precision=2, suppress=True, threshold=5):\n",
      "    ...     np.linspace(0, 10, 10)\n",
      "    array([ 0.  ,  1.11,  2.22, ...,  7.78,  8.89, 10.  ])\n",
      "\n"
     ]
    }
   ],
   "source": [
    "help(set_printoptions) # see help() for keywords 'threshold','edgeitems' and 'linewidth'"
   ]
  },
  {
   "cell_type": "markdown",
   "id": "76e3a0cf",
   "metadata": {},
   "source": [
    "# 177. shape()"
   ]
  },
  {
   "cell_type": "code",
   "execution_count": 817,
   "id": "271205ed",
   "metadata": {},
   "outputs": [
    {
     "data": {
      "text/plain": [
       "(12,)"
      ]
     },
     "execution_count": 817,
     "metadata": {},
     "output_type": "execute_result"
    }
   ],
   "source": [
    "from numpy import *\n",
    "x = arange(12)\n",
    "x.shape"
   ]
  },
  {
   "cell_type": "code",
   "execution_count": 818,
   "id": "60987dba",
   "metadata": {},
   "outputs": [
    {
     "data": {
      "text/plain": [
       "array([[ 0,  1,  2,  3],\n",
       "       [ 4,  5,  6,  7],\n",
       "       [ 8,  9, 10, 11]])"
      ]
     },
     "execution_count": 818,
     "metadata": {},
     "output_type": "execute_result"
    }
   ],
   "source": [
    "x.shape = (3,4) # array with 3 rows and 4 columns. 3x4=12. Total number of elements is always the same.\n",
    "x"
   ]
  },
  {
   "cell_type": "code",
   "execution_count": 819,
   "id": "76ff71cc",
   "metadata": {},
   "outputs": [
    {
     "data": {
      "text/plain": [
       "array([[[ 0,  1],\n",
       "        [ 2,  3]],\n",
       "\n",
       "       [[ 4,  5],\n",
       "        [ 6,  7]],\n",
       "\n",
       "       [[ 8,  9],\n",
       "        [10, 11]]])"
      ]
     },
     "execution_count": 819,
     "metadata": {},
     "output_type": "execute_result"
    }
   ],
   "source": [
    "x.shape = (3,2,2) # 3x2x2 array; 3x2x2 = 12. x itself _does_ change, unlike reshape().\n",
    "x"
   ]
  },
  {
   "cell_type": "code",
   "execution_count": 820,
   "id": "4a5dc682",
   "metadata": {},
   "outputs": [
    {
     "data": {
      "text/plain": [
       "array([[ 0,  1,  2,  3,  4,  5],\n",
       "       [ 6,  7,  8,  9, 10, 11]])"
      ]
     },
     "execution_count": 820,
     "metadata": {},
     "output_type": "execute_result"
    }
   ],
   "source": [
    "x.shape = (2,-1) # 'missing' -1 value n is calculated so that 2xn=12, so n=6\n",
    "x"
   ]
  },
  {
   "cell_type": "code",
   "execution_count": 821,
   "id": "85c80dd0",
   "metadata": {},
   "outputs": [
    {
     "data": {
      "text/plain": [
       "array([ 0,  1,  2,  3,  4,  5,  6,  7,  8,  9, 10, 11])"
      ]
     },
     "execution_count": 821,
     "metadata": {},
     "output_type": "execute_result"
    }
   ],
   "source": [
    "x.shape = 12 # x.shape = (1,12) is not the same as x.shape = 12\n",
    "x"
   ]
  },
  {
   "cell_type": "markdown",
   "id": "b7506609",
   "metadata": {},
   "source": [
    "# 178. shuffle()"
   ]
  },
  {
   "cell_type": "code",
   "execution_count": 822,
   "id": "13910f15",
   "metadata": {},
   "outputs": [
    {
     "name": "stdout",
     "output_type": "stream",
     "text": [
      "[ 3 -1 50  1]\n"
     ]
    }
   ],
   "source": [
    "from numpy import *\n",
    "from numpy.random import shuffle\n",
    "x = array([1,50,-1,3])\n",
    "shuffle(x) # shuffle the elements of x\n",
    "print(x)"
   ]
  },
  {
   "cell_type": "code",
   "execution_count": 823,
   "id": "7907965f",
   "metadata": {},
   "outputs": [
    {
     "name": "stdout",
     "output_type": "stream",
     "text": [
      "['z', 'c', 'b', 'a']\n"
     ]
    }
   ],
   "source": [
    "x = ['a','b','c','z']\n",
    "shuffle(x) # works with any sequence\n",
    "print(x)"
   ]
  },
  {
   "cell_type": "markdown",
   "id": "45d8d96d",
   "metadata": {},
   "source": [
    "# 179. slice()"
   ]
  },
  {
   "cell_type": "code",
   "execution_count": 824,
   "id": "86175054",
   "metadata": {},
   "outputs": [
    {
     "data": {
      "text/plain": [
       "array([3, 5, 7])"
      ]
     },
     "execution_count": 824,
     "metadata": {},
     "output_type": "execute_result"
    }
   ],
   "source": [
    "s = slice(3,9,2) # slice objects exist outside numpy\n",
    "from numpy import *\n",
    "a = arange(20)\n",
    "a[s]\n"
   ]
  },
  {
   "cell_type": "code",
   "execution_count": 825,
   "id": "4cd51f25",
   "metadata": {},
   "outputs": [
    {
     "data": {
      "text/plain": [
       "array([3, 5, 7])"
      ]
     },
     "execution_count": 825,
     "metadata": {},
     "output_type": "execute_result"
    }
   ],
   "source": [
    "a[3:9:2] # same thing"
   ]
  },
  {
   "cell_type": "markdown",
   "id": "fa0d5482",
   "metadata": {},
   "source": [
    "# 180. solve()"
   ]
  },
  {
   "cell_type": "code",
   "execution_count": 826,
   "id": "75249739",
   "metadata": {},
   "outputs": [
    {
     "name": "stdout",
     "output_type": "stream",
     "text": [
      "[-3.286  9.429  1.286]\n"
     ]
    }
   ],
   "source": [
    "from numpy import *\n",
    "from numpy.linalg import solve\n",
    "\n",
    "# The system of equations we want to solve for (x0,x1,x2):\n",
    "# 3 * x0 + 1 * x1 + 5 * x2 = 6\n",
    "# 1 * x0 + 8 * x2 = 7\n",
    "# 2 * x0 + 1 * x1 + 4 * x2 = 8\n",
    "\n",
    "a = array([[3,1,5],[1,0,8],[2,1,4]])\n",
    "b = array([6,7,8])\n",
    "x = solve(a,b)\n",
    "print(x) # This is our solution\n"
   ]
  },
  {
   "cell_type": "code",
   "execution_count": 827,
   "id": "485e9f49",
   "metadata": {},
   "outputs": [
    {
     "data": {
      "text/plain": [
       "array([6., 7., 8.])"
      ]
     },
     "execution_count": 827,
     "metadata": {},
     "output_type": "execute_result"
    }
   ],
   "source": [
    "dot(a,x) # Just checking if we indeed obtain the righthand side"
   ]
  },
  {
   "cell_type": "markdown",
   "id": "16f6045a",
   "metadata": {},
   "source": [
    "# 181. sometrue()"
   ]
  },
  {
   "cell_type": "code",
   "execution_count": 828,
   "id": "64f1e3ac",
   "metadata": {},
   "outputs": [
    {
     "data": {
      "text/plain": [
       "True"
      ]
     },
     "execution_count": 828,
     "metadata": {},
     "output_type": "execute_result"
    }
   ],
   "source": [
    "from numpy import *\n",
    "b = array([True, False, True, True])\n",
    "sometrue(b)"
   ]
  },
  {
   "cell_type": "code",
   "execution_count": 829,
   "id": "e6686e33",
   "metadata": {},
   "outputs": [
    {
     "data": {
      "text/plain": [
       "True"
      ]
     },
     "execution_count": 829,
     "metadata": {},
     "output_type": "execute_result"
    }
   ],
   "source": [
    "a = array([1, 5, 2, 7])\n",
    "sometrue(a >= 5)"
   ]
  },
  {
   "cell_type": "markdown",
   "id": "40ec77da",
   "metadata": {},
   "source": [
    "# 182. sort()"
   ]
  },
  {
   "cell_type": "code",
   "execution_count": 830,
   "id": "14d21d80",
   "metadata": {},
   "outputs": [
    {
     "data": {
      "text/plain": [
       "array([0, 1, 2, 4, 8])"
      ]
     },
     "execution_count": 830,
     "metadata": {},
     "output_type": "execute_result"
    }
   ],
   "source": [
    "from numpy import *\n",
    "a = array([2,0,8,4,1])\n",
    "a.sort() # in-place sorting with quicksort (default)\n",
    "a"
   ]
  },
  {
   "cell_type": "code",
   "execution_count": 831,
   "id": "99875bea",
   "metadata": {},
   "outputs": [
    {
     "data": {
      "text/plain": [
       "array([[2, 0, 1],\n",
       "       [8, 4, 9]])"
      ]
     },
     "execution_count": 831,
     "metadata": {},
     "output_type": "execute_result"
    }
   ],
   "source": [
    "a.sort(kind='mergesort') # algorithm options are 'quicksort', 'mergesort' and 'heapsort'\n",
    "a = array([[8,4,1],[2,0,9]])\n",
    "a.sort(axis=0)\n",
    "a"
   ]
  },
  {
   "cell_type": "code",
   "execution_count": 832,
   "id": "d3029009",
   "metadata": {},
   "outputs": [
    {
     "data": {
      "text/plain": [
       "array([[1, 4, 8],\n",
       "       [0, 2, 9]])"
      ]
     },
     "execution_count": 832,
     "metadata": {},
     "output_type": "execute_result"
    }
   ],
   "source": [
    "a = array([[8,4,1],[2,0,9]])\n",
    "a.sort(axis=1) # default axis = -1\n",
    "a\n"
   ]
  },
  {
   "cell_type": "code",
   "execution_count": 833,
   "id": "b584a603",
   "metadata": {},
   "outputs": [
    {
     "data": {
      "text/plain": [
       "array([[1, 4, 8],\n",
       "       [0, 2, 9]])"
      ]
     },
     "execution_count": 833,
     "metadata": {},
     "output_type": "execute_result"
    }
   ],
   "source": [
    "sort(a) # there is a functional form"
   ]
  },
  {
   "cell_type": "markdown",
   "id": "36d9a79e",
   "metadata": {},
   "source": [
    "# 183. split()"
   ]
  },
  {
   "cell_type": "code",
   "execution_count": 834,
   "id": "2f842e68",
   "metadata": {},
   "outputs": [
    {
     "data": {
      "text/plain": [
       "[array([[1, 2, 3, 4]]), array([[5, 6, 7, 8]])]"
      ]
     },
     "execution_count": 834,
     "metadata": {},
     "output_type": "execute_result"
    }
   ],
   "source": [
    "from numpy import *\n",
    "a = array([[1,2,3,4],[5,6,7,8]])\n",
    "split(a,2,axis=0) # split a in 2 parts. row-wise"
   ]
  },
  {
   "cell_type": "code",
   "execution_count": 835,
   "id": "1bd224e0",
   "metadata": {},
   "outputs": [
    {
     "data": {
      "text/plain": [
       "[array([[1],\n",
       "        [5]]),\n",
       " array([[2],\n",
       "        [6]]),\n",
       " array([[3],\n",
       "        [7]]),\n",
       " array([[4],\n",
       "        [8]])]"
      ]
     },
     "execution_count": 835,
     "metadata": {},
     "output_type": "execute_result"
    }
   ],
   "source": [
    "split(a,4,axis=1) # split a in 4 parts, column-wise"
   ]
  },
  {
   "cell_type": "code",
   "execution_count": 836,
   "id": "599e1d9e",
   "metadata": {},
   "outputs": [
    {
     "data": {
      "text/plain": [
       "[array([[1, 2],\n",
       "        [5, 6]]),\n",
       " array([[3, 4],\n",
       "        [7, 8]])]"
      ]
     },
     "execution_count": 836,
     "metadata": {},
     "output_type": "execute_result"
    }
   ],
   "source": [
    "split(a,2,axis=1) # impossible to split in 3 equal parts -> error (SEE: array_split)"
   ]
  },
  {
   "cell_type": "code",
   "execution_count": 837,
   "id": "ddd2de22",
   "metadata": {},
   "outputs": [
    {
     "data": {
      "text/plain": [
       "[array([[1, 2],\n",
       "        [5, 6]]),\n",
       " array([[3],\n",
       "        [7]]),\n",
       " array([[4],\n",
       "        [8]])]"
      ]
     },
     "execution_count": 837,
     "metadata": {},
     "output_type": "execute_result"
    }
   ],
   "source": [
    "split(a,[2,3],axis=1) # make a split before the 2nd and the 3rd column"
   ]
  },
  {
   "cell_type": "markdown",
   "id": "98f76451",
   "metadata": {},
   "source": [
    "# 184. squeeze()"
   ]
  },
  {
   "cell_type": "code",
   "execution_count": 838,
   "id": "bace5d07",
   "metadata": {},
   "outputs": [
    {
     "data": {
      "text/plain": [
       "array([[[[[[0],\n",
       "           [1],\n",
       "           [2]]]],\n",
       "\n",
       "\n",
       "\n",
       "        [[[[3],\n",
       "           [4],\n",
       "           [5]]]]]])"
      ]
     },
     "execution_count": 838,
     "metadata": {},
     "output_type": "execute_result"
    }
   ],
   "source": [
    "from numpy import *\n",
    "a = arange(6)\n",
    "a = a.reshape(1,2,1,1,3,1)\n",
    "a"
   ]
  },
  {
   "cell_type": "code",
   "execution_count": 839,
   "id": "f5c8f594",
   "metadata": {},
   "outputs": [
    {
     "data": {
      "text/plain": [
       "array([[0, 1, 2],\n",
       "       [3, 4, 5]])"
      ]
     },
     "execution_count": 839,
     "metadata": {},
     "output_type": "execute_result"
    }
   ],
   "source": [
    "a.squeeze() # result has shape 2x3, all dimensions with length 1 are removed\n"
   ]
  },
  {
   "cell_type": "code",
   "execution_count": 840,
   "id": "0971ae28",
   "metadata": {},
   "outputs": [
    {
     "data": {
      "text/plain": [
       "array([[0, 1, 2],\n",
       "       [3, 4, 5]])"
      ]
     },
     "execution_count": 840,
     "metadata": {},
     "output_type": "execute_result"
    }
   ],
   "source": [
    "squeeze(a) # also exists"
   ]
  },
  {
   "cell_type": "markdown",
   "id": "e55a17e3",
   "metadata": {},
   "source": [
    "# 185. std()"
   ]
  },
  {
   "cell_type": "code",
   "execution_count": 841,
   "id": "bb389d4a",
   "metadata": {},
   "outputs": [
    {
     "data": {
      "text/plain": [
       "2.6246692913372702"
      ]
     },
     "execution_count": 841,
     "metadata": {},
     "output_type": "execute_result"
    }
   ],
   "source": [
    "from numpy import *\n",
    "a = array([1.,2,7])\n",
    "a.std() # normalized by N (not N-1)\n"
   ]
  },
  {
   "cell_type": "code",
   "execution_count": 842,
   "id": "8095b15c",
   "metadata": {},
   "outputs": [
    {
     "data": {
      "text/plain": [
       "2.793842435706702"
      ]
     },
     "execution_count": 842,
     "metadata": {},
     "output_type": "execute_result"
    }
   ],
   "source": [
    "a = array([[1.,2,7],[4,9,6]])\n",
    "a.std()"
   ]
  },
  {
   "cell_type": "code",
   "execution_count": 843,
   "id": "49c348fb",
   "metadata": {},
   "outputs": [
    {
     "data": {
      "text/plain": [
       "array([1.5, 3.5, 0.5])"
      ]
     },
     "execution_count": 843,
     "metadata": {},
     "output_type": "execute_result"
    }
   ],
   "source": [
    "a.std(axis=0) # standard deviation of each of the 3 columns\n"
   ]
  },
  {
   "cell_type": "code",
   "execution_count": 844,
   "id": "bb9fc5f9",
   "metadata": {},
   "outputs": [
    {
     "data": {
      "text/plain": [
       "array([2.625, 2.055])"
      ]
     },
     "execution_count": 844,
     "metadata": {},
     "output_type": "execute_result"
    }
   ],
   "source": [
    "a.std(axis=1) # standard deviation of each of the 2 columns"
   ]
  },
  {
   "cell_type": "markdown",
   "id": "63128d07",
   "metadata": {},
   "source": [
    "# 186. standard_normal()"
   ]
  },
  {
   "cell_type": "code",
   "execution_count": 845,
   "id": "94efd746",
   "metadata": {},
   "outputs": [
    {
     "data": {
      "text/plain": [
       "array([[-1.26 , -0.523,  0.978],\n",
       "       [-0.03 ,  1.516, -1.554]])"
      ]
     },
     "execution_count": 845,
     "metadata": {},
     "output_type": "execute_result"
    }
   ],
   "source": [
    "standard_normal((2,3))"
   ]
  },
  {
   "cell_type": "markdown",
   "id": "eae961c1",
   "metadata": {},
   "source": [
    "# 187. sum()"
   ]
  },
  {
   "cell_type": "code",
   "execution_count": 846,
   "id": "85b3ce9e",
   "metadata": {},
   "outputs": [
    {
     "data": {
      "text/plain": [
       "6"
      ]
     },
     "execution_count": 846,
     "metadata": {},
     "output_type": "execute_result"
    }
   ],
   "source": [
    "from numpy import *\n",
    "a = array([1,2,3])\n",
    "a.sum()"
   ]
  },
  {
   "cell_type": "code",
   "execution_count": 847,
   "id": "4a410f6e",
   "metadata": {},
   "outputs": [
    {
     "data": {
      "text/plain": [
       "21"
      ]
     },
     "execution_count": 847,
     "metadata": {},
     "output_type": "execute_result"
    }
   ],
   "source": [
    "sum(a) # also exists\n",
    "a = array([[1,2,3],[4,5,6]])\n",
    "a.sum()\n"
   ]
  },
  {
   "cell_type": "code",
   "execution_count": 848,
   "id": "8b975532",
   "metadata": {},
   "outputs": [
    {
     "data": {
      "text/plain": [
       "21.0"
      ]
     },
     "execution_count": 848,
     "metadata": {},
     "output_type": "execute_result"
    }
   ],
   "source": [
    "a.sum(dtype=float) # specify type of output"
   ]
  },
  {
   "cell_type": "code",
   "execution_count": 849,
   "id": "cd3ebb33",
   "metadata": {},
   "outputs": [
    {
     "data": {
      "text/plain": [
       "array([5, 7, 9])"
      ]
     },
     "execution_count": 849,
     "metadata": {},
     "output_type": "execute_result"
    }
   ],
   "source": [
    "a.sum(axis=0) # sum over rows for each of the 3 columns"
   ]
  },
  {
   "cell_type": "code",
   "execution_count": 850,
   "id": "8219ab58",
   "metadata": {},
   "outputs": [
    {
     "data": {
      "text/plain": [
       "array([ 6, 15])"
      ]
     },
     "execution_count": 850,
     "metadata": {},
     "output_type": "execute_result"
    }
   ],
   "source": [
    "a.sum(axis=1) # sum over columns for each of the 2 rows"
   ]
  },
  {
   "cell_type": "markdown",
   "id": "0c958b83",
   "metadata": {},
   "source": [
    "# 188. svd()"
   ]
  },
  {
   "cell_type": "code",
   "execution_count": 851,
   "id": "935db032",
   "metadata": {},
   "outputs": [
    {
     "name": "stdout",
     "output_type": "stream",
     "text": [
      "[[-0.62  -0.785]\n",
      " [-0.785  0.62 ]]\n"
     ]
    }
   ],
   "source": [
    "from numpy import *\n",
    "from numpy.linalg import svd\n",
    "A = array([[1., 3., 5.],[2., 4., 6.]]) # A is a (2x3) matrix\n",
    "U,sigma,V = svd(A)\n",
    "print(U) # U is a (2x2) unitary matrix\n"
   ]
  },
  {
   "cell_type": "code",
   "execution_count": 852,
   "id": "bb33b872",
   "metadata": {},
   "outputs": [
    {
     "name": "stdout",
     "output_type": "stream",
     "text": [
      "[9.526 0.514]\n"
     ]
    }
   ],
   "source": [
    "print(sigma) # non-zero diagonal elements of Sigma"
   ]
  },
  {
   "cell_type": "code",
   "execution_count": 853,
   "id": "558e5069",
   "metadata": {},
   "outputs": [
    {
     "name": "stdout",
     "output_type": "stream",
     "text": [
      "[[-0.23  -0.525 -0.82 ]\n",
      " [ 0.883  0.241 -0.402]\n",
      " [ 0.408 -0.816  0.408]]\n"
     ]
    }
   ],
   "source": [
    "print(V) # V is a (3x3) unitary matrix"
   ]
  },
  {
   "cell_type": "code",
   "execution_count": 854,
   "id": "ebf368c3",
   "metadata": {},
   "outputs": [
    {
     "name": "stdout",
     "output_type": "stream",
     "text": [
      "[[1. 3. 5.]\n",
      " [2. 4. 6.]]\n"
     ]
    }
   ],
   "source": [
    "Sigma = zeros_like(A) # constructing Sigma from sigma\n",
    "n = min(A.shape)\n",
    "Sigma[:n,:n] = diag(sigma)\n",
    "print(dot(U,dot(Sigma,V))) # A = U * Sigma * V"
   ]
  },
  {
   "cell_type": "markdown",
   "id": "63e010cf",
   "metadata": {},
   "source": [
    "# 189. swapaxes()"
   ]
  },
  {
   "cell_type": "code",
   "execution_count": 855,
   "id": "d70b831e",
   "metadata": {},
   "outputs": [
    {
     "data": {
      "text/plain": [
       "array([[[ 0,  1,  2,  3,  4],\n",
       "        [ 5,  6,  7,  8,  9],\n",
       "        [10, 11, 12, 13, 14]],\n",
       "\n",
       "       [[15, 16, 17, 18, 19],\n",
       "        [20, 21, 22, 23, 24],\n",
       "        [25, 26, 27, 28, 29]]])"
      ]
     },
     "execution_count": 855,
     "metadata": {},
     "output_type": "execute_result"
    }
   ],
   "source": [
    "from numpy import *\n",
    "a = arange(30)\n",
    "a = a.reshape(2,3,5)\n",
    "a"
   ]
  },
  {
   "cell_type": "code",
   "execution_count": 856,
   "id": "04f72d25",
   "metadata": {},
   "outputs": [
    {
     "data": {
      "text/plain": [
       "array([[[ 0,  5, 10],\n",
       "        [ 1,  6, 11],\n",
       "        [ 2,  7, 12],\n",
       "        [ 3,  8, 13],\n",
       "        [ 4,  9, 14]],\n",
       "\n",
       "       [[15, 20, 25],\n",
       "        [16, 21, 26],\n",
       "        [17, 22, 27],\n",
       "        [18, 23, 28],\n",
       "        [19, 24, 29]]])"
      ]
     },
     "execution_count": 856,
     "metadata": {},
     "output_type": "execute_result"
    }
   ],
   "source": [
    "b = a.swapaxes(1,2) # swap the 2nd and the 3rd axis\n",
    "b"
   ]
  },
  {
   "cell_type": "code",
   "execution_count": 857,
   "id": "55269599",
   "metadata": {},
   "outputs": [
    {
     "data": {
      "text/plain": [
       "(2, 5, 3)"
      ]
     },
     "execution_count": 857,
     "metadata": {},
     "output_type": "execute_result"
    }
   ],
   "source": [
    "b.shape\n"
   ]
  },
  {
   "cell_type": "code",
   "execution_count": 858,
   "id": "0ef83805",
   "metadata": {},
   "outputs": [
    {
     "name": "stdout",
     "output_type": "stream",
     "text": [
      "-1\n"
     ]
    }
   ],
   "source": [
    "b[0,0,0] = -1 # be aware that b is a reference, not a copy\n",
    "print (a[0,0,0])"
   ]
  },
  {
   "cell_type": "markdown",
   "id": "aa19c1f0",
   "metadata": {},
   "source": [
    "# 190. T"
   ]
  },
  {
   "cell_type": "code",
   "execution_count": 859,
   "id": "61e5da33",
   "metadata": {},
   "outputs": [
    {
     "data": {
      "text/plain": [
       "array([[1., 2.],\n",
       "       [3., 4.]])"
      ]
     },
     "execution_count": 859,
     "metadata": {},
     "output_type": "execute_result"
    }
   ],
   "source": [
    "from numpy import *\n",
    "x = array([[1.,2.],[3.,4.]])\n",
    "x"
   ]
  },
  {
   "cell_type": "code",
   "execution_count": 860,
   "id": "b6fb89cd",
   "metadata": {},
   "outputs": [
    {
     "data": {
      "text/plain": [
       "array([[1., 3.],\n",
       "       [2., 4.]])"
      ]
     },
     "execution_count": 860,
     "metadata": {},
     "output_type": "execute_result"
    }
   ],
   "source": [
    "x.T # shortcut for transpose()"
   ]
  },
  {
   "cell_type": "markdown",
   "id": "e09acb87",
   "metadata": {},
   "source": [
    "# 191. take()"
   ]
  },
  {
   "cell_type": "code",
   "execution_count": 861,
   "id": "1f4484ea",
   "metadata": {},
   "outputs": [],
   "source": [
    "from numpy import *\n",
    "a = array([10,20,30,40])"
   ]
  },
  {
   "cell_type": "code",
   "execution_count": 862,
   "id": "133bd508",
   "metadata": {},
   "outputs": [
    {
     "data": {
      "text/plain": [
       "array([10, 20, 30, 40])"
      ]
     },
     "execution_count": 862,
     "metadata": {},
     "output_type": "execute_result"
    }
   ],
   "source": [
    "a"
   ]
  },
  {
   "cell_type": "code",
   "execution_count": 863,
   "id": "8085ee71",
   "metadata": {},
   "outputs": [
    {
     "data": {
      "text/plain": [
       "array([10, 10, 40])"
      ]
     },
     "execution_count": 863,
     "metadata": {},
     "output_type": "execute_result"
    }
   ],
   "source": [
    "a.take([0,0,3])"
   ]
  },
  {
   "cell_type": "code",
   "execution_count": 864,
   "id": "f10442d0",
   "metadata": {},
   "outputs": [
    {
     "data": {
      "text/plain": [
       "array([10, 10, 40])"
      ]
     },
     "execution_count": 864,
     "metadata": {},
     "output_type": "execute_result"
    }
   ],
   "source": [
    "a[[0,0,3]]"
   ]
  },
  {
   "cell_type": "code",
   "execution_count": 865,
   "id": "0599245c",
   "metadata": {},
   "outputs": [
    {
     "data": {
      "text/plain": [
       "array([[10, 20],\n",
       "       [10, 20]])"
      ]
     },
     "execution_count": 865,
     "metadata": {},
     "output_type": "execute_result"
    }
   ],
   "source": [
    "a.take([[0,1],[0,1]])"
   ]
  },
  {
   "cell_type": "markdown",
   "id": "5cf23d73",
   "metadata": {},
   "source": [
    "# 192. tensordot()"
   ]
  },
  {
   "cell_type": "code",
   "execution_count": 866,
   "id": "31eb3202",
   "metadata": {},
   "outputs": [
    {
     "data": {
      "text/plain": [
       "(5, 2)"
      ]
     },
     "execution_count": 866,
     "metadata": {},
     "output_type": "execute_result"
    }
   ],
   "source": [
    "a = arange(60.).reshape(3,4,5)\n",
    "b = arange(24.).reshape(4,3,2)\n",
    "c = tensordot(a,b, axes = ([1,0],[0,1]))  # sum over the 1st and 2nd dimensions\n",
    "c.shape"
   ]
  },
  {
   "cell_type": "code",
   "execution_count": 867,
   "id": "853d18e7",
   "metadata": {},
   "outputs": [],
   "source": [
    " # A slower but equivalent way of computing the same:\n",
    "c = zeros((5,2))\n",
    "for i in range(5):\n",
    "    for j in range(2):\n",
    "        for k in range(3):\n",
    "            for n in range(4):\n",
    "                c[i,j] += a[k,n,i] * b[n,k,j]"
   ]
  },
  {
   "cell_type": "markdown",
   "id": "37b9c914",
   "metadata": {},
   "source": [
    "# 193. tile()"
   ]
  },
  {
   "cell_type": "code",
   "execution_count": 868,
   "id": "20330cb5",
   "metadata": {},
   "outputs": [
    {
     "data": {
      "text/plain": [
       "array([[10, 20, 10, 20],\n",
       "       [10, 20, 10, 20],\n",
       "       [10, 20, 10, 20]])"
      ]
     },
     "execution_count": 868,
     "metadata": {},
     "output_type": "execute_result"
    }
   ],
   "source": [
    "a = array([10,20])\n",
    "tile(a, (3,2))"
   ]
  },
  {
   "cell_type": "code",
   "execution_count": 869,
   "id": "2425bb00",
   "metadata": {},
   "outputs": [
    {
     "data": {
      "text/plain": [
       "array([[9, 9],\n",
       "       [9, 9],\n",
       "       [9, 9]])"
      ]
     },
     "execution_count": 869,
     "metadata": {},
     "output_type": "execute_result"
    }
   ],
   "source": [
    "tile(9,(3,2))"
   ]
  },
  {
   "cell_type": "code",
   "execution_count": 870,
   "id": "f4d4a107",
   "metadata": {},
   "outputs": [
    {
     "data": {
      "text/plain": [
       "array([[23., 23.],\n",
       "       [23., 23.],\n",
       "       [23., 23.]])"
      ]
     },
     "execution_count": 870,
     "metadata": {},
     "output_type": "execute_result"
    }
   ],
   "source": [
    "tile(23.,(3,2))"
   ]
  },
  {
   "cell_type": "code",
   "execution_count": 871,
   "id": "f1dfb1bf",
   "metadata": {},
   "outputs": [
    {
     "data": {
      "text/plain": [
       "array([[1, 2, 3, 1, 2, 3, 1, 2, 3],\n",
       "       [1, 2, 3, 1, 2, 3, 1, 2, 3]])"
      ]
     },
     "execution_count": 871,
     "metadata": {},
     "output_type": "execute_result"
    }
   ],
   "source": [
    "tile([1,2,3],(2,3))"
   ]
  },
  {
   "cell_type": "markdown",
   "id": "24dcf9a6",
   "metadata": {},
   "source": [
    "# 194. tofile()"
   ]
  },
  {
   "cell_type": "code",
   "execution_count": 872,
   "id": "90ffbb4e",
   "metadata": {},
   "outputs": [],
   "source": [
    "x = arange(10.)"
   ]
  },
  {
   "cell_type": "code",
   "execution_count": 873,
   "id": "22eecbcd",
   "metadata": {},
   "outputs": [],
   "source": [
    "y = x**2"
   ]
  },
  {
   "cell_type": "code",
   "execution_count": 874,
   "id": "a4697f36",
   "metadata": {},
   "outputs": [
    {
     "data": {
      "text/plain": [
       "array([0., 1., 2., 3., 4., 5., 6., 7., 8., 9.])"
      ]
     },
     "execution_count": 874,
     "metadata": {},
     "output_type": "execute_result"
    }
   ],
   "source": [
    "x"
   ]
  },
  {
   "cell_type": "code",
   "execution_count": 875,
   "id": "4a426a63",
   "metadata": {},
   "outputs": [
    {
     "data": {
      "text/plain": [
       "array([ 0.,  1.,  4.,  9., 16., 25., 36., 49., 64., 81.])"
      ]
     },
     "execution_count": 875,
     "metadata": {},
     "output_type": "execute_result"
    }
   ],
   "source": [
    "y"
   ]
  },
  {
   "cell_type": "code",
   "execution_count": 876,
   "id": "dd4cccf4",
   "metadata": {},
   "outputs": [],
   "source": [
    "y.tofile(\"myfile.dat\") # binary format\n",
    "y.tofile(\"myfile.txt\", sep=' ', format = \"%e\") # ascii format, one row, exp notation, values separated by 1 space\n",
    "y.tofile(\"myfile.txt\", sep='\\n', format = \"%e\") # ascii format, one column, exponential notation"
   ]
  },
  {
   "cell_type": "markdown",
   "id": "2ab9ef57",
   "metadata": {},
   "source": [
    "# 195. tolist()"
   ]
  },
  {
   "cell_type": "code",
   "execution_count": 877,
   "id": "29f0b849",
   "metadata": {},
   "outputs": [
    {
     "data": {
      "text/plain": [
       "[[10, 30], [3, 7]]"
      ]
     },
     "execution_count": 877,
     "metadata": {},
     "output_type": "execute_result"
    }
   ],
   "source": [
    "a = array([[10,30],[3,7]])\n",
    "a.tolist()"
   ]
  },
  {
   "cell_type": "markdown",
   "id": "d0df9729",
   "metadata": {},
   "source": [
    "# 196. trace()"
   ]
  },
  {
   "cell_type": "code",
   "execution_count": 878,
   "id": "0ba68be8",
   "metadata": {},
   "outputs": [],
   "source": [
    "a = arange(12).reshape(3,4)"
   ]
  },
  {
   "cell_type": "code",
   "execution_count": 879,
   "id": "2f466c6b",
   "metadata": {},
   "outputs": [
    {
     "data": {
      "text/plain": [
       "array([[ 0,  1,  2,  3],\n",
       "       [ 4,  5,  6,  7],\n",
       "       [ 8,  9, 10, 11]])"
      ]
     },
     "execution_count": 879,
     "metadata": {},
     "output_type": "execute_result"
    }
   ],
   "source": [
    "a"
   ]
  },
  {
   "cell_type": "code",
   "execution_count": 880,
   "id": "712918e4",
   "metadata": {},
   "outputs": [
    {
     "data": {
      "text/plain": [
       "array([ 0,  5, 10])"
      ]
     },
     "execution_count": 880,
     "metadata": {},
     "output_type": "execute_result"
    }
   ],
   "source": [
    "a.diagonal()"
   ]
  },
  {
   "cell_type": "code",
   "execution_count": 881,
   "id": "f1638105",
   "metadata": {},
   "outputs": [
    {
     "data": {
      "text/plain": [
       "15"
      ]
     },
     "execution_count": 881,
     "metadata": {},
     "output_type": "execute_result"
    }
   ],
   "source": [
    "a.trace()"
   ]
  },
  {
   "cell_type": "code",
   "execution_count": 882,
   "id": "abc8e6ae",
   "metadata": {},
   "outputs": [
    {
     "data": {
      "text/plain": [
       "array([ 1,  6, 11])"
      ]
     },
     "execution_count": 882,
     "metadata": {},
     "output_type": "execute_result"
    }
   ],
   "source": [
    "a.diagonal(offset=1)"
   ]
  },
  {
   "cell_type": "code",
   "execution_count": 883,
   "id": "b2c625fd",
   "metadata": {},
   "outputs": [
    {
     "data": {
      "text/plain": [
       "18"
      ]
     },
     "execution_count": 883,
     "metadata": {},
     "output_type": "execute_result"
    }
   ],
   "source": [
    "a.trace(offset=1)"
   ]
  },
  {
   "cell_type": "markdown",
   "id": "027a9831",
   "metadata": {},
   "source": [
    "# 197. transpose()"
   ]
  },
  {
   "cell_type": "code",
   "execution_count": 884,
   "id": "527a15c6",
   "metadata": {},
   "outputs": [],
   "source": [
    "a = array([[1,2,3],[4,5,6]])"
   ]
  },
  {
   "cell_type": "code",
   "execution_count": 885,
   "id": "612c665e",
   "metadata": {},
   "outputs": [
    {
     "data": {
      "text/plain": [
       "array([[1, 2, 3],\n",
       "       [4, 5, 6]])"
      ]
     },
     "execution_count": 885,
     "metadata": {},
     "output_type": "execute_result"
    }
   ],
   "source": [
    "a"
   ]
  },
  {
   "cell_type": "code",
   "execution_count": 886,
   "id": "829dd76d",
   "metadata": {},
   "outputs": [
    {
     "name": "stdout",
     "output_type": "stream",
     "text": [
      "(2, 3)\n"
     ]
    }
   ],
   "source": [
    "print(a.shape)"
   ]
  },
  {
   "cell_type": "code",
   "execution_count": 887,
   "id": "c6e598b1",
   "metadata": {},
   "outputs": [],
   "source": [
    "b = a.transpose()"
   ]
  },
  {
   "cell_type": "code",
   "execution_count": 888,
   "id": "4df851bf",
   "metadata": {},
   "outputs": [
    {
     "data": {
      "text/plain": [
       "array([[1, 4],\n",
       "       [2, 5],\n",
       "       [3, 6]])"
      ]
     },
     "execution_count": 888,
     "metadata": {},
     "output_type": "execute_result"
    }
   ],
   "source": [
    "b"
   ]
  },
  {
   "cell_type": "code",
   "execution_count": 889,
   "id": "b70dccc0",
   "metadata": {},
   "outputs": [
    {
     "data": {
      "text/plain": [
       "(3, 2)"
      ]
     },
     "execution_count": 889,
     "metadata": {},
     "output_type": "execute_result"
    }
   ],
   "source": [
    "b.shape"
   ]
  },
  {
   "cell_type": "code",
   "execution_count": 890,
   "id": "d945ecbd",
   "metadata": {},
   "outputs": [
    {
     "data": {
      "text/plain": [
       "array([[[ 0,  1,  2,  3,  4],\n",
       "        [ 5,  6,  7,  8,  9],\n",
       "        [10, 11, 12, 13, 14]],\n",
       "\n",
       "       [[15, 16, 17, 18, 19],\n",
       "        [20, 21, 22, 23, 24],\n",
       "        [25, 26, 27, 28, 29]]])"
      ]
     },
     "execution_count": 890,
     "metadata": {},
     "output_type": "execute_result"
    }
   ],
   "source": [
    "a = arange(30)\n",
    "a = a.reshape(2,3,5)\n",
    "a"
   ]
  },
  {
   "cell_type": "code",
   "execution_count": 891,
   "id": "e9e13703",
   "metadata": {},
   "outputs": [
    {
     "data": {
      "text/plain": [
       "array([[[ 0, 15],\n",
       "        [ 5, 20],\n",
       "        [10, 25]],\n",
       "\n",
       "       [[ 1, 16],\n",
       "        [ 6, 21],\n",
       "        [11, 26]],\n",
       "\n",
       "       [[ 2, 17],\n",
       "        [ 7, 22],\n",
       "        [12, 27]],\n",
       "\n",
       "       [[ 3, 18],\n",
       "        [ 8, 23],\n",
       "        [13, 28]],\n",
       "\n",
       "       [[ 4, 19],\n",
       "        [ 9, 24],\n",
       "        [14, 29]]])"
      ]
     },
     "execution_count": 891,
     "metadata": {},
     "output_type": "execute_result"
    }
   ],
   "source": [
    "b = a.transpose()\n",
    "b"
   ]
  },
  {
   "cell_type": "code",
   "execution_count": 892,
   "id": "9838d1d2",
   "metadata": {},
   "outputs": [
    {
     "data": {
      "text/plain": [
       "(5, 3, 2)"
      ]
     },
     "execution_count": 892,
     "metadata": {},
     "output_type": "execute_result"
    }
   ],
   "source": [
    "b.shape"
   ]
  },
  {
   "cell_type": "code",
   "execution_count": 893,
   "id": "8e8110ad",
   "metadata": {},
   "outputs": [
    {
     "data": {
      "text/plain": [
       "array([[[ 0,  1,  2,  3,  4],\n",
       "        [15, 16, 17, 18, 19]],\n",
       "\n",
       "       [[ 5,  6,  7,  8,  9],\n",
       "        [20, 21, 22, 23, 24]],\n",
       "\n",
       "       [[10, 11, 12, 13, 14],\n",
       "        [25, 26, 27, 28, 29]]])"
      ]
     },
     "execution_count": 893,
     "metadata": {},
     "output_type": "execute_result"
    }
   ],
   "source": [
    "b = a.transpose(1,0,2) # First axis 1, then axis 0, then axis 2\n",
    "b"
   ]
  },
  {
   "cell_type": "code",
   "execution_count": 894,
   "id": "30041153",
   "metadata": {},
   "outputs": [
    {
     "data": {
      "text/plain": [
       "(3, 2, 5)"
      ]
     },
     "execution_count": 894,
     "metadata": {},
     "output_type": "execute_result"
    }
   ],
   "source": [
    "b.shape"
   ]
  },
  {
   "cell_type": "code",
   "execution_count": 895,
   "id": "7c6914c2",
   "metadata": {},
   "outputs": [],
   "source": [
    "b = transpose(a, (1,0,2)) # A separate transpose() function also exists"
   ]
  },
  {
   "cell_type": "code",
   "execution_count": 896,
   "id": "c8637226",
   "metadata": {},
   "outputs": [
    {
     "data": {
      "text/plain": [
       "array([[[ 0,  1,  2,  3,  4],\n",
       "        [15, 16, 17, 18, 19]],\n",
       "\n",
       "       [[ 5,  6,  7,  8,  9],\n",
       "        [20, 21, 22, 23, 24]],\n",
       "\n",
       "       [[10, 11, 12, 13, 14],\n",
       "        [25, 26, 27, 28, 29]]])"
      ]
     },
     "execution_count": 896,
     "metadata": {},
     "output_type": "execute_result"
    }
   ],
   "source": [
    "b"
   ]
  },
  {
   "cell_type": "markdown",
   "id": "bda676d5",
   "metadata": {},
   "source": [
    "# 198. tri()"
   ]
  },
  {
   "cell_type": "code",
   "execution_count": 897,
   "id": "bef9ad91",
   "metadata": {},
   "outputs": [
    {
     "data": {
      "text/plain": [
       "array([[1., 0., 0., 0.],\n",
       "       [1., 1., 0., 0.],\n",
       "       [1., 1., 1., 0.]])"
      ]
     },
     "execution_count": 897,
     "metadata": {},
     "output_type": "execute_result"
    }
   ],
   "source": [
    "from numpy import *\n",
    "tri(3,4,k=0,dtype=float) # 3x4 matrix of Floats, triangular, the k=0-th diagonal and below is 1, the upper part is 0\n"
   ]
  },
  {
   "cell_type": "code",
   "execution_count": 898,
   "id": "ff92c2ca",
   "metadata": {},
   "outputs": [
    {
     "data": {
      "text/plain": [
       "array([[1, 1, 0, 0],\n",
       "       [1, 1, 1, 0],\n",
       "       [1, 1, 1, 1]])"
      ]
     },
     "execution_count": 898,
     "metadata": {},
     "output_type": "execute_result"
    }
   ],
   "source": [
    "tri(3,4,k=1,dtype=int)"
   ]
  },
  {
   "cell_type": "markdown",
   "id": "0a3f80a7",
   "metadata": {},
   "source": [
    "# 199. tril()"
   ]
  },
  {
   "cell_type": "code",
   "execution_count": 899,
   "id": "6ac70710",
   "metadata": {},
   "outputs": [
    {
     "data": {
      "text/plain": [
       "array([[10, 20, 30],\n",
       "       [40, 50, 60],\n",
       "       [70, 80, 90]])"
      ]
     },
     "execution_count": 899,
     "metadata": {},
     "output_type": "execute_result"
    }
   ],
   "source": [
    "from numpy import *\n",
    "a = arange(10,100,10).reshape(3,3)\n",
    "a"
   ]
  },
  {
   "cell_type": "code",
   "execution_count": 900,
   "id": "54dd74a5",
   "metadata": {},
   "outputs": [
    {
     "data": {
      "text/plain": [
       "array([[10,  0,  0],\n",
       "       [40, 50,  0],\n",
       "       [70, 80, 90]])"
      ]
     },
     "execution_count": 900,
     "metadata": {},
     "output_type": "execute_result"
    }
   ],
   "source": [
    "tril(a,k=0)"
   ]
  },
  {
   "cell_type": "code",
   "execution_count": 901,
   "id": "757ae70c",
   "metadata": {},
   "outputs": [
    {
     "data": {
      "text/plain": [
       "array([[10, 20,  0],\n",
       "       [40, 50, 60],\n",
       "       [70, 80, 90]])"
      ]
     },
     "execution_count": 901,
     "metadata": {},
     "output_type": "execute_result"
    }
   ],
   "source": [
    "tril(a,k=1)"
   ]
  },
  {
   "cell_type": "markdown",
   "id": "14e0548c",
   "metadata": {},
   "source": [
    "# 200. trim_zeros()"
   ]
  },
  {
   "cell_type": "code",
   "execution_count": 902,
   "id": "037c7a79",
   "metadata": {},
   "outputs": [
    {
     "data": {
      "text/plain": [
       "array([1, 2, 3, 0, 0])"
      ]
     },
     "execution_count": 902,
     "metadata": {},
     "output_type": "execute_result"
    }
   ],
   "source": [
    "from numpy import *\n",
    "x = array([0, 0, 0, 1, 2, 3, 0, 0])\n",
    "trim_zeros(x,'f') # remove zeros at the front\n"
   ]
  },
  {
   "cell_type": "code",
   "execution_count": 903,
   "id": "ad94a7b6",
   "metadata": {},
   "outputs": [
    {
     "data": {
      "text/plain": [
       "array([0, 0, 0, 1, 2, 3])"
      ]
     },
     "execution_count": 903,
     "metadata": {},
     "output_type": "execute_result"
    }
   ],
   "source": [
    "trim_zeros(x,'b') # remove zeros at the back"
   ]
  },
  {
   "cell_type": "code",
   "execution_count": 904,
   "id": "e71fd0cb",
   "metadata": {},
   "outputs": [
    {
     "data": {
      "text/plain": [
       "array([1, 2, 3])"
      ]
     },
     "execution_count": 904,
     "metadata": {},
     "output_type": "execute_result"
    }
   ],
   "source": [
    "trim_zeros(x,'bf') # remove zeros at the back and the front"
   ]
  },
  {
   "cell_type": "markdown",
   "id": "8c0ca51e",
   "metadata": {},
   "source": [
    "# 201. triu()"
   ]
  },
  {
   "cell_type": "code",
   "execution_count": 905,
   "id": "0c8dec54",
   "metadata": {},
   "outputs": [
    {
     "data": {
      "text/plain": [
       "array([[10, 20, 30],\n",
       "       [40, 50, 60],\n",
       "       [70, 80, 90]])"
      ]
     },
     "execution_count": 905,
     "metadata": {},
     "output_type": "execute_result"
    }
   ],
   "source": [
    "from numpy import *\n",
    "a = arange(10,100,10).reshape(3,3)\n",
    "a\n"
   ]
  },
  {
   "cell_type": "code",
   "execution_count": 906,
   "id": "eda8d1f9",
   "metadata": {},
   "outputs": [
    {
     "data": {
      "text/plain": [
       "array([[10, 20, 30],\n",
       "       [ 0, 50, 60],\n",
       "       [ 0,  0, 90]])"
      ]
     },
     "execution_count": 906,
     "metadata": {},
     "output_type": "execute_result"
    }
   ],
   "source": [
    "triu(a,k=0)"
   ]
  },
  {
   "cell_type": "code",
   "execution_count": 907,
   "id": "3d1a7591",
   "metadata": {},
   "outputs": [
    {
     "data": {
      "text/plain": [
       "array([[ 0, 20, 30],\n",
       "       [ 0,  0, 60],\n",
       "       [ 0,  0,  0]])"
      ]
     },
     "execution_count": 907,
     "metadata": {},
     "output_type": "execute_result"
    }
   ],
   "source": [
    "triu(a,k=1)"
   ]
  },
  {
   "cell_type": "markdown",
   "id": "7280699d",
   "metadata": {},
   "source": [
    "# 202. typeDict()"
   ]
  },
  {
   "cell_type": "code",
   "execution_count": 908,
   "id": "96ba9bad",
   "metadata": {},
   "outputs": [
    {
     "ename": "NameError",
     "evalue": "name 'typeDict' is not defined",
     "output_type": "error",
     "traceback": [
      "\u001b[1;31m---------------------------------------------------------------------------\u001b[0m",
      "\u001b[1;31mNameError\u001b[0m                                 Traceback (most recent call last)",
      "Cell \u001b[1;32mIn[908], line 2\u001b[0m\n\u001b[0;32m      1\u001b[0m \u001b[38;5;28;01mfrom\u001b[39;00m \u001b[38;5;21;01mnumpy\u001b[39;00m \u001b[38;5;28;01mimport\u001b[39;00m \u001b[38;5;241m*\u001b[39m\n\u001b[1;32m----> 2\u001b[0m typeDict[\u001b[38;5;124m'\u001b[39m\u001b[38;5;124mshort\u001b[39m\u001b[38;5;124m'\u001b[39m]\n",
      "\u001b[1;31mNameError\u001b[0m: name 'typeDict' is not defined"
     ]
    }
   ],
   "source": [
    "from numpy import *\n",
    "typeDict['short']\n"
   ]
  },
  {
   "cell_type": "code",
   "execution_count": 909,
   "id": "842d525d",
   "metadata": {},
   "outputs": [
    {
     "ename": "NameError",
     "evalue": "name 'typeDict' is not defined",
     "output_type": "error",
     "traceback": [
      "\u001b[1;31m---------------------------------------------------------------------------\u001b[0m",
      "\u001b[1;31mNameError\u001b[0m                                 Traceback (most recent call last)",
      "Cell \u001b[1;32mIn[909], line 1\u001b[0m\n\u001b[1;32m----> 1\u001b[0m typeDict[\u001b[38;5;124m'\u001b[39m\u001b[38;5;124muint16\u001b[39m\u001b[38;5;124m'\u001b[39m]\n",
      "\u001b[1;31mNameError\u001b[0m: name 'typeDict' is not defined"
     ]
    }
   ],
   "source": [
    "typeDict['uint16']\n",
    "\n"
   ]
  },
  {
   "cell_type": "code",
   "execution_count": 910,
   "id": "27c90c06",
   "metadata": {},
   "outputs": [
    {
     "ename": "NameError",
     "evalue": "name 'typeDict' is not defined",
     "output_type": "error",
     "traceback": [
      "\u001b[1;31m---------------------------------------------------------------------------\u001b[0m",
      "\u001b[1;31mNameError\u001b[0m                                 Traceback (most recent call last)",
      "Cell \u001b[1;32mIn[910], line 1\u001b[0m\n\u001b[1;32m----> 1\u001b[0m typeDict[\u001b[38;5;124m'\u001b[39m\u001b[38;5;124mvoid\u001b[39m\u001b[38;5;124m'\u001b[39m]\n\u001b[0;32m      3\u001b[0m typeDict[\u001b[38;5;124m'\u001b[39m\u001b[38;5;124mS\u001b[39m\u001b[38;5;124m'\u001b[39m]\n",
      "\u001b[1;31mNameError\u001b[0m: name 'typeDict' is not defined"
     ]
    }
   ],
   "source": [
    ">>> typeDict['void']\n",
    "\n",
    ">>> typeDict['S']"
   ]
  },
  {
   "cell_type": "markdown",
   "id": "fe845b7e",
   "metadata": {},
   "source": [
    "# 203. uniform()"
   ]
  },
  {
   "cell_type": "code",
   "execution_count": 911,
   "id": "d99a7703",
   "metadata": {},
   "outputs": [
    {
     "data": {
      "text/plain": [
       "array([[7.672, 6.958, 2.663],\n",
       "       [8.018, 5.912, 1.022]])"
      ]
     },
     "execution_count": 911,
     "metadata": {},
     "output_type": "execute_result"
    }
   ],
   "source": [
    "from numpy import *\n",
    "from numpy.random import *\n",
    "uniform(low=0,high=10,size=(2,3)) # uniform numbers in range [0,10)"
   ]
  },
  {
   "cell_type": "markdown",
   "id": "2f5f1a7c",
   "metadata": {},
   "source": [
    "# 204. unique()"
   ]
  },
  {
   "cell_type": "code",
   "execution_count": 912,
   "id": "87350e7c",
   "metadata": {},
   "outputs": [
    {
     "data": {
      "text/plain": [
       "array([0, 1, 2, 3, 4])"
      ]
     },
     "execution_count": 912,
     "metadata": {},
     "output_type": "execute_result"
    }
   ],
   "source": [
    "from numpy import *\n",
    "x = array([2,3,2,1,0,3,4,0])\n",
    "unique(x) # remove double values"
   ]
  },
  {
   "cell_type": "markdown",
   "id": "48594bfb",
   "metadata": {},
   "source": [
    "# 205. unique1d()"
   ]
  },
  {
   "cell_type": "code",
   "execution_count": 913,
   "id": "4dd594cc",
   "metadata": {},
   "outputs": [
    {
     "ename": "NameError",
     "evalue": "name 'unique1d' is not defined",
     "output_type": "error",
     "traceback": [
      "\u001b[1;31m---------------------------------------------------------------------------\u001b[0m",
      "\u001b[1;31mNameError\u001b[0m                                 Traceback (most recent call last)",
      "Cell \u001b[1;32mIn[913], line 2\u001b[0m\n\u001b[0;32m      1\u001b[0m \u001b[38;5;28;01mimport\u001b[39;00m \u001b[38;5;21;01mnumpy\u001b[39;00m \u001b[38;5;28;01mas\u001b[39;00m \u001b[38;5;21;01mnp\u001b[39;00m\n\u001b[1;32m----> 2\u001b[0m unique1d([\u001b[38;5;241m1\u001b[39m,\u001b[38;5;241m2\u001b[39m,\u001b[38;5;241m3\u001b[39m,\u001b[38;5;241m4\u001b[39m,\u001b[38;5;241m2\u001b[39m,\u001b[38;5;241m2\u001b[39m,\u001b[38;5;241m3\u001b[39m])\n",
      "\u001b[1;31mNameError\u001b[0m: name 'unique1d' is not defined"
     ]
    }
   ],
   "source": [
    "import numpy as np\n",
    "unique1d([1,2,3,4,2,2,3])"
   ]
  },
  {
   "cell_type": "markdown",
   "id": "44fc8952",
   "metadata": {},
   "source": [
    "# 206. vander()"
   ]
  },
  {
   "cell_type": "code",
   "execution_count": 914,
   "id": "83fc3d62",
   "metadata": {},
   "outputs": [
    {
     "data": {
      "text/plain": [
       "array([[ 1,  1,  1],\n",
       "       [ 4,  2,  1],\n",
       "       [ 9,  3,  1],\n",
       "       [25,  5,  1]])"
      ]
     },
     "execution_count": 914,
     "metadata": {},
     "output_type": "execute_result"
    }
   ],
   "source": [
    "from numpy import *\n",
    "x = array([1,2,3,5])\n",
    "N=3\n",
    "vander(x,N) # Vandermonde matrix of the vector x\n"
   ]
  },
  {
   "cell_type": "code",
   "execution_count": 915,
   "id": "60a859d1",
   "metadata": {},
   "outputs": [
    {
     "data": {
      "text/plain": [
       "array([[ 1,  1,  1],\n",
       "       [ 4,  2,  1],\n",
       "       [ 9,  3,  1],\n",
       "       [25,  5,  1]])"
      ]
     },
     "execution_count": 915,
     "metadata": {},
     "output_type": "execute_result"
    }
   ],
   "source": [
    "column_stack([x**(N-1-i) for i in range(N)]) # to understand what a Vandermonde matrix contains"
   ]
  },
  {
   "cell_type": "markdown",
   "id": "b55af535",
   "metadata": {},
   "source": [
    "# 207. var()"
   ]
  },
  {
   "cell_type": "code",
   "execution_count": 916,
   "id": "de3cfa19",
   "metadata": {},
   "outputs": [
    {
     "data": {
      "text/plain": [
       "6.888888888888888"
      ]
     },
     "execution_count": 916,
     "metadata": {},
     "output_type": "execute_result"
    }
   ],
   "source": [
    "from numpy import *\n",
    "a = array([1,2,7])\n",
    "a.var() # normalised with N (not N-1)"
   ]
  },
  {
   "cell_type": "code",
   "execution_count": 917,
   "id": "e659bdca",
   "metadata": {},
   "outputs": [
    {
     "data": {
      "text/plain": [
       "7.805555555555557"
      ]
     },
     "execution_count": 917,
     "metadata": {},
     "output_type": "execute_result"
    }
   ],
   "source": [
    "a = array([[1,2,7],[4,9,6]])\n",
    "a.var()"
   ]
  },
  {
   "cell_type": "code",
   "execution_count": 918,
   "id": "a1ac8d47",
   "metadata": {},
   "outputs": [
    {
     "data": {
      "text/plain": [
       "array([ 2.25, 12.25,  0.25])"
      ]
     },
     "execution_count": 918,
     "metadata": {},
     "output_type": "execute_result"
    }
   ],
   "source": [
    "a.var(axis=0) # the variance of each of the 3 columns"
   ]
  },
  {
   "cell_type": "code",
   "execution_count": 919,
   "id": "4cd1ff4b",
   "metadata": {},
   "outputs": [
    {
     "data": {
      "text/plain": [
       "array([6.889, 4.222])"
      ]
     },
     "execution_count": 919,
     "metadata": {},
     "output_type": "execute_result"
    }
   ],
   "source": [
    "a.var(axis=1) # the variance of each of the 2 rows"
   ]
  },
  {
   "cell_type": "markdown",
   "id": "0295c033",
   "metadata": {},
   "source": [
    "# 208. vdot()"
   ]
  },
  {
   "cell_type": "code",
   "execution_count": 920,
   "id": "7a841986",
   "metadata": {},
   "outputs": [
    {
     "data": {
      "text/plain": [
       "(70-8j)"
      ]
     },
     "execution_count": 920,
     "metadata": {},
     "output_type": "execute_result"
    }
   ],
   "source": [
    "from numpy import *\n",
    "x = array([1+2j,3+4j])\n",
    "y = array([5+6j,7+8j])\n",
    "vdot(x,y) # conj(x) * y = (1-2j)*(5+6j)+(3-4j)*(7+8j)"
   ]
  },
  {
   "cell_type": "markdown",
   "id": "a59d099b",
   "metadata": {},
   "source": [
    "# 209. vectorize()"
   ]
  },
  {
   "cell_type": "code",
   "execution_count": 921,
   "id": "effbc037",
   "metadata": {},
   "outputs": [],
   "source": [
    "from numpy import *\n",
    "def myfunc(x):\n",
    "    if x >= 0: return x**2\n",
    "    else: return -x\n"
   ]
  },
  {
   "cell_type": "code",
   "execution_count": 922,
   "id": "ecf43ea7",
   "metadata": {},
   "outputs": [
    {
     "data": {
      "text/plain": [
       "4.0"
      ]
     },
     "execution_count": 922,
     "metadata": {},
     "output_type": "execute_result"
    }
   ],
   "source": [
    "myfunc(2.) # works fine"
   ]
  },
  {
   "cell_type": "code",
   "execution_count": 923,
   "id": "c5ea1cf2",
   "metadata": {},
   "outputs": [
    {
     "ename": "ValueError",
     "evalue": "The truth value of an array with more than one element is ambiguous. Use a.any() or a.all()",
     "output_type": "error",
     "traceback": [
      "\u001b[1;31m---------------------------------------------------------------------------\u001b[0m",
      "\u001b[1;31mValueError\u001b[0m                                Traceback (most recent call last)",
      "Cell \u001b[1;32mIn[923], line 1\u001b[0m\n\u001b[1;32m----> 1\u001b[0m myfunc(array([\u001b[38;5;241m-\u001b[39m\u001b[38;5;241m2\u001b[39m,\u001b[38;5;241m2\u001b[39m]))\n",
      "Cell \u001b[1;32mIn[921], line 3\u001b[0m, in \u001b[0;36mmyfunc\u001b[1;34m(x)\u001b[0m\n\u001b[0;32m      2\u001b[0m \u001b[38;5;28;01mdef\u001b[39;00m \u001b[38;5;21mmyfunc\u001b[39m(x):\n\u001b[1;32m----> 3\u001b[0m     \u001b[38;5;28;01mif\u001b[39;00m x \u001b[38;5;241m>\u001b[39m\u001b[38;5;241m=\u001b[39m \u001b[38;5;241m0\u001b[39m: \u001b[38;5;28;01mreturn\u001b[39;00m x\u001b[38;5;241m*\u001b[39m\u001b[38;5;241m*\u001b[39m\u001b[38;5;241m2\u001b[39m\n\u001b[0;32m      4\u001b[0m     \u001b[38;5;28;01melse\u001b[39;00m: \u001b[38;5;28;01mreturn\u001b[39;00m \u001b[38;5;241m-\u001b[39mx\n",
      "\u001b[1;31mValueError\u001b[0m: The truth value of an array with more than one element is ambiguous. Use a.any() or a.all()"
     ]
    }
   ],
   "source": [
    "myfunc(array([-2,2])) # doesn't work, try it...\n"
   ]
  },
  {
   "cell_type": "code",
   "execution_count": 924,
   "id": "dd6e08ef",
   "metadata": {},
   "outputs": [
    {
     "data": {
      "text/plain": [
       "array([2., 4.])"
      ]
     },
     "execution_count": 924,
     "metadata": {},
     "output_type": "execute_result"
    }
   ],
   "source": [
    "vecfunc = vectorize(myfunc, otypes=[float]) # declare the return type as float\n",
    "vecfunc(array([-2,2])) # works fine!"
   ]
  },
  {
   "cell_type": "markdown",
   "id": "87e1fc9c",
   "metadata": {},
   "source": [
    "# 210. view()"
   ]
  },
  {
   "cell_type": "code",
   "execution_count": 925,
   "id": "0ccc618c",
   "metadata": {},
   "outputs": [
    {
     "data": {
      "text/plain": [
       "array([1., 2.])"
      ]
     },
     "execution_count": 925,
     "metadata": {},
     "output_type": "execute_result"
    }
   ],
   "source": [
    "from numpy import *\n",
    "a = array([1., 2.])\n",
    "a.view() # new array referring to the same data as 'a'\n"
   ]
  },
  {
   "cell_type": "code",
   "execution_count": 926,
   "id": "02ae5f54",
   "metadata": {},
   "outputs": [
    {
     "data": {
      "text/plain": [
       "array([1.+2.j])"
      ]
     },
     "execution_count": 926,
     "metadata": {},
     "output_type": "execute_result"
    }
   ],
   "source": [
    "a.view(complex) # pretend that a is made up of complex numbers"
   ]
  },
  {
   "cell_type": "code",
   "execution_count": 927,
   "id": "b7f68849",
   "metadata": {},
   "outputs": [
    {
     "data": {
      "text/plain": [
       "array([         0, 1072693248,          0, 1073741824])"
      ]
     },
     "execution_count": 927,
     "metadata": {},
     "output_type": "execute_result"
    }
   ],
   "source": [
    "a.view(int) # view(type) is NOT the same as astype(type)!"
   ]
  },
  {
   "cell_type": "code",
   "execution_count": 928,
   "id": "79f327bf",
   "metadata": {},
   "outputs": [],
   "source": [
    "mydescr = dtype({'names': ['gender','age'], 'formats': ['S1', 'i2']})\n",
    "a = array([('M',25),('F',30)], dtype = mydescr) # array with records\n",
    "b = a.view(recarray) # convert to a record array, names are now attributes\n"
   ]
  },
  {
   "cell_type": "code",
   "execution_count": 929,
   "id": "4dd18608",
   "metadata": {},
   "outputs": [
    {
     "data": {
      "text/plain": [
       "array([25, 30], dtype=int16)"
      ]
     },
     "execution_count": 929,
     "metadata": {},
     "output_type": "execute_result"
    }
   ],
   "source": [
    "a['age'] # works with 'a' but not with 'b'"
   ]
  },
  {
   "cell_type": "code",
   "execution_count": 930,
   "id": "1e6d55e9",
   "metadata": {},
   "outputs": [
    {
     "data": {
      "text/plain": [
       "array([25, 30], dtype=int16)"
      ]
     },
     "execution_count": 930,
     "metadata": {},
     "output_type": "execute_result"
    }
   ],
   "source": [
    "b.age # works with 'b' but not with 'a'"
   ]
  },
  {
   "cell_type": "markdown",
   "id": "680ae7c8",
   "metadata": {},
   "source": [
    "# 211. vonmises()"
   ]
  },
  {
   "cell_type": "code",
   "execution_count": 931,
   "id": "802ffce4",
   "metadata": {},
   "outputs": [
    {
     "data": {
      "text/plain": [
       "array([[ 1.517,  1.014,  1.975],\n",
       "       [ 2.042, -2.61 , -2.637]])"
      ]
     },
     "execution_count": 931,
     "metadata": {},
     "output_type": "execute_result"
    }
   ],
   "source": [
    "from numpy import *\n",
    "from numpy.random import *\n",
    "vonmises(mu=1,kappa=1,size=(2,3)) # Von Mises distribution mean=1.0, kappa=1\n"
   ]
  },
  {
   "cell_type": "code",
   "execution_count": 932,
   "id": "335d08dd",
   "metadata": {},
   "outputs": [
    {
     "data": {
      "text/plain": [
       "(array([ 87.,  87.,  62.,  83.,  55.,  74.,  56.,  50.,  57.,  55.,  60.,\n",
       "         76.,  82.,  80.,  71.,  89.,  90., 116., 104., 156., 146., 185.,\n",
       "        183., 237., 243., 290., 305., 350., 354., 409., 434., 446., 433.,\n",
       "        408., 442., 400., 386., 370., 306., 306., 281., 272., 227., 214.,\n",
       "        146., 181., 126., 128., 113.,  89.]),\n",
       " array([-3.141, -3.015, -2.889, -2.764, -2.638, -2.513, -2.387, -2.261,\n",
       "        -2.136, -2.01 , -1.885, -1.759, -1.633, -1.508, -1.382, -1.257,\n",
       "        -1.131, -1.005, -0.88 , -0.754, -0.629, -0.503, -0.377, -0.252,\n",
       "        -0.126, -0.001,  0.125,  0.251,  0.376,  0.502,  0.627,  0.753,\n",
       "         0.878,  1.004,  1.13 ,  1.255,  1.381,  1.506,  1.632,  1.758,\n",
       "         1.883,  2.009,  2.134,  2.26 ,  2.386,  2.511,  2.637,  2.762,\n",
       "         2.888,  3.014,  3.139]),\n",
       " <BarContainer object of 50 artists>)"
      ]
     },
     "execution_count": 932,
     "metadata": {},
     "output_type": "execute_result"
    },
    {
     "data": {
      "image/png": "[encoded data removed]",
      "text/plain": [
       "<Figure size 640x480 with 1 Axes>"
      ]
     },
     "metadata": {},
     "output_type": "display_data"
    }
   ],
   "source": [
    "from pylab import * # histogram plot example\n",
    "hist(vonmises(1,1,(10000)), 50)"
   ]
  },
  {
   "cell_type": "markdown",
   "id": "74b3b8fb",
   "metadata": {},
   "source": [
    "# 212. vsplit()"
   ]
  },
  {
   "cell_type": "code",
   "execution_count": 933,
   "id": "40674764",
   "metadata": {},
   "outputs": [
    {
     "data": {
      "text/plain": [
       "[array([[1, 2],\n",
       "        [3, 4]]),\n",
       " array([[5, 6],\n",
       "        [7, 8]])]"
      ]
     },
     "execution_count": 933,
     "metadata": {},
     "output_type": "execute_result"
    }
   ],
   "source": [
    "from numpy import *\n",
    "a = array([[1,2],[3,4],[5,6],[7,8]])\n",
    "vsplit(a,2) # split, row-wise, in 2 equal parts"
   ]
  },
  {
   "cell_type": "code",
   "execution_count": 934,
   "id": "edc38b1f",
   "metadata": {},
   "outputs": [
    {
     "data": {
      "text/plain": [
       "[array([[1, 2]]),\n",
       " array([[3, 4]]),\n",
       " array([[5, 6],\n",
       "        [7, 8]])]"
      ]
     },
     "execution_count": 934,
     "metadata": {},
     "output_type": "execute_result"
    }
   ],
   "source": [
    "vsplit(a,[1,2]) # split, row-wise, before row 1 and before row 2"
   ]
  },
  {
   "cell_type": "markdown",
   "id": "298a4dd0",
   "metadata": {},
   "source": [
    "# 213. vstack()"
   ]
  },
  {
   "cell_type": "code",
   "execution_count": 935,
   "id": "f5a24ed5",
   "metadata": {},
   "outputs": [
    {
     "data": {
      "text/plain": [
       "array([[1, 2],\n",
       "       [3, 4],\n",
       "       [5, 6],\n",
       "       [1, 2]])"
      ]
     },
     "execution_count": 935,
     "metadata": {},
     "output_type": "execute_result"
    }
   ],
   "source": [
    "from numpy import *\n",
    "a =array([1,2])\n",
    "b = array([[3,4],[5,6]])\n",
    "vstack((a,b,a)) # only the first dimension of the arrays is allowed to be different"
   ]
  },
  {
   "cell_type": "markdown",
   "id": "648e76ce",
   "metadata": {},
   "source": [
    "# 214. weibull()"
   ]
  },
  {
   "cell_type": "code",
   "execution_count": 936,
   "id": "d31d8db0",
   "metadata": {},
   "outputs": [
    {
     "data": {
      "text/plain": [
       "array([[0.485, 0.65 , 0.266],\n",
       "       [2.636, 0.612, 0.619]])"
      ]
     },
     "execution_count": 936,
     "metadata": {},
     "output_type": "execute_result"
    }
   ],
   "source": [
    "from numpy import *\n",
    "from numpy.random import *\n",
    "weibull(a=1,size=(2,3)) # I think a is the shape parameter"
   ]
  },
  {
   "cell_type": "code",
   "execution_count": 937,
   "id": "d1c580c2",
   "metadata": {},
   "outputs": [
    {
     "data": {
      "text/plain": [
       "(array([ 1.,  0.,  0.,  0.,  1.,  2., 10.,  2.,  3.,  9.,  9.,  8., 12.,\n",
       "        15., 17., 14., 17., 33., 29., 31., 35., 33., 36., 50., 53., 49.,\n",
       "        60., 50., 56., 49., 48., 54., 44., 35., 36., 21., 21., 17., 11.,\n",
       "        10.,  8.,  5.,  1.,  4.,  0.,  0.,  0.,  0.,  0.,  1.]),\n",
       " array([0.198, 0.225, 0.253, 0.281, 0.309, 0.337, 0.365, 0.392, 0.42 ,\n",
       "        0.448, 0.476, 0.504, 0.532, 0.559, 0.587, 0.615, 0.643, 0.671,\n",
       "        0.699, 0.726, 0.754, 0.782, 0.81 , 0.838, 0.866, 0.893, 0.921,\n",
       "        0.949, 0.977, 1.005, 1.033, 1.06 , 1.088, 1.116, 1.144, 1.172,\n",
       "        1.2  , 1.228, 1.255, 1.283, 1.311, 1.339, 1.367, 1.395, 1.422,\n",
       "        1.45 , 1.478, 1.506, 1.534, 1.562, 1.589]),\n",
       " <BarContainer object of 50 artists>)"
      ]
     },
     "execution_count": 937,
     "metadata": {},
     "output_type": "execute_result"
    },
    {
     "data": {
      "image/png": "[encoded data removed]",
      "text/plain": [
       "<Figure size 640x480 with 1 Axes>"
      ]
     },
     "metadata": {},
     "output_type": "display_data"
    }
   ],
   "source": [
    "from pylab import * # histogram plot example\n",
    "hist(weibull(5, (1000)), 50)"
   ]
  },
  {
   "cell_type": "markdown",
   "id": "86472126",
   "metadata": {},
   "source": [
    "# 215. where()"
   ]
  },
  {
   "cell_type": "code",
   "execution_count": 938,
   "id": "a1246307",
   "metadata": {},
   "outputs": [
    {
     "data": {
      "text/plain": [
       "array([10, 20,  6,  8])"
      ]
     },
     "execution_count": 938,
     "metadata": {},
     "output_type": "execute_result"
    }
   ],
   "source": [
    "from numpy import *\n",
    "a = array([3,5,7,9])\n",
    "b = array([10,20,30,40])\n",
    "c = array([2,4,6,8])\n",
    "where(a <= 6, b, c)"
   ]
  },
  {
   "cell_type": "code",
   "execution_count": 939,
   "id": "e9b086f5",
   "metadata": {},
   "outputs": [
    {
     "data": {
      "text/plain": [
       "array([10, 20, -1, -1])"
      ]
     },
     "execution_count": 939,
     "metadata": {},
     "output_type": "execute_result"
    }
   ],
   "source": [
    "where(a <= 6, b, -1)\n"
   ]
  },
  {
   "cell_type": "code",
   "execution_count": 940,
   "id": "569216e5",
   "metadata": {},
   "outputs": [
    {
     "data": {
      "text/plain": [
       "(array([0, 1], dtype=int64),)"
      ]
     },
     "execution_count": 940,
     "metadata": {},
     "output_type": "execute_result"
    }
   ],
   "source": [
    "indices = where(a <= 6) # returns a tuple; the array contains indices.\n",
    "indices"
   ]
  },
  {
   "cell_type": "code",
   "execution_count": 941,
   "id": "542c7d74",
   "metadata": {},
   "outputs": [
    {
     "data": {
      "text/plain": [
       "array([10, 20])"
      ]
     },
     "execution_count": 941,
     "metadata": {},
     "output_type": "execute_result"
    }
   ],
   "source": [
    "b[indices]"
   ]
  },
  {
   "cell_type": "code",
   "execution_count": 942,
   "id": "68d64abf",
   "metadata": {},
   "outputs": [
    {
     "data": {
      "text/plain": [
       "array([10, 20])"
      ]
     },
     "execution_count": 942,
     "metadata": {},
     "output_type": "execute_result"
    }
   ],
   "source": [
    "b[a <= 6] # an alternative syntax"
   ]
  },
  {
   "cell_type": "code",
   "execution_count": 943,
   "id": "e01360bc",
   "metadata": {},
   "outputs": [
    {
     "data": {
      "text/plain": [
       "(array([0, 0, 1, 1, 1], dtype=int64), array([0, 1, 0, 1, 2], dtype=int64))"
      ]
     },
     "execution_count": 943,
     "metadata": {},
     "output_type": "execute_result"
    }
   ],
   "source": [
    "d = array([[3,5,7,9],[2,4,6,8]])\n",
    "where(d <= 6) # tuple with first all the row indices, then all the column indices"
   ]
  },
  {
   "cell_type": "markdown",
   "id": "d544f238",
   "metadata": {},
   "source": [
    "# 216. zeros()"
   ]
  },
  {
   "cell_type": "code",
   "execution_count": 944,
   "id": "c0365d4a",
   "metadata": {},
   "outputs": [
    {
     "data": {
      "text/plain": [
       "array([0., 0., 0., 0.])"
      ]
     },
     "execution_count": 944,
     "metadata": {},
     "output_type": "execute_result"
    }
   ],
   "source": [
    "zeros(4)"
   ]
  },
  {
   "cell_type": "code",
   "execution_count": 945,
   "id": "bd4612ec",
   "metadata": {},
   "outputs": [
    {
     "data": {
      "text/plain": [
       "array([[0, 0, 0],\n",
       "       [0, 0, 0]])"
      ]
     },
     "execution_count": 945,
     "metadata": {},
     "output_type": "execute_result"
    }
   ],
   "source": [
    "zeros((2,3),int)"
   ]
  },
  {
   "cell_type": "markdown",
   "id": "566388ca",
   "metadata": {},
   "source": [
    "# 217. zeros_like()"
   ]
  },
  {
   "cell_type": "code",
   "execution_count": 946,
   "id": "d45dc677",
   "metadata": {},
   "outputs": [
    {
     "data": {
      "text/plain": [
       "array([[0, 0, 0],\n",
       "       [0, 0, 0]])"
      ]
     },
     "execution_count": 946,
     "metadata": {},
     "output_type": "execute_result"
    }
   ],
   "source": [
    "a = array([[1,2,3],[4,5,6]])\n",
    "zeros_like(a) # with zeros initialised array with the same shape and datatype as 'a'"
   ]
  },
  {
   "cell_type": "markdown",
   "id": "059d1f9f",
   "metadata": {},
   "source": [
    "# END"
   ]
  }
 ],
 "metadata": {
  "kernelspec": {
   "display_name": "Python 3 (ipykernel)",
   "language": "python",
   "name": "python3"
  },
  "language_info": {
   "codemirror_mode": {
    "name": "ipython",
    "version": 3
   },
   "file_extension": ".py",
   "mimetype": "text/x-python",
   "name": "python",
   "nbconvert_exporter": "python",
   "pygments_lexer": "ipython3",
   "version": "3.11.3"
  }
 },
 "nbformat": 4,
 "nbformat_minor": 5
}
