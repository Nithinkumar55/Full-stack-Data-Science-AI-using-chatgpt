{
 "cells": [
  {
   "cell_type": "markdown",
   "id": "f1c3677e",
   "metadata": {},
   "source": [
    "# TASK - 7 : read the dataset using help of pandas for (.csv || .excel || .html || .json)"
   ]
  },
  {
   "cell_type": "code",
   "execution_count": 1,
   "id": "59595d7f",
   "metadata": {},
   "outputs": [],
   "source": [
    "import pandas as pd"
   ]
  },
  {
   "cell_type": "markdown",
   "id": "ece43845",
   "metadata": {},
   "source": [
    "'''\n",
    "pandas is a software library written for the Python programming language for data manipulation and analysis. In particular, it offers data structures and operations for manipulating numerical tables and time series. It is free software released under the three-clause BSD license.\n",
    "'''"
   ]
  },
  {
   "cell_type": "markdown",
   "id": "bbc2f37d",
   "metadata": {},
   "source": [
    "# READ_CSV file"
   ]
  },
  {
   "cell_type": "markdown",
   "id": "04e1df24",
   "metadata": {},
   "source": [
    "For unicode error, use r as it allows to read raw string"
   ]
  },
  {
   "cell_type": "markdown",
   "id": "32fbaa0b",
   "metadata": {},
   "source": [
    "For Permission denied error, make sure to fill complete path including filename"
   ]
  },
  {
   "cell_type": "code",
   "execution_count": 22,
   "id": "1591403e",
   "metadata": {},
   "outputs": [],
   "source": [
    "superstore = pd.read_csv(r'C:\\Users\\nithi\\OneDrive\\Desktop\\Sample - Superstore_Orders.csv')"
   ]
  },
  {
   "cell_type": "code",
   "execution_count": 23,
   "id": "5d367bcd",
   "metadata": {},
   "outputs": [
    {
     "data": {
      "text/html": [
       "<div>\n",
       "<style scoped>\n",
       "    .dataframe tbody tr th:only-of-type {\n",
       "        vertical-align: middle;\n",
       "    }\n",
       "\n",
       "    .dataframe tbody tr th {\n",
       "        vertical-align: top;\n",
       "    }\n",
       "\n",
       "    .dataframe thead th {\n",
       "        text-align: right;\n",
       "    }\n",
       "</style>\n",
       "<table border=\"1\" class=\"dataframe\">\n",
       "  <thead>\n",
       "    <tr style=\"text-align: right;\">\n",
       "      <th></th>\n",
       "      <th>Category</th>\n",
       "      <th>City</th>\n",
       "      <th>Country/Region</th>\n",
       "      <th>Customer Name</th>\n",
       "      <th>Manufacturer</th>\n",
       "      <th>Order Date</th>\n",
       "      <th>Order ID</th>\n",
       "      <th>Postal Code</th>\n",
       "      <th>Product Name</th>\n",
       "      <th>Region</th>\n",
       "      <th>Segment</th>\n",
       "      <th>Ship Date</th>\n",
       "      <th>Ship Mode</th>\n",
       "      <th>State/Province</th>\n",
       "      <th>Sub-Category</th>\n",
       "      <th>Discount</th>\n",
       "      <th>Profit</th>\n",
       "      <th>Quantity</th>\n",
       "      <th>Sales</th>\n",
       "    </tr>\n",
       "  </thead>\n",
       "  <tbody>\n",
       "    <tr>\n",
       "      <th>0</th>\n",
       "      <td>Office Supplies</td>\n",
       "      <td>Houston</td>\n",
       "      <td>United States</td>\n",
       "      <td>Darren Powers</td>\n",
       "      <td>Message Book</td>\n",
       "      <td>03-01-2019</td>\n",
       "      <td>US-2019-103800</td>\n",
       "      <td>77095</td>\n",
       "      <td>Message Book, Wirebound, Four 5 1/2\" X 4\" Form...</td>\n",
       "      <td>Central</td>\n",
       "      <td>Consumer</td>\n",
       "      <td>07-01-2019</td>\n",
       "      <td>Standard Class</td>\n",
       "      <td>Texas</td>\n",
       "      <td>Paper</td>\n",
       "      <td>0.2</td>\n",
       "      <td>5.5512</td>\n",
       "      <td>2</td>\n",
       "      <td>16.448</td>\n",
       "    </tr>\n",
       "    <tr>\n",
       "      <th>1</th>\n",
       "      <td>Office Supplies</td>\n",
       "      <td>Naperville</td>\n",
       "      <td>United States</td>\n",
       "      <td>Phillina Ober</td>\n",
       "      <td>GBC</td>\n",
       "      <td>04-01-2019</td>\n",
       "      <td>US-2019-112326</td>\n",
       "      <td>60540</td>\n",
       "      <td>GBC Standard Plastic Binding Systems Combs</td>\n",
       "      <td>Central</td>\n",
       "      <td>Home Office</td>\n",
       "      <td>08-01-2019</td>\n",
       "      <td>Standard Class</td>\n",
       "      <td>Illinois</td>\n",
       "      <td>Binders</td>\n",
       "      <td>0.8</td>\n",
       "      <td>-5.4870</td>\n",
       "      <td>2</td>\n",
       "      <td>3.540</td>\n",
       "    </tr>\n",
       "    <tr>\n",
       "      <th>2</th>\n",
       "      <td>Office Supplies</td>\n",
       "      <td>Naperville</td>\n",
       "      <td>United States</td>\n",
       "      <td>Phillina Ober</td>\n",
       "      <td>Avery</td>\n",
       "      <td>04-01-2019</td>\n",
       "      <td>US-2019-112326</td>\n",
       "      <td>60540</td>\n",
       "      <td>Avery 508</td>\n",
       "      <td>Central</td>\n",
       "      <td>Home Office</td>\n",
       "      <td>08-01-2019</td>\n",
       "      <td>Standard Class</td>\n",
       "      <td>Illinois</td>\n",
       "      <td>Labels</td>\n",
       "      <td>0.2</td>\n",
       "      <td>4.2717</td>\n",
       "      <td>3</td>\n",
       "      <td>11.784</td>\n",
       "    </tr>\n",
       "    <tr>\n",
       "      <th>3</th>\n",
       "      <td>Office Supplies</td>\n",
       "      <td>Naperville</td>\n",
       "      <td>United States</td>\n",
       "      <td>Phillina Ober</td>\n",
       "      <td>SAFCO</td>\n",
       "      <td>04-01-2019</td>\n",
       "      <td>US-2019-112326</td>\n",
       "      <td>60540</td>\n",
       "      <td>SAFCO Boltless Steel Shelving</td>\n",
       "      <td>Central</td>\n",
       "      <td>Home Office</td>\n",
       "      <td>08-01-2019</td>\n",
       "      <td>Standard Class</td>\n",
       "      <td>Illinois</td>\n",
       "      <td>Storage</td>\n",
       "      <td>0.2</td>\n",
       "      <td>-64.7748</td>\n",
       "      <td>3</td>\n",
       "      <td>272.736</td>\n",
       "    </tr>\n",
       "    <tr>\n",
       "      <th>4</th>\n",
       "      <td>Office Supplies</td>\n",
       "      <td>Philadelphia</td>\n",
       "      <td>United States</td>\n",
       "      <td>Mick Brown</td>\n",
       "      <td>Avery</td>\n",
       "      <td>05-01-2019</td>\n",
       "      <td>US-2019-141817</td>\n",
       "      <td>19143</td>\n",
       "      <td>Avery Hi-Liter EverBold Pen Style Fluorescent ...</td>\n",
       "      <td>East</td>\n",
       "      <td>Consumer</td>\n",
       "      <td>12-01-2019</td>\n",
       "      <td>Standard Class</td>\n",
       "      <td>Pennsylvania</td>\n",
       "      <td>Art</td>\n",
       "      <td>0.2</td>\n",
       "      <td>4.8840</td>\n",
       "      <td>3</td>\n",
       "      <td>19.536</td>\n",
       "    </tr>\n",
       "    <tr>\n",
       "      <th>...</th>\n",
       "      <td>...</td>\n",
       "      <td>...</td>\n",
       "      <td>...</td>\n",
       "      <td>...</td>\n",
       "      <td>...</td>\n",
       "      <td>...</td>\n",
       "      <td>...</td>\n",
       "      <td>...</td>\n",
       "      <td>...</td>\n",
       "      <td>...</td>\n",
       "      <td>...</td>\n",
       "      <td>...</td>\n",
       "      <td>...</td>\n",
       "      <td>...</td>\n",
       "      <td>...</td>\n",
       "      <td>...</td>\n",
       "      <td>...</td>\n",
       "      <td>...</td>\n",
       "      <td>...</td>\n",
       "    </tr>\n",
       "    <tr>\n",
       "      <th>10189</th>\n",
       "      <td>Office Supplies</td>\n",
       "      <td>New York City</td>\n",
       "      <td>United States</td>\n",
       "      <td>Patrick O'Donnell</td>\n",
       "      <td>Wilson Jones</td>\n",
       "      <td>30-12-2022</td>\n",
       "      <td>US-2022-143259</td>\n",
       "      <td>10009</td>\n",
       "      <td>Wilson Jones Legal Size Ring Binders</td>\n",
       "      <td>East</td>\n",
       "      <td>Consumer</td>\n",
       "      <td>03-01-2023</td>\n",
       "      <td>Standard Class</td>\n",
       "      <td>New York</td>\n",
       "      <td>Binders</td>\n",
       "      <td>0.2</td>\n",
       "      <td>19.7910</td>\n",
       "      <td>3</td>\n",
       "      <td>52.776</td>\n",
       "    </tr>\n",
       "    <tr>\n",
       "      <th>10190</th>\n",
       "      <td>Office Supplies</td>\n",
       "      <td>Fairfield</td>\n",
       "      <td>United States</td>\n",
       "      <td>Erica Bern</td>\n",
       "      <td>GBC</td>\n",
       "      <td>30-12-2022</td>\n",
       "      <td>US-2022-115427</td>\n",
       "      <td>94533</td>\n",
       "      <td>GBC Binding covers</td>\n",
       "      <td>West</td>\n",
       "      <td>Corporate</td>\n",
       "      <td>03-01-2023</td>\n",
       "      <td>Standard Class</td>\n",
       "      <td>California</td>\n",
       "      <td>Binders</td>\n",
       "      <td>0.2</td>\n",
       "      <td>6.4750</td>\n",
       "      <td>2</td>\n",
       "      <td>20.720</td>\n",
       "    </tr>\n",
       "    <tr>\n",
       "      <th>10191</th>\n",
       "      <td>Office Supplies</td>\n",
       "      <td>Loveland</td>\n",
       "      <td>United States</td>\n",
       "      <td>Jill Matthias</td>\n",
       "      <td>Other</td>\n",
       "      <td>30-12-2022</td>\n",
       "      <td>US-2022-156720</td>\n",
       "      <td>80538</td>\n",
       "      <td>Bagged Rubber Bands</td>\n",
       "      <td>West</td>\n",
       "      <td>Consumer</td>\n",
       "      <td>03-01-2023</td>\n",
       "      <td>Standard Class</td>\n",
       "      <td>Colorado</td>\n",
       "      <td>Fasteners</td>\n",
       "      <td>0.2</td>\n",
       "      <td>-0.6048</td>\n",
       "      <td>3</td>\n",
       "      <td>3.024</td>\n",
       "    </tr>\n",
       "    <tr>\n",
       "      <th>10192</th>\n",
       "      <td>Technology</td>\n",
       "      <td>New York City</td>\n",
       "      <td>United States</td>\n",
       "      <td>Patrick O'Donnell</td>\n",
       "      <td>Other</td>\n",
       "      <td>30-12-2022</td>\n",
       "      <td>US-2022-143259</td>\n",
       "      <td>10009</td>\n",
       "      <td>Gear Head AU3700S Headset</td>\n",
       "      <td>East</td>\n",
       "      <td>Consumer</td>\n",
       "      <td>03-01-2023</td>\n",
       "      <td>Standard Class</td>\n",
       "      <td>New York</td>\n",
       "      <td>Phones</td>\n",
       "      <td>0.0</td>\n",
       "      <td>2.7279</td>\n",
       "      <td>7</td>\n",
       "      <td>90.930</td>\n",
       "    </tr>\n",
       "    <tr>\n",
       "      <th>10193</th>\n",
       "      <td>Office Supplies</td>\n",
       "      <td>Charlottetown</td>\n",
       "      <td>Canada</td>\n",
       "      <td>Harry Olson</td>\n",
       "      <td>Wilson Jones</td>\n",
       "      <td>30-12-2022</td>\n",
       "      <td>CA-2022-143500</td>\n",
       "      <td>C0A</td>\n",
       "      <td>Wilson Jones Impact Binders</td>\n",
       "      <td>East</td>\n",
       "      <td>Consumer</td>\n",
       "      <td>03-01-2023</td>\n",
       "      <td>Standard Class</td>\n",
       "      <td>Prince Edward Island</td>\n",
       "      <td>Binders</td>\n",
       "      <td>0.2</td>\n",
       "      <td>-0.6048</td>\n",
       "      <td>3</td>\n",
       "      <td>3.024</td>\n",
       "    </tr>\n",
       "  </tbody>\n",
       "</table>\n",
       "<p>10194 rows × 19 columns</p>\n",
       "</div>"
      ],
      "text/plain": [
       "              Category           City Country/Region      Customer Name  \\\n",
       "0      Office Supplies        Houston  United States      Darren Powers   \n",
       "1      Office Supplies     Naperville  United States      Phillina Ober   \n",
       "2      Office Supplies     Naperville  United States      Phillina Ober   \n",
       "3      Office Supplies     Naperville  United States      Phillina Ober   \n",
       "4      Office Supplies   Philadelphia  United States         Mick Brown   \n",
       "...                ...            ...            ...                ...   \n",
       "10189  Office Supplies  New York City  United States  Patrick O'Donnell   \n",
       "10190  Office Supplies      Fairfield  United States         Erica Bern   \n",
       "10191  Office Supplies       Loveland  United States      Jill Matthias   \n",
       "10192       Technology  New York City  United States  Patrick O'Donnell   \n",
       "10193  Office Supplies  Charlottetown         Canada        Harry Olson   \n",
       "\n",
       "       Manufacturer  Order Date        Order ID Postal Code  \\\n",
       "0      Message Book  03-01-2019  US-2019-103800       77095   \n",
       "1               GBC  04-01-2019  US-2019-112326       60540   \n",
       "2             Avery  04-01-2019  US-2019-112326       60540   \n",
       "3             SAFCO  04-01-2019  US-2019-112326       60540   \n",
       "4             Avery  05-01-2019  US-2019-141817       19143   \n",
       "...             ...         ...             ...         ...   \n",
       "10189  Wilson Jones  30-12-2022  US-2022-143259       10009   \n",
       "10190           GBC  30-12-2022  US-2022-115427       94533   \n",
       "10191         Other  30-12-2022  US-2022-156720       80538   \n",
       "10192         Other  30-12-2022  US-2022-143259       10009   \n",
       "10193  Wilson Jones  30-12-2022  CA-2022-143500         C0A   \n",
       "\n",
       "                                            Product Name   Region  \\\n",
       "0      Message Book, Wirebound, Four 5 1/2\" X 4\" Form...  Central   \n",
       "1             GBC Standard Plastic Binding Systems Combs  Central   \n",
       "2                                              Avery 508  Central   \n",
       "3                          SAFCO Boltless Steel Shelving  Central   \n",
       "4      Avery Hi-Liter EverBold Pen Style Fluorescent ...     East   \n",
       "...                                                  ...      ...   \n",
       "10189               Wilson Jones Legal Size Ring Binders     East   \n",
       "10190                                 GBC Binding covers     West   \n",
       "10191                                Bagged Rubber Bands     West   \n",
       "10192                          Gear Head AU3700S Headset     East   \n",
       "10193                        Wilson Jones Impact Binders     East   \n",
       "\n",
       "           Segment   Ship Date       Ship Mode        State/Province  \\\n",
       "0         Consumer  07-01-2019  Standard Class                 Texas   \n",
       "1      Home Office  08-01-2019  Standard Class              Illinois   \n",
       "2      Home Office  08-01-2019  Standard Class              Illinois   \n",
       "3      Home Office  08-01-2019  Standard Class              Illinois   \n",
       "4         Consumer  12-01-2019  Standard Class          Pennsylvania   \n",
       "...            ...         ...             ...                   ...   \n",
       "10189     Consumer  03-01-2023  Standard Class              New York   \n",
       "10190    Corporate  03-01-2023  Standard Class            California   \n",
       "10191     Consumer  03-01-2023  Standard Class              Colorado   \n",
       "10192     Consumer  03-01-2023  Standard Class              New York   \n",
       "10193     Consumer  03-01-2023  Standard Class  Prince Edward Island   \n",
       "\n",
       "      Sub-Category  Discount   Profit  Quantity    Sales  \n",
       "0            Paper       0.2   5.5512         2   16.448  \n",
       "1          Binders       0.8  -5.4870         2    3.540  \n",
       "2           Labels       0.2   4.2717         3   11.784  \n",
       "3          Storage       0.2 -64.7748         3  272.736  \n",
       "4              Art       0.2   4.8840         3   19.536  \n",
       "...            ...       ...      ...       ...      ...  \n",
       "10189      Binders       0.2  19.7910         3   52.776  \n",
       "10190      Binders       0.2   6.4750         2   20.720  \n",
       "10191    Fasteners       0.2  -0.6048         3    3.024  \n",
       "10192       Phones       0.0   2.7279         7   90.930  \n",
       "10193      Binders       0.2  -0.6048         3    3.024  \n",
       "\n",
       "[10194 rows x 19 columns]"
      ]
     },
     "execution_count": 23,
     "metadata": {},
     "output_type": "execute_result"
    }
   ],
   "source": [
    "superstore"
   ]
  },
  {
   "cell_type": "code",
   "execution_count": 24,
   "id": "213640a3",
   "metadata": {},
   "outputs": [
    {
     "data": {
      "text/plain": [
       "(10194, 19)"
      ]
     },
     "execution_count": 24,
     "metadata": {},
     "output_type": "execute_result"
    }
   ],
   "source": [
    "superstore.shape   #.shape gives dimension of data frame"
   ]
  },
  {
   "cell_type": "code",
   "execution_count": 25,
   "id": "7ac63e8d",
   "metadata": {},
   "outputs": [
    {
     "data": {
      "text/plain": [
       "Index(['Category', 'City', 'Country/Region', 'Customer Name', 'Manufacturer',\n",
       "       'Order Date', 'Order ID', 'Postal Code', 'Product Name', 'Region',\n",
       "       'Segment', 'Ship Date', 'Ship Mode', 'State/Province', 'Sub-Category',\n",
       "       'Discount', 'Profit', 'Quantity', 'Sales'],\n",
       "      dtype='object')"
      ]
     },
     "execution_count": 25,
     "metadata": {},
     "output_type": "execute_result"
    }
   ],
   "source": [
    "superstore.columns  # .columns gives list of columns, there is no attribute rows"
   ]
  },
  {
   "cell_type": "code",
   "execution_count": 26,
   "id": "75c60170",
   "metadata": {},
   "outputs": [
    {
     "data": {
      "text/plain": [
       "19"
      ]
     },
     "execution_count": 26,
     "metadata": {},
     "output_type": "execute_result"
    }
   ],
   "source": [
    "len(superstore.columns)"
   ]
  },
  {
   "cell_type": "code",
   "execution_count": 27,
   "id": "f0ff931a",
   "metadata": {},
   "outputs": [
    {
     "data": {
      "text/plain": [
       "10194"
      ]
     },
     "execution_count": 27,
     "metadata": {},
     "output_type": "execute_result"
    }
   ],
   "source": [
    "len(superstore)  #Return the number of items in a container."
   ]
  },
  {
   "cell_type": "code",
   "execution_count": 28,
   "id": "c6eede0b",
   "metadata": {},
   "outputs": [
    {
     "data": {
      "text/html": [
       "<div>\n",
       "<style scoped>\n",
       "    .dataframe tbody tr th:only-of-type {\n",
       "        vertical-align: middle;\n",
       "    }\n",
       "\n",
       "    .dataframe tbody tr th {\n",
       "        vertical-align: top;\n",
       "    }\n",
       "\n",
       "    .dataframe thead th {\n",
       "        text-align: right;\n",
       "    }\n",
       "</style>\n",
       "<table border=\"1\" class=\"dataframe\">\n",
       "  <thead>\n",
       "    <tr style=\"text-align: right;\">\n",
       "      <th></th>\n",
       "      <th>Category</th>\n",
       "      <th>City</th>\n",
       "      <th>Country/Region</th>\n",
       "      <th>Customer Name</th>\n",
       "      <th>Manufacturer</th>\n",
       "      <th>Order Date</th>\n",
       "      <th>Order ID</th>\n",
       "      <th>Postal Code</th>\n",
       "      <th>Product Name</th>\n",
       "      <th>Region</th>\n",
       "      <th>Segment</th>\n",
       "      <th>Ship Date</th>\n",
       "      <th>Ship Mode</th>\n",
       "      <th>State/Province</th>\n",
       "      <th>Sub-Category</th>\n",
       "      <th>Discount</th>\n",
       "      <th>Profit</th>\n",
       "      <th>Quantity</th>\n",
       "      <th>Sales</th>\n",
       "    </tr>\n",
       "  </thead>\n",
       "  <tbody>\n",
       "    <tr>\n",
       "      <th>0</th>\n",
       "      <td>Office Supplies</td>\n",
       "      <td>Houston</td>\n",
       "      <td>United States</td>\n",
       "      <td>Darren Powers</td>\n",
       "      <td>Message Book</td>\n",
       "      <td>03-01-2019</td>\n",
       "      <td>US-2019-103800</td>\n",
       "      <td>77095</td>\n",
       "      <td>Message Book, Wirebound, Four 5 1/2\" X 4\" Form...</td>\n",
       "      <td>Central</td>\n",
       "      <td>Consumer</td>\n",
       "      <td>07-01-2019</td>\n",
       "      <td>Standard Class</td>\n",
       "      <td>Texas</td>\n",
       "      <td>Paper</td>\n",
       "      <td>0.2</td>\n",
       "      <td>5.5512</td>\n",
       "      <td>2</td>\n",
       "      <td>16.448</td>\n",
       "    </tr>\n",
       "    <tr>\n",
       "      <th>1</th>\n",
       "      <td>Office Supplies</td>\n",
       "      <td>Naperville</td>\n",
       "      <td>United States</td>\n",
       "      <td>Phillina Ober</td>\n",
       "      <td>GBC</td>\n",
       "      <td>04-01-2019</td>\n",
       "      <td>US-2019-112326</td>\n",
       "      <td>60540</td>\n",
       "      <td>GBC Standard Plastic Binding Systems Combs</td>\n",
       "      <td>Central</td>\n",
       "      <td>Home Office</td>\n",
       "      <td>08-01-2019</td>\n",
       "      <td>Standard Class</td>\n",
       "      <td>Illinois</td>\n",
       "      <td>Binders</td>\n",
       "      <td>0.8</td>\n",
       "      <td>-5.4870</td>\n",
       "      <td>2</td>\n",
       "      <td>3.540</td>\n",
       "    </tr>\n",
       "    <tr>\n",
       "      <th>2</th>\n",
       "      <td>Office Supplies</td>\n",
       "      <td>Naperville</td>\n",
       "      <td>United States</td>\n",
       "      <td>Phillina Ober</td>\n",
       "      <td>Avery</td>\n",
       "      <td>04-01-2019</td>\n",
       "      <td>US-2019-112326</td>\n",
       "      <td>60540</td>\n",
       "      <td>Avery 508</td>\n",
       "      <td>Central</td>\n",
       "      <td>Home Office</td>\n",
       "      <td>08-01-2019</td>\n",
       "      <td>Standard Class</td>\n",
       "      <td>Illinois</td>\n",
       "      <td>Labels</td>\n",
       "      <td>0.2</td>\n",
       "      <td>4.2717</td>\n",
       "      <td>3</td>\n",
       "      <td>11.784</td>\n",
       "    </tr>\n",
       "    <tr>\n",
       "      <th>3</th>\n",
       "      <td>Office Supplies</td>\n",
       "      <td>Naperville</td>\n",
       "      <td>United States</td>\n",
       "      <td>Phillina Ober</td>\n",
       "      <td>SAFCO</td>\n",
       "      <td>04-01-2019</td>\n",
       "      <td>US-2019-112326</td>\n",
       "      <td>60540</td>\n",
       "      <td>SAFCO Boltless Steel Shelving</td>\n",
       "      <td>Central</td>\n",
       "      <td>Home Office</td>\n",
       "      <td>08-01-2019</td>\n",
       "      <td>Standard Class</td>\n",
       "      <td>Illinois</td>\n",
       "      <td>Storage</td>\n",
       "      <td>0.2</td>\n",
       "      <td>-64.7748</td>\n",
       "      <td>3</td>\n",
       "      <td>272.736</td>\n",
       "    </tr>\n",
       "    <tr>\n",
       "      <th>4</th>\n",
       "      <td>Office Supplies</td>\n",
       "      <td>Philadelphia</td>\n",
       "      <td>United States</td>\n",
       "      <td>Mick Brown</td>\n",
       "      <td>Avery</td>\n",
       "      <td>05-01-2019</td>\n",
       "      <td>US-2019-141817</td>\n",
       "      <td>19143</td>\n",
       "      <td>Avery Hi-Liter EverBold Pen Style Fluorescent ...</td>\n",
       "      <td>East</td>\n",
       "      <td>Consumer</td>\n",
       "      <td>12-01-2019</td>\n",
       "      <td>Standard Class</td>\n",
       "      <td>Pennsylvania</td>\n",
       "      <td>Art</td>\n",
       "      <td>0.2</td>\n",
       "      <td>4.8840</td>\n",
       "      <td>3</td>\n",
       "      <td>19.536</td>\n",
       "    </tr>\n",
       "  </tbody>\n",
       "</table>\n",
       "</div>"
      ],
      "text/plain": [
       "          Category          City Country/Region  Customer Name  Manufacturer  \\\n",
       "0  Office Supplies       Houston  United States  Darren Powers  Message Book   \n",
       "1  Office Supplies    Naperville  United States  Phillina Ober           GBC   \n",
       "2  Office Supplies    Naperville  United States  Phillina Ober         Avery   \n",
       "3  Office Supplies    Naperville  United States  Phillina Ober         SAFCO   \n",
       "4  Office Supplies  Philadelphia  United States     Mick Brown         Avery   \n",
       "\n",
       "   Order Date        Order ID Postal Code  \\\n",
       "0  03-01-2019  US-2019-103800       77095   \n",
       "1  04-01-2019  US-2019-112326       60540   \n",
       "2  04-01-2019  US-2019-112326       60540   \n",
       "3  04-01-2019  US-2019-112326       60540   \n",
       "4  05-01-2019  US-2019-141817       19143   \n",
       "\n",
       "                                        Product Name   Region      Segment  \\\n",
       "0  Message Book, Wirebound, Four 5 1/2\" X 4\" Form...  Central     Consumer   \n",
       "1         GBC Standard Plastic Binding Systems Combs  Central  Home Office   \n",
       "2                                          Avery 508  Central  Home Office   \n",
       "3                      SAFCO Boltless Steel Shelving  Central  Home Office   \n",
       "4  Avery Hi-Liter EverBold Pen Style Fluorescent ...     East     Consumer   \n",
       "\n",
       "    Ship Date       Ship Mode State/Province Sub-Category  Discount   Profit  \\\n",
       "0  07-01-2019  Standard Class          Texas        Paper       0.2   5.5512   \n",
       "1  08-01-2019  Standard Class       Illinois      Binders       0.8  -5.4870   \n",
       "2  08-01-2019  Standard Class       Illinois       Labels       0.2   4.2717   \n",
       "3  08-01-2019  Standard Class       Illinois      Storage       0.2 -64.7748   \n",
       "4  12-01-2019  Standard Class   Pennsylvania          Art       0.2   4.8840   \n",
       "\n",
       "   Quantity    Sales  \n",
       "0         2   16.448  \n",
       "1         2    3.540  \n",
       "2         3   11.784  \n",
       "3         3  272.736  \n",
       "4         3   19.536  "
      ]
     },
     "execution_count": 28,
     "metadata": {},
     "output_type": "execute_result"
    }
   ],
   "source": [
    "superstore.head()"
   ]
  },
  {
   "cell_type": "code",
   "execution_count": 29,
   "id": "0b8e3b0e",
   "metadata": {},
   "outputs": [
    {
     "data": {
      "text/html": [
       "<div>\n",
       "<style scoped>\n",
       "    .dataframe tbody tr th:only-of-type {\n",
       "        vertical-align: middle;\n",
       "    }\n",
       "\n",
       "    .dataframe tbody tr th {\n",
       "        vertical-align: top;\n",
       "    }\n",
       "\n",
       "    .dataframe thead th {\n",
       "        text-align: right;\n",
       "    }\n",
       "</style>\n",
       "<table border=\"1\" class=\"dataframe\">\n",
       "  <thead>\n",
       "    <tr style=\"text-align: right;\">\n",
       "      <th></th>\n",
       "      <th>Category</th>\n",
       "      <th>City</th>\n",
       "      <th>Country/Region</th>\n",
       "      <th>Customer Name</th>\n",
       "      <th>Manufacturer</th>\n",
       "      <th>Order Date</th>\n",
       "      <th>Order ID</th>\n",
       "      <th>Postal Code</th>\n",
       "      <th>Product Name</th>\n",
       "      <th>Region</th>\n",
       "      <th>Segment</th>\n",
       "      <th>Ship Date</th>\n",
       "      <th>Ship Mode</th>\n",
       "      <th>State/Province</th>\n",
       "      <th>Sub-Category</th>\n",
       "      <th>Discount</th>\n",
       "      <th>Profit</th>\n",
       "      <th>Quantity</th>\n",
       "      <th>Sales</th>\n",
       "    </tr>\n",
       "  </thead>\n",
       "  <tbody>\n",
       "    <tr>\n",
       "      <th>10189</th>\n",
       "      <td>Office Supplies</td>\n",
       "      <td>New York City</td>\n",
       "      <td>United States</td>\n",
       "      <td>Patrick O'Donnell</td>\n",
       "      <td>Wilson Jones</td>\n",
       "      <td>30-12-2022</td>\n",
       "      <td>US-2022-143259</td>\n",
       "      <td>10009</td>\n",
       "      <td>Wilson Jones Legal Size Ring Binders</td>\n",
       "      <td>East</td>\n",
       "      <td>Consumer</td>\n",
       "      <td>03-01-2023</td>\n",
       "      <td>Standard Class</td>\n",
       "      <td>New York</td>\n",
       "      <td>Binders</td>\n",
       "      <td>0.2</td>\n",
       "      <td>19.7910</td>\n",
       "      <td>3</td>\n",
       "      <td>52.776</td>\n",
       "    </tr>\n",
       "    <tr>\n",
       "      <th>10190</th>\n",
       "      <td>Office Supplies</td>\n",
       "      <td>Fairfield</td>\n",
       "      <td>United States</td>\n",
       "      <td>Erica Bern</td>\n",
       "      <td>GBC</td>\n",
       "      <td>30-12-2022</td>\n",
       "      <td>US-2022-115427</td>\n",
       "      <td>94533</td>\n",
       "      <td>GBC Binding covers</td>\n",
       "      <td>West</td>\n",
       "      <td>Corporate</td>\n",
       "      <td>03-01-2023</td>\n",
       "      <td>Standard Class</td>\n",
       "      <td>California</td>\n",
       "      <td>Binders</td>\n",
       "      <td>0.2</td>\n",
       "      <td>6.4750</td>\n",
       "      <td>2</td>\n",
       "      <td>20.720</td>\n",
       "    </tr>\n",
       "    <tr>\n",
       "      <th>10191</th>\n",
       "      <td>Office Supplies</td>\n",
       "      <td>Loveland</td>\n",
       "      <td>United States</td>\n",
       "      <td>Jill Matthias</td>\n",
       "      <td>Other</td>\n",
       "      <td>30-12-2022</td>\n",
       "      <td>US-2022-156720</td>\n",
       "      <td>80538</td>\n",
       "      <td>Bagged Rubber Bands</td>\n",
       "      <td>West</td>\n",
       "      <td>Consumer</td>\n",
       "      <td>03-01-2023</td>\n",
       "      <td>Standard Class</td>\n",
       "      <td>Colorado</td>\n",
       "      <td>Fasteners</td>\n",
       "      <td>0.2</td>\n",
       "      <td>-0.6048</td>\n",
       "      <td>3</td>\n",
       "      <td>3.024</td>\n",
       "    </tr>\n",
       "    <tr>\n",
       "      <th>10192</th>\n",
       "      <td>Technology</td>\n",
       "      <td>New York City</td>\n",
       "      <td>United States</td>\n",
       "      <td>Patrick O'Donnell</td>\n",
       "      <td>Other</td>\n",
       "      <td>30-12-2022</td>\n",
       "      <td>US-2022-143259</td>\n",
       "      <td>10009</td>\n",
       "      <td>Gear Head AU3700S Headset</td>\n",
       "      <td>East</td>\n",
       "      <td>Consumer</td>\n",
       "      <td>03-01-2023</td>\n",
       "      <td>Standard Class</td>\n",
       "      <td>New York</td>\n",
       "      <td>Phones</td>\n",
       "      <td>0.0</td>\n",
       "      <td>2.7279</td>\n",
       "      <td>7</td>\n",
       "      <td>90.930</td>\n",
       "    </tr>\n",
       "    <tr>\n",
       "      <th>10193</th>\n",
       "      <td>Office Supplies</td>\n",
       "      <td>Charlottetown</td>\n",
       "      <td>Canada</td>\n",
       "      <td>Harry Olson</td>\n",
       "      <td>Wilson Jones</td>\n",
       "      <td>30-12-2022</td>\n",
       "      <td>CA-2022-143500</td>\n",
       "      <td>C0A</td>\n",
       "      <td>Wilson Jones Impact Binders</td>\n",
       "      <td>East</td>\n",
       "      <td>Consumer</td>\n",
       "      <td>03-01-2023</td>\n",
       "      <td>Standard Class</td>\n",
       "      <td>Prince Edward Island</td>\n",
       "      <td>Binders</td>\n",
       "      <td>0.2</td>\n",
       "      <td>-0.6048</td>\n",
       "      <td>3</td>\n",
       "      <td>3.024</td>\n",
       "    </tr>\n",
       "  </tbody>\n",
       "</table>\n",
       "</div>"
      ],
      "text/plain": [
       "              Category           City Country/Region      Customer Name  \\\n",
       "10189  Office Supplies  New York City  United States  Patrick O'Donnell   \n",
       "10190  Office Supplies      Fairfield  United States         Erica Bern   \n",
       "10191  Office Supplies       Loveland  United States      Jill Matthias   \n",
       "10192       Technology  New York City  United States  Patrick O'Donnell   \n",
       "10193  Office Supplies  Charlottetown         Canada        Harry Olson   \n",
       "\n",
       "       Manufacturer  Order Date        Order ID Postal Code  \\\n",
       "10189  Wilson Jones  30-12-2022  US-2022-143259       10009   \n",
       "10190           GBC  30-12-2022  US-2022-115427       94533   \n",
       "10191         Other  30-12-2022  US-2022-156720       80538   \n",
       "10192         Other  30-12-2022  US-2022-143259       10009   \n",
       "10193  Wilson Jones  30-12-2022  CA-2022-143500         C0A   \n",
       "\n",
       "                               Product Name Region    Segment   Ship Date  \\\n",
       "10189  Wilson Jones Legal Size Ring Binders   East   Consumer  03-01-2023   \n",
       "10190                    GBC Binding covers   West  Corporate  03-01-2023   \n",
       "10191                   Bagged Rubber Bands   West   Consumer  03-01-2023   \n",
       "10192             Gear Head AU3700S Headset   East   Consumer  03-01-2023   \n",
       "10193           Wilson Jones Impact Binders   East   Consumer  03-01-2023   \n",
       "\n",
       "            Ship Mode        State/Province Sub-Category  Discount   Profit  \\\n",
       "10189  Standard Class              New York      Binders       0.2  19.7910   \n",
       "10190  Standard Class            California      Binders       0.2   6.4750   \n",
       "10191  Standard Class              Colorado    Fasteners       0.2  -0.6048   \n",
       "10192  Standard Class              New York       Phones       0.0   2.7279   \n",
       "10193  Standard Class  Prince Edward Island      Binders       0.2  -0.6048   \n",
       "\n",
       "       Quantity   Sales  \n",
       "10189         3  52.776  \n",
       "10190         2  20.720  \n",
       "10191         3   3.024  \n",
       "10192         7  90.930  \n",
       "10193         3   3.024  "
      ]
     },
     "execution_count": 29,
     "metadata": {},
     "output_type": "execute_result"
    }
   ],
   "source": [
    "superstore.tail()"
   ]
  },
  {
   "cell_type": "code",
   "execution_count": 35,
   "id": "16a3f8bd",
   "metadata": {},
   "outputs": [
    {
     "name": "stdout",
     "output_type": "stream",
     "text": [
      "<class 'pandas.core.frame.DataFrame'>\n",
      "RangeIndex: 10194 entries, 0 to 10193\n",
      "Data columns (total 19 columns):\n",
      " #   Column          Non-Null Count  Dtype  \n",
      "---  ------          --------------  -----  \n",
      " 0   Category        10194 non-null  object \n",
      " 1   City            10194 non-null  object \n",
      " 2   Country/Region  10194 non-null  object \n",
      " 3   Customer Name   10194 non-null  object \n",
      " 4   Manufacturer    10194 non-null  object \n",
      " 5   Order Date      10194 non-null  object \n",
      " 6   Order ID        10194 non-null  object \n",
      " 7   Postal Code     10194 non-null  object \n",
      " 8   Product Name    10194 non-null  object \n",
      " 9   Region          10194 non-null  object \n",
      " 10  Segment         10194 non-null  object \n",
      " 11  Ship Date       10194 non-null  object \n",
      " 12  Ship Mode       10194 non-null  object \n",
      " 13  State/Province  10194 non-null  object \n",
      " 14  Sub-Category    10194 non-null  object \n",
      " 15  Discount        10194 non-null  float64\n",
      " 16  Profit          10194 non-null  float64\n",
      " 17  Quantity        10194 non-null  int64  \n",
      " 18  Sales           10194 non-null  float64\n",
      "dtypes: float64(3), int64(1), object(15)\n",
      "memory usage: 1.5+ MB\n"
     ]
    }
   ],
   "source": [
    "superstore.info()"
   ]
  },
  {
   "cell_type": "code",
   "execution_count": 34,
   "id": "6015b5f1",
   "metadata": {},
   "outputs": [
    {
     "data": {
      "text/html": [
       "<div>\n",
       "<style scoped>\n",
       "    .dataframe tbody tr th:only-of-type {\n",
       "        vertical-align: middle;\n",
       "    }\n",
       "\n",
       "    .dataframe tbody tr th {\n",
       "        vertical-align: top;\n",
       "    }\n",
       "\n",
       "    .dataframe thead th {\n",
       "        text-align: right;\n",
       "    }\n",
       "</style>\n",
       "<table border=\"1\" class=\"dataframe\">\n",
       "  <thead>\n",
       "    <tr style=\"text-align: right;\">\n",
       "      <th></th>\n",
       "      <th>Discount</th>\n",
       "      <th>Profit</th>\n",
       "      <th>Quantity</th>\n",
       "      <th>Sales</th>\n",
       "    </tr>\n",
       "  </thead>\n",
       "  <tbody>\n",
       "    <tr>\n",
       "      <th>count</th>\n",
       "      <td>10194.000000</td>\n",
       "      <td>10194.000000</td>\n",
       "      <td>10194.000000</td>\n",
       "      <td>10194.000000</td>\n",
       "    </tr>\n",
       "    <tr>\n",
       "      <th>mean</th>\n",
       "      <td>0.155385</td>\n",
       "      <td>28.673417</td>\n",
       "      <td>3.791838</td>\n",
       "      <td>228.225854</td>\n",
       "    </tr>\n",
       "    <tr>\n",
       "      <th>std</th>\n",
       "      <td>0.206249</td>\n",
       "      <td>232.465115</td>\n",
       "      <td>2.228317</td>\n",
       "      <td>619.906839</td>\n",
       "    </tr>\n",
       "    <tr>\n",
       "      <th>min</th>\n",
       "      <td>0.000000</td>\n",
       "      <td>-6599.978000</td>\n",
       "      <td>1.000000</td>\n",
       "      <td>0.444000</td>\n",
       "    </tr>\n",
       "    <tr>\n",
       "      <th>25%</th>\n",
       "      <td>0.000000</td>\n",
       "      <td>1.760800</td>\n",
       "      <td>2.000000</td>\n",
       "      <td>17.220000</td>\n",
       "    </tr>\n",
       "    <tr>\n",
       "      <th>50%</th>\n",
       "      <td>0.200000</td>\n",
       "      <td>8.690000</td>\n",
       "      <td>3.000000</td>\n",
       "      <td>53.910000</td>\n",
       "    </tr>\n",
       "    <tr>\n",
       "      <th>75%</th>\n",
       "      <td>0.200000</td>\n",
       "      <td>29.297925</td>\n",
       "      <td>5.000000</td>\n",
       "      <td>209.500000</td>\n",
       "    </tr>\n",
       "    <tr>\n",
       "      <th>max</th>\n",
       "      <td>0.800000</td>\n",
       "      <td>8399.976000</td>\n",
       "      <td>14.000000</td>\n",
       "      <td>22638.480000</td>\n",
       "    </tr>\n",
       "  </tbody>\n",
       "</table>\n",
       "</div>"
      ],
      "text/plain": [
       "           Discount        Profit      Quantity         Sales\n",
       "count  10194.000000  10194.000000  10194.000000  10194.000000\n",
       "mean       0.155385     28.673417      3.791838    228.225854\n",
       "std        0.206249    232.465115      2.228317    619.906839\n",
       "min        0.000000  -6599.978000      1.000000      0.444000\n",
       "25%        0.000000      1.760800      2.000000     17.220000\n",
       "50%        0.200000      8.690000      3.000000     53.910000\n",
       "75%        0.200000     29.297925      5.000000    209.500000\n",
       "max        0.800000   8399.976000     14.000000  22638.480000"
      ]
     },
     "execution_count": 34,
     "metadata": {},
     "output_type": "execute_result"
    }
   ],
   "source": [
    "superstore.describe()"
   ]
  },
  {
   "cell_type": "code",
   "execution_count": 73,
   "id": "26e4646a",
   "metadata": {},
   "outputs": [
    {
     "data": {
      "text/plain": [
       "pandas.core.frame.DataFrame"
      ]
     },
     "execution_count": 73,
     "metadata": {},
     "output_type": "execute_result"
    }
   ],
   "source": [
    "type(superstore)"
   ]
  },
  {
   "cell_type": "code",
   "execution_count": null,
   "id": "a44f5807",
   "metadata": {},
   "outputs": [],
   "source": []
  },
  {
   "cell_type": "markdown",
   "id": "b24322d8",
   "metadata": {},
   "source": [
    "# READ_HTML file"
   ]
  },
  {
   "cell_type": "code",
   "execution_count": 3,
   "id": "d9b7c720",
   "metadata": {},
   "outputs": [],
   "source": [
    "import pandas as pd"
   ]
  },
  {
   "cell_type": "code",
   "execution_count": null,
   "id": "20e23054",
   "metadata": {},
   "outputs": [],
   "source": [
    "'''\n",
    "assuming there is at least one table in the file\n",
    "\n",
    "Keep in mind that the read_html function can extract multiple tables from a single HTML page, \n",
    "and it returns a list of DataFrames. You need to identify the appropriate DataFrame from the list based on your\n",
    "specific requirements.\n",
    "'''"
   ]
  },
  {
   "cell_type": "code",
   "execution_count": 40,
   "id": "7e3b55b4",
   "metadata": {},
   "outputs": [
    {
     "data": {
      "text/plain": [
       "[  Unnamed: 0_level_0 Average        Red eyes\n",
       "   Unnamed: 0_level_1  height weight Red eyes\n",
       " 0              Males     1.9  0.003      40%\n",
       " 1            Females     1.7  0.002      43%]"
      ]
     },
     "execution_count": 40,
     "metadata": {},
     "output_type": "execute_result"
    }
   ],
   "source": [
    "data1 = pd.read_html(r'C:\\Users\\nithi\\OneDrive\\Desktop\\dataa2.html')\n",
    "data1"
   ]
  },
  {
   "cell_type": "code",
   "execution_count": 100,
   "id": "f2f84280",
   "metadata": {},
   "outputs": [
    {
     "name": "stdout",
     "output_type": "stream",
     "text": [
      "1\n",
      "<class 'list'>\n"
     ]
    }
   ],
   "source": [
    "print(len(data1))\n",
    "print(type(data1))"
   ]
  },
  {
   "cell_type": "code",
   "execution_count": 77,
   "id": "ab93acf3",
   "metadata": {},
   "outputs": [
    {
     "data": {
      "text/html": [
       "<div>\n",
       "<style scoped>\n",
       "    .dataframe tbody tr th:only-of-type {\n",
       "        vertical-align: middle;\n",
       "    }\n",
       "\n",
       "    .dataframe tbody tr th {\n",
       "        vertical-align: top;\n",
       "    }\n",
       "\n",
       "    .dataframe thead tr th {\n",
       "        text-align: left;\n",
       "    }\n",
       "</style>\n",
       "<table border=\"1\" class=\"dataframe\">\n",
       "  <thead>\n",
       "    <tr>\n",
       "      <th></th>\n",
       "      <th>Unnamed: 0_level_0</th>\n",
       "      <th colspan=\"2\" halign=\"left\">Average</th>\n",
       "      <th>Red eyes</th>\n",
       "    </tr>\n",
       "    <tr>\n",
       "      <th></th>\n",
       "      <th>Unnamed: 0_level_1</th>\n",
       "      <th>height</th>\n",
       "      <th>weight</th>\n",
       "      <th>Red eyes</th>\n",
       "    </tr>\n",
       "  </thead>\n",
       "  <tbody>\n",
       "    <tr>\n",
       "      <th>0</th>\n",
       "      <td>Males</td>\n",
       "      <td>1.9</td>\n",
       "      <td>0.003</td>\n",
       "      <td>40%</td>\n",
       "    </tr>\n",
       "    <tr>\n",
       "      <th>1</th>\n",
       "      <td>Females</td>\n",
       "      <td>1.7</td>\n",
       "      <td>0.002</td>\n",
       "      <td>43%</td>\n",
       "    </tr>\n",
       "  </tbody>\n",
       "</table>\n",
       "</div>"
      ],
      "text/plain": [
       "  Unnamed: 0_level_0 Average        Red eyes\n",
       "  Unnamed: 0_level_1  height weight Red eyes\n",
       "0              Males     1.9  0.003      40%\n",
       "1            Females     1.7  0.002      43%"
      ]
     },
     "execution_count": 77,
     "metadata": {},
     "output_type": "execute_result"
    }
   ],
   "source": [
    "df = data1[0]  # Access the first table (assuming there is at least one table in the file)\n",
    "df"
   ]
  },
  {
   "cell_type": "code",
   "execution_count": 79,
   "id": "495ce1b7",
   "metadata": {},
   "outputs": [
    {
     "data": {
      "text/plain": [
       "pandas.core.frame.DataFrame"
      ]
     },
     "execution_count": 79,
     "metadata": {},
     "output_type": "execute_result"
    }
   ],
   "source": [
    "type(df)"
   ]
  },
  {
   "cell_type": "code",
   "execution_count": 96,
   "id": "1ba3b648",
   "metadata": {},
   "outputs": [
    {
     "data": {
      "text/plain": [
       "2"
      ]
     },
     "execution_count": 96,
     "metadata": {},
     "output_type": "execute_result"
    }
   ],
   "source": [
    "len(df)"
   ]
  },
  {
   "cell_type": "code",
   "execution_count": 103,
   "id": "c12fa57d",
   "metadata": {},
   "outputs": [
    {
     "name": "stdout",
     "output_type": "stream",
     "text": [
      "MultiIndex([('Unnamed: 0_level_0', 'Unnamed: 0_level_1'),\n",
      "            (           'Average',             'height'),\n",
      "            (           'Average',             'weight'),\n",
      "            (          'Red eyes',           'Red eyes')],\n",
      "           )\n"
     ]
    }
   ],
   "source": [
    "print(df.columns)\n"
   ]
  },
  {
   "cell_type": "code",
   "execution_count": 81,
   "id": "c909633d",
   "metadata": {},
   "outputs": [
    {
     "data": {
      "text/html": [
       "<div>\n",
       "<style scoped>\n",
       "    .dataframe tbody tr th:only-of-type {\n",
       "        vertical-align: middle;\n",
       "    }\n",
       "\n",
       "    .dataframe tbody tr th {\n",
       "        vertical-align: top;\n",
       "    }\n",
       "\n",
       "    .dataframe thead tr th {\n",
       "        text-align: left;\n",
       "    }\n",
       "</style>\n",
       "<table border=\"1\" class=\"dataframe\">\n",
       "  <thead>\n",
       "    <tr>\n",
       "      <th></th>\n",
       "      <th colspan=\"2\" halign=\"left\">Average</th>\n",
       "    </tr>\n",
       "    <tr>\n",
       "      <th></th>\n",
       "      <th>height</th>\n",
       "      <th>weight</th>\n",
       "    </tr>\n",
       "  </thead>\n",
       "  <tbody>\n",
       "    <tr>\n",
       "      <th>count</th>\n",
       "      <td>2.000000</td>\n",
       "      <td>2.000000</td>\n",
       "    </tr>\n",
       "    <tr>\n",
       "      <th>mean</th>\n",
       "      <td>1.800000</td>\n",
       "      <td>0.002500</td>\n",
       "    </tr>\n",
       "    <tr>\n",
       "      <th>std</th>\n",
       "      <td>0.141421</td>\n",
       "      <td>0.000707</td>\n",
       "    </tr>\n",
       "    <tr>\n",
       "      <th>min</th>\n",
       "      <td>1.700000</td>\n",
       "      <td>0.002000</td>\n",
       "    </tr>\n",
       "    <tr>\n",
       "      <th>25%</th>\n",
       "      <td>1.750000</td>\n",
       "      <td>0.002250</td>\n",
       "    </tr>\n",
       "    <tr>\n",
       "      <th>50%</th>\n",
       "      <td>1.800000</td>\n",
       "      <td>0.002500</td>\n",
       "    </tr>\n",
       "    <tr>\n",
       "      <th>75%</th>\n",
       "      <td>1.850000</td>\n",
       "      <td>0.002750</td>\n",
       "    </tr>\n",
       "    <tr>\n",
       "      <th>max</th>\n",
       "      <td>1.900000</td>\n",
       "      <td>0.003000</td>\n",
       "    </tr>\n",
       "  </tbody>\n",
       "</table>\n",
       "</div>"
      ],
      "text/plain": [
       "        Average          \n",
       "         height    weight\n",
       "count  2.000000  2.000000\n",
       "mean   1.800000  0.002500\n",
       "std    0.141421  0.000707\n",
       "min    1.700000  0.002000\n",
       "25%    1.750000  0.002250\n",
       "50%    1.800000  0.002500\n",
       "75%    1.850000  0.002750\n",
       "max    1.900000  0.003000"
      ]
     },
     "execution_count": 81,
     "metadata": {},
     "output_type": "execute_result"
    }
   ],
   "source": [
    "df.describe() # Perform operations on the DataFrame"
   ]
  },
  {
   "cell_type": "code",
   "execution_count": 82,
   "id": "0db09ffe",
   "metadata": {},
   "outputs": [
    {
     "data": {
      "text/html": [
       "<div>\n",
       "<style scoped>\n",
       "    .dataframe tbody tr th:only-of-type {\n",
       "        vertical-align: middle;\n",
       "    }\n",
       "\n",
       "    .dataframe tbody tr th {\n",
       "        vertical-align: top;\n",
       "    }\n",
       "\n",
       "    .dataframe thead tr th {\n",
       "        text-align: left;\n",
       "    }\n",
       "</style>\n",
       "<table border=\"1\" class=\"dataframe\">\n",
       "  <thead>\n",
       "    <tr>\n",
       "      <th></th>\n",
       "      <th>Unnamed: 0_level_0</th>\n",
       "      <th colspan=\"2\" halign=\"left\">Average</th>\n",
       "      <th>Red eyes</th>\n",
       "    </tr>\n",
       "    <tr>\n",
       "      <th></th>\n",
       "      <th>Unnamed: 0_level_1</th>\n",
       "      <th>height</th>\n",
       "      <th>weight</th>\n",
       "      <th>Red eyes</th>\n",
       "    </tr>\n",
       "  </thead>\n",
       "  <tbody>\n",
       "    <tr>\n",
       "      <th>0</th>\n",
       "      <td>Males</td>\n",
       "      <td>1.9</td>\n",
       "      <td>0.003</td>\n",
       "      <td>40%</td>\n",
       "    </tr>\n",
       "    <tr>\n",
       "      <th>1</th>\n",
       "      <td>Females</td>\n",
       "      <td>1.7</td>\n",
       "      <td>0.002</td>\n",
       "      <td>43%</td>\n",
       "    </tr>\n",
       "  </tbody>\n",
       "</table>\n",
       "</div>"
      ],
      "text/plain": [
       "  Unnamed: 0_level_0 Average        Red eyes\n",
       "  Unnamed: 0_level_1  height weight Red eyes\n",
       "0              Males     1.9  0.003      40%\n",
       "1            Females     1.7  0.002      43%"
      ]
     },
     "execution_count": 82,
     "metadata": {},
     "output_type": "execute_result"
    }
   ],
   "source": [
    "df.head()"
   ]
  },
  {
   "cell_type": "code",
   "execution_count": 95,
   "id": "2a730075",
   "metadata": {},
   "outputs": [
    {
     "data": {
      "text/html": [
       "<div>\n",
       "<style scoped>\n",
       "    .dataframe tbody tr th:only-of-type {\n",
       "        vertical-align: middle;\n",
       "    }\n",
       "\n",
       "    .dataframe tbody tr th {\n",
       "        vertical-align: top;\n",
       "    }\n",
       "\n",
       "    .dataframe thead tr th {\n",
       "        text-align: left;\n",
       "    }\n",
       "</style>\n",
       "<table border=\"1\" class=\"dataframe\">\n",
       "  <thead>\n",
       "    <tr>\n",
       "      <th></th>\n",
       "      <th>Unnamed: 0_level_0</th>\n",
       "      <th colspan=\"2\" halign=\"left\">Average</th>\n",
       "      <th>Red eyes</th>\n",
       "    </tr>\n",
       "    <tr>\n",
       "      <th></th>\n",
       "      <th>Unnamed: 0_level_1</th>\n",
       "      <th>height</th>\n",
       "      <th>weight</th>\n",
       "      <th>Red eyes</th>\n",
       "    </tr>\n",
       "  </thead>\n",
       "  <tbody>\n",
       "    <tr>\n",
       "      <th>0</th>\n",
       "      <td>Males</td>\n",
       "      <td>1.9</td>\n",
       "      <td>0.003</td>\n",
       "      <td>40%</td>\n",
       "    </tr>\n",
       "    <tr>\n",
       "      <th>1</th>\n",
       "      <td>Females</td>\n",
       "      <td>1.7</td>\n",
       "      <td>0.002</td>\n",
       "      <td>43%</td>\n",
       "    </tr>\n",
       "  </tbody>\n",
       "</table>\n",
       "</div>"
      ],
      "text/plain": [
       "  Unnamed: 0_level_0 Average        Red eyes\n",
       "  Unnamed: 0_level_1  height weight Red eyes\n",
       "0              Males     1.9  0.003      40%\n",
       "1            Females     1.7  0.002      43%"
      ]
     },
     "execution_count": 95,
     "metadata": {},
     "output_type": "execute_result"
    }
   ],
   "source": [
    "df.tail()"
   ]
  },
  {
   "cell_type": "code",
   "execution_count": 93,
   "id": "0a72f7bc",
   "metadata": {},
   "outputs": [
    {
     "name": "stdout",
     "output_type": "stream",
     "text": [
      "<class 'pandas.core.frame.DataFrame'>\n",
      "RangeIndex: 2 entries, 0 to 1\n",
      "Data columns (total 4 columns):\n",
      " #   Column                                    Non-Null Count  Dtype  \n",
      "---  ------                                    --------------  -----  \n",
      " 0   (Unnamed: 0_level_0, Unnamed: 0_level_1)  2 non-null      object \n",
      " 1   (Average, height)                         2 non-null      float64\n",
      " 2   (Average, weight)                         2 non-null      float64\n",
      " 3   (Red eyes, Red eyes)                      2 non-null      object \n",
      "dtypes: float64(2), object(2)\n",
      "memory usage: 196.0+ bytes\n",
      "None\n"
     ]
    }
   ],
   "source": [
    "print(df.info())"
   ]
  },
  {
   "cell_type": "code",
   "execution_count": null,
   "id": "202e94a0",
   "metadata": {},
   "outputs": [],
   "source": []
  },
  {
   "cell_type": "code",
   "execution_count": 76,
   "id": "b4da0aa4",
   "metadata": {},
   "outputs": [
    {
     "data": {
      "text/plain": [
       "[          0         1         2\n",
       " 0  Column 1  Column 2  Column 3\n",
       " 1  Column 1  Column 2  Column 3\n",
       " 2  Column 1  Column 2  Column 3]"
      ]
     },
     "execution_count": 76,
     "metadata": {},
     "output_type": "execute_result"
    }
   ],
   "source": [
    "infoo = pd.read_html(r'C:\\Users\\nithi\\OneDrive\\Desktop\\xyz.html')\n",
    "infoo"
   ]
  },
  {
   "cell_type": "code",
   "execution_count": 61,
   "id": "43e7a38c",
   "metadata": {},
   "outputs": [
    {
     "data": {
      "text/plain": [
       "list"
      ]
     },
     "execution_count": 61,
     "metadata": {},
     "output_type": "execute_result"
    }
   ],
   "source": [
    "type(infoo)"
   ]
  },
  {
   "cell_type": "code",
   "execution_count": 104,
   "id": "346738de",
   "metadata": {},
   "outputs": [
    {
     "data": {
      "text/html": [
       "<div>\n",
       "<style scoped>\n",
       "    .dataframe tbody tr th:only-of-type {\n",
       "        vertical-align: middle;\n",
       "    }\n",
       "\n",
       "    .dataframe tbody tr th {\n",
       "        vertical-align: top;\n",
       "    }\n",
       "\n",
       "    .dataframe thead th {\n",
       "        text-align: right;\n",
       "    }\n",
       "</style>\n",
       "<table border=\"1\" class=\"dataframe\">\n",
       "  <thead>\n",
       "    <tr style=\"text-align: right;\">\n",
       "      <th></th>\n",
       "      <th>0</th>\n",
       "      <th>1</th>\n",
       "      <th>2</th>\n",
       "    </tr>\n",
       "  </thead>\n",
       "  <tbody>\n",
       "    <tr>\n",
       "      <th>0</th>\n",
       "      <td>Column 1</td>\n",
       "      <td>Column 2</td>\n",
       "      <td>Column 3</td>\n",
       "    </tr>\n",
       "    <tr>\n",
       "      <th>1</th>\n",
       "      <td>Column 1</td>\n",
       "      <td>Column 2</td>\n",
       "      <td>Column 3</td>\n",
       "    </tr>\n",
       "    <tr>\n",
       "      <th>2</th>\n",
       "      <td>Column 1</td>\n",
       "      <td>Column 2</td>\n",
       "      <td>Column 3</td>\n",
       "    </tr>\n",
       "  </tbody>\n",
       "</table>\n",
       "</div>"
      ],
      "text/plain": [
       "          0         1         2\n",
       "0  Column 1  Column 2  Column 3\n",
       "1  Column 1  Column 2  Column 3\n",
       "2  Column 1  Column 2  Column 3"
      ]
     },
     "execution_count": 104,
     "metadata": {},
     "output_type": "execute_result"
    }
   ],
   "source": [
    "df = infoo[0]\n",
    "df"
   ]
  },
  {
   "cell_type": "code",
   "execution_count": 105,
   "id": "ce5727aa",
   "metadata": {},
   "outputs": [
    {
     "data": {
      "text/plain": [
       "pandas.core.frame.DataFrame"
      ]
     },
     "execution_count": 105,
     "metadata": {},
     "output_type": "execute_result"
    }
   ],
   "source": [
    "type(df)"
   ]
  },
  {
   "cell_type": "code",
   "execution_count": 109,
   "id": "7aef8f6c",
   "metadata": {},
   "outputs": [
    {
     "data": {
      "text/plain": [
       "Int64Index([0, 1, 2], dtype='int64')"
      ]
     },
     "execution_count": 109,
     "metadata": {},
     "output_type": "execute_result"
    }
   ],
   "source": [
    "df.columns"
   ]
  },
  {
   "cell_type": "code",
   "execution_count": 110,
   "id": "5948b5ec",
   "metadata": {},
   "outputs": [
    {
     "data": {
      "text/plain": [
       "(3, 3)"
      ]
     },
     "execution_count": 110,
     "metadata": {},
     "output_type": "execute_result"
    }
   ],
   "source": [
    "df.shape"
   ]
  },
  {
   "cell_type": "code",
   "execution_count": null,
   "id": "f7b4213d",
   "metadata": {},
   "outputs": [],
   "source": []
  },
  {
   "cell_type": "markdown",
   "id": "99d9fa89",
   "metadata": {},
   "source": [
    "# READ_JSON file"
   ]
  },
  {
   "cell_type": "code",
   "execution_count": 57,
   "id": "54c076f0",
   "metadata": {},
   "outputs": [],
   "source": [
    "import pandas as pd\n",
    "asphalt2= pd.read_json(r'C:\\Users\\nithi\\Downloads\\asphalt2.json')"
   ]
  },
  {
   "cell_type": "code",
   "execution_count": 58,
   "id": "3215d9ff",
   "metadata": {},
   "outputs": [
    {
     "data": {
      "text/html": [
       "<div>\n",
       "<style scoped>\n",
       "    .dataframe tbody tr th:only-of-type {\n",
       "        vertical-align: middle;\n",
       "    }\n",
       "\n",
       "    .dataframe tbody tr th {\n",
       "        vertical-align: top;\n",
       "    }\n",
       "\n",
       "    .dataframe thead th {\n",
       "        text-align: right;\n",
       "    }\n",
       "</style>\n",
       "<table border=\"1\" class=\"dataframe\">\n",
       "  <thead>\n",
       "    <tr style=\"text-align: right;\">\n",
       "      <th></th>\n",
       "      <th>quiz</th>\n",
       "    </tr>\n",
       "  </thead>\n",
       "  <tbody>\n",
       "    <tr>\n",
       "      <th>maths</th>\n",
       "      <td>{'q1': {'question': '5 + 7 = ?', 'options': ['...</td>\n",
       "    </tr>\n",
       "    <tr>\n",
       "      <th>sport</th>\n",
       "      <td>{'q1': {'question': 'Which one is correct team...</td>\n",
       "    </tr>\n",
       "  </tbody>\n",
       "</table>\n",
       "</div>"
      ],
      "text/plain": [
       "                                                    quiz\n",
       "maths  {'q1': {'question': '5 + 7 = ?', 'options': ['...\n",
       "sport  {'q1': {'question': 'Which one is correct team..."
      ]
     },
     "execution_count": 58,
     "metadata": {},
     "output_type": "execute_result"
    }
   ],
   "source": [
    "asphalt2"
   ]
  },
  {
   "cell_type": "code",
   "execution_count": 59,
   "id": "e584367b",
   "metadata": {},
   "outputs": [
    {
     "data": {
      "text/plain": [
       "(2, 1)"
      ]
     },
     "execution_count": 59,
     "metadata": {},
     "output_type": "execute_result"
    }
   ],
   "source": [
    "asphalt2.shape"
   ]
  },
  {
   "cell_type": "code",
   "execution_count": 60,
   "id": "27c0ed64",
   "metadata": {},
   "outputs": [
    {
     "data": {
      "text/plain": [
       "Index(['quiz'], dtype='object')"
      ]
     },
     "execution_count": 60,
     "metadata": {},
     "output_type": "execute_result"
    }
   ],
   "source": [
    "asphalt2.columns"
   ]
  },
  {
   "cell_type": "code",
   "execution_count": 12,
   "id": "244b4dc0",
   "metadata": {},
   "outputs": [
    {
     "data": {
      "text/plain": [
       "1"
      ]
     },
     "execution_count": 12,
     "metadata": {},
     "output_type": "execute_result"
    }
   ],
   "source": [
    "len(asphalt2.columns)"
   ]
  },
  {
   "cell_type": "code",
   "execution_count": 62,
   "id": "1888e84c",
   "metadata": {},
   "outputs": [
    {
     "data": {
      "text/plain": [
       "2"
      ]
     },
     "execution_count": 62,
     "metadata": {},
     "output_type": "execute_result"
    }
   ],
   "source": [
    "len(asphalt2)"
   ]
  },
  {
   "cell_type": "code",
   "execution_count": 63,
   "id": "0b6c5be3",
   "metadata": {},
   "outputs": [
    {
     "data": {
      "text/plain": [
       "pandas.core.frame.DataFrame"
      ]
     },
     "execution_count": 63,
     "metadata": {},
     "output_type": "execute_result"
    }
   ],
   "source": [
    "type(asphalt2)"
   ]
  },
  {
   "cell_type": "code",
   "execution_count": 111,
   "id": "b0975b43",
   "metadata": {},
   "outputs": [
    {
     "data": {
      "text/html": [
       "<div>\n",
       "<style scoped>\n",
       "    .dataframe tbody tr th:only-of-type {\n",
       "        vertical-align: middle;\n",
       "    }\n",
       "\n",
       "    .dataframe tbody tr th {\n",
       "        vertical-align: top;\n",
       "    }\n",
       "\n",
       "    .dataframe thead th {\n",
       "        text-align: right;\n",
       "    }\n",
       "</style>\n",
       "<table border=\"1\" class=\"dataframe\">\n",
       "  <thead>\n",
       "    <tr style=\"text-align: right;\">\n",
       "      <th></th>\n",
       "      <th>quiz</th>\n",
       "    </tr>\n",
       "  </thead>\n",
       "  <tbody>\n",
       "    <tr>\n",
       "      <th>count</th>\n",
       "      <td>2</td>\n",
       "    </tr>\n",
       "    <tr>\n",
       "      <th>unique</th>\n",
       "      <td>2</td>\n",
       "    </tr>\n",
       "    <tr>\n",
       "      <th>top</th>\n",
       "      <td>{'q1': {'question': '5 + 7 = ?', 'options': ['...</td>\n",
       "    </tr>\n",
       "    <tr>\n",
       "      <th>freq</th>\n",
       "      <td>1</td>\n",
       "    </tr>\n",
       "  </tbody>\n",
       "</table>\n",
       "</div>"
      ],
      "text/plain": [
       "                                                     quiz\n",
       "count                                                   2\n",
       "unique                                                  2\n",
       "top     {'q1': {'question': '5 + 7 = ?', 'options': ['...\n",
       "freq                                                    1"
      ]
     },
     "execution_count": 111,
     "metadata": {},
     "output_type": "execute_result"
    }
   ],
   "source": [
    "asphalt2.describe()"
   ]
  },
  {
   "cell_type": "code",
   "execution_count": null,
   "id": "5bf404d8",
   "metadata": {},
   "outputs": [],
   "source": []
  },
  {
   "cell_type": "markdown",
   "id": "d56f5233",
   "metadata": {},
   "source": [
    "# READ_XLSX file\n"
   ]
  },
  {
   "cell_type": "code",
   "execution_count": 64,
   "id": "a0cd3db5",
   "metadata": {},
   "outputs": [],
   "source": [
    "import pandas as pd"
   ]
  },
  {
   "cell_type": "code",
   "execution_count": 65,
   "id": "ac897258",
   "metadata": {},
   "outputs": [],
   "source": [
    "data=pd.read_excel(r'C:\\Users\\nithi\\OneDrive\\Desktop\\sample.xlsx')"
   ]
  },
  {
   "cell_type": "code",
   "execution_count": 66,
   "id": "b159b4b5",
   "metadata": {},
   "outputs": [
    {
     "data": {
      "text/html": [
       "<div>\n",
       "<style scoped>\n",
       "    .dataframe tbody tr th:only-of-type {\n",
       "        vertical-align: middle;\n",
       "    }\n",
       "\n",
       "    .dataframe tbody tr th {\n",
       "        vertical-align: top;\n",
       "    }\n",
       "\n",
       "    .dataframe thead th {\n",
       "        text-align: right;\n",
       "    }\n",
       "</style>\n",
       "<table border=\"1\" class=\"dataframe\">\n",
       "  <thead>\n",
       "    <tr style=\"text-align: right;\">\n",
       "      <th></th>\n",
       "      <th>Unnamed: 0</th>\n",
       "      <th>Unnamed: 1</th>\n",
       "      <th>Unnamed: 2</th>\n",
       "      <th>Unnamed: 3</th>\n",
       "      <th>Unnamed: 4</th>\n",
       "    </tr>\n",
       "  </thead>\n",
       "  <tbody>\n",
       "    <tr>\n",
       "      <th>0</th>\n",
       "      <td>NaN</td>\n",
       "      <td>NaN</td>\n",
       "      <td>NaN</td>\n",
       "      <td>NaN</td>\n",
       "      <td>NaN</td>\n",
       "    </tr>\n",
       "    <tr>\n",
       "      <th>1</th>\n",
       "      <td>NaN</td>\n",
       "      <td>NaN</td>\n",
       "      <td>NaN</td>\n",
       "      <td>Excel 2007 (xlsx) Sample Worksheet</td>\n",
       "      <td>NaN</td>\n",
       "    </tr>\n",
       "    <tr>\n",
       "      <th>2</th>\n",
       "      <td>NaN</td>\n",
       "      <td>NaN</td>\n",
       "      <td>NaN</td>\n",
       "      <td>Created with Microsoft Excel 2007 SP1</td>\n",
       "      <td>NaN</td>\n",
       "    </tr>\n",
       "    <tr>\n",
       "      <th>3</th>\n",
       "      <td>NaN</td>\n",
       "      <td>NaN</td>\n",
       "      <td>NaN</td>\n",
       "      <td>NaN</td>\n",
       "      <td>NaN</td>\n",
       "    </tr>\n",
       "    <tr>\n",
       "      <th>4</th>\n",
       "      <td>NaN</td>\n",
       "      <td>NaN</td>\n",
       "      <td>NaN</td>\n",
       "      <td>X</td>\n",
       "      <td>Y</td>\n",
       "    </tr>\n",
       "    <tr>\n",
       "      <th>5</th>\n",
       "      <td>NaN</td>\n",
       "      <td>NaN</td>\n",
       "      <td>NaN</td>\n",
       "      <td>0.718521</td>\n",
       "      <td>0.916826</td>\n",
       "    </tr>\n",
       "    <tr>\n",
       "      <th>6</th>\n",
       "      <td>NaN</td>\n",
       "      <td>NaN</td>\n",
       "      <td>NaN</td>\n",
       "      <td>0.488513</td>\n",
       "      <td>0.675336</td>\n",
       "    </tr>\n",
       "    <tr>\n",
       "      <th>7</th>\n",
       "      <td>NaN</td>\n",
       "      <td>NaN</td>\n",
       "      <td>NaN</td>\n",
       "      <td>0.982756</td>\n",
       "      <td>0.975685</td>\n",
       "    </tr>\n",
       "    <tr>\n",
       "      <th>8</th>\n",
       "      <td>NaN</td>\n",
       "      <td>NaN</td>\n",
       "      <td>NaN</td>\n",
       "      <td>0.599483</td>\n",
       "      <td>0.195164</td>\n",
       "    </tr>\n",
       "    <tr>\n",
       "      <th>9</th>\n",
       "      <td>NaN</td>\n",
       "      <td>NaN</td>\n",
       "      <td>NaN</td>\n",
       "      <td>0.192747</td>\n",
       "      <td>0.089876</td>\n",
       "    </tr>\n",
       "    <tr>\n",
       "      <th>10</th>\n",
       "      <td>NaN</td>\n",
       "      <td>NaN</td>\n",
       "      <td>NaN</td>\n",
       "      <td>0.173891</td>\n",
       "      <td>0.292433</td>\n",
       "    </tr>\n",
       "    <tr>\n",
       "      <th>11</th>\n",
       "      <td>NaN</td>\n",
       "      <td>NaN</td>\n",
       "      <td>NaN</td>\n",
       "      <td>0.256903</td>\n",
       "      <td>0.24113</td>\n",
       "    </tr>\n",
       "    <tr>\n",
       "      <th>12</th>\n",
       "      <td>NaN</td>\n",
       "      <td>NaN</td>\n",
       "      <td>NaN</td>\n",
       "      <td>0.790662</td>\n",
       "      <td>0.421155</td>\n",
       "    </tr>\n",
       "    <tr>\n",
       "      <th>13</th>\n",
       "      <td>NaN</td>\n",
       "      <td>NaN</td>\n",
       "      <td>NaN</td>\n",
       "      <td>0.558927</td>\n",
       "      <td>0.528088</td>\n",
       "    </tr>\n",
       "    <tr>\n",
       "      <th>14</th>\n",
       "      <td>NaN</td>\n",
       "      <td>NaN</td>\n",
       "      <td>NaN</td>\n",
       "      <td>0.036697</td>\n",
       "      <td>0.740989</td>\n",
       "    </tr>\n",
       "    <tr>\n",
       "      <th>15</th>\n",
       "      <td>NaN</td>\n",
       "      <td>NaN</td>\n",
       "      <td>NaN</td>\n",
       "      <td>0.434829</td>\n",
       "      <td>0.585719</td>\n",
       "    </tr>\n",
       "    <tr>\n",
       "      <th>16</th>\n",
       "      <td>NaN</td>\n",
       "      <td>NaN</td>\n",
       "      <td>NaN</td>\n",
       "      <td>0.925647</td>\n",
       "      <td>0.578595</td>\n",
       "    </tr>\n",
       "    <tr>\n",
       "      <th>17</th>\n",
       "      <td>NaN</td>\n",
       "      <td>NaN</td>\n",
       "      <td>NaN</td>\n",
       "      <td>0.085392</td>\n",
       "      <td>0.62102</td>\n",
       "    </tr>\n",
       "    <tr>\n",
       "      <th>18</th>\n",
       "      <td>NaN</td>\n",
       "      <td>NaN</td>\n",
       "      <td>NaN</td>\n",
       "      <td>0.424134</td>\n",
       "      <td>0.511223</td>\n",
       "    </tr>\n",
       "    <tr>\n",
       "      <th>19</th>\n",
       "      <td>NaN</td>\n",
       "      <td>NaN</td>\n",
       "      <td>NaN</td>\n",
       "      <td>0.199393</td>\n",
       "      <td>0.8332</td>\n",
       "    </tr>\n",
       "    <tr>\n",
       "      <th>20</th>\n",
       "      <td>NaN</td>\n",
       "      <td>NaN</td>\n",
       "      <td>NaN</td>\n",
       "      <td>0.24813</td>\n",
       "      <td>0.682089</td>\n",
       "    </tr>\n",
       "    <tr>\n",
       "      <th>21</th>\n",
       "      <td>NaN</td>\n",
       "      <td>NaN</td>\n",
       "      <td>NaN</td>\n",
       "      <td>0.355641</td>\n",
       "      <td>0.147124</td>\n",
       "    </tr>\n",
       "  </tbody>\n",
       "</table>\n",
       "</div>"
      ],
      "text/plain": [
       "    Unnamed: 0  Unnamed: 1  Unnamed: 2                             Unnamed: 3  \\\n",
       "0          NaN         NaN         NaN                                    NaN   \n",
       "1          NaN         NaN         NaN     Excel 2007 (xlsx) Sample Worksheet   \n",
       "2          NaN         NaN         NaN  Created with Microsoft Excel 2007 SP1   \n",
       "3          NaN         NaN         NaN                                    NaN   \n",
       "4          NaN         NaN         NaN                                      X   \n",
       "5          NaN         NaN         NaN                               0.718521   \n",
       "6          NaN         NaN         NaN                               0.488513   \n",
       "7          NaN         NaN         NaN                               0.982756   \n",
       "8          NaN         NaN         NaN                               0.599483   \n",
       "9          NaN         NaN         NaN                               0.192747   \n",
       "10         NaN         NaN         NaN                               0.173891   \n",
       "11         NaN         NaN         NaN                               0.256903   \n",
       "12         NaN         NaN         NaN                               0.790662   \n",
       "13         NaN         NaN         NaN                               0.558927   \n",
       "14         NaN         NaN         NaN                               0.036697   \n",
       "15         NaN         NaN         NaN                               0.434829   \n",
       "16         NaN         NaN         NaN                               0.925647   \n",
       "17         NaN         NaN         NaN                               0.085392   \n",
       "18         NaN         NaN         NaN                               0.424134   \n",
       "19         NaN         NaN         NaN                               0.199393   \n",
       "20         NaN         NaN         NaN                                0.24813   \n",
       "21         NaN         NaN         NaN                               0.355641   \n",
       "\n",
       "   Unnamed: 4  \n",
       "0         NaN  \n",
       "1         NaN  \n",
       "2         NaN  \n",
       "3         NaN  \n",
       "4           Y  \n",
       "5    0.916826  \n",
       "6    0.675336  \n",
       "7    0.975685  \n",
       "8    0.195164  \n",
       "9    0.089876  \n",
       "10   0.292433  \n",
       "11    0.24113  \n",
       "12   0.421155  \n",
       "13   0.528088  \n",
       "14   0.740989  \n",
       "15   0.585719  \n",
       "16   0.578595  \n",
       "17    0.62102  \n",
       "18   0.511223  \n",
       "19     0.8332  \n",
       "20   0.682089  \n",
       "21   0.147124  "
      ]
     },
     "execution_count": 66,
     "metadata": {},
     "output_type": "execute_result"
    }
   ],
   "source": [
    "data"
   ]
  },
  {
   "cell_type": "code",
   "execution_count": 67,
   "id": "a6a40e8a",
   "metadata": {},
   "outputs": [
    {
     "data": {
      "text/html": [
       "<div>\n",
       "<style scoped>\n",
       "    .dataframe tbody tr th:only-of-type {\n",
       "        vertical-align: middle;\n",
       "    }\n",
       "\n",
       "    .dataframe tbody tr th {\n",
       "        vertical-align: top;\n",
       "    }\n",
       "\n",
       "    .dataframe thead th {\n",
       "        text-align: right;\n",
       "    }\n",
       "</style>\n",
       "<table border=\"1\" class=\"dataframe\">\n",
       "  <thead>\n",
       "    <tr style=\"text-align: right;\">\n",
       "      <th></th>\n",
       "      <th>Unnamed: 0</th>\n",
       "      <th>Unnamed: 1</th>\n",
       "      <th>Unnamed: 2</th>\n",
       "      <th>Unnamed: 3</th>\n",
       "      <th>Unnamed: 4</th>\n",
       "    </tr>\n",
       "  </thead>\n",
       "  <tbody>\n",
       "    <tr>\n",
       "      <th>0</th>\n",
       "      <td>NaN</td>\n",
       "      <td>NaN</td>\n",
       "      <td>NaN</td>\n",
       "      <td>NaN</td>\n",
       "      <td>NaN</td>\n",
       "    </tr>\n",
       "    <tr>\n",
       "      <th>1</th>\n",
       "      <td>NaN</td>\n",
       "      <td>NaN</td>\n",
       "      <td>NaN</td>\n",
       "      <td>Excel 2007 (xlsx) Sample Worksheet</td>\n",
       "      <td>NaN</td>\n",
       "    </tr>\n",
       "    <tr>\n",
       "      <th>2</th>\n",
       "      <td>NaN</td>\n",
       "      <td>NaN</td>\n",
       "      <td>NaN</td>\n",
       "      <td>Created with Microsoft Excel 2007 SP1</td>\n",
       "      <td>NaN</td>\n",
       "    </tr>\n",
       "    <tr>\n",
       "      <th>3</th>\n",
       "      <td>NaN</td>\n",
       "      <td>NaN</td>\n",
       "      <td>NaN</td>\n",
       "      <td>NaN</td>\n",
       "      <td>NaN</td>\n",
       "    </tr>\n",
       "    <tr>\n",
       "      <th>4</th>\n",
       "      <td>NaN</td>\n",
       "      <td>NaN</td>\n",
       "      <td>NaN</td>\n",
       "      <td>X</td>\n",
       "      <td>Y</td>\n",
       "    </tr>\n",
       "  </tbody>\n",
       "</table>\n",
       "</div>"
      ],
      "text/plain": [
       "   Unnamed: 0  Unnamed: 1  Unnamed: 2                             Unnamed: 3  \\\n",
       "0         NaN         NaN         NaN                                    NaN   \n",
       "1         NaN         NaN         NaN     Excel 2007 (xlsx) Sample Worksheet   \n",
       "2         NaN         NaN         NaN  Created with Microsoft Excel 2007 SP1   \n",
       "3         NaN         NaN         NaN                                    NaN   \n",
       "4         NaN         NaN         NaN                                      X   \n",
       "\n",
       "  Unnamed: 4  \n",
       "0        NaN  \n",
       "1        NaN  \n",
       "2        NaN  \n",
       "3        NaN  \n",
       "4          Y  "
      ]
     },
     "execution_count": 67,
     "metadata": {},
     "output_type": "execute_result"
    }
   ],
   "source": [
    "data.head()"
   ]
  },
  {
   "cell_type": "code",
   "execution_count": 68,
   "id": "43cdea25",
   "metadata": {},
   "outputs": [
    {
     "data": {
      "text/html": [
       "<div>\n",
       "<style scoped>\n",
       "    .dataframe tbody tr th:only-of-type {\n",
       "        vertical-align: middle;\n",
       "    }\n",
       "\n",
       "    .dataframe tbody tr th {\n",
       "        vertical-align: top;\n",
       "    }\n",
       "\n",
       "    .dataframe thead th {\n",
       "        text-align: right;\n",
       "    }\n",
       "</style>\n",
       "<table border=\"1\" class=\"dataframe\">\n",
       "  <thead>\n",
       "    <tr style=\"text-align: right;\">\n",
       "      <th></th>\n",
       "      <th>Unnamed: 0</th>\n",
       "      <th>Unnamed: 1</th>\n",
       "      <th>Unnamed: 2</th>\n",
       "      <th>Unnamed: 3</th>\n",
       "      <th>Unnamed: 4</th>\n",
       "    </tr>\n",
       "  </thead>\n",
       "  <tbody>\n",
       "    <tr>\n",
       "      <th>17</th>\n",
       "      <td>NaN</td>\n",
       "      <td>NaN</td>\n",
       "      <td>NaN</td>\n",
       "      <td>0.085392</td>\n",
       "      <td>0.62102</td>\n",
       "    </tr>\n",
       "    <tr>\n",
       "      <th>18</th>\n",
       "      <td>NaN</td>\n",
       "      <td>NaN</td>\n",
       "      <td>NaN</td>\n",
       "      <td>0.424134</td>\n",
       "      <td>0.511223</td>\n",
       "    </tr>\n",
       "    <tr>\n",
       "      <th>19</th>\n",
       "      <td>NaN</td>\n",
       "      <td>NaN</td>\n",
       "      <td>NaN</td>\n",
       "      <td>0.199393</td>\n",
       "      <td>0.8332</td>\n",
       "    </tr>\n",
       "    <tr>\n",
       "      <th>20</th>\n",
       "      <td>NaN</td>\n",
       "      <td>NaN</td>\n",
       "      <td>NaN</td>\n",
       "      <td>0.24813</td>\n",
       "      <td>0.682089</td>\n",
       "    </tr>\n",
       "    <tr>\n",
       "      <th>21</th>\n",
       "      <td>NaN</td>\n",
       "      <td>NaN</td>\n",
       "      <td>NaN</td>\n",
       "      <td>0.355641</td>\n",
       "      <td>0.147124</td>\n",
       "    </tr>\n",
       "  </tbody>\n",
       "</table>\n",
       "</div>"
      ],
      "text/plain": [
       "    Unnamed: 0  Unnamed: 1  Unnamed: 2 Unnamed: 3 Unnamed: 4\n",
       "17         NaN         NaN         NaN   0.085392    0.62102\n",
       "18         NaN         NaN         NaN   0.424134   0.511223\n",
       "19         NaN         NaN         NaN   0.199393     0.8332\n",
       "20         NaN         NaN         NaN    0.24813   0.682089\n",
       "21         NaN         NaN         NaN   0.355641   0.147124"
      ]
     },
     "execution_count": 68,
     "metadata": {},
     "output_type": "execute_result"
    }
   ],
   "source": [
    "data.tail()"
   ]
  },
  {
   "cell_type": "code",
   "execution_count": 69,
   "id": "c1d16f9e",
   "metadata": {},
   "outputs": [
    {
     "data": {
      "text/plain": [
       "<bound method DataFrame.info of     Unnamed: 0  Unnamed: 1  Unnamed: 2                             Unnamed: 3  \\\n",
       "0          NaN         NaN         NaN                                    NaN   \n",
       "1          NaN         NaN         NaN     Excel 2007 (xlsx) Sample Worksheet   \n",
       "2          NaN         NaN         NaN  Created with Microsoft Excel 2007 SP1   \n",
       "3          NaN         NaN         NaN                                    NaN   \n",
       "4          NaN         NaN         NaN                                      X   \n",
       "5          NaN         NaN         NaN                               0.718521   \n",
       "6          NaN         NaN         NaN                               0.488513   \n",
       "7          NaN         NaN         NaN                               0.982756   \n",
       "8          NaN         NaN         NaN                               0.599483   \n",
       "9          NaN         NaN         NaN                               0.192747   \n",
       "10         NaN         NaN         NaN                               0.173891   \n",
       "11         NaN         NaN         NaN                               0.256903   \n",
       "12         NaN         NaN         NaN                               0.790662   \n",
       "13         NaN         NaN         NaN                               0.558927   \n",
       "14         NaN         NaN         NaN                               0.036697   \n",
       "15         NaN         NaN         NaN                               0.434829   \n",
       "16         NaN         NaN         NaN                               0.925647   \n",
       "17         NaN         NaN         NaN                               0.085392   \n",
       "18         NaN         NaN         NaN                               0.424134   \n",
       "19         NaN         NaN         NaN                               0.199393   \n",
       "20         NaN         NaN         NaN                                0.24813   \n",
       "21         NaN         NaN         NaN                               0.355641   \n",
       "\n",
       "   Unnamed: 4  \n",
       "0         NaN  \n",
       "1         NaN  \n",
       "2         NaN  \n",
       "3         NaN  \n",
       "4           Y  \n",
       "5    0.916826  \n",
       "6    0.675336  \n",
       "7    0.975685  \n",
       "8    0.195164  \n",
       "9    0.089876  \n",
       "10   0.292433  \n",
       "11    0.24113  \n",
       "12   0.421155  \n",
       "13   0.528088  \n",
       "14   0.740989  \n",
       "15   0.585719  \n",
       "16   0.578595  \n",
       "17    0.62102  \n",
       "18   0.511223  \n",
       "19     0.8332  \n",
       "20   0.682089  \n",
       "21   0.147124  >"
      ]
     },
     "execution_count": 69,
     "metadata": {},
     "output_type": "execute_result"
    }
   ],
   "source": [
    "data.info"
   ]
  },
  {
   "cell_type": "code",
   "execution_count": 70,
   "id": "695f211c",
   "metadata": {},
   "outputs": [
    {
     "data": {
      "text/html": [
       "<div>\n",
       "<style scoped>\n",
       "    .dataframe tbody tr th:only-of-type {\n",
       "        vertical-align: middle;\n",
       "    }\n",
       "\n",
       "    .dataframe tbody tr th {\n",
       "        vertical-align: top;\n",
       "    }\n",
       "\n",
       "    .dataframe thead th {\n",
       "        text-align: right;\n",
       "    }\n",
       "</style>\n",
       "<table border=\"1\" class=\"dataframe\">\n",
       "  <thead>\n",
       "    <tr style=\"text-align: right;\">\n",
       "      <th></th>\n",
       "      <th>Unnamed: 0</th>\n",
       "      <th>Unnamed: 1</th>\n",
       "      <th>Unnamed: 2</th>\n",
       "    </tr>\n",
       "  </thead>\n",
       "  <tbody>\n",
       "    <tr>\n",
       "      <th>count</th>\n",
       "      <td>0.0</td>\n",
       "      <td>0.0</td>\n",
       "      <td>0.0</td>\n",
       "    </tr>\n",
       "    <tr>\n",
       "      <th>mean</th>\n",
       "      <td>NaN</td>\n",
       "      <td>NaN</td>\n",
       "      <td>NaN</td>\n",
       "    </tr>\n",
       "    <tr>\n",
       "      <th>std</th>\n",
       "      <td>NaN</td>\n",
       "      <td>NaN</td>\n",
       "      <td>NaN</td>\n",
       "    </tr>\n",
       "    <tr>\n",
       "      <th>min</th>\n",
       "      <td>NaN</td>\n",
       "      <td>NaN</td>\n",
       "      <td>NaN</td>\n",
       "    </tr>\n",
       "    <tr>\n",
       "      <th>25%</th>\n",
       "      <td>NaN</td>\n",
       "      <td>NaN</td>\n",
       "      <td>NaN</td>\n",
       "    </tr>\n",
       "    <tr>\n",
       "      <th>50%</th>\n",
       "      <td>NaN</td>\n",
       "      <td>NaN</td>\n",
       "      <td>NaN</td>\n",
       "    </tr>\n",
       "    <tr>\n",
       "      <th>75%</th>\n",
       "      <td>NaN</td>\n",
       "      <td>NaN</td>\n",
       "      <td>NaN</td>\n",
       "    </tr>\n",
       "    <tr>\n",
       "      <th>max</th>\n",
       "      <td>NaN</td>\n",
       "      <td>NaN</td>\n",
       "      <td>NaN</td>\n",
       "    </tr>\n",
       "  </tbody>\n",
       "</table>\n",
       "</div>"
      ],
      "text/plain": [
       "       Unnamed: 0  Unnamed: 1  Unnamed: 2\n",
       "count         0.0         0.0         0.0\n",
       "mean          NaN         NaN         NaN\n",
       "std           NaN         NaN         NaN\n",
       "min           NaN         NaN         NaN\n",
       "25%           NaN         NaN         NaN\n",
       "50%           NaN         NaN         NaN\n",
       "75%           NaN         NaN         NaN\n",
       "max           NaN         NaN         NaN"
      ]
     },
     "execution_count": 70,
     "metadata": {},
     "output_type": "execute_result"
    }
   ],
   "source": [
    "data.describe()"
   ]
  },
  {
   "cell_type": "code",
   "execution_count": 71,
   "id": "e8eecd13",
   "metadata": {},
   "outputs": [
    {
     "data": {
      "text/plain": [
       "(22, 5)"
      ]
     },
     "execution_count": 71,
     "metadata": {},
     "output_type": "execute_result"
    }
   ],
   "source": [
    "data.shape"
   ]
  },
  {
   "cell_type": "code",
   "execution_count": 72,
   "id": "6d6c64d1",
   "metadata": {},
   "outputs": [
    {
     "data": {
      "text/plain": [
       "pandas.core.frame.DataFrame"
      ]
     },
     "execution_count": 72,
     "metadata": {},
     "output_type": "execute_result"
    }
   ],
   "source": [
    "type(data)"
   ]
  },
  {
   "cell_type": "code",
   "execution_count": null,
   "id": "e92e0a1f",
   "metadata": {},
   "outputs": [],
   "source": []
  }
 ],
 "metadata": {
  "kernelspec": {
   "display_name": "Python 3 (ipykernel)",
   "language": "python",
   "name": "python3"
  },
  "language_info": {
   "codemirror_mode": {
    "name": "ipython",
    "version": 3
   },
   "file_extension": ".py",
   "mimetype": "text/x-python",
   "name": "python",
   "nbconvert_exporter": "python",
   "pygments_lexer": "ipython3",
   "version": "3.11.3"
  }
 },
 "nbformat": 4,
 "nbformat_minor": 5
}
