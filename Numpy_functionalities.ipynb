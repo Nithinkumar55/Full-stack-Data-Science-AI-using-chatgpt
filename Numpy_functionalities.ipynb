{
 "cells": [
  {
   "cell_type": "markdown",
   "id": "5c3f1ee5",
   "metadata": {},
   "source": [
    "# Numpy_Example_list"
   ]
  },
  {
   "cell_type": "markdown",
   "id": "d7bbb57b",
   "metadata": {},
   "source": [
    "11-7-23"
   ]
  },
  {
   "cell_type": "markdown",
   "id": "efee3ca9",
   "metadata": {},
   "source": [
    "\n",
    "1.  ...\n"
   ]
  },
  {
   "cell_type": "code",
   "execution_count": 1,
   "id": "85bad222",
   "metadata": {},
   "outputs": [
    {
     "data": {
      "text/plain": [
       "array([ 0,  1,  2,  3,  4,  5,  6,  7,  8,  9, 10, 11, 12])"
      ]
     },
     "execution_count": 1,
     "metadata": {},
     "output_type": "execute_result"
    }
   ],
   "source": [
    "#1. ...\n",
    "import numpy as np\n",
    "a = np.arange(13)\n",
    "a"
   ]
  },
  {
   "cell_type": "code",
   "execution_count": 2,
   "id": "d66da8f9",
   "metadata": {},
   "outputs": [
    {
     "name": "stdout",
     "output_type": "stream",
     "text": [
      "[[[ 0  1]\n",
      "  [ 2  3]]\n",
      "\n",
      " [[ 4  5]\n",
      "  [ 6  7]]\n",
      "\n",
      " [[ 8  9]\n",
      "  [10 11]]]\n"
     ]
    }
   ],
   "source": [
    "from numpy import *\n",
    "a = arange(12)\n",
    "a = a.reshape(3,2,2)\n",
    "print(a)"
   ]
  },
  {
   "cell_type": "code",
   "execution_count": 3,
   "id": "54a12d15",
   "metadata": {},
   "outputs": [],
   "source": [
    "b = np.arange(15)\n"
   ]
  },
  {
   "cell_type": "code",
   "execution_count": 4,
   "id": "b3bd782c",
   "metadata": {},
   "outputs": [
    {
     "data": {
      "text/plain": [
       "array([[ 0,  2],\n",
       "       [ 4,  6],\n",
       "       [ 8, 10]])"
      ]
     },
     "execution_count": 4,
     "metadata": {},
     "output_type": "execute_result"
    }
   ],
   "source": [
    "a[...,0]"
   ]
  },
  {
   "cell_type": "code",
   "execution_count": 5,
   "id": "999f98d5",
   "metadata": {},
   "outputs": [
    {
     "data": {
      "text/plain": [
       "array([[ 0,  2],\n",
       "       [ 4,  6],\n",
       "       [ 8, 10]])"
      ]
     },
     "execution_count": 5,
     "metadata": {},
     "output_type": "execute_result"
    }
   ],
   "source": [
    "a[:,:,0]"
   ]
  },
  {
   "cell_type": "code",
   "execution_count": 6,
   "id": "98d0b8e2",
   "metadata": {},
   "outputs": [
    {
     "data": {
      "text/plain": [
       "array([[[ 0,  1],\n",
       "        [ 2,  3]],\n",
       "\n",
       "       [[ 4,  5],\n",
       "        [ 6,  7]],\n",
       "\n",
       "       [[ 8,  9],\n",
       "        [10, 11]]])"
      ]
     },
     "execution_count": 6,
     "metadata": {},
     "output_type": "execute_result"
    }
   ],
   "source": [
    "a"
   ]
  },
  {
   "cell_type": "code",
   "execution_count": 7,
   "id": "d0fc270a",
   "metadata": {},
   "outputs": [
    {
     "data": {
      "text/plain": [
       "array([[[ 4,  5],\n",
       "        [ 6,  7]],\n",
       "\n",
       "       [[ 8,  9],\n",
       "        [10, 11]]])"
      ]
     },
     "execution_count": 7,
     "metadata": {},
     "output_type": "execute_result"
    }
   ],
   "source": [
    "a[1:]"
   ]
  },
  {
   "cell_type": "code",
   "execution_count": 8,
   "id": "bf045b5d",
   "metadata": {},
   "outputs": [
    {
     "data": {
      "text/plain": [
       "array([[[ 4,  5],\n",
       "        [ 6,  7]],\n",
       "\n",
       "       [[ 8,  9],\n",
       "        [10, 11]]])"
      ]
     },
     "execution_count": 8,
     "metadata": {},
     "output_type": "execute_result"
    }
   ],
   "source": [
    "a[1:,...]"
   ]
  },
  {
   "cell_type": "code",
   "execution_count": 9,
   "id": "e7c94e47",
   "metadata": {},
   "outputs": [
    {
     "data": {
      "text/plain": [
       "array([[[ 0],\n",
       "        [ 1],\n",
       "        [ 2],\n",
       "        [ 3],\n",
       "        [ 4]],\n",
       "\n",
       "       [[ 5],\n",
       "        [ 6],\n",
       "        [ 7],\n",
       "        [ 8],\n",
       "        [ 9]],\n",
       "\n",
       "       [[10],\n",
       "        [11],\n",
       "        [12],\n",
       "        [13],\n",
       "        [14]]])"
      ]
     },
     "execution_count": 9,
     "metadata": {},
     "output_type": "execute_result"
    }
   ],
   "source": [
    "from numpy import *\n",
    "b= arange(15)\n",
    "b= b.reshape(3,5,1)\n",
    "b"
   ]
  },
  {
   "cell_type": "code",
   "execution_count": 10,
   "id": "9128e035",
   "metadata": {},
   "outputs": [
    {
     "data": {
      "text/plain": [
       "array([[[0],\n",
       "        [1],\n",
       "        [2],\n",
       "        [3],\n",
       "        [4]],\n",
       "\n",
       "       [[5],\n",
       "        [6],\n",
       "        [7],\n",
       "        [8],\n",
       "        [9]]])"
      ]
     },
     "execution_count": 10,
     "metadata": {},
     "output_type": "execute_result"
    }
   ],
   "source": [
    "\n",
    "c= arange(10)\n",
    "c= c.reshape(2,5,1)\n",
    "c"
   ]
  },
  {
   "cell_type": "code",
   "execution_count": 11,
   "id": "a6200f92",
   "metadata": {},
   "outputs": [
    {
     "data": {
      "text/plain": [
       "array([[[0],\n",
       "        [1],\n",
       "        [2],\n",
       "        [3],\n",
       "        [4]],\n",
       "\n",
       "       [[5],\n",
       "        [6],\n",
       "        [7],\n",
       "        [8],\n",
       "        [9]]])"
      ]
     },
     "execution_count": 11,
     "metadata": {},
     "output_type": "execute_result"
    }
   ],
   "source": [
    "c"
   ]
  },
  {
   "cell_type": "code",
   "execution_count": 12,
   "id": "eb87d32c",
   "metadata": {},
   "outputs": [
    {
     "data": {
      "text/plain": [
       "array([[[5],\n",
       "        [6],\n",
       "        [7],\n",
       "        [8],\n",
       "        [9]]])"
      ]
     },
     "execution_count": 12,
     "metadata": {},
     "output_type": "execute_result"
    }
   ],
   "source": [
    "c[1:]"
   ]
  },
  {
   "cell_type": "code",
   "execution_count": 13,
   "id": "9c64e4fa",
   "metadata": {},
   "outputs": [
    {
     "data": {
      "text/plain": [
       "array([[[5],\n",
       "        [6],\n",
       "        [7],\n",
       "        [8],\n",
       "        [9]]])"
      ]
     },
     "execution_count": 13,
     "metadata": {},
     "output_type": "execute_result"
    }
   ],
   "source": [
    "c[1:,...]"
   ]
  },
  {
   "cell_type": "code",
   "execution_count": 14,
   "id": "80b82328",
   "metadata": {},
   "outputs": [
    {
     "data": {
      "text/plain": [
       "array([[[0],\n",
       "        [1],\n",
       "        [2],\n",
       "        [3],\n",
       "        [4]],\n",
       "\n",
       "       [[5],\n",
       "        [6],\n",
       "        [7],\n",
       "        [8],\n",
       "        [9]]])"
      ]
     },
     "execution_count": 14,
     "metadata": {},
     "output_type": "execute_result"
    }
   ],
   "source": [
    "c[0:,...]"
   ]
  },
  {
   "cell_type": "code",
   "execution_count": 15,
   "id": "d4c1575f",
   "metadata": {},
   "outputs": [
    {
     "data": {
      "text/plain": [
       "array([ 0,  1,  2,  3,  4,  5,  6,  7,  8,  9, 10, 11, 12, 13, 14, 15, 16,\n",
       "       17, 18])"
      ]
     },
     "execution_count": 15,
     "metadata": {},
     "output_type": "execute_result"
    }
   ],
   "source": [
    "d= arange(19)\n",
    "d"
   ]
  },
  {
   "cell_type": "code",
   "execution_count": 16,
   "id": "6d01cc86",
   "metadata": {},
   "outputs": [
    {
     "data": {
      "text/plain": [
       "array([[[ 0,  1],\n",
       "        [ 2,  3],\n",
       "        [ 4,  5],\n",
       "        [ 6,  7],\n",
       "        [ 8,  9]],\n",
       "\n",
       "       [[10, 11],\n",
       "        [12, 13],\n",
       "        [14, 15],\n",
       "        [16, 17],\n",
       "        [18, 19]]])"
      ]
     },
     "execution_count": 16,
     "metadata": {},
     "output_type": "execute_result"
    }
   ],
   "source": [
    "x = arange(20)\n",
    "x = x.reshape(2,5,2)\n",
    "x"
   ]
  },
  {
   "cell_type": "code",
   "execution_count": 17,
   "id": "4868ea55",
   "metadata": {},
   "outputs": [
    {
     "data": {
      "text/plain": [
       "array([[[ 0],\n",
       "        [ 1],\n",
       "        [ 2],\n",
       "        [ 3],\n",
       "        [ 4],\n",
       "        [ 5],\n",
       "        [ 6],\n",
       "        [ 7],\n",
       "        [ 8],\n",
       "        [ 9]],\n",
       "\n",
       "       [[10],\n",
       "        [11],\n",
       "        [12],\n",
       "        [13],\n",
       "        [14],\n",
       "        [15],\n",
       "        [16],\n",
       "        [17],\n",
       "        [18],\n",
       "        [19]]])"
      ]
     },
     "execution_count": 17,
     "metadata": {},
     "output_type": "execute_result"
    }
   ],
   "source": [
    "x = x.reshape(2,10,1)\n",
    "x"
   ]
  },
  {
   "cell_type": "code",
   "execution_count": 18,
   "id": "734f1251",
   "metadata": {},
   "outputs": [
    {
     "data": {
      "text/plain": [
       "array([[[ 0,  1],\n",
       "        [ 2,  3]],\n",
       "\n",
       "       [[ 4,  5],\n",
       "        [ 6,  7]],\n",
       "\n",
       "       [[ 8,  9],\n",
       "        [10, 11]],\n",
       "\n",
       "       [[12, 13],\n",
       "        [14, 15]],\n",
       "\n",
       "       [[16, 17],\n",
       "        [18, 19]]])"
      ]
     },
     "execution_count": 18,
     "metadata": {},
     "output_type": "execute_result"
    }
   ],
   "source": [
    "x = x.reshape(5,2,2)\n",
    "x"
   ]
  },
  {
   "cell_type": "code",
   "execution_count": 19,
   "id": "fd77324f",
   "metadata": {},
   "outputs": [
    {
     "data": {
      "text/plain": [
       "array([[ 0,  2],\n",
       "       [ 4,  6],\n",
       "       [ 8, 10],\n",
       "       [12, 14],\n",
       "       [16, 18]])"
      ]
     },
     "execution_count": 19,
     "metadata": {},
     "output_type": "execute_result"
    }
   ],
   "source": [
    "x[...,0]     #x[:,:,0]"
   ]
  },
  {
   "cell_type": "code",
   "execution_count": 20,
   "id": "79aa3327",
   "metadata": {},
   "outputs": [
    {
     "data": {
      "text/plain": [
       "array([[ 1,  3],\n",
       "       [ 5,  7],\n",
       "       [ 9, 11],\n",
       "       [13, 15],\n",
       "       [17, 19]])"
      ]
     },
     "execution_count": 20,
     "metadata": {},
     "output_type": "execute_result"
    }
   ],
   "source": [
    "x[...,1]    #x[:,:,1]"
   ]
  },
  {
   "cell_type": "code",
   "execution_count": 21,
   "id": "e738fe8a",
   "metadata": {},
   "outputs": [
    {
     "data": {
      "text/plain": [
       "array([[4, 5],\n",
       "       [6, 7]])"
      ]
     },
     "execution_count": 21,
     "metadata": {},
     "output_type": "execute_result"
    }
   ],
   "source": [
    "x[1,...]   #x[1,:,:]"
   ]
  },
  {
   "cell_type": "code",
   "execution_count": 22,
   "id": "3e020658",
   "metadata": {},
   "outputs": [
    {
     "data": {
      "text/plain": [
       "array([[[ 4,  5],\n",
       "        [ 6,  7]],\n",
       "\n",
       "       [[ 8,  9],\n",
       "        [10, 11]],\n",
       "\n",
       "       [[12, 13],\n",
       "        [14, 15]],\n",
       "\n",
       "       [[16, 17],\n",
       "        [18, 19]]])"
      ]
     },
     "execution_count": 22,
     "metadata": {},
     "output_type": "execute_result"
    }
   ],
   "source": [
    "x[1:,...]  #x[1:,:,:]"
   ]
  },
  {
   "cell_type": "code",
   "execution_count": 23,
   "id": "01067a76",
   "metadata": {},
   "outputs": [
    {
     "data": {
      "text/plain": [
       "array([[[ 8,  9],\n",
       "        [10, 11]],\n",
       "\n",
       "       [[12, 13],\n",
       "        [14, 15]],\n",
       "\n",
       "       [[16, 17],\n",
       "        [18, 19]]])"
      ]
     },
     "execution_count": 23,
     "metadata": {},
     "output_type": "execute_result"
    }
   ],
   "source": [
    "x[2:,...]"
   ]
  },
  {
   "cell_type": "code",
   "execution_count": 24,
   "id": "219e2933",
   "metadata": {},
   "outputs": [
    {
     "data": {
      "text/plain": [
       "array([[ 8,  9],\n",
       "       [10, 11]])"
      ]
     },
     "execution_count": 24,
     "metadata": {},
     "output_type": "execute_result"
    }
   ],
   "source": [
    "x[2,...]"
   ]
  },
  {
   "cell_type": "code",
   "execution_count": 25,
   "id": "9a19929d",
   "metadata": {},
   "outputs": [
    {
     "ename": "IndexError",
     "evalue": "index 2 is out of bounds for axis 2 with size 2",
     "output_type": "error",
     "traceback": [
      "\u001b[1;31m---------------------------------------------------------------------------\u001b[0m",
      "\u001b[1;31mIndexError\u001b[0m                                Traceback (most recent call last)",
      "Cell \u001b[1;32mIn[25], line 1\u001b[0m\n\u001b[1;32m----> 1\u001b[0m \u001b[43mx\u001b[49m\u001b[43m[\u001b[49m\u001b[38;5;241;43m.\u001b[39;49m\u001b[38;5;241;43m.\u001b[39;49m\u001b[38;5;241;43m.\u001b[39;49m\u001b[43m,\u001b[49m\u001b[38;5;241;43m2\u001b[39;49m\u001b[43m]\u001b[49m\n",
      "\u001b[1;31mIndexError\u001b[0m: index 2 is out of bounds for axis 2 with size 2"
     ]
    }
   ],
   "source": [
    "x[...,2]"
   ]
  },
  {
   "cell_type": "code",
   "execution_count": 38,
   "id": "98ba5e4f",
   "metadata": {},
   "outputs": [
    {
     "data": {
      "text/plain": [
       "array([[[ 0,  1,  2,  3,  4],\n",
       "        [ 5,  6,  7,  8,  9]],\n",
       "\n",
       "       [[10, 11, 12, 13, 14],\n",
       "        [15, 16, 17, 18, 19]],\n",
       "\n",
       "       [[20, 21, 22, 23, 24],\n",
       "        [25, 26, 27, 28, 29]]])"
      ]
     },
     "execution_count": 38,
     "metadata": {},
     "output_type": "execute_result"
    }
   ],
   "source": [
    "ab = arange(30)\n",
    "ab = ab.reshape(3,2,5)\n",
    "ab"
   ]
  },
  {
   "cell_type": "code",
   "execution_count": 39,
   "id": "10cccbb7",
   "metadata": {},
   "outputs": [
    {
     "data": {
      "text/plain": [
       "array([[ 0,  5],\n",
       "       [10, 15],\n",
       "       [20, 25]])"
      ]
     },
     "execution_count": 39,
     "metadata": {},
     "output_type": "execute_result"
    }
   ],
   "source": [
    "ab[...,0]"
   ]
  },
  {
   "cell_type": "code",
   "execution_count": 40,
   "id": "7b5b9819",
   "metadata": {},
   "outputs": [
    {
     "data": {
      "text/plain": [
       "array([[0, 1, 2, 3, 4],\n",
       "       [5, 6, 7, 8, 9]])"
      ]
     },
     "execution_count": 40,
     "metadata": {},
     "output_type": "execute_result"
    }
   ],
   "source": [
    "ab[0,...]"
   ]
  },
  {
   "cell_type": "code",
   "execution_count": 41,
   "id": "45d06096",
   "metadata": {},
   "outputs": [
    {
     "data": {
      "text/plain": [
       "array([[10, 11, 12, 13, 14],\n",
       "       [15, 16, 17, 18, 19]])"
      ]
     },
     "execution_count": 41,
     "metadata": {},
     "output_type": "execute_result"
    }
   ],
   "source": [
    "ab[1,...]"
   ]
  },
  {
   "cell_type": "code",
   "execution_count": 42,
   "id": "ec5c8ee4",
   "metadata": {},
   "outputs": [
    {
     "data": {
      "text/plain": [
       "array([[ 1,  6],\n",
       "       [11, 16],\n",
       "       [21, 26]])"
      ]
     },
     "execution_count": 42,
     "metadata": {},
     "output_type": "execute_result"
    }
   ],
   "source": [
    "ab[...,1]"
   ]
  },
  {
   "cell_type": "code",
   "execution_count": 43,
   "id": "8550effa",
   "metadata": {},
   "outputs": [
    {
     "data": {
      "text/plain": [
       "array([[ 4,  9],\n",
       "       [14, 19],\n",
       "       [24, 29]])"
      ]
     },
     "execution_count": 43,
     "metadata": {},
     "output_type": "execute_result"
    }
   ],
   "source": [
    "ab[...,4]"
   ]
  },
  {
   "cell_type": "code",
   "execution_count": 44,
   "id": "14b9058b",
   "metadata": {},
   "outputs": [
    {
     "data": {
      "text/plain": [
       "array([[[ 0,  1,  2,  3,  4],\n",
       "        [ 5,  6,  7,  8,  9]],\n",
       "\n",
       "       [[10, 11, 12, 13, 14],\n",
       "        [15, 16, 17, 18, 19]],\n",
       "\n",
       "       [[20, 21, 22, 23, 24],\n",
       "        [25, 26, 27, 28, 29]]])"
      ]
     },
     "execution_count": 44,
     "metadata": {},
     "output_type": "execute_result"
    }
   ],
   "source": [
    "ab"
   ]
  },
  {
   "cell_type": "code",
   "execution_count": 45,
   "id": "7066df2a",
   "metadata": {},
   "outputs": [
    {
     "data": {
      "text/plain": [
       "array([[[10, 11, 12, 13, 14],\n",
       "        [15, 16, 17, 18, 19]],\n",
       "\n",
       "       [[20, 21, 22, 23, 24],\n",
       "        [25, 26, 27, 28, 29]]])"
      ]
     },
     "execution_count": 45,
     "metadata": {},
     "output_type": "execute_result"
    }
   ],
   "source": [
    "ab[1:,...]"
   ]
  },
  {
   "cell_type": "code",
   "execution_count": 46,
   "id": "dfc837f9",
   "metadata": {},
   "outputs": [
    {
     "data": {
      "text/plain": [
       "array([[[ 0,  1,  2,  3],\n",
       "        [ 5,  6,  7,  8]],\n",
       "\n",
       "       [[10, 11, 12, 13],\n",
       "        [15, 16, 17, 18]],\n",
       "\n",
       "       [[20, 21, 22, 23],\n",
       "        [25, 26, 27, 28]]])"
      ]
     },
     "execution_count": 46,
     "metadata": {},
     "output_type": "execute_result"
    }
   ],
   "source": [
    "ab[...,:-1]"
   ]
  },
  {
   "cell_type": "code",
   "execution_count": 47,
   "id": "033a49ab",
   "metadata": {},
   "outputs": [
    {
     "data": {
      "text/plain": [
       "array([[ 2,  7],\n",
       "       [12, 17],\n",
       "       [22, 27]])"
      ]
     },
     "execution_count": 47,
     "metadata": {},
     "output_type": "execute_result"
    }
   ],
   "source": [
    "ab[...,2]"
   ]
  },
  {
   "cell_type": "code",
   "execution_count": 48,
   "id": "5821f9db",
   "metadata": {},
   "outputs": [
    {
     "data": {
      "text/plain": [
       "array([[[ 0,  1],\n",
       "        [ 5,  6]],\n",
       "\n",
       "       [[10, 11],\n",
       "        [15, 16]],\n",
       "\n",
       "       [[20, 21],\n",
       "        [25, 26]]])"
      ]
     },
     "execution_count": 48,
     "metadata": {},
     "output_type": "execute_result"
    }
   ],
   "source": [
    "ab[...,:2]"
   ]
  },
  {
   "cell_type": "code",
   "execution_count": 49,
   "id": "f58c60dd",
   "metadata": {},
   "outputs": [
    {
     "data": {
      "text/plain": [
       "array([[[ 0,  1,  2,  3,  4],\n",
       "        [ 5,  6,  7,  8,  9]],\n",
       "\n",
       "       [[10, 11, 12, 13, 14],\n",
       "        [15, 16, 17, 18, 19]],\n",
       "\n",
       "       [[20, 21, 22, 23, 24],\n",
       "        [25, 26, 27, 28, 29]]])"
      ]
     },
     "execution_count": 49,
     "metadata": {},
     "output_type": "execute_result"
    }
   ],
   "source": [
    "ab"
   ]
  },
  {
   "cell_type": "markdown",
   "id": "aa5bffe5",
   "metadata": {},
   "source": [
    "2. []\n"
   ]
  },
  {
   "cell_type": "code",
   "execution_count": 50,
   "id": "f259a97b",
   "metadata": {},
   "outputs": [
    {
     "data": {
      "text/plain": [
       "array([[ 0,  1,  2,  3,  4],\n",
       "       [10, 11, 12, 13, 14],\n",
       "       [20, 21, 22, 23, 24],\n",
       "       [30, 31, 32, 33, 34]])"
      ]
     },
     "execution_count": 50,
     "metadata": {},
     "output_type": "execute_result"
    }
   ],
   "source": [
    "a = array([[0,1,2,3,4], [10,11,12,13,14], [20,21,22,23,24], [30,31,32,33,34]])\n",
    "a"
   ]
  },
  {
   "cell_type": "code",
   "execution_count": 51,
   "id": "b1cec6d7",
   "metadata": {},
   "outputs": [
    {
     "data": {
      "text/plain": [
       "0"
      ]
     },
     "execution_count": 51,
     "metadata": {},
     "output_type": "execute_result"
    }
   ],
   "source": [
    "a[0][0]"
   ]
  },
  {
   "cell_type": "code",
   "execution_count": 52,
   "id": "3df759b6",
   "metadata": {},
   "outputs": [
    {
     "data": {
      "text/plain": [
       "2"
      ]
     },
     "execution_count": 52,
     "metadata": {},
     "output_type": "execute_result"
    }
   ],
   "source": [
    "a[0][2]"
   ]
  },
  {
   "cell_type": "code",
   "execution_count": 53,
   "id": "fd59eecf",
   "metadata": {},
   "outputs": [
    {
     "data": {
      "text/plain": [
       "21"
      ]
     },
     "execution_count": 53,
     "metadata": {},
     "output_type": "execute_result"
    }
   ],
   "source": [
    "a[2][1]"
   ]
  },
  {
   "cell_type": "code",
   "execution_count": 54,
   "id": "098c82c0",
   "metadata": {},
   "outputs": [
    {
     "data": {
      "text/plain": [
       "array([30, 31, 32, 33, 34])"
      ]
     },
     "execution_count": 54,
     "metadata": {},
     "output_type": "execute_result"
    }
   ],
   "source": [
    "a[-1]"
   ]
  },
  {
   "cell_type": "code",
   "execution_count": 55,
   "id": "21780e66",
   "metadata": {},
   "outputs": [
    {
     "name": "stdout",
     "output_type": "stream",
     "text": [
      "<class 'numpy.ndarray'>\n"
     ]
    }
   ],
   "source": [
    "print(type(a))"
   ]
  },
  {
   "cell_type": "code",
   "execution_count": 56,
   "id": "d66bf81c",
   "metadata": {},
   "outputs": [
    {
     "data": {
      "text/plain": [
       "array([[ 0,  1,  2,  3,  4],\n",
       "       [10, 11, 12, 13, 14],\n",
       "       [20, 21, 22, 23, 24],\n",
       "       [30, 31, 32, 33, 34]])"
      ]
     },
     "execution_count": 56,
     "metadata": {},
     "output_type": "execute_result"
    }
   ],
   "source": [
    "a"
   ]
  },
  {
   "cell_type": "code",
   "execution_count": 57,
   "id": "70a980fd",
   "metadata": {},
   "outputs": [
    {
     "data": {
      "text/plain": [
       "23"
      ]
     },
     "execution_count": 57,
     "metadata": {},
     "output_type": "execute_result"
    }
   ],
   "source": [
    "a[2,3]"
   ]
  },
  {
   "cell_type": "code",
   "execution_count": 58,
   "id": "0232bb32",
   "metadata": {},
   "outputs": [
    {
     "data": {
      "text/plain": [
       "array([[11, 12, 13],\n",
       "       [21, 22, 23]])"
      ]
     },
     "execution_count": 58,
     "metadata": {},
     "output_type": "execute_result"
    }
   ],
   "source": [
    "a[1:3,1:4]"
   ]
  },
  {
   "cell_type": "markdown",
   "id": "9b473976",
   "metadata": {},
   "source": [
    "\n",
    "2. []\n"
   ]
  },
  {
   "cell_type": "code",
   "execution_count": 59,
   "id": "4492c14d",
   "metadata": {},
   "outputs": [],
   "source": [
    "a = array([[0,1,2,3,4], [10,11,12,13,14], [20,21,22,23,24],[30,31,32,33,34]])"
   ]
  },
  {
   "cell_type": "code",
   "execution_count": 60,
   "id": "018a5ae7",
   "metadata": {},
   "outputs": [
    {
     "data": {
      "text/plain": [
       "array([[ 0,  1,  2,  3,  4],\n",
       "       [10, 11, 12, 13, 14],\n",
       "       [20, 21, 22, 23, 24],\n",
       "       [30, 31, 32, 33, 34]])"
      ]
     },
     "execution_count": 60,
     "metadata": {},
     "output_type": "execute_result"
    }
   ],
   "source": [
    "a"
   ]
  },
  {
   "cell_type": "code",
   "execution_count": 61,
   "id": "77bfd7d2",
   "metadata": {},
   "outputs": [
    {
     "data": {
      "text/plain": [
       "0"
      ]
     },
     "execution_count": 61,
     "metadata": {},
     "output_type": "execute_result"
    }
   ],
   "source": [
    "a[0,0]"
   ]
  },
  {
   "cell_type": "code",
   "execution_count": 62,
   "id": "ad10d0df",
   "metadata": {},
   "outputs": [
    {
     "data": {
      "text/plain": [
       "numpy.ndarray"
      ]
     },
     "execution_count": 62,
     "metadata": {},
     "output_type": "execute_result"
    }
   ],
   "source": [
    "type(a)"
   ]
  },
  {
   "cell_type": "code",
   "execution_count": 63,
   "id": "0dddcdd8",
   "metadata": {},
   "outputs": [
    {
     "ename": "IndexError",
     "evalue": "index 5 is out of bounds for axis 1 with size 5",
     "output_type": "error",
     "traceback": [
      "\u001b[1;31m---------------------------------------------------------------------------\u001b[0m",
      "\u001b[1;31mIndexError\u001b[0m                                Traceback (most recent call last)",
      "Cell \u001b[1;32mIn[63], line 1\u001b[0m\n\u001b[1;32m----> 1\u001b[0m \u001b[43ma\u001b[49m\u001b[43m[\u001b[49m\u001b[38;5;241;43m1\u001b[39;49m\u001b[43m,\u001b[49m\u001b[38;5;241;43m5\u001b[39;49m\u001b[43m]\u001b[49m\n",
      "\u001b[1;31mIndexError\u001b[0m: index 5 is out of bounds for axis 1 with size 5"
     ]
    }
   ],
   "source": [
    "a[1,5]"
   ]
  },
  {
   "cell_type": "code",
   "execution_count": 64,
   "id": "fa931835",
   "metadata": {},
   "outputs": [
    {
     "data": {
      "text/plain": [
       "14"
      ]
     },
     "execution_count": 64,
     "metadata": {},
     "output_type": "execute_result"
    }
   ],
   "source": [
    "a[1,4]"
   ]
  },
  {
   "cell_type": "code",
   "execution_count": 65,
   "id": "82f71733",
   "metadata": {},
   "outputs": [
    {
     "data": {
      "text/plain": [
       "array([[ 0,  1,  2,  3,  4],\n",
       "       [10, 11, 12, 13, 14],\n",
       "       [20, 21, 22, 23, 24],\n",
       "       [30, 31, 32, 33, 34]])"
      ]
     },
     "execution_count": 65,
     "metadata": {},
     "output_type": "execute_result"
    }
   ],
   "source": [
    "a"
   ]
  },
  {
   "cell_type": "code",
   "execution_count": 66,
   "id": "a8142500",
   "metadata": {},
   "outputs": [
    {
     "data": {
      "text/plain": [
       "array([0, 1, 2, 3, 4])"
      ]
     },
     "execution_count": 66,
     "metadata": {},
     "output_type": "execute_result"
    }
   ],
   "source": [
    "a[0]"
   ]
  },
  {
   "cell_type": "code",
   "execution_count": 67,
   "id": "f4e985ba",
   "metadata": {},
   "outputs": [
    {
     "data": {
      "text/plain": [
       "array([30, 31, 32, 33, 34])"
      ]
     },
     "execution_count": 67,
     "metadata": {},
     "output_type": "execute_result"
    }
   ],
   "source": [
    "a[-1]"
   ]
  },
  {
   "cell_type": "code",
   "execution_count": 68,
   "id": "56328bfe",
   "metadata": {},
   "outputs": [
    {
     "data": {
      "text/plain": [
       "array([[11, 12, 13],\n",
       "       [21, 22, 23]])"
      ]
     },
     "execution_count": 68,
     "metadata": {},
     "output_type": "execute_result"
    }
   ],
   "source": [
    "a[1:3,1:4]  #subarray"
   ]
  },
  {
   "cell_type": "code",
   "execution_count": 69,
   "id": "deb6246f",
   "metadata": {},
   "outputs": [
    {
     "data": {
      "text/plain": [
       "array([[12, 13],\n",
       "       [22, 23]])"
      ]
     },
     "execution_count": 69,
     "metadata": {},
     "output_type": "execute_result"
    }
   ],
   "source": [
    "a[1:3,2:4]"
   ]
  },
  {
   "cell_type": "code",
   "execution_count": 70,
   "id": "12910225",
   "metadata": {},
   "outputs": [
    {
     "data": {
      "text/plain": [
       "'\\ni = array([0,1,2,1]) # array of indices for the first axis\\nj = array([1,2,3,4]) # array of indices for the second axis\\na[i,j]\\narray([ 1, 12, 23, 14])\\n\\na[a<13] # boolean indexing\\narray([ 0, 1, 2, 3, 4, 10, 11, 12])\\n'"
      ]
     },
     "execution_count": 70,
     "metadata": {},
     "output_type": "execute_result"
    }
   ],
   "source": [
    "'''\n",
    ">>> i = array([0,1,2,1]) # array of indices for the first axis\n",
    ">>> j = array([1,2,3,4]) # array of indices for the second axis\n",
    ">>> a[i,j]\n",
    "array([ 1, 12, 23, 14])\n",
    ">>>\n",
    ">>> a[a<13] # boolean indexing\n",
    "array([ 0, 1, 2, 3, 4, 10, 11, 12])\n",
    "'''"
   ]
  },
  {
   "cell_type": "code",
   "execution_count": null,
   "id": "93d7770f",
   "metadata": {},
   "outputs": [],
   "source": []
  },
  {
   "cell_type": "code",
   "execution_count": null,
   "id": "80beb1f2",
   "metadata": {},
   "outputs": [],
   "source": []
  },
  {
   "cell_type": "code",
   "execution_count": 71,
   "id": "6e9b25be",
   "metadata": {},
   "outputs": [
    {
     "data": {
      "text/plain": [
       "array([[ 0,  1,  2,  3,  4],\n",
       "       [10, 11, 12, 13, 14],\n",
       "       [20, 21, 22, 23, 24],\n",
       "       [30, 31, 32, 33, 34]])"
      ]
     },
     "execution_count": 71,
     "metadata": {},
     "output_type": "execute_result"
    }
   ],
   "source": [
    "a"
   ]
  },
  {
   "cell_type": "code",
   "execution_count": 72,
   "id": "3b8b1657",
   "metadata": {},
   "outputs": [
    {
     "data": {
      "text/plain": [
       "array([[ 0,  1,  2,  3,  4],\n",
       "       [20, 21, 22, 23, 24]])"
      ]
     },
     "execution_count": 72,
     "metadata": {},
     "output_type": "execute_result"
    }
   ],
   "source": [
    "b1=array([True,False,True,False])   #boolean row selector\n",
    "a[b1,:]"
   ]
  },
  {
   "cell_type": "code",
   "execution_count": 73,
   "id": "add5d820",
   "metadata": {},
   "outputs": [
    {
     "data": {
      "text/plain": [
       "array([[ 0,  3,  4],\n",
       "       [10, 13, 14],\n",
       "       [20, 23, 24],\n",
       "       [30, 33, 34]])"
      ]
     },
     "execution_count": 73,
     "metadata": {},
     "output_type": "execute_result"
    }
   ],
   "source": [
    "b2 = array([True,False,False,True,True])    #boolean column selector\n",
    "a[:,b2]"
   ]
  },
  {
   "cell_type": "code",
   "execution_count": 74,
   "id": "83a759d0",
   "metadata": {},
   "outputs": [
    {
     "data": {
      "text/plain": [
       "array([ 0,  1,  2,  3,  4, 10, 11, 12])"
      ]
     },
     "execution_count": 74,
     "metadata": {},
     "output_type": "execute_result"
    }
   ],
   "source": [
    "a[a<13]        #boolean indexing"
   ]
  },
  {
   "cell_type": "markdown",
   "id": "50f11851",
   "metadata": {},
   "source": [
    "\n",
    "3. abs()\n",
    "4. absolute()\n"
   ]
  },
  {
   "cell_type": "code",
   "execution_count": 75,
   "id": "fc462490",
   "metadata": {},
   "outputs": [
    {
     "data": {
      "text/plain": [
       "3"
      ]
     },
     "execution_count": 75,
     "metadata": {},
     "output_type": "execute_result"
    }
   ],
   "source": [
    "abs(-3)"
   ]
  },
  {
   "cell_type": "code",
   "execution_count": 76,
   "id": "e17a0eb7",
   "metadata": {},
   "outputs": [
    {
     "data": {
      "text/plain": [
       "array([1.7, 1.2])"
      ]
     },
     "execution_count": 76,
     "metadata": {},
     "output_type": "execute_result"
    }
   ],
   "source": [
    "abs(array([-1.7,-1.2]))"
   ]
  },
  {
   "cell_type": "code",
   "execution_count": 77,
   "id": "7e6d938d",
   "metadata": {},
   "outputs": [
    {
     "data": {
      "text/plain": [
       "3.1622776601683795"
      ]
     },
     "execution_count": 77,
     "metadata": {},
     "output_type": "execute_result"
    }
   ],
   "source": [
    "abs(1+3j)"
   ]
  },
  {
   "cell_type": "code",
   "execution_count": 78,
   "id": "ff44fb01",
   "metadata": {},
   "outputs": [
    {
     "data": {
      "text/plain": [
       "2.5"
      ]
     },
     "execution_count": 78,
     "metadata": {},
     "output_type": "execute_result"
    }
   ],
   "source": [
    "abs(1.5+2j)"
   ]
  },
  {
   "cell_type": "code",
   "execution_count": 79,
   "id": "aec6f5fe",
   "metadata": {},
   "outputs": [
    {
     "data": {
      "text/plain": [
       "1"
      ]
     },
     "execution_count": 79,
     "metadata": {},
     "output_type": "execute_result"
    }
   ],
   "source": [
    "abs(True)"
   ]
  },
  {
   "cell_type": "code",
   "execution_count": 80,
   "id": "b891b833",
   "metadata": {},
   "outputs": [
    {
     "data": {
      "text/plain": [
       "2"
      ]
     },
     "execution_count": 80,
     "metadata": {},
     "output_type": "execute_result"
    }
   ],
   "source": [
    "abs(0b10)"
   ]
  },
  {
   "cell_type": "code",
   "execution_count": 81,
   "id": "2972f9d8",
   "metadata": {},
   "outputs": [
    {
     "data": {
      "text/plain": [
       "156"
      ]
     },
     "execution_count": 81,
     "metadata": {},
     "output_type": "execute_result"
    }
   ],
   "source": [
    "abs(0o234)"
   ]
  },
  {
   "cell_type": "code",
   "execution_count": 82,
   "id": "3c6dd749",
   "metadata": {},
   "outputs": [
    {
     "data": {
      "text/plain": [
       "19"
      ]
     },
     "execution_count": 82,
     "metadata": {},
     "output_type": "execute_result"
    }
   ],
   "source": [
    "abs(~18)"
   ]
  },
  {
   "cell_type": "code",
   "execution_count": 83,
   "id": "4ca46f08",
   "metadata": {},
   "outputs": [
    {
     "data": {
      "text/plain": [
       "47"
      ]
     },
     "execution_count": 83,
     "metadata": {},
     "output_type": "execute_result"
    }
   ],
   "source": [
    "abs(23^56)"
   ]
  },
  {
   "cell_type": "code",
   "execution_count": 84,
   "id": "c9a19909",
   "metadata": {},
   "outputs": [
    {
     "data": {
      "text/plain": [
       "5"
      ]
     },
     "execution_count": 84,
     "metadata": {},
     "output_type": "execute_result"
    }
   ],
   "source": [
    "abs(21 & 7)"
   ]
  },
  {
   "cell_type": "markdown",
   "id": "8b95e416",
   "metadata": {},
   "source": [
    "\n",
    "5. accumulate()\n"
   ]
  },
  {
   "cell_type": "code",
   "execution_count": 85,
   "id": "41cd212d",
   "metadata": {},
   "outputs": [
    {
     "data": {
      "text/plain": [
       "array([ 1.,  3.,  6., 10.])"
      ]
     },
     "execution_count": 85,
     "metadata": {},
     "output_type": "execute_result"
    }
   ],
   "source": [
    "add.accumulate(array([1.,2.,3.,4.]))  #Accumulate the result of applying the operator to all elements."
   ]
  },
  {
   "cell_type": "code",
   "execution_count": 86,
   "id": "d0e8d280",
   "metadata": {},
   "outputs": [],
   "source": [
    "import numpy as np"
   ]
  },
  {
   "cell_type": "code",
   "execution_count": 87,
   "id": "7596bda1",
   "metadata": {},
   "outputs": [
    {
     "data": {
      "text/plain": [
       "array([ 1,  3,  6, 10])"
      ]
     },
     "execution_count": 87,
     "metadata": {},
     "output_type": "execute_result"
    }
   ],
   "source": [
    "np.add.accumulate(array([1,2,3,4]))"
   ]
  },
  {
   "cell_type": "code",
   "execution_count": 88,
   "id": "4915f5eb",
   "metadata": {},
   "outputs": [
    {
     "data": {
      "text/plain": [
       "array([ 1,  2,  6, 24])"
      ]
     },
     "execution_count": 88,
     "metadata": {},
     "output_type": "execute_result"
    }
   ],
   "source": [
    "np.multiply.accumulate(array([1,2,3,4]))"
   ]
  },
  {
   "cell_type": "code",
   "execution_count": 89,
   "id": "5bb599e0",
   "metadata": {},
   "outputs": [
    {
     "data": {
      "text/plain": [
       "'\\n2-D array examples:\\n\\n>>> I = np.eye(2)\\n>>> I\\narray([[1.,  0.],\\n       [0.,  1.]])\\n\\nAccumulate along axis 0 (rows), down columns:\\n\\n>>> np.add.accumulate(I, 0)\\narray([[1.,  0.],\\n       [1.,  1.]])\\n>>> np.add.accumulate(I) # no axis specified = axis zero\\narray([[1.,  0.],\\n       [1.,  1.]])\\n\\nAccumulate along axis 1 (columns), through rows:\\n\\n>>> np.add.accumulate(I, 1)\\narray([[1.,  1.],\\n       [0.,  1.]])\\nType:      builtin_function_or_method\\n'"
      ]
     },
     "execution_count": 89,
     "metadata": {},
     "output_type": "execute_result"
    }
   ],
   "source": [
    "'''\n",
    "2-D array examples:\n",
    "\n",
    ">>> I = np.eye(2)\n",
    ">>> I\n",
    "array([[1.,  0.],\n",
    "       [0.,  1.]])\n",
    "\n",
    "Accumulate along axis 0 (rows), down columns:\n",
    "\n",
    ">>> np.add.accumulate(I, 0)\n",
    "array([[1.,  0.],\n",
    "       [1.,  1.]])\n",
    ">>> np.add.accumulate(I) # no axis specified = axis zero\n",
    "array([[1.,  0.],\n",
    "       [1.,  1.]])\n",
    "\n",
    "Accumulate along axis 1 (columns), through rows:\n",
    "\n",
    ">>> np.add.accumulate(I, 1)\n",
    "array([[1.,  1.],\n",
    "       [0.,  1.]])\n",
    "Type:      builtin_function_or_method\n",
    "'''"
   ]
  },
  {
   "cell_type": "code",
   "execution_count": 90,
   "id": "bc520c77",
   "metadata": {},
   "outputs": [
    {
     "data": {
      "text/plain": [
       "array([[1., 0.],\n",
       "       [0., 1.]])"
      ]
     },
     "execution_count": 90,
     "metadata": {},
     "output_type": "execute_result"
    }
   ],
   "source": [
    "'''\n",
    "Return a 2-D array with ones on the diagonal and zeros elsewhere.\n",
    "'''\n",
    "I = eye(2)\n",
    "I"
   ]
  },
  {
   "cell_type": "code",
   "execution_count": 91,
   "id": "764f1354",
   "metadata": {},
   "outputs": [
    {
     "data": {
      "text/plain": [
       "array([[1., 0.],\n",
       "       [1., 1.]])"
      ]
     },
     "execution_count": 91,
     "metadata": {},
     "output_type": "execute_result"
    }
   ],
   "source": [
    "add.accumulate(I,0) #axis =0 (rows) , down columns"
   ]
  },
  {
   "cell_type": "code",
   "execution_count": 92,
   "id": "1a774cc9",
   "metadata": {},
   "outputs": [
    {
     "data": {
      "text/plain": [
       "array([[1., 0.],\n",
       "       [1., 1.]])"
      ]
     },
     "execution_count": 92,
     "metadata": {},
     "output_type": "execute_result"
    }
   ],
   "source": [
    "add.accumulate(I)  #default axis =0"
   ]
  },
  {
   "cell_type": "code",
   "execution_count": 93,
   "id": "607b1bc6",
   "metadata": {},
   "outputs": [
    {
     "data": {
      "text/plain": [
       "array([[1., 1.],\n",
       "       [0., 1.]])"
      ]
     },
     "execution_count": 93,
     "metadata": {},
     "output_type": "execute_result"
    }
   ],
   "source": [
    "add.accumulate(I,1)  #axis =1 (columns)  ,thru rows"
   ]
  },
  {
   "cell_type": "code",
   "execution_count": 94,
   "id": "91e24d72",
   "metadata": {},
   "outputs": [
    {
     "data": {
      "text/plain": [
       "array([[1., 0., 0.],\n",
       "       [0., 1., 0.],\n",
       "       [0., 0., 1.]])"
      ]
     },
     "execution_count": 94,
     "metadata": {},
     "output_type": "execute_result"
    }
   ],
   "source": [
    "I = eye(3,3)\n",
    "I"
   ]
  },
  {
   "cell_type": "code",
   "execution_count": 95,
   "id": "e07591cf",
   "metadata": {},
   "outputs": [
    {
     "data": {
      "text/plain": [
       "array([[1., 0., 0.],\n",
       "       [1., 1., 0.],\n",
       "       [1., 1., 1.]])"
      ]
     },
     "execution_count": 95,
     "metadata": {},
     "output_type": "execute_result"
    }
   ],
   "source": [
    "add.accumulate(I)  #default axis 0 (rows) i.e down columns"
   ]
  },
  {
   "cell_type": "code",
   "execution_count": 96,
   "id": "2d8bbe8e",
   "metadata": {},
   "outputs": [
    {
     "data": {
      "text/plain": [
       "array([[1., 1., 1.],\n",
       "       [0., 1., 1.],\n",
       "       [0., 0., 1.]])"
      ]
     },
     "execution_count": 96,
     "metadata": {},
     "output_type": "execute_result"
    }
   ],
   "source": [
    "add.accumulate(I,1)"
   ]
  },
  {
   "cell_type": "code",
   "execution_count": 97,
   "id": "e33f396b",
   "metadata": {},
   "outputs": [
    {
     "data": {
      "text/plain": [
       "array([ 1,  2,  6, 24])"
      ]
     },
     "execution_count": 97,
     "metadata": {},
     "output_type": "execute_result"
    }
   ],
   "source": [
    "multiply.accumulate(array([1.,2.,3.,4.]), dtype = int)"
   ]
  },
  {
   "cell_type": "code",
   "execution_count": 98,
   "id": "02644898",
   "metadata": {},
   "outputs": [
    {
     "data": {
      "text/plain": [
       "array([1.        , 0.5       , 0.16666667, 0.04166667])"
      ]
     },
     "execution_count": 98,
     "metadata": {},
     "output_type": "execute_result"
    }
   ],
   "source": [
    "divide.accumulate(array([1,2,3,4]))"
   ]
  },
  {
   "cell_type": "code",
   "execution_count": 99,
   "id": "4def6808",
   "metadata": {},
   "outputs": [
    {
     "data": {
      "text/plain": [
       "array([[1, 2, 3],\n",
       "       [5, 7, 9]])"
      ]
     },
     "execution_count": 99,
     "metadata": {},
     "output_type": "execute_result"
    }
   ],
   "source": [
    "add.accumulate(array([[1,2,3],[4,5,6]]),axis=0)  #accumulate every column seperately"
   ]
  },
  {
   "cell_type": "code",
   "execution_count": 100,
   "id": "0dfce92f",
   "metadata": {},
   "outputs": [
    {
     "data": {
      "text/plain": [
       "array([[ 1,  3,  6],\n",
       "       [ 4,  9, 15]])"
      ]
     },
     "execution_count": 100,
     "metadata": {},
     "output_type": "execute_result"
    }
   ],
   "source": [
    "add.accumulate(array([[1,2,3],[4,5,6]]),axis=1)   #accumulate every row seperately"
   ]
  },
  {
   "cell_type": "code",
   "execution_count": 101,
   "id": "2b158c90",
   "metadata": {},
   "outputs": [
    {
     "data": {
      "text/plain": [
       "array([ 1,  3,  6, 10])"
      ]
     },
     "execution_count": 101,
     "metadata": {},
     "output_type": "execute_result"
    }
   ],
   "source": [
    "add.accumulate(array([1,2,3,4]))"
   ]
  },
  {
   "cell_type": "markdown",
   "id": "0965b837",
   "metadata": {},
   "source": [
    "\n",
    "6. add()\n"
   ]
  },
  {
   "cell_type": "code",
   "execution_count": 102,
   "id": "a73f9c4a",
   "metadata": {},
   "outputs": [
    {
     "data": {
      "text/plain": [
       "array([ 1., -1.])"
      ]
     },
     "execution_count": 102,
     "metadata": {},
     "output_type": "execute_result"
    }
   ],
   "source": [
    "add(array([1.3,4]), array([-0.3,-5]))"
   ]
  },
  {
   "cell_type": "code",
   "execution_count": 103,
   "id": "756ddaa5",
   "metadata": {},
   "outputs": [
    {
     "data": {
      "text/plain": [
       "array([ 1., -1.])"
      ]
     },
     "execution_count": 103,
     "metadata": {},
     "output_type": "execute_result"
    }
   ],
   "source": [
    "array([1.3,4]) + array([-0.3,-5])"
   ]
  },
  {
   "cell_type": "markdown",
   "id": "d818e104",
   "metadata": {},
   "source": [
    "\n",
    "7. all()\n"
   ]
  },
  {
   "cell_type": "code",
   "execution_count": 104,
   "id": "c026e2f2",
   "metadata": {},
   "outputs": [
    {
     "data": {
      "text/plain": [
       "False"
      ]
     },
     "execution_count": 104,
     "metadata": {},
     "output_type": "execute_result"
    }
   ],
   "source": [
    "a = array([True,False,True,True])\n",
    "all(a)\n",
    "#a.all()"
   ]
  },
  {
   "cell_type": "code",
   "execution_count": 105,
   "id": "d3bcefe3",
   "metadata": {},
   "outputs": [
    {
     "data": {
      "text/plain": [
       "True"
      ]
     },
     "execution_count": 105,
     "metadata": {},
     "output_type": "execute_result"
    }
   ],
   "source": [
    "a = array([1,2,3])\n",
    "all(a>0)\n",
    "#(a>0).all()"
   ]
  },
  {
   "cell_type": "markdown",
   "id": "4a828fae",
   "metadata": {},
   "source": [
    "\n",
    "8. allclose()\n"
   ]
  },
  {
   "cell_type": "code",
   "execution_count": 106,
   "id": "7ac95d5f",
   "metadata": {},
   "outputs": [
    {
     "data": {
      "text/plain": [
       "'\\nSignature: allclose(a, b, rtol=1e-05, atol=1e-08, equal_nan=False)\\nDocstring:\\nReturns True if two arrays are element-wise equal within a tolerance.\\n\\nThe tolerance values are positive, typically very small numbers.  The\\nrelative difference (`rtol` * abs(`b`)) and the absolute difference\\n`atol` are added together to compare against the absolute difference\\nbetween `a` and `b`.\\n\\na and b: These are the input arrays to be compared.\\nrtol (optional): The relative tolerance parameter. The default value is 1e-05.\\natol (optional): The absolute tolerance parameter. The default value is 1e-08.\\nequal_nan (optional): If True, then NaN values are considered equal. The default value is False.\\n'"
      ]
     },
     "execution_count": 106,
     "metadata": {},
     "output_type": "execute_result"
    }
   ],
   "source": [
    "'''\n",
    "Signature: allclose(a, b, rtol=1e-05, atol=1e-08, equal_nan=False)\n",
    "Docstring:\n",
    "Returns True if two arrays are element-wise equal within a tolerance.\n",
    "\n",
    "The tolerance values are positive, typically very small numbers.  The\n",
    "relative difference (`rtol` * abs(`b`)) and the absolute difference\n",
    "`atol` are added together to compare against the absolute difference\n",
    "between `a` and `b`.\n",
    "\n",
    "a and b: These are the input arrays to be compared.\n",
    "rtol (optional): The relative tolerance parameter. The default value is 1e-05.\n",
    "atol (optional): The absolute tolerance parameter. The default value is 1e-08.\n",
    "equal_nan (optional): If True, then NaN values are considered equal. The default value is False.\n",
    "'''"
   ]
  },
  {
   "cell_type": "code",
   "execution_count": 107,
   "id": "d89bf555",
   "metadata": {},
   "outputs": [
    {
     "data": {
      "text/plain": [
       "True"
      ]
     },
     "execution_count": 107,
     "metadata": {},
     "output_type": "execute_result"
    }
   ],
   "source": [
    "allclose(array([1e10,1e-8]), array([1.00001e10, 1e-9]))"
   ]
  },
  {
   "cell_type": "code",
   "execution_count": 108,
   "id": "23f73353",
   "metadata": {},
   "outputs": [
    {
     "data": {
      "text/plain": [
       "False"
      ]
     },
     "execution_count": 108,
     "metadata": {},
     "output_type": "execute_result"
    }
   ],
   "source": [
    "allclose(array([1,2,3]),array([2,4,6]))"
   ]
  },
  {
   "cell_type": "markdown",
   "id": "64c3480e",
   "metadata": {},
   "source": [
    "\n",
    "9. alltrue()\n"
   ]
  },
  {
   "cell_type": "code",
   "execution_count": 109,
   "id": "4da266ac",
   "metadata": {},
   "outputs": [
    {
     "data": {
      "text/plain": [
       "True"
      ]
     },
     "execution_count": 109,
     "metadata": {},
     "output_type": "execute_result"
    }
   ],
   "source": [
    "a = array([True,True,True])\n",
    "alltrue(a)"
   ]
  },
  {
   "cell_type": "code",
   "execution_count": 110,
   "id": "f631cb49",
   "metadata": {},
   "outputs": [
    {
     "data": {
      "text/plain": [
       "True"
      ]
     },
     "execution_count": 110,
     "metadata": {},
     "output_type": "execute_result"
    }
   ],
   "source": [
    "a= array([4,5,6,7,8])\n",
    "alltrue(a>=4)"
   ]
  },
  {
   "cell_type": "code",
   "execution_count": 111,
   "id": "74da50bc",
   "metadata": {},
   "outputs": [
    {
     "data": {
      "text/plain": [
       "False"
      ]
     },
     "execution_count": 111,
     "metadata": {},
     "output_type": "execute_result"
    }
   ],
   "source": [
    "a= array([1,2,3,4,5,6,7,8])\n",
    "alltrue(a>=4)"
   ]
  },
  {
   "cell_type": "markdown",
   "id": "af14121e",
   "metadata": {},
   "source": [
    "\n",
    "10. angle()\n"
   ]
  },
  {
   "cell_type": "code",
   "execution_count": 112,
   "id": "0e904f64",
   "metadata": {},
   "outputs": [
    {
     "data": {
      "text/plain": [
       "'\\nSignature: angle(z, deg=False)\\nDocstring:\\nReturn the angle of the complex argument.\\n\\nParameters\\n----------\\nz : array_like\\n    A complex number or sequence of complex numbers.\\ndeg : bool, optional\\n    Return angle in degrees if True, radians if False (default).\\n'"
      ]
     },
     "execution_count": 112,
     "metadata": {},
     "output_type": "execute_result"
    }
   ],
   "source": [
    "'''\n",
    "Signature: angle(z, deg=False)\n",
    "Docstring:\n",
    "Return the angle of the complex argument.\n",
    "\n",
    "Parameters\n",
    "----------\n",
    "z : array_like\n",
    "    A complex number or sequence of complex numbers.\n",
    "deg : bool, optional\n",
    "    Return angle in degrees if True, radians if False (default).\n",
    "'''"
   ]
  },
  {
   "cell_type": "code",
   "execution_count": 113,
   "id": "894df376",
   "metadata": {},
   "outputs": [
    {
     "data": {
      "text/plain": [
       "'\\nExamples\\n--------\\n>>> np.angle([1.0, 1.0j, 1+1j])               # in radians\\narray([ 0.        ,  1.57079633,  0.78539816]) # may vary\\n>>> np.angle(1+1j, deg=True)                  # in degrees\\n45.0\\n'"
      ]
     },
     "execution_count": 113,
     "metadata": {},
     "output_type": "execute_result"
    }
   ],
   "source": [
    "'''\n",
    "Examples\n",
    "--------\n",
    ">>> np.angle([1.0, 1.0j, 1+1j])               # in radians\n",
    "array([ 0.        ,  1.57079633,  0.78539816]) # may vary\n",
    ">>> np.angle(1+1j, deg=True)                  # in degrees\n",
    "45.0\n",
    "'''"
   ]
  },
  {
   "cell_type": "code",
   "execution_count": 114,
   "id": "6b665e21",
   "metadata": {},
   "outputs": [
    {
     "data": {
      "text/plain": [
       "1.373400766945016"
      ]
     },
     "execution_count": 114,
     "metadata": {},
     "output_type": "execute_result"
    }
   ],
   "source": [
    "angle(1+5j)    #deg = False ,gives in radians"
   ]
  },
  {
   "cell_type": "code",
   "execution_count": 115,
   "id": "11800003",
   "metadata": {},
   "outputs": [
    {
     "name": "stdout",
     "output_type": "stream",
     "text": [
      "<class 'numpy.float64'>\n"
     ]
    }
   ],
   "source": [
    "print(type(angle(1+5j)))"
   ]
  },
  {
   "cell_type": "code",
   "execution_count": 116,
   "id": "09963f06",
   "metadata": {},
   "outputs": [
    {
     "data": {
      "text/plain": [
       "78.69006752597979"
      ]
     },
     "execution_count": 116,
     "metadata": {},
     "output_type": "execute_result"
    }
   ],
   "source": [
    "angle(1+5j, deg = True)  #deg = True ,gives in degrees"
   ]
  },
  {
   "cell_type": "code",
   "execution_count": 117,
   "id": "fba15275",
   "metadata": {},
   "outputs": [
    {
     "data": {
      "text/plain": [
       "array([0.        , 1.57079633, 0.78539816])"
      ]
     },
     "execution_count": 117,
     "metadata": {},
     "output_type": "execute_result"
    }
   ],
   "source": [
    "angle([1.0, 1.0j, 1+1j])"
   ]
  },
  {
   "cell_type": "code",
   "execution_count": 118,
   "id": "60561e10",
   "metadata": {},
   "outputs": [
    {
     "data": {
      "text/plain": [
       "45.0"
      ]
     },
     "execution_count": 118,
     "metadata": {},
     "output_type": "execute_result"
    }
   ],
   "source": [
    "angle(1+1j, deg= True)"
   ]
  },
  {
   "cell_type": "code",
   "execution_count": null,
   "id": "0c8dd048",
   "metadata": {},
   "outputs": [],
   "source": []
  },
  {
   "cell_type": "code",
   "execution_count": null,
   "id": "6fd024b3",
   "metadata": {},
   "outputs": [],
   "source": []
  }
 ],
 "metadata": {
  "kernelspec": {
   "display_name": "Python 3 (ipykernel)",
   "language": "python",
   "name": "python3"
  },
  "language_info": {
   "codemirror_mode": {
    "name": "ipython",
    "version": 3
   },
   "file_extension": ".py",
   "mimetype": "text/x-python",
   "name": "python",
   "nbconvert_exporter": "python",
   "pygments_lexer": "ipython3",
   "version": "3.10.9"
  }
 },
 "nbformat": 4,
 "nbformat_minor": 5
}
