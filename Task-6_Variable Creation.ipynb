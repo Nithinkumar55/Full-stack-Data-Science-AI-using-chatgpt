{
 "cells": [
  {
   "cell_type": "code",
   "execution_count": 1,
   "id": "720c5dd6",
   "metadata": {},
   "outputs": [],
   "source": [
    "import pandas as pd"
   ]
  },
  {
   "cell_type": "code",
   "execution_count": 2,
   "id": "d0f8efb4",
   "metadata": {},
   "outputs": [
    {
     "data": {
      "text/html": [
       "<div>\n",
       "<style scoped>\n",
       "    .dataframe tbody tr th:only-of-type {\n",
       "        vertical-align: middle;\n",
       "    }\n",
       "\n",
       "    .dataframe tbody tr th {\n",
       "        vertical-align: top;\n",
       "    }\n",
       "\n",
       "    .dataframe thead th {\n",
       "        text-align: right;\n",
       "    }\n",
       "</style>\n",
       "<table border=\"1\" class=\"dataframe\">\n",
       "  <thead>\n",
       "    <tr style=\"text-align: right;\">\n",
       "      <th></th>\n",
       "      <th>Address</th>\n",
       "      <th>Date</th>\n",
       "      <th>Time</th>\n",
       "    </tr>\n",
       "  </thead>\n",
       "  <tbody>\n",
       "    <tr>\n",
       "      <th>0</th>\n",
       "      <td>56th street, ben colony, btm layout, bangalore...</td>\n",
       "      <td>3rd Apr 2022</td>\n",
       "      <td>5hr 55min 8sec</td>\n",
       "    </tr>\n",
       "    <tr>\n",
       "      <th>1</th>\n",
       "      <td>20th steet, johns road, whitefield, bangalore,...</td>\n",
       "      <td>6th Dec 2021</td>\n",
       "      <td>2hr 30min 24sec</td>\n",
       "    </tr>\n",
       "  </tbody>\n",
       "</table>\n",
       "</div>"
      ],
      "text/plain": [
       "                                             Address          Date  \\\n",
       "0  56th street, ben colony, btm layout, bangalore...  3rd Apr 2022   \n",
       "1  20th steet, johns road, whitefield, bangalore,...  6th Dec 2021   \n",
       "\n",
       "              Time  \n",
       "0   5hr 55min 8sec  \n",
       "1  2hr 30min 24sec  "
      ]
     },
     "execution_count": 2,
     "metadata": {},
     "output_type": "execute_result"
    }
   ],
   "source": [
    "data = pd.read_excel(r'C:\\Users\\nithi\\OneDrive\\Documents\\Task-7.xlsx')\n",
    "data"
   ]
  },
  {
   "cell_type": "markdown",
   "id": "b9e14c03",
   "metadata": {},
   "source": [
    "#variable creation\n",
    "#convert single variable into multiple variables"
   ]
  },
  {
   "cell_type": "code",
   "execution_count": 3,
   "id": "cd504573",
   "metadata": {},
   "outputs": [
    {
     "data": {
      "text/plain": [
       "['56th street, ben colony, btm layout, bangalore, 78909',\n",
       " '20th steet, johns road, whitefield, bangalore, 56795']"
      ]
     },
     "execution_count": 3,
     "metadata": {},
     "output_type": "execute_result"
    }
   ],
   "source": [
    "Address = list(data.Address)\n",
    "Address"
   ]
  },
  {
   "cell_type": "code",
   "execution_count": 4,
   "id": "dfc393c8",
   "metadata": {},
   "outputs": [
    {
     "name": "stdout",
     "output_type": "stream",
     "text": [
      "substrings of address list : ['56th street', ' ben colony', ' btm layout', ' bangalore', ' 78909']\n",
      "substrings of address list : ['20th steet', ' johns road', ' whitefield', ' bangalore', ' 56795']\n",
      "multiple variable created from 1 variable\n",
      "['56th street', '20th steet']\n",
      "[' ben colony', ' johns road']\n",
      "[' btm layout', ' whitefield']\n",
      "[' bangalore', ' bangalore']\n",
      "[' 78909', ' 56795']\n"
     ]
    }
   ],
   "source": [
    "lane_no = []\n",
    "street = []\n",
    "area = []\n",
    "city = []\n",
    "code = []\n",
    "\n",
    "for i in Address:\n",
    "    a = i.split(\",\")  #convert string into substrings\n",
    "    lane_no.append(a[0])\n",
    "    street.append(a[1])\n",
    "    area.append(a[2])\n",
    "    city.append(a[3])\n",
    "    code.append(a[4])\n",
    "    print(\"substrings of address list :\", a)\n",
    "print('multiple variable created from 1 variable')\n",
    "print(lane_no)\n",
    "print(street)\n",
    "print(area)\n",
    "print(city)\n",
    "print(code)\n"
   ]
  },
  {
   "cell_type": "code",
   "execution_count": 5,
   "id": "32838269",
   "metadata": {},
   "outputs": [],
   "source": [
    "data['lane number'] = lane_no\n",
    "data['Street'] = street\n",
    "data['Area'] = area\n",
    "data['City'] = city\n",
    "data['Pincode'] = code"
   ]
  },
  {
   "cell_type": "code",
   "execution_count": 6,
   "id": "bbb808a4",
   "metadata": {},
   "outputs": [
    {
     "data": {
      "text/html": [
       "<div>\n",
       "<style scoped>\n",
       "    .dataframe tbody tr th:only-of-type {\n",
       "        vertical-align: middle;\n",
       "    }\n",
       "\n",
       "    .dataframe tbody tr th {\n",
       "        vertical-align: top;\n",
       "    }\n",
       "\n",
       "    .dataframe thead th {\n",
       "        text-align: right;\n",
       "    }\n",
       "</style>\n",
       "<table border=\"1\" class=\"dataframe\">\n",
       "  <thead>\n",
       "    <tr style=\"text-align: right;\">\n",
       "      <th></th>\n",
       "      <th>Address</th>\n",
       "      <th>Date</th>\n",
       "      <th>Time</th>\n",
       "      <th>lane number</th>\n",
       "      <th>Street</th>\n",
       "      <th>Area</th>\n",
       "      <th>City</th>\n",
       "      <th>Pincode</th>\n",
       "    </tr>\n",
       "  </thead>\n",
       "  <tbody>\n",
       "    <tr>\n",
       "      <th>0</th>\n",
       "      <td>56th street, ben colony, btm layout, bangalore...</td>\n",
       "      <td>3rd Apr 2022</td>\n",
       "      <td>5hr 55min 8sec</td>\n",
       "      <td>56th street</td>\n",
       "      <td>ben colony</td>\n",
       "      <td>btm layout</td>\n",
       "      <td>bangalore</td>\n",
       "      <td>78909</td>\n",
       "    </tr>\n",
       "    <tr>\n",
       "      <th>1</th>\n",
       "      <td>20th steet, johns road, whitefield, bangalore,...</td>\n",
       "      <td>6th Dec 2021</td>\n",
       "      <td>2hr 30min 24sec</td>\n",
       "      <td>20th steet</td>\n",
       "      <td>johns road</td>\n",
       "      <td>whitefield</td>\n",
       "      <td>bangalore</td>\n",
       "      <td>56795</td>\n",
       "    </tr>\n",
       "  </tbody>\n",
       "</table>\n",
       "</div>"
      ],
      "text/plain": [
       "                                             Address          Date  \\\n",
       "0  56th street, ben colony, btm layout, bangalore...  3rd Apr 2022   \n",
       "1  20th steet, johns road, whitefield, bangalore,...  6th Dec 2021   \n",
       "\n",
       "              Time  lane number       Street         Area        City Pincode  \n",
       "0   5hr 55min 8sec  56th street   ben colony   btm layout   bangalore   78909  \n",
       "1  2hr 30min 24sec   20th steet   johns road   whitefield   bangalore   56795  "
      ]
     },
     "execution_count": 6,
     "metadata": {},
     "output_type": "execute_result"
    }
   ],
   "source": [
    "data"
   ]
  },
  {
   "cell_type": "code",
   "execution_count": null,
   "id": "9f7755f8",
   "metadata": {},
   "outputs": [],
   "source": []
  },
  {
   "cell_type": "code",
   "execution_count": 7,
   "id": "c17a2cc5",
   "metadata": {},
   "outputs": [
    {
     "data": {
      "text/plain": [
       "['3rd Apr 2022', '6th Dec 2021']"
      ]
     },
     "execution_count": 7,
     "metadata": {},
     "output_type": "execute_result"
    }
   ],
   "source": [
    "\n",
    "Date = list(data.Date)\n",
    "Date"
   ]
  },
  {
   "cell_type": "code",
   "execution_count": 8,
   "id": "ba015f5d",
   "metadata": {},
   "outputs": [
    {
     "name": "stdout",
     "output_type": "stream",
     "text": [
      "['3rd', '6th']\n",
      "['Apr', 'Dec']\n",
      "['2022', '2021']\n"
     ]
    }
   ],
   "source": [
    "day = []\n",
    "month = []\n",
    "year = []\n",
    "\n",
    "for i in Date:\n",
    "    a= i.split()\n",
    "    day.append(a[0])\n",
    "    month.append(a[1])\n",
    "    year.append(a[2])\n",
    "print(day)\n",
    "print(month)\n",
    "print(year)"
   ]
  },
  {
   "cell_type": "code",
   "execution_count": 9,
   "id": "31ba42b2",
   "metadata": {},
   "outputs": [],
   "source": [
    "data['dd'] = day\n",
    "data['mm'] = month\n",
    "data['yy'] = year"
   ]
  },
  {
   "cell_type": "code",
   "execution_count": 10,
   "id": "6861064a",
   "metadata": {},
   "outputs": [
    {
     "data": {
      "text/html": [
       "<div>\n",
       "<style scoped>\n",
       "    .dataframe tbody tr th:only-of-type {\n",
       "        vertical-align: middle;\n",
       "    }\n",
       "\n",
       "    .dataframe tbody tr th {\n",
       "        vertical-align: top;\n",
       "    }\n",
       "\n",
       "    .dataframe thead th {\n",
       "        text-align: right;\n",
       "    }\n",
       "</style>\n",
       "<table border=\"1\" class=\"dataframe\">\n",
       "  <thead>\n",
       "    <tr style=\"text-align: right;\">\n",
       "      <th></th>\n",
       "      <th>Address</th>\n",
       "      <th>Date</th>\n",
       "      <th>Time</th>\n",
       "      <th>lane number</th>\n",
       "      <th>Street</th>\n",
       "      <th>Area</th>\n",
       "      <th>City</th>\n",
       "      <th>Pincode</th>\n",
       "      <th>dd</th>\n",
       "      <th>mm</th>\n",
       "      <th>yy</th>\n",
       "    </tr>\n",
       "  </thead>\n",
       "  <tbody>\n",
       "    <tr>\n",
       "      <th>0</th>\n",
       "      <td>56th street, ben colony, btm layout, bangalore...</td>\n",
       "      <td>3rd Apr 2022</td>\n",
       "      <td>5hr 55min 8sec</td>\n",
       "      <td>56th street</td>\n",
       "      <td>ben colony</td>\n",
       "      <td>btm layout</td>\n",
       "      <td>bangalore</td>\n",
       "      <td>78909</td>\n",
       "      <td>3rd</td>\n",
       "      <td>Apr</td>\n",
       "      <td>2022</td>\n",
       "    </tr>\n",
       "    <tr>\n",
       "      <th>1</th>\n",
       "      <td>20th steet, johns road, whitefield, bangalore,...</td>\n",
       "      <td>6th Dec 2021</td>\n",
       "      <td>2hr 30min 24sec</td>\n",
       "      <td>20th steet</td>\n",
       "      <td>johns road</td>\n",
       "      <td>whitefield</td>\n",
       "      <td>bangalore</td>\n",
       "      <td>56795</td>\n",
       "      <td>6th</td>\n",
       "      <td>Dec</td>\n",
       "      <td>2021</td>\n",
       "    </tr>\n",
       "  </tbody>\n",
       "</table>\n",
       "</div>"
      ],
      "text/plain": [
       "                                             Address          Date  \\\n",
       "0  56th street, ben colony, btm layout, bangalore...  3rd Apr 2022   \n",
       "1  20th steet, johns road, whitefield, bangalore,...  6th Dec 2021   \n",
       "\n",
       "              Time  lane number       Street         Area        City Pincode  \\\n",
       "0   5hr 55min 8sec  56th street   ben colony   btm layout   bangalore   78909   \n",
       "1  2hr 30min 24sec   20th steet   johns road   whitefield   bangalore   56795   \n",
       "\n",
       "    dd   mm    yy  \n",
       "0  3rd  Apr  2022  \n",
       "1  6th  Dec  2021  "
      ]
     },
     "execution_count": 10,
     "metadata": {},
     "output_type": "execute_result"
    }
   ],
   "source": [
    "data"
   ]
  },
  {
   "cell_type": "code",
   "execution_count": null,
   "id": "cf4ee9b7",
   "metadata": {},
   "outputs": [],
   "source": []
  },
  {
   "cell_type": "code",
   "execution_count": 11,
   "id": "25efcdb9",
   "metadata": {},
   "outputs": [
    {
     "data": {
      "text/plain": [
       "['5hr 55min 8sec', '2hr 30min 24sec']"
      ]
     },
     "execution_count": 11,
     "metadata": {},
     "output_type": "execute_result"
    }
   ],
   "source": [
    "Time = list(data.Time)\n",
    "Time"
   ]
  },
  {
   "cell_type": "code",
   "execution_count": 12,
   "id": "f93b132c",
   "metadata": {},
   "outputs": [
    {
     "name": "stdout",
     "output_type": "stream",
     "text": [
      "['5hr', '2hr']\n",
      "['55min', '30min']\n",
      "['8sec', '24sec']\n"
     ]
    }
   ],
   "source": [
    "hour = []\n",
    "minutes = []\n",
    "seconds = []\n",
    "\n",
    "for i in Time:\n",
    "    a=i.split()\n",
    "    hour.append(a[0])\n",
    "    minutes.append(a[1])\n",
    "    seconds.append(a[2])\n",
    "print(hour)\n",
    "print(minutes)\n",
    "print(seconds)"
   ]
  },
  {
   "cell_type": "code",
   "execution_count": 13,
   "id": "8df52943",
   "metadata": {},
   "outputs": [],
   "source": [
    "data['hh'] = hour\n",
    "data['mi'] = minutes\n",
    "data['ss'] = seconds"
   ]
  },
  {
   "cell_type": "code",
   "execution_count": 14,
   "id": "011f5fdf",
   "metadata": {},
   "outputs": [
    {
     "data": {
      "text/html": [
       "<div>\n",
       "<style scoped>\n",
       "    .dataframe tbody tr th:only-of-type {\n",
       "        vertical-align: middle;\n",
       "    }\n",
       "\n",
       "    .dataframe tbody tr th {\n",
       "        vertical-align: top;\n",
       "    }\n",
       "\n",
       "    .dataframe thead th {\n",
       "        text-align: right;\n",
       "    }\n",
       "</style>\n",
       "<table border=\"1\" class=\"dataframe\">\n",
       "  <thead>\n",
       "    <tr style=\"text-align: right;\">\n",
       "      <th></th>\n",
       "      <th>Address</th>\n",
       "      <th>Date</th>\n",
       "      <th>Time</th>\n",
       "      <th>lane number</th>\n",
       "      <th>Street</th>\n",
       "      <th>Area</th>\n",
       "      <th>City</th>\n",
       "      <th>Pincode</th>\n",
       "      <th>dd</th>\n",
       "      <th>mm</th>\n",
       "      <th>yy</th>\n",
       "      <th>hh</th>\n",
       "      <th>mi</th>\n",
       "      <th>ss</th>\n",
       "    </tr>\n",
       "  </thead>\n",
       "  <tbody>\n",
       "    <tr>\n",
       "      <th>0</th>\n",
       "      <td>56th street, ben colony, btm layout, bangalore...</td>\n",
       "      <td>3rd Apr 2022</td>\n",
       "      <td>5hr 55min 8sec</td>\n",
       "      <td>56th street</td>\n",
       "      <td>ben colony</td>\n",
       "      <td>btm layout</td>\n",
       "      <td>bangalore</td>\n",
       "      <td>78909</td>\n",
       "      <td>3rd</td>\n",
       "      <td>Apr</td>\n",
       "      <td>2022</td>\n",
       "      <td>5hr</td>\n",
       "      <td>55min</td>\n",
       "      <td>8sec</td>\n",
       "    </tr>\n",
       "    <tr>\n",
       "      <th>1</th>\n",
       "      <td>20th steet, johns road, whitefield, bangalore,...</td>\n",
       "      <td>6th Dec 2021</td>\n",
       "      <td>2hr 30min 24sec</td>\n",
       "      <td>20th steet</td>\n",
       "      <td>johns road</td>\n",
       "      <td>whitefield</td>\n",
       "      <td>bangalore</td>\n",
       "      <td>56795</td>\n",
       "      <td>6th</td>\n",
       "      <td>Dec</td>\n",
       "      <td>2021</td>\n",
       "      <td>2hr</td>\n",
       "      <td>30min</td>\n",
       "      <td>24sec</td>\n",
       "    </tr>\n",
       "  </tbody>\n",
       "</table>\n",
       "</div>"
      ],
      "text/plain": [
       "                                             Address          Date  \\\n",
       "0  56th street, ben colony, btm layout, bangalore...  3rd Apr 2022   \n",
       "1  20th steet, johns road, whitefield, bangalore,...  6th Dec 2021   \n",
       "\n",
       "              Time  lane number       Street         Area        City Pincode  \\\n",
       "0   5hr 55min 8sec  56th street   ben colony   btm layout   bangalore   78909   \n",
       "1  2hr 30min 24sec   20th steet   johns road   whitefield   bangalore   56795   \n",
       "\n",
       "    dd   mm    yy   hh     mi     ss  \n",
       "0  3rd  Apr  2022  5hr  55min   8sec  \n",
       "1  6th  Dec  2021  2hr  30min  24sec  "
      ]
     },
     "execution_count": 14,
     "metadata": {},
     "output_type": "execute_result"
    }
   ],
   "source": [
    "data"
   ]
  },
  {
   "cell_type": "code",
   "execution_count": null,
   "id": "a3be1d53",
   "metadata": {},
   "outputs": [],
   "source": []
  },
  {
   "cell_type": "code",
   "execution_count": 15,
   "id": "ebe98752",
   "metadata": {},
   "outputs": [
    {
     "data": {
      "text/html": [
       "<div>\n",
       "<style scoped>\n",
       "    .dataframe tbody tr th:only-of-type {\n",
       "        vertical-align: middle;\n",
       "    }\n",
       "\n",
       "    .dataframe tbody tr th {\n",
       "        vertical-align: top;\n",
       "    }\n",
       "\n",
       "    .dataframe thead th {\n",
       "        text-align: right;\n",
       "    }\n",
       "</style>\n",
       "<table border=\"1\" class=\"dataframe\">\n",
       "  <thead>\n",
       "    <tr style=\"text-align: right;\">\n",
       "      <th></th>\n",
       "      <th>Address</th>\n",
       "      <th>Date</th>\n",
       "      <th>Time</th>\n",
       "      <th>lane number</th>\n",
       "      <th>Street</th>\n",
       "      <th>Area</th>\n",
       "      <th>City</th>\n",
       "      <th>Pincode</th>\n",
       "      <th>dd</th>\n",
       "      <th>mm</th>\n",
       "      <th>yy</th>\n",
       "      <th>hh</th>\n",
       "      <th>mi</th>\n",
       "      <th>ss</th>\n",
       "    </tr>\n",
       "  </thead>\n",
       "  <tbody>\n",
       "    <tr>\n",
       "      <th>0</th>\n",
       "      <td>56th street, ben colony, btm layout, bangalore...</td>\n",
       "      <td>3rd Apr 2022</td>\n",
       "      <td>5hr 55min 8sec</td>\n",
       "      <td>56th street</td>\n",
       "      <td>ben colony</td>\n",
       "      <td>btm layout</td>\n",
       "      <td>bangalore</td>\n",
       "      <td>78909</td>\n",
       "      <td>3rd</td>\n",
       "      <td>Apr</td>\n",
       "      <td>2022</td>\n",
       "      <td>5hr</td>\n",
       "      <td>55min</td>\n",
       "      <td>8sec</td>\n",
       "    </tr>\n",
       "    <tr>\n",
       "      <th>1</th>\n",
       "      <td>20th steet, johns road, whitefield, bangalore,...</td>\n",
       "      <td>6th Dec 2021</td>\n",
       "      <td>2hr 30min 24sec</td>\n",
       "      <td>20th steet</td>\n",
       "      <td>johns road</td>\n",
       "      <td>whitefield</td>\n",
       "      <td>bangalore</td>\n",
       "      <td>56795</td>\n",
       "      <td>6th</td>\n",
       "      <td>Dec</td>\n",
       "      <td>2021</td>\n",
       "      <td>2hr</td>\n",
       "      <td>30min</td>\n",
       "      <td>24sec</td>\n",
       "    </tr>\n",
       "  </tbody>\n",
       "</table>\n",
       "</div>"
      ],
      "text/plain": [
       "                                             Address          Date  \\\n",
       "0  56th street, ben colony, btm layout, bangalore...  3rd Apr 2022   \n",
       "1  20th steet, johns road, whitefield, bangalore,...  6th Dec 2021   \n",
       "\n",
       "              Time  lane number       Street         Area        City Pincode  \\\n",
       "0   5hr 55min 8sec  56th street   ben colony   btm layout   bangalore   78909   \n",
       "1  2hr 30min 24sec   20th steet   johns road   whitefield   bangalore   56795   \n",
       "\n",
       "    dd   mm    yy   hh     mi     ss  \n",
       "0  3rd  Apr  2022  5hr  55min   8sec  \n",
       "1  6th  Dec  2021  2hr  30min  24sec  "
      ]
     },
     "execution_count": 15,
     "metadata": {},
     "output_type": "execute_result"
    }
   ],
   "source": [
    "data"
   ]
  },
  {
   "cell_type": "code",
   "execution_count": null,
   "id": "cfa049bd",
   "metadata": {},
   "outputs": [],
   "source": []
  },
  {
   "cell_type": "code",
   "execution_count": 16,
   "id": "aec655d7",
   "metadata": {},
   "outputs": [
    {
     "data": {
      "text/plain": [
       "pandas.core.frame.DataFrame"
      ]
     },
     "execution_count": 16,
     "metadata": {},
     "output_type": "execute_result"
    }
   ],
   "source": [
    "type(data)"
   ]
  },
  {
   "cell_type": "code",
   "execution_count": 17,
   "id": "0e7a89e4",
   "metadata": {},
   "outputs": [
    {
     "data": {
      "text/html": [
       "<div>\n",
       "<style scoped>\n",
       "    .dataframe tbody tr th:only-of-type {\n",
       "        vertical-align: middle;\n",
       "    }\n",
       "\n",
       "    .dataframe tbody tr th {\n",
       "        vertical-align: top;\n",
       "    }\n",
       "\n",
       "    .dataframe thead th {\n",
       "        text-align: right;\n",
       "    }\n",
       "</style>\n",
       "<table border=\"1\" class=\"dataframe\">\n",
       "  <thead>\n",
       "    <tr style=\"text-align: right;\">\n",
       "      <th></th>\n",
       "      <th>lane number</th>\n",
       "      <th>Street</th>\n",
       "      <th>Area</th>\n",
       "      <th>City</th>\n",
       "      <th>Pincode</th>\n",
       "      <th>dd</th>\n",
       "      <th>mm</th>\n",
       "      <th>yy</th>\n",
       "      <th>hh</th>\n",
       "      <th>mi</th>\n",
       "      <th>ss</th>\n",
       "    </tr>\n",
       "  </thead>\n",
       "  <tbody>\n",
       "    <tr>\n",
       "      <th>0</th>\n",
       "      <td>56th street</td>\n",
       "      <td>ben colony</td>\n",
       "      <td>btm layout</td>\n",
       "      <td>bangalore</td>\n",
       "      <td>78909</td>\n",
       "      <td>3rd</td>\n",
       "      <td>Apr</td>\n",
       "      <td>2022</td>\n",
       "      <td>5hr</td>\n",
       "      <td>55min</td>\n",
       "      <td>8sec</td>\n",
       "    </tr>\n",
       "    <tr>\n",
       "      <th>1</th>\n",
       "      <td>20th steet</td>\n",
       "      <td>johns road</td>\n",
       "      <td>whitefield</td>\n",
       "      <td>bangalore</td>\n",
       "      <td>56795</td>\n",
       "      <td>6th</td>\n",
       "      <td>Dec</td>\n",
       "      <td>2021</td>\n",
       "      <td>2hr</td>\n",
       "      <td>30min</td>\n",
       "      <td>24sec</td>\n",
       "    </tr>\n",
       "  </tbody>\n",
       "</table>\n",
       "</div>"
      ],
      "text/plain": [
       "   lane number       Street         Area        City Pincode   dd   mm    yy  \\\n",
       "0  56th street   ben colony   btm layout   bangalore   78909  3rd  Apr  2022   \n",
       "1   20th steet   johns road   whitefield   bangalore   56795  6th  Dec  2021   \n",
       "\n",
       "    hh     mi     ss  \n",
       "0  5hr  55min   8sec  \n",
       "1  2hr  30min  24sec  "
      ]
     },
     "execution_count": 17,
     "metadata": {},
     "output_type": "execute_result"
    }
   ],
   "source": [
    "var_creat = data.drop(['Address', 'Date', 'Time'], axis=1)\n",
    "var_creat"
   ]
  },
  {
   "cell_type": "code",
   "execution_count": 18,
   "id": "85d789b1",
   "metadata": {},
   "outputs": [
    {
     "data": {
      "text/html": [
       "<div>\n",
       "<style scoped>\n",
       "    .dataframe tbody tr th:only-of-type {\n",
       "        vertical-align: middle;\n",
       "    }\n",
       "\n",
       "    .dataframe tbody tr th {\n",
       "        vertical-align: top;\n",
       "    }\n",
       "\n",
       "    .dataframe thead th {\n",
       "        text-align: right;\n",
       "    }\n",
       "</style>\n",
       "<table border=\"1\" class=\"dataframe\">\n",
       "  <thead>\n",
       "    <tr style=\"text-align: right;\">\n",
       "      <th></th>\n",
       "      <th>Address</th>\n",
       "      <th>Date</th>\n",
       "      <th>Time</th>\n",
       "      <th>lane number</th>\n",
       "      <th>Street</th>\n",
       "      <th>Area</th>\n",
       "      <th>City</th>\n",
       "      <th>Pincode</th>\n",
       "      <th>dd</th>\n",
       "      <th>mm</th>\n",
       "      <th>yy</th>\n",
       "      <th>hh</th>\n",
       "      <th>mi</th>\n",
       "      <th>ss</th>\n",
       "    </tr>\n",
       "  </thead>\n",
       "  <tbody>\n",
       "    <tr>\n",
       "      <th>0</th>\n",
       "      <td>56th street, ben colony, btm layout, bangalore...</td>\n",
       "      <td>3rd Apr 2022</td>\n",
       "      <td>5hr 55min 8sec</td>\n",
       "      <td>56th street</td>\n",
       "      <td>ben colony</td>\n",
       "      <td>btm layout</td>\n",
       "      <td>bangalore</td>\n",
       "      <td>78909</td>\n",
       "      <td>3rd</td>\n",
       "      <td>Apr</td>\n",
       "      <td>2022</td>\n",
       "      <td>5hr</td>\n",
       "      <td>55min</td>\n",
       "      <td>8sec</td>\n",
       "    </tr>\n",
       "    <tr>\n",
       "      <th>1</th>\n",
       "      <td>20th steet, johns road, whitefield, bangalore,...</td>\n",
       "      <td>6th Dec 2021</td>\n",
       "      <td>2hr 30min 24sec</td>\n",
       "      <td>20th steet</td>\n",
       "      <td>johns road</td>\n",
       "      <td>whitefield</td>\n",
       "      <td>bangalore</td>\n",
       "      <td>56795</td>\n",
       "      <td>6th</td>\n",
       "      <td>Dec</td>\n",
       "      <td>2021</td>\n",
       "      <td>2hr</td>\n",
       "      <td>30min</td>\n",
       "      <td>24sec</td>\n",
       "    </tr>\n",
       "  </tbody>\n",
       "</table>\n",
       "</div>"
      ],
      "text/plain": [
       "                                             Address          Date  \\\n",
       "0  56th street, ben colony, btm layout, bangalore...  3rd Apr 2022   \n",
       "1  20th steet, johns road, whitefield, bangalore,...  6th Dec 2021   \n",
       "\n",
       "              Time  lane number       Street         Area        City Pincode  \\\n",
       "0   5hr 55min 8sec  56th street   ben colony   btm layout   bangalore   78909   \n",
       "1  2hr 30min 24sec   20th steet   johns road   whitefield   bangalore   56795   \n",
       "\n",
       "    dd   mm    yy   hh     mi     ss  \n",
       "0  3rd  Apr  2022  5hr  55min   8sec  \n",
       "1  6th  Dec  2021  2hr  30min  24sec  "
      ]
     },
     "execution_count": 18,
     "metadata": {},
     "output_type": "execute_result"
    }
   ],
   "source": [
    "data"
   ]
  },
  {
   "cell_type": "code",
   "execution_count": 19,
   "id": "8b67f501",
   "metadata": {},
   "outputs": [
    {
     "data": {
      "text/html": [
       "<div>\n",
       "<style scoped>\n",
       "    .dataframe tbody tr th:only-of-type {\n",
       "        vertical-align: middle;\n",
       "    }\n",
       "\n",
       "    .dataframe tbody tr th {\n",
       "        vertical-align: top;\n",
       "    }\n",
       "\n",
       "    .dataframe thead th {\n",
       "        text-align: right;\n",
       "    }\n",
       "</style>\n",
       "<table border=\"1\" class=\"dataframe\">\n",
       "  <thead>\n",
       "    <tr style=\"text-align: right;\">\n",
       "      <th></th>\n",
       "      <th>lane number</th>\n",
       "      <th>Street</th>\n",
       "      <th>Area</th>\n",
       "      <th>City</th>\n",
       "      <th>Pincode</th>\n",
       "      <th>dd</th>\n",
       "      <th>mm</th>\n",
       "      <th>yy</th>\n",
       "      <th>hh</th>\n",
       "      <th>mi</th>\n",
       "      <th>ss</th>\n",
       "    </tr>\n",
       "  </thead>\n",
       "  <tbody>\n",
       "    <tr>\n",
       "      <th>0</th>\n",
       "      <td>56th street</td>\n",
       "      <td>ben colony</td>\n",
       "      <td>btm layout</td>\n",
       "      <td>bangalore</td>\n",
       "      <td>78909</td>\n",
       "      <td>3rd</td>\n",
       "      <td>Apr</td>\n",
       "      <td>2022</td>\n",
       "      <td>5hr</td>\n",
       "      <td>55min</td>\n",
       "      <td>8sec</td>\n",
       "    </tr>\n",
       "    <tr>\n",
       "      <th>1</th>\n",
       "      <td>20th steet</td>\n",
       "      <td>johns road</td>\n",
       "      <td>whitefield</td>\n",
       "      <td>bangalore</td>\n",
       "      <td>56795</td>\n",
       "      <td>6th</td>\n",
       "      <td>Dec</td>\n",
       "      <td>2021</td>\n",
       "      <td>2hr</td>\n",
       "      <td>30min</td>\n",
       "      <td>24sec</td>\n",
       "    </tr>\n",
       "  </tbody>\n",
       "</table>\n",
       "</div>"
      ],
      "text/plain": [
       "   lane number       Street         Area        City Pincode   dd   mm    yy  \\\n",
       "0  56th street   ben colony   btm layout   bangalore   78909  3rd  Apr  2022   \n",
       "1   20th steet   johns road   whitefield   bangalore   56795  6th  Dec  2021   \n",
       "\n",
       "    hh     mi     ss  \n",
       "0  5hr  55min   8sec  \n",
       "1  2hr  30min  24sec  "
      ]
     },
     "execution_count": 19,
     "metadata": {},
     "output_type": "execute_result"
    }
   ],
   "source": [
    "var_creat"
   ]
  },
  {
   "cell_type": "code",
   "execution_count": null,
   "id": "4b1b2670",
   "metadata": {},
   "outputs": [],
   "source": []
  },
  {
   "cell_type": "markdown",
   "id": "20d85bce",
   "metadata": {},
   "source": [
    "# Another Method"
   ]
  },
  {
   "cell_type": "code",
   "execution_count": 1,
   "id": "61b4f0b8",
   "metadata": {},
   "outputs": [],
   "source": [
    "import pandas as pd"
   ]
  },
  {
   "cell_type": "code",
   "execution_count": 2,
   "id": "e4ab82e0",
   "metadata": {},
   "outputs": [],
   "source": [
    "d = pd.read_excel(r'C:\\Users\\nithi\\OneDrive\\Documents\\Task-7.xlsx')"
   ]
  },
  {
   "cell_type": "code",
   "execution_count": 3,
   "id": "99e5e29b",
   "metadata": {},
   "outputs": [
    {
     "data": {
      "text/html": [
       "<div>\n",
       "<style scoped>\n",
       "    .dataframe tbody tr th:only-of-type {\n",
       "        vertical-align: middle;\n",
       "    }\n",
       "\n",
       "    .dataframe tbody tr th {\n",
       "        vertical-align: top;\n",
       "    }\n",
       "\n",
       "    .dataframe thead th {\n",
       "        text-align: right;\n",
       "    }\n",
       "</style>\n",
       "<table border=\"1\" class=\"dataframe\">\n",
       "  <thead>\n",
       "    <tr style=\"text-align: right;\">\n",
       "      <th></th>\n",
       "      <th>Address</th>\n",
       "      <th>Date</th>\n",
       "      <th>Time</th>\n",
       "    </tr>\n",
       "  </thead>\n",
       "  <tbody>\n",
       "    <tr>\n",
       "      <th>0</th>\n",
       "      <td>56th street, ben colony, btm layout, bangalore...</td>\n",
       "      <td>3rd Apr 2022</td>\n",
       "      <td>5hr 55min 8sec</td>\n",
       "    </tr>\n",
       "    <tr>\n",
       "      <th>1</th>\n",
       "      <td>20th steet, johns road, whitefield, bangalore,...</td>\n",
       "      <td>6th Dec 2021</td>\n",
       "      <td>2hr 30min 24sec</td>\n",
       "    </tr>\n",
       "  </tbody>\n",
       "</table>\n",
       "</div>"
      ],
      "text/plain": [
       "                                             Address          Date  \\\n",
       "0  56th street, ben colony, btm layout, bangalore...  3rd Apr 2022   \n",
       "1  20th steet, johns road, whitefield, bangalore,...  6th Dec 2021   \n",
       "\n",
       "              Time  \n",
       "0   5hr 55min 8sec  \n",
       "1  2hr 30min 24sec  "
      ]
     },
     "execution_count": 3,
     "metadata": {},
     "output_type": "execute_result"
    }
   ],
   "source": [
    "d"
   ]
  },
  {
   "cell_type": "code",
   "execution_count": 4,
   "id": "f528b5a7",
   "metadata": {},
   "outputs": [
    {
     "data": {
      "text/plain": [
       "pandas.core.frame.DataFrame"
      ]
     },
     "execution_count": 4,
     "metadata": {},
     "output_type": "execute_result"
    }
   ],
   "source": [
    "type(d)"
   ]
  },
  {
   "cell_type": "code",
   "execution_count": 4,
   "id": "7a420ae6",
   "metadata": {},
   "outputs": [
    {
     "data": {
      "text/html": [
       "<div>\n",
       "<style scoped>\n",
       "    .dataframe tbody tr th:only-of-type {\n",
       "        vertical-align: middle;\n",
       "    }\n",
       "\n",
       "    .dataframe tbody tr th {\n",
       "        vertical-align: top;\n",
       "    }\n",
       "\n",
       "    .dataframe thead th {\n",
       "        text-align: right;\n",
       "    }\n",
       "</style>\n",
       "<table border=\"1\" class=\"dataframe\">\n",
       "  <thead>\n",
       "    <tr style=\"text-align: right;\">\n",
       "      <th></th>\n",
       "      <th>Address</th>\n",
       "      <th>Date</th>\n",
       "      <th>Time</th>\n",
       "      <th>House num</th>\n",
       "      <th>Street</th>\n",
       "      <th>Area</th>\n",
       "      <th>City</th>\n",
       "      <th>code</th>\n",
       "      <th>Day</th>\n",
       "      <th>Month</th>\n",
       "      <th>year</th>\n",
       "      <th>Hr</th>\n",
       "      <th>Min</th>\n",
       "      <th>sec</th>\n",
       "    </tr>\n",
       "  </thead>\n",
       "  <tbody>\n",
       "    <tr>\n",
       "      <th>0</th>\n",
       "      <td>56th street, ben colony, btm layout, bangalore...</td>\n",
       "      <td>3rd Apr 2022</td>\n",
       "      <td>5hr 55min 8sec</td>\n",
       "      <td>56th street</td>\n",
       "      <td>ben colony</td>\n",
       "      <td>btm layout</td>\n",
       "      <td>bangalore</td>\n",
       "      <td>78909</td>\n",
       "      <td>3rd</td>\n",
       "      <td>Apr</td>\n",
       "      <td>2022</td>\n",
       "      <td>5hr</td>\n",
       "      <td>55min</td>\n",
       "      <td>8sec</td>\n",
       "    </tr>\n",
       "    <tr>\n",
       "      <th>1</th>\n",
       "      <td>20th steet, johns road, whitefield, bangalore,...</td>\n",
       "      <td>6th Dec 2021</td>\n",
       "      <td>2hr 30min 24sec</td>\n",
       "      <td>20th steet</td>\n",
       "      <td>johns road</td>\n",
       "      <td>whitefield</td>\n",
       "      <td>bangalore</td>\n",
       "      <td>56795</td>\n",
       "      <td>6th</td>\n",
       "      <td>Dec</td>\n",
       "      <td>2021</td>\n",
       "      <td>2hr</td>\n",
       "      <td>30min</td>\n",
       "      <td>24sec</td>\n",
       "    </tr>\n",
       "  </tbody>\n",
       "</table>\n",
       "</div>"
      ],
      "text/plain": [
       "                                             Address          Date  \\\n",
       "0  56th street, ben colony, btm layout, bangalore...  3rd Apr 2022   \n",
       "1  20th steet, johns road, whitefield, bangalore,...  6th Dec 2021   \n",
       "\n",
       "              Time    House num       Street         Area        City    code  \\\n",
       "0   5hr 55min 8sec  56th street   ben colony   btm layout   bangalore   78909   \n",
       "1  2hr 30min 24sec   20th steet   johns road   whitefield   bangalore   56795   \n",
       "\n",
       "   Day Month  year   Hr    Min    sec  \n",
       "0  3rd   Apr  2022  5hr  55min   8sec  \n",
       "1  6th   Dec  2021  2hr  30min  24sec  "
      ]
     },
     "execution_count": 4,
     "metadata": {},
     "output_type": "execute_result"
    }
   ],
   "source": [
    "d[['House num','Street','Area','City','code']] = d['Address'].str.split(',', expand=True)\n",
    "d[['Day','Month','year']] = d['Date'].str.split(expand = True)\n",
    "d[['Hr','Min','sec']] = d['Time'].str.split(expand = True)\n",
    "d"
   ]
  },
  {
   "cell_type": "code",
   "execution_count": 7,
   "id": "0241f1db",
   "metadata": {},
   "outputs": [
    {
     "data": {
      "text/html": [
       "<div>\n",
       "<style scoped>\n",
       "    .dataframe tbody tr th:only-of-type {\n",
       "        vertical-align: middle;\n",
       "    }\n",
       "\n",
       "    .dataframe tbody tr th {\n",
       "        vertical-align: top;\n",
       "    }\n",
       "\n",
       "    .dataframe thead th {\n",
       "        text-align: right;\n",
       "    }\n",
       "</style>\n",
       "<table border=\"1\" class=\"dataframe\">\n",
       "  <thead>\n",
       "    <tr style=\"text-align: right;\">\n",
       "      <th></th>\n",
       "      <th>House num</th>\n",
       "      <th>Street</th>\n",
       "      <th>Area</th>\n",
       "      <th>City</th>\n",
       "      <th>code</th>\n",
       "      <th>Day</th>\n",
       "      <th>Month</th>\n",
       "      <th>year</th>\n",
       "      <th>Hr</th>\n",
       "      <th>Min</th>\n",
       "      <th>sec</th>\n",
       "    </tr>\n",
       "  </thead>\n",
       "  <tbody>\n",
       "    <tr>\n",
       "      <th>0</th>\n",
       "      <td>56th street</td>\n",
       "      <td>ben colony</td>\n",
       "      <td>btm layout</td>\n",
       "      <td>bangalore</td>\n",
       "      <td>78909</td>\n",
       "      <td>3rd</td>\n",
       "      <td>Apr</td>\n",
       "      <td>2022</td>\n",
       "      <td>5hr</td>\n",
       "      <td>55min</td>\n",
       "      <td>8sec</td>\n",
       "    </tr>\n",
       "    <tr>\n",
       "      <th>1</th>\n",
       "      <td>20th steet</td>\n",
       "      <td>johns road</td>\n",
       "      <td>whitefield</td>\n",
       "      <td>bangalore</td>\n",
       "      <td>56795</td>\n",
       "      <td>6th</td>\n",
       "      <td>Dec</td>\n",
       "      <td>2021</td>\n",
       "      <td>2hr</td>\n",
       "      <td>30min</td>\n",
       "      <td>24sec</td>\n",
       "    </tr>\n",
       "  </tbody>\n",
       "</table>\n",
       "</div>"
      ],
      "text/plain": [
       "     House num       Street         Area        City    code  Day Month  year  \\\n",
       "0  56th street   ben colony   btm layout   bangalore   78909  3rd   Apr  2022   \n",
       "1   20th steet   johns road   whitefield   bangalore   56795  6th   Dec  2021   \n",
       "\n",
       "    Hr    Min    sec  \n",
       "0  5hr  55min   8sec  \n",
       "1  2hr  30min  24sec  "
      ]
     },
     "execution_count": 7,
     "metadata": {},
     "output_type": "execute_result"
    }
   ],
   "source": [
    "clean_data= d.drop(['Address','Date','Time'], axis =1)\n",
    "clean_data"
   ]
  },
  {
   "cell_type": "code",
   "execution_count": null,
   "id": "9d21572b",
   "metadata": {},
   "outputs": [],
   "source": []
  }
 ],
 "metadata": {
  "kernelspec": {
   "display_name": "Python 3 (ipykernel)",
   "language": "python",
   "name": "python3"
  },
  "language_info": {
   "codemirror_mode": {
    "name": "ipython",
    "version": 3
   },
   "file_extension": ".py",
   "mimetype": "text/x-python",
   "name": "python",
   "nbconvert_exporter": "python",
   "pygments_lexer": "ipython3",
   "version": "3.11.3"
  }
 },
 "nbformat": 4,
 "nbformat_minor": 5
}
